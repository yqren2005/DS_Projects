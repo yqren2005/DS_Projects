{
 "cells": [
  {
   "cell_type": "markdown",
   "metadata": {},
   "source": [
    "# Tree Methods\n",
    "For this project we will be exploring the use of tree methods to classify schools as Private or Public based off their features.\n",
    "Let's start by getting the data which is included in the ISLR library, the College data frame.  \n",
    "\n",
    "A data frame with 777 observations on the following 18 variables.\n",
    "+ Private A factor with levels No and Yes indicating private or public university\n",
    "+ Apps Number of applications received\n",
    "+ Accept Number of applications accepted\n",
    "+ Enroll Number of new students enrolled\n",
    "+ Top10perc Pct. new students from top 10% of H.S. class\n",
    "+ Top25perc Pct. new students from top 25% of H.S. class\n",
    "+ F.Undergrad Number of fulltime undergraduates\n",
    "+ P.Undergrad Number of parttime undergraduates\n",
    "+ Outstate Out-of-state tuition\n",
    "+ Room.Board Room and board costs\n",
    "+ Books Estimated book costs\n",
    "+ Personal Estimated personal spending\n",
    "+ PhD Pct. of faculty with Ph.D.’s\n",
    "+ Terminal Pct. of faculty with terminal degree\n",
    "+ S.F.Ratio Student/faculty ratio\n",
    "+ perc.alumni Pct. alumni who donate\n",
    "+ Expend Instructional expenditure per student\n",
    "+ Grad.Rate Graduation rate"
   ]
  },
  {
   "cell_type": "code",
   "execution_count": 2,
   "metadata": {
    "collapsed": false
   },
   "outputs": [],
   "source": [
    "#install.packages('ISLR', repos='http://cran.us.r-project.org')"
   ]
  },
  {
   "cell_type": "code",
   "execution_count": 3,
   "metadata": {
    "collapsed": false
   },
   "outputs": [
    {
     "name": "stderr",
     "output_type": "stream",
     "text": [
      "Warning message:\n",
      "\"package 'ISLR' was built under R version 3.3.3\""
     ]
    }
   ],
   "source": [
    "library(ISLR)"
   ]
  },
  {
   "cell_type": "code",
   "execution_count": 4,
   "metadata": {
    "collapsed": false
   },
   "outputs": [
    {
     "data": {
      "text/html": [
       "<table>\n",
       "<thead><tr><th></th><th scope=col>Private</th><th scope=col>Apps</th><th scope=col>Accept</th><th scope=col>Enroll</th><th scope=col>Top10perc</th><th scope=col>Top25perc</th><th scope=col>F.Undergrad</th><th scope=col>P.Undergrad</th><th scope=col>Outstate</th><th scope=col>Room.Board</th><th scope=col>Books</th><th scope=col>Personal</th><th scope=col>PhD</th><th scope=col>Terminal</th><th scope=col>S.F.Ratio</th><th scope=col>perc.alumni</th><th scope=col>Expend</th><th scope=col>Grad.Rate</th></tr></thead>\n",
       "<tbody>\n",
       "\t<tr><th scope=row>Abilene Christian University</th><td>Yes  </td><td>1660 </td><td>1232 </td><td>721  </td><td>23   </td><td>52   </td><td>2885 </td><td> 537 </td><td> 7440</td><td>3300 </td><td>450  </td><td>2200 </td><td>70   </td><td>78   </td><td>18.1 </td><td>12   </td><td> 7041</td><td>60   </td></tr>\n",
       "\t<tr><th scope=row>Adelphi University</th><td>Yes  </td><td>2186 </td><td>1924 </td><td>512  </td><td>16   </td><td>29   </td><td>2683 </td><td>1227 </td><td>12280</td><td>6450 </td><td>750  </td><td>1500 </td><td>29   </td><td>30   </td><td>12.2 </td><td>16   </td><td>10527</td><td>56   </td></tr>\n",
       "\t<tr><th scope=row>Adrian College</th><td>Yes  </td><td>1428 </td><td>1097 </td><td>336  </td><td>22   </td><td>50   </td><td>1036 </td><td>  99 </td><td>11250</td><td>3750 </td><td>400  </td><td>1165 </td><td>53   </td><td>66   </td><td>12.9 </td><td>30   </td><td> 8735</td><td>54   </td></tr>\n",
       "\t<tr><th scope=row>Agnes Scott College</th><td>Yes  </td><td> 417 </td><td> 349 </td><td>137  </td><td>60   </td><td>89   </td><td> 510 </td><td>  63 </td><td>12960</td><td>5450 </td><td>450  </td><td> 875 </td><td>92   </td><td>97   </td><td> 7.7 </td><td>37   </td><td>19016</td><td>59   </td></tr>\n",
       "\t<tr><th scope=row>Alaska Pacific University</th><td>Yes  </td><td> 193 </td><td> 146 </td><td> 55  </td><td>16   </td><td>44   </td><td> 249 </td><td> 869 </td><td> 7560</td><td>4120 </td><td>800  </td><td>1500 </td><td>76   </td><td>72   </td><td>11.9 </td><td> 2   </td><td>10922</td><td>15   </td></tr>\n",
       "\t<tr><th scope=row>Albertson College</th><td>Yes  </td><td> 587 </td><td> 479 </td><td>158  </td><td>38   </td><td>62   </td><td> 678 </td><td>  41 </td><td>13500</td><td>3335 </td><td>500  </td><td> 675 </td><td>67   </td><td>73   </td><td> 9.4 </td><td>11   </td><td> 9727</td><td>55   </td></tr>\n",
       "</tbody>\n",
       "</table>\n"
      ],
      "text/latex": [
       "\\begin{tabular}{r|llllllllllllllllll}\n",
       "  & Private & Apps & Accept & Enroll & Top10perc & Top25perc & F.Undergrad & P.Undergrad & Outstate & Room.Board & Books & Personal & PhD & Terminal & S.F.Ratio & perc.alumni & Expend & Grad.Rate\\\\\n",
       "\\hline\n",
       "\tAbilene Christian University & Yes   & 1660  & 1232  & 721   & 23    & 52    & 2885  &  537  &  7440 & 3300  & 450   & 2200  & 70    & 78    & 18.1  & 12    &  7041 & 60   \\\\\n",
       "\tAdelphi University & Yes   & 2186  & 1924  & 512   & 16    & 29    & 2683  & 1227  & 12280 & 6450  & 750   & 1500  & 29    & 30    & 12.2  & 16    & 10527 & 56   \\\\\n",
       "\tAdrian College & Yes   & 1428  & 1097  & 336   & 22    & 50    & 1036  &   99  & 11250 & 3750  & 400   & 1165  & 53    & 66    & 12.9  & 30    &  8735 & 54   \\\\\n",
       "\tAgnes Scott College & Yes   &  417  &  349  & 137   & 60    & 89    &  510  &   63  & 12960 & 5450  & 450   &  875  & 92    & 97    &  7.7  & 37    & 19016 & 59   \\\\\n",
       "\tAlaska Pacific University & Yes   &  193  &  146  &  55   & 16    & 44    &  249  &  869  &  7560 & 4120  & 800   & 1500  & 76    & 72    & 11.9  &  2    & 10922 & 15   \\\\\n",
       "\tAlbertson College & Yes   &  587  &  479  & 158   & 38    & 62    &  678  &   41  & 13500 & 3335  & 500   &  675  & 67    & 73    &  9.4  & 11    &  9727 & 55   \\\\\n",
       "\\end{tabular}\n"
      ],
      "text/markdown": [
       "\n",
       "| <!--/--> | Private | Apps | Accept | Enroll | Top10perc | Top25perc | F.Undergrad | P.Undergrad | Outstate | Room.Board | Books | Personal | PhD | Terminal | S.F.Ratio | perc.alumni | Expend | Grad.Rate | \n",
       "|---|---|---|---|---|---|\n",
       "| Abilene Christian University | Yes   | 1660  | 1232  | 721   | 23    | 52    | 2885  |  537  |  7440 | 3300  | 450   | 2200  | 70    | 78    | 18.1  | 12    |  7041 | 60    | \n",
       "| Adelphi University | Yes   | 2186  | 1924  | 512   | 16    | 29    | 2683  | 1227  | 12280 | 6450  | 750   | 1500  | 29    | 30    | 12.2  | 16    | 10527 | 56    | \n",
       "| Adrian College | Yes   | 1428  | 1097  | 336   | 22    | 50    | 1036  |   99  | 11250 | 3750  | 400   | 1165  | 53    | 66    | 12.9  | 30    |  8735 | 54    | \n",
       "| Agnes Scott College | Yes   |  417  |  349  | 137   | 60    | 89    |  510  |   63  | 12960 | 5450  | 450   |  875  | 92    | 97    |  7.7  | 37    | 19016 | 59    | \n",
       "| Alaska Pacific University | Yes   |  193  |  146  |  55   | 16    | 44    |  249  |  869  |  7560 | 4120  | 800   | 1500  | 76    | 72    | 11.9  |  2    | 10922 | 15    | \n",
       "| Albertson College | Yes   |  587  |  479  | 158   | 38    | 62    |  678  |   41  | 13500 | 3335  | 500   |  675  | 67    | 73    |  9.4  | 11    |  9727 | 55    | \n",
       "\n",
       "\n"
      ],
      "text/plain": [
       "                             Private Apps Accept Enroll Top10perc Top25perc\n",
       "Abilene Christian University Yes     1660 1232   721    23        52       \n",
       "Adelphi University           Yes     2186 1924   512    16        29       \n",
       "Adrian College               Yes     1428 1097   336    22        50       \n",
       "Agnes Scott College          Yes      417  349   137    60        89       \n",
       "Alaska Pacific University    Yes      193  146    55    16        44       \n",
       "Albertson College            Yes      587  479   158    38        62       \n",
       "                             F.Undergrad P.Undergrad Outstate Room.Board Books\n",
       "Abilene Christian University 2885         537         7440    3300       450  \n",
       "Adelphi University           2683        1227        12280    6450       750  \n",
       "Adrian College               1036          99        11250    3750       400  \n",
       "Agnes Scott College           510          63        12960    5450       450  \n",
       "Alaska Pacific University     249         869         7560    4120       800  \n",
       "Albertson College             678          41        13500    3335       500  \n",
       "                             Personal PhD Terminal S.F.Ratio perc.alumni Expend\n",
       "Abilene Christian University 2200     70  78       18.1      12           7041 \n",
       "Adelphi University           1500     29  30       12.2      16          10527 \n",
       "Adrian College               1165     53  66       12.9      30           8735 \n",
       "Agnes Scott College           875     92  97        7.7      37          19016 \n",
       "Alaska Pacific University    1500     76  72       11.9       2          10922 \n",
       "Albertson College             675     67  73        9.4      11           9727 \n",
       "                             Grad.Rate\n",
       "Abilene Christian University 60       \n",
       "Adelphi University           56       \n",
       "Adrian College               54       \n",
       "Agnes Scott College          59       \n",
       "Alaska Pacific University    15       \n",
       "Albertson College            55       "
      ]
     },
     "metadata": {},
     "output_type": "display_data"
    }
   ],
   "source": [
    "df <- College\n",
    "head(df)"
   ]
  },
  {
   "cell_type": "code",
   "execution_count": 5,
   "metadata": {
    "collapsed": true
   },
   "outputs": [],
   "source": [
    "library(ggplot2)"
   ]
  },
  {
   "cell_type": "code",
   "execution_count": 6,
   "metadata": {
    "collapsed": false
   },
   "outputs": [
    {
     "data": {},
     "metadata": {},
     "output_type": "display_data"
    },
    {
     "data": {
      "image/png": "[encoded data removed]",
      "text/plain": [
       "plot without title"
      ]
     },
     "metadata": {},
     "output_type": "display_data"
    }
   ],
   "source": [
    "ggplot(df, aes(Room.Board, Grad.Rate)) + geom_point(aes(color=Private), size=3, alpha=0.5) + theme_bw()"
   ]
  },
  {
   "cell_type": "code",
   "execution_count": 7,
   "metadata": {
    "collapsed": false
   },
   "outputs": [
    {
     "data": {},
     "metadata": {},
     "output_type": "display_data"
    },
    {
     "data": {
      "image/png": "[encoded data removed]",
      "text/plain": [
       "plot without title"
      ]
     },
     "metadata": {},
     "output_type": "display_data"
    }
   ],
   "source": [
    "ggplot(df, aes(F.Undergrad)) + geom_histogram(aes(fill=Private), color='black', bins = 50) + theme_bw()"
   ]
  },
  {
   "cell_type": "code",
   "execution_count": 8,
   "metadata": {
    "collapsed": false
   },
   "outputs": [
    {
     "data": {},
     "metadata": {},
     "output_type": "display_data"
    },
    {
     "data": {
      "image/png": "[encoded data removed]",
      "text/plain": [
       "plot without title"
      ]
     },
     "metadata": {},
     "output_type": "display_data"
    }
   ],
   "source": [
    "ggplot(df, aes(Grad.Rate)) + geom_histogram(aes(fill=Private), color='black', bins = 50) + theme_bw()"
   ]
  },
  {
   "cell_type": "code",
   "execution_count": 9,
   "metadata": {
    "collapsed": false
   },
   "outputs": [
    {
     "name": "stderr",
     "output_type": "stream",
     "text": [
      "\n",
      "Attaching package: 'dplyr'\n",
      "\n",
      "The following objects are masked from 'package:stats':\n",
      "\n",
      "    filter, lag\n",
      "\n",
      "The following objects are masked from 'package:base':\n",
      "\n",
      "    intersect, setdiff, setequal, union\n",
      "\n"
     ]
    },
    {
     "data": {
      "text/html": [
       "<table>\n",
       "<thead><tr><th scope=col>Private</th><th scope=col>Apps</th><th scope=col>Accept</th><th scope=col>Enroll</th><th scope=col>Top10perc</th><th scope=col>Top25perc</th><th scope=col>F.Undergrad</th><th scope=col>P.Undergrad</th><th scope=col>Outstate</th><th scope=col>Room.Board</th><th scope=col>Books</th><th scope=col>Personal</th><th scope=col>PhD</th><th scope=col>Terminal</th><th scope=col>S.F.Ratio</th><th scope=col>perc.alumni</th><th scope=col>Expend</th><th scope=col>Grad.Rate</th></tr></thead>\n",
       "<tbody>\n",
       "\t<tr><td>Yes </td><td>3847</td><td>3433</td><td>527 </td><td>9   </td><td>35  </td><td>1010</td><td>12  </td><td>9384</td><td>4840</td><td>600 </td><td>500 </td><td>22  </td><td>47  </td><td>14.3</td><td>20  </td><td>7697</td><td>118 </td></tr>\n",
       "</tbody>\n",
       "</table>\n"
      ],
      "text/latex": [
       "\\begin{tabular}{r|llllllllllllllllll}\n",
       " Private & Apps & Accept & Enroll & Top10perc & Top25perc & F.Undergrad & P.Undergrad & Outstate & Room.Board & Books & Personal & PhD & Terminal & S.F.Ratio & perc.alumni & Expend & Grad.Rate\\\\\n",
       "\\hline\n",
       "\t Yes  & 3847 & 3433 & 527  & 9    & 35   & 1010 & 12   & 9384 & 4840 & 600  & 500  & 22   & 47   & 14.3 & 20   & 7697 & 118 \\\\\n",
       "\\end{tabular}\n"
      ],
      "text/markdown": [
       "\n",
       "Private | Apps | Accept | Enroll | Top10perc | Top25perc | F.Undergrad | P.Undergrad | Outstate | Room.Board | Books | Personal | PhD | Terminal | S.F.Ratio | perc.alumni | Expend | Grad.Rate | \n",
       "|---|\n",
       "| Yes  | 3847 | 3433 | 527  | 9    | 35   | 1010 | 12   | 9384 | 4840 | 600  | 500  | 22   | 47   | 14.3 | 20   | 7697 | 118  | \n",
       "\n",
       "\n"
      ],
      "text/plain": [
       "  Private Apps Accept Enroll Top10perc Top25perc F.Undergrad P.Undergrad\n",
       "1 Yes     3847 3433   527    9         35        1010        12         \n",
       "  Outstate Room.Board Books Personal PhD Terminal S.F.Ratio perc.alumni Expend\n",
       "1 9384     4840       600   500      22  47       14.3      20          7697  \n",
       "  Grad.Rate\n",
       "1 118      "
      ]
     },
     "metadata": {},
     "output_type": "display_data"
    }
   ],
   "source": [
    "library(dplyr)\n",
    "filter(df, Grad.Rate > 100)"
   ]
  },
  {
   "cell_type": "code",
   "execution_count": 10,
   "metadata": {
    "collapsed": true
   },
   "outputs": [],
   "source": [
    "library(caTools)"
   ]
  },
  {
   "cell_type": "markdown",
   "metadata": {},
   "source": [
    "## Decision Tree"
   ]
  },
  {
   "cell_type": "code",
   "execution_count": 11,
   "metadata": {
    "collapsed": true
   },
   "outputs": [],
   "source": [
    "library(rpart)"
   ]
  },
  {
   "cell_type": "code",
   "execution_count": 12,
   "metadata": {
    "collapsed": false
   },
   "outputs": [
    {
     "data": {
      "text/html": [
       "'Cazenovia College'"
      ],
      "text/latex": [
       "'Cazenovia College'"
      ],
      "text/markdown": [
       "'Cazenovia College'"
      ],
      "text/plain": [
       "[1] \"Cazenovia College\""
      ]
     },
     "metadata": {},
     "output_type": "display_data"
    }
   ],
   "source": [
    "rownames(df)[df$Grad.Rate > 100]"
   ]
  },
  {
   "cell_type": "code",
   "execution_count": 13,
   "metadata": {
    "collapsed": false
   },
   "outputs": [],
   "source": [
    "#df[df$Grad.Rate > 100,]$Grad.Rate <- 100\n",
    "#df[df$Grad.Rate > 100,]\n",
    "df['Cazenovia College', 'Grad.Rate'] <- 100"
   ]
  },
  {
   "cell_type": "code",
   "execution_count": 14,
   "metadata": {
    "collapsed": false
   },
   "outputs": [
    {
     "data": {
      "text/html": [
       "<table>\n",
       "<thead><tr><th></th><th scope=col>Private</th><th scope=col>Apps</th><th scope=col>Accept</th><th scope=col>Enroll</th><th scope=col>Top10perc</th><th scope=col>Top25perc</th><th scope=col>F.Undergrad</th><th scope=col>P.Undergrad</th><th scope=col>Outstate</th><th scope=col>Room.Board</th><th scope=col>Books</th><th scope=col>Personal</th><th scope=col>PhD</th><th scope=col>Terminal</th><th scope=col>S.F.Ratio</th><th scope=col>perc.alumni</th><th scope=col>Expend</th><th scope=col>Grad.Rate</th></tr></thead>\n",
       "<tbody>\n",
       "\t<tr><th scope=row>Cazenovia College</th><td>Yes </td><td>3847</td><td>3433</td><td>527 </td><td>9   </td><td>35  </td><td>1010</td><td>12  </td><td>9384</td><td>4840</td><td>600 </td><td>500 </td><td>22  </td><td>47  </td><td>14.3</td><td>20  </td><td>7697</td><td>100 </td></tr>\n",
       "</tbody>\n",
       "</table>\n"
      ],
      "text/latex": [
       "\\begin{tabular}{r|llllllllllllllllll}\n",
       "  & Private & Apps & Accept & Enroll & Top10perc & Top25perc & F.Undergrad & P.Undergrad & Outstate & Room.Board & Books & Personal & PhD & Terminal & S.F.Ratio & perc.alumni & Expend & Grad.Rate\\\\\n",
       "\\hline\n",
       "\tCazenovia College & Yes  & 3847 & 3433 & 527  & 9    & 35   & 1010 & 12   & 9384 & 4840 & 600  & 500  & 22   & 47   & 14.3 & 20   & 7697 & 100 \\\\\n",
       "\\end{tabular}\n"
      ],
      "text/markdown": [
       "\n",
       "| <!--/--> | Private | Apps | Accept | Enroll | Top10perc | Top25perc | F.Undergrad | P.Undergrad | Outstate | Room.Board | Books | Personal | PhD | Terminal | S.F.Ratio | perc.alumni | Expend | Grad.Rate | \n",
       "|---|\n",
       "| Cazenovia College | Yes  | 3847 | 3433 | 527  | 9    | 35   | 1010 | 12   | 9384 | 4840 | 600  | 500  | 22   | 47   | 14.3 | 20   | 7697 | 100  | \n",
       "\n",
       "\n"
      ],
      "text/plain": [
       "                  Private Apps Accept Enroll Top10perc Top25perc F.Undergrad\n",
       "Cazenovia College Yes     3847 3433   527    9         35        1010       \n",
       "                  P.Undergrad Outstate Room.Board Books Personal PhD Terminal\n",
       "Cazenovia College 12          9384     4840       600   500      22  47      \n",
       "                  S.F.Ratio perc.alumni Expend Grad.Rate\n",
       "Cazenovia College 14.3      20          7697   100      "
      ]
     },
     "metadata": {},
     "output_type": "display_data"
    }
   ],
   "source": [
    "#df[rownames(df)=='Cazenovia College',]\n",
    "df['Cazenovia College',]"
   ]
  },
  {
   "cell_type": "code",
   "execution_count": 15,
   "metadata": {
    "collapsed": false
   },
   "outputs": [],
   "source": [
    "set.seed(101)\n",
    "sample <- sample.split(df$Private, SplitRatio = 0.7)"
   ]
  },
  {
   "cell_type": "code",
   "execution_count": 16,
   "metadata": {
    "collapsed": false
   },
   "outputs": [
    {
     "data": {
      "text/html": [
       "<ol class=list-inline>\n",
       "\t<li>544</li>\n",
       "\t<li>18</li>\n",
       "</ol>\n"
      ],
      "text/latex": [
       "\\begin{enumerate*}\n",
       "\\item 544\n",
       "\\item 18\n",
       "\\end{enumerate*}\n"
      ],
      "text/markdown": [
       "1. 544\n",
       "2. 18\n",
       "\n",
       "\n"
      ],
      "text/plain": [
       "[1] 544  18"
      ]
     },
     "metadata": {},
     "output_type": "display_data"
    }
   ],
   "source": [
    "train <- df[sample==T,]\n",
    "dim(train)"
   ]
  },
  {
   "cell_type": "code",
   "execution_count": 17,
   "metadata": {
    "collapsed": false
   },
   "outputs": [
    {
     "data": {
      "text/html": [
       "<ol class=list-inline>\n",
       "\t<li>233</li>\n",
       "\t<li>18</li>\n",
       "</ol>\n"
      ],
      "text/latex": [
       "\\begin{enumerate*}\n",
       "\\item 233\n",
       "\\item 18\n",
       "\\end{enumerate*}\n"
      ],
      "text/markdown": [
       "1. 233\n",
       "2. 18\n",
       "\n",
       "\n"
      ],
      "text/plain": [
       "[1] 233  18"
      ]
     },
     "metadata": {},
     "output_type": "display_data"
    }
   ],
   "source": [
    "test <- df[sample==F,]\n",
    "dim(test)"
   ]
  },
  {
   "cell_type": "code",
   "execution_count": 18,
   "metadata": {
    "collapsed": false
   },
   "outputs": [
    {
     "name": "stdout",
     "output_type": "stream",
     "text": [
      "\n",
      "Classification tree:\n",
      "rpart(formula = Private ~ ., data = train, method = \"class\")\n",
      "\n",
      "Variables actually used in tree construction:\n",
      "[1] Accept      Enroll      F.Undergrad Outstate    P.Undergrad Top10perc  \n",
      "\n",
      "Root node error: 148/544 = 0.27206\n",
      "\n",
      "n= 544 \n",
      "\n",
      "        CP nsplit rel error  xerror     xstd\n",
      "1 0.486486      0   1.00000 1.00000 0.070132\n",
      "2 0.216216      1   0.51351 0.60811 0.058558\n",
      "3 0.027027      2   0.29730 0.39189 0.048637\n",
      "4 0.020270      3   0.27027 0.40541 0.049367\n",
      "5 0.010000      8   0.15541 0.41216 0.049725\n"
     ]
    }
   ],
   "source": [
    "tree <- rpart(Private ~ ., method = 'class', data = train)\n",
    "printcp(tree)"
   ]
  },
  {
   "cell_type": "code",
   "execution_count": 19,
   "metadata": {
    "collapsed": false
   },
   "outputs": [
    {
     "data": {
      "image/png": "[encoded data removed]",
      "text/plain": [
       "plot without title"
      ]
     },
     "metadata": {},
     "output_type": "display_data"
    }
   ],
   "source": [
    "plot(tree, uniform = T)"
   ]
  },
  {
   "cell_type": "code",
   "execution_count": 20,
   "metadata": {
    "collapsed": false
   },
   "outputs": [],
   "source": [
    "#install.packages('rpart.plot', repos='http://cran.us.r-project.org')"
   ]
  },
  {
   "cell_type": "code",
   "execution_count": 21,
   "metadata": {
    "collapsed": false
   },
   "outputs": [
    {
     "name": "stderr",
     "output_type": "stream",
     "text": [
      "Warning message:\n",
      "\"package 'rpart.plot' was built under R version 3.3.3\""
     ]
    },
    {
     "data": {
      "image/png": "[encoded data removed]",
      "text/plain": [
       "plot without title"
      ]
     },
     "metadata": {},
     "output_type": "display_data"
    }
   ],
   "source": [
    "library(rpart.plot)\n",
    "prp(tree)"
   ]
  },
  {
   "cell_type": "code",
   "execution_count": 22,
   "metadata": {
    "collapsed": false
   },
   "outputs": [],
   "source": [
    "test.data <- select(test, -Private)\n",
    "test.label <- select(test, Private)"
   ]
  },
  {
   "cell_type": "code",
   "execution_count": 23,
   "metadata": {
    "collapsed": false
   },
   "outputs": [],
   "source": [
    "pred <- predict(tree, test.data, type = 'prob')"
   ]
  },
  {
   "cell_type": "code",
   "execution_count": 24,
   "metadata": {
    "collapsed": false
   },
   "outputs": [
    {
     "data": {
      "text/html": [
       "<table>\n",
       "<thead><tr><th></th><th scope=col>No</th><th scope=col>Yes</th></tr></thead>\n",
       "<tbody>\n",
       "\t<tr><th scope=row>Adrian College</th><td>0.003311258</td><td>0.9966887  </td></tr>\n",
       "\t<tr><th scope=row>Alfred University</th><td>0.003311258</td><td>0.9966887  </td></tr>\n",
       "\t<tr><th scope=row>Allegheny College</th><td>0.003311258</td><td>0.9966887  </td></tr>\n",
       "\t<tr><th scope=row>Allentown Coll. of St. Francis de Sales</th><td>0.003311258</td><td>0.9966887  </td></tr>\n",
       "\t<tr><th scope=row>Alma College</th><td>0.003311258</td><td>0.9966887  </td></tr>\n",
       "\t<tr><th scope=row>Amherst College</th><td>0.003311258</td><td>0.9966887  </td></tr>\n",
       "</tbody>\n",
       "</table>\n"
      ],
      "text/latex": [
       "\\begin{tabular}{r|ll}\n",
       "  & No & Yes\\\\\n",
       "\\hline\n",
       "\tAdrian College & 0.003311258 & 0.9966887  \\\\\n",
       "\tAlfred University & 0.003311258 & 0.9966887  \\\\\n",
       "\tAllegheny College & 0.003311258 & 0.9966887  \\\\\n",
       "\tAllentown Coll. of St. Francis de Sales & 0.003311258 & 0.9966887  \\\\\n",
       "\tAlma College & 0.003311258 & 0.9966887  \\\\\n",
       "\tAmherst College & 0.003311258 & 0.9966887  \\\\\n",
       "\\end{tabular}\n"
      ],
      "text/markdown": [
       "\n",
       "| <!--/--> | No | Yes | \n",
       "|---|---|---|---|---|---|\n",
       "| Adrian College | 0.003311258 | 0.9966887   | \n",
       "| Alfred University | 0.003311258 | 0.9966887   | \n",
       "| Allegheny College | 0.003311258 | 0.9966887   | \n",
       "| Allentown Coll. of St. Francis de Sales | 0.003311258 | 0.9966887   | \n",
       "| Alma College | 0.003311258 | 0.9966887   | \n",
       "| Amherst College | 0.003311258 | 0.9966887   | \n",
       "\n",
       "\n"
      ],
      "text/plain": [
       "                                        No          Yes      \n",
       "Adrian College                          0.003311258 0.9966887\n",
       "Alfred University                       0.003311258 0.9966887\n",
       "Allegheny College                       0.003311258 0.9966887\n",
       "Allentown Coll. of St. Francis de Sales 0.003311258 0.9966887\n",
       "Alma College                            0.003311258 0.9966887\n",
       "Amherst College                         0.003311258 0.9966887"
      ]
     },
     "metadata": {},
     "output_type": "display_data"
    }
   ],
   "source": [
    "head(pred)"
   ]
  },
  {
   "cell_type": "code",
   "execution_count": 25,
   "metadata": {
    "collapsed": false
   },
   "outputs": [
    {
     "data": {
      "text/html": [
       "'data.frame'"
      ],
      "text/latex": [
       "'data.frame'"
      ],
      "text/markdown": [
       "'data.frame'"
      ],
      "text/plain": [
       "[1] \"data.frame\""
      ]
     },
     "metadata": {},
     "output_type": "display_data"
    }
   ],
   "source": [
    "pred <- data.frame(pred)\n",
    "class(pred)"
   ]
  },
  {
   "cell_type": "code",
   "execution_count": 26,
   "metadata": {
    "collapsed": false
   },
   "outputs": [],
   "source": [
    "pred$Private <- ifelse(pred$Yes > pred$No, 'Yes', 'No')\n",
    "pred <- select(pred, Private)"
   ]
  },
  {
   "cell_type": "code",
   "execution_count": 27,
   "metadata": {
    "collapsed": false
   },
   "outputs": [
    {
     "data": {
      "text/html": [
       "<table>\n",
       "<thead><tr><th></th><th scope=col>Private</th></tr></thead>\n",
       "<tbody>\n",
       "\t<tr><th scope=row>Adrian College</th><td>Yes</td></tr>\n",
       "\t<tr><th scope=row>Alfred University</th><td>Yes</td></tr>\n",
       "\t<tr><th scope=row>Allegheny College</th><td>Yes</td></tr>\n",
       "\t<tr><th scope=row>Allentown Coll. of St. Francis de Sales</th><td>Yes</td></tr>\n",
       "\t<tr><th scope=row>Alma College</th><td>Yes</td></tr>\n",
       "\t<tr><th scope=row>Amherst College</th><td>Yes</td></tr>\n",
       "</tbody>\n",
       "</table>\n"
      ],
      "text/latex": [
       "\\begin{tabular}{r|l}\n",
       "  & Private\\\\\n",
       "\\hline\n",
       "\tAdrian College & Yes\\\\\n",
       "\tAlfred University & Yes\\\\\n",
       "\tAllegheny College & Yes\\\\\n",
       "\tAllentown Coll. of St. Francis de Sales & Yes\\\\\n",
       "\tAlma College & Yes\\\\\n",
       "\tAmherst College & Yes\\\\\n",
       "\\end{tabular}\n"
      ],
      "text/markdown": [
       "\n",
       "| <!--/--> | Private | \n",
       "|---|---|---|---|---|---|\n",
       "| Adrian College | Yes | \n",
       "| Alfred University | Yes | \n",
       "| Allegheny College | Yes | \n",
       "| Allentown Coll. of St. Francis de Sales | Yes | \n",
       "| Alma College | Yes | \n",
       "| Amherst College | Yes | \n",
       "\n",
       "\n"
      ],
      "text/plain": [
       "                                        Private\n",
       "Adrian College                          Yes    \n",
       "Alfred University                       Yes    \n",
       "Allegheny College                       Yes    \n",
       "Allentown Coll. of St. Francis de Sales Yes    \n",
       "Alma College                            Yes    \n",
       "Amherst College                         Yes    "
      ]
     },
     "metadata": {},
     "output_type": "display_data"
    }
   ],
   "source": [
    "head(pred)"
   ]
  },
  {
   "cell_type": "code",
   "execution_count": 28,
   "metadata": {
    "collapsed": false
   },
   "outputs": [
    {
     "data": {
      "text/plain": [
       "     \n",
       "       No Yes\n",
       "  No   57   7\n",
       "  Yes   9 160"
      ]
     },
     "metadata": {},
     "output_type": "display_data"
    }
   ],
   "source": [
    "cm <- table(test.label$Private, pred$Private)\n",
    "cm"
   ]
  },
  {
   "cell_type": "markdown",
   "metadata": {},
   "source": [
    "## Random Forest"
   ]
  },
  {
   "cell_type": "code",
   "execution_count": 29,
   "metadata": {
    "collapsed": false
   },
   "outputs": [
    {
     "name": "stderr",
     "output_type": "stream",
     "text": [
      "randomForest 4.6-12\n",
      "Type rfNews() to see new features/changes/bug fixes.\n",
      "\n",
      "Attaching package: 'randomForest'\n",
      "\n",
      "The following object is masked from 'package:dplyr':\n",
      "\n",
      "    combine\n",
      "\n",
      "The following object is masked from 'package:ggplot2':\n",
      "\n",
      "    margin\n",
      "\n"
     ]
    }
   ],
   "source": [
    "library(randomForest)"
   ]
  },
  {
   "cell_type": "code",
   "execution_count": 30,
   "metadata": {
    "collapsed": true
   },
   "outputs": [],
   "source": [
    "rf <- randomForest(Private ~ ., data = train, importance = T)"
   ]
  },
  {
   "cell_type": "code",
   "execution_count": 31,
   "metadata": {
    "collapsed": false
   },
   "outputs": [
    {
     "data": {
      "text/html": [
       "<table>\n",
       "<thead><tr><th></th><th scope=col>No</th><th scope=col>Yes</th><th scope=col>class.error</th></tr></thead>\n",
       "<tbody>\n",
       "\t<tr><th scope=row>No</th><td>125       </td><td> 23       </td><td>0.15540541</td></tr>\n",
       "\t<tr><th scope=row>Yes</th><td> 10       </td><td>386       </td><td>0.02525253</td></tr>\n",
       "</tbody>\n",
       "</table>\n"
      ],
      "text/latex": [
       "\\begin{tabular}{r|lll}\n",
       "  & No & Yes & class.error\\\\\n",
       "\\hline\n",
       "\tNo & 125        &  23        & 0.15540541\\\\\n",
       "\tYes &  10        & 386        & 0.02525253\\\\\n",
       "\\end{tabular}\n"
      ],
      "text/markdown": [
       "\n",
       "| <!--/--> | No | Yes | class.error | \n",
       "|---|---|\n",
       "| No | 125        |  23        | 0.15540541 | \n",
       "| Yes |  10        | 386        | 0.02525253 | \n",
       "\n",
       "\n"
      ],
      "text/plain": [
       "    No  Yes class.error\n",
       "No  125  23 0.15540541 \n",
       "Yes  10 386 0.02525253 "
      ]
     },
     "metadata": {},
     "output_type": "display_data"
    }
   ],
   "source": [
    "rf$confusion"
   ]
  },
  {
   "cell_type": "code",
   "execution_count": 32,
   "metadata": {
    "collapsed": false
   },
   "outputs": [
    {
     "data": {
      "text/html": [
       "<table>\n",
       "<thead><tr><th></th><th scope=col>No</th><th scope=col>Yes</th><th scope=col>MeanDecreaseAccuracy</th><th scope=col>MeanDecreaseGini</th></tr></thead>\n",
       "<tbody>\n",
       "\t<tr><th scope=row>Apps</th><td>0.030638008 </td><td>0.0138490702</td><td>0.0183834770</td><td> 8.191846   </td></tr>\n",
       "\t<tr><th scope=row>Accept</th><td>0.031590637 </td><td>0.0157698867</td><td>0.0199998841</td><td>13.280573   </td></tr>\n",
       "\t<tr><th scope=row>Enroll</th><td>0.036691206 </td><td>0.0284928559</td><td>0.0307724157</td><td>20.832978   </td></tr>\n",
       "\t<tr><th scope=row>Top10perc</th><td>0.008783509 </td><td>0.0041456953</td><td>0.0053787323</td><td> 5.250942   </td></tr>\n",
       "\t<tr><th scope=row>Top25perc</th><td>0.007412220 </td><td>0.0044694518</td><td>0.0052145181</td><td> 4.501693   </td></tr>\n",
       "\t<tr><th scope=row>F.Undergrad</th><td>0.154011049 </td><td>0.0748721489</td><td>0.0962450156</td><td>40.463681   </td></tr>\n",
       "\t<tr><th scope=row>P.Undergrad</th><td>0.048475334 </td><td>0.0073411365</td><td>0.0184278295</td><td>15.656301   </td></tr>\n",
       "\t<tr><th scope=row>Outstate</th><td>0.141095168 </td><td>0.0613496370</td><td>0.0830099419</td><td>42.602561   </td></tr>\n",
       "\t<tr><th scope=row>Room.Board</th><td>0.021518748 </td><td>0.0144101817</td><td>0.0163546192</td><td>11.415365   </td></tr>\n",
       "\t<tr><th scope=row>Books</th><td>0.001852497 </td><td>0.0002509989</td><td>0.0007121824</td><td> 2.248328   </td></tr>\n",
       "\t<tr><th scope=row>Personal</th><td>0.003032677 </td><td>0.0016272012</td><td>0.0019899372</td><td> 3.288314   </td></tr>\n",
       "\t<tr><th scope=row>PhD</th><td>0.006891102 </td><td>0.0048891976</td><td>0.0054043435</td><td> 4.401988   </td></tr>\n",
       "\t<tr><th scope=row>Terminal</th><td>0.005552642 </td><td>0.0041588988</td><td>0.0045469137</td><td> 4.373904   </td></tr>\n",
       "\t<tr><th scope=row>S.F.Ratio</th><td>0.031130358 </td><td>0.0096029611</td><td>0.0153991012</td><td>15.809862   </td></tr>\n",
       "\t<tr><th scope=row>perc.alumni</th><td>0.021092075 </td><td>0.0041202501</td><td>0.0087216547</td><td> 5.065061   </td></tr>\n",
       "\t<tr><th scope=row>Expend</th><td>0.025496668 </td><td>0.0134694646</td><td>0.0166589911</td><td>10.504956   </td></tr>\n",
       "\t<tr><th scope=row>Grad.Rate</th><td>0.017449980 </td><td>0.0055589660</td><td>0.0088252942</td><td> 7.442815   </td></tr>\n",
       "</tbody>\n",
       "</table>\n"
      ],
      "text/latex": [
       "\\begin{tabular}{r|llll}\n",
       "  & No & Yes & MeanDecreaseAccuracy & MeanDecreaseGini\\\\\n",
       "\\hline\n",
       "\tApps & 0.030638008  & 0.0138490702 & 0.0183834770 &  8.191846   \\\\\n",
       "\tAccept & 0.031590637  & 0.0157698867 & 0.0199998841 & 13.280573   \\\\\n",
       "\tEnroll & 0.036691206  & 0.0284928559 & 0.0307724157 & 20.832978   \\\\\n",
       "\tTop10perc & 0.008783509  & 0.0041456953 & 0.0053787323 &  5.250942   \\\\\n",
       "\tTop25perc & 0.007412220  & 0.0044694518 & 0.0052145181 &  4.501693   \\\\\n",
       "\tF.Undergrad & 0.154011049  & 0.0748721489 & 0.0962450156 & 40.463681   \\\\\n",
       "\tP.Undergrad & 0.048475334  & 0.0073411365 & 0.0184278295 & 15.656301   \\\\\n",
       "\tOutstate & 0.141095168  & 0.0613496370 & 0.0830099419 & 42.602561   \\\\\n",
       "\tRoom.Board & 0.021518748  & 0.0144101817 & 0.0163546192 & 11.415365   \\\\\n",
       "\tBooks & 0.001852497  & 0.0002509989 & 0.0007121824 &  2.248328   \\\\\n",
       "\tPersonal & 0.003032677  & 0.0016272012 & 0.0019899372 &  3.288314   \\\\\n",
       "\tPhD & 0.006891102  & 0.0048891976 & 0.0054043435 &  4.401988   \\\\\n",
       "\tTerminal & 0.005552642  & 0.0041588988 & 0.0045469137 &  4.373904   \\\\\n",
       "\tS.F.Ratio & 0.031130358  & 0.0096029611 & 0.0153991012 & 15.809862   \\\\\n",
       "\tperc.alumni & 0.021092075  & 0.0041202501 & 0.0087216547 &  5.065061   \\\\\n",
       "\tExpend & 0.025496668  & 0.0134694646 & 0.0166589911 & 10.504956   \\\\\n",
       "\tGrad.Rate & 0.017449980  & 0.0055589660 & 0.0088252942 &  7.442815   \\\\\n",
       "\\end{tabular}\n"
      ],
      "text/markdown": [
       "\n",
       "| <!--/--> | No | Yes | MeanDecreaseAccuracy | MeanDecreaseGini | \n",
       "|---|---|---|---|---|---|---|---|---|---|---|---|---|---|---|---|---|\n",
       "| Apps | 0.030638008  | 0.0138490702 | 0.0183834770 |  8.191846    | \n",
       "| Accept | 0.031590637  | 0.0157698867 | 0.0199998841 | 13.280573    | \n",
       "| Enroll | 0.036691206  | 0.0284928559 | 0.0307724157 | 20.832978    | \n",
       "| Top10perc | 0.008783509  | 0.0041456953 | 0.0053787323 |  5.250942    | \n",
       "| Top25perc | 0.007412220  | 0.0044694518 | 0.0052145181 |  4.501693    | \n",
       "| F.Undergrad | 0.154011049  | 0.0748721489 | 0.0962450156 | 40.463681    | \n",
       "| P.Undergrad | 0.048475334  | 0.0073411365 | 0.0184278295 | 15.656301    | \n",
       "| Outstate | 0.141095168  | 0.0613496370 | 0.0830099419 | 42.602561    | \n",
       "| Room.Board | 0.021518748  | 0.0144101817 | 0.0163546192 | 11.415365    | \n",
       "| Books | 0.001852497  | 0.0002509989 | 0.0007121824 |  2.248328    | \n",
       "| Personal | 0.003032677  | 0.0016272012 | 0.0019899372 |  3.288314    | \n",
       "| PhD | 0.006891102  | 0.0048891976 | 0.0054043435 |  4.401988    | \n",
       "| Terminal | 0.005552642  | 0.0041588988 | 0.0045469137 |  4.373904    | \n",
       "| S.F.Ratio | 0.031130358  | 0.0096029611 | 0.0153991012 | 15.809862    | \n",
       "| perc.alumni | 0.021092075  | 0.0041202501 | 0.0087216547 |  5.065061    | \n",
       "| Expend | 0.025496668  | 0.0134694646 | 0.0166589911 | 10.504956    | \n",
       "| Grad.Rate | 0.017449980  | 0.0055589660 | 0.0088252942 |  7.442815    | \n",
       "\n",
       "\n"
      ],
      "text/plain": [
       "            No          Yes          MeanDecreaseAccuracy MeanDecreaseGini\n",
       "Apps        0.030638008 0.0138490702 0.0183834770          8.191846       \n",
       "Accept      0.031590637 0.0157698867 0.0199998841         13.280573       \n",
       "Enroll      0.036691206 0.0284928559 0.0307724157         20.832978       \n",
       "Top10perc   0.008783509 0.0041456953 0.0053787323          5.250942       \n",
       "Top25perc   0.007412220 0.0044694518 0.0052145181          4.501693       \n",
       "F.Undergrad 0.154011049 0.0748721489 0.0962450156         40.463681       \n",
       "P.Undergrad 0.048475334 0.0073411365 0.0184278295         15.656301       \n",
       "Outstate    0.141095168 0.0613496370 0.0830099419         42.602561       \n",
       "Room.Board  0.021518748 0.0144101817 0.0163546192         11.415365       \n",
       "Books       0.001852497 0.0002509989 0.0007121824          2.248328       \n",
       "Personal    0.003032677 0.0016272012 0.0019899372          3.288314       \n",
       "PhD         0.006891102 0.0048891976 0.0054043435          4.401988       \n",
       "Terminal    0.005552642 0.0041588988 0.0045469137          4.373904       \n",
       "S.F.Ratio   0.031130358 0.0096029611 0.0153991012         15.809862       \n",
       "perc.alumni 0.021092075 0.0041202501 0.0087216547          5.065061       \n",
       "Expend      0.025496668 0.0134694646 0.0166589911         10.504956       \n",
       "Grad.Rate   0.017449980 0.0055589660 0.0088252942          7.442815       "
      ]
     },
     "metadata": {},
     "output_type": "display_data"
    }
   ],
   "source": [
    "rf$importance"
   ]
  },
  {
   "cell_type": "code",
   "execution_count": 33,
   "metadata": {
    "collapsed": true
   },
   "outputs": [],
   "source": [
    "pred_rf <- predict(rf, test.data, type = 'prob')"
   ]
  },
  {
   "cell_type": "code",
   "execution_count": 34,
   "metadata": {
    "collapsed": false
   },
   "outputs": [
    {
     "data": {
      "text/html": [
       "<table>\n",
       "<thead><tr><th></th><th scope=col>No</th><th scope=col>Yes</th></tr></thead>\n",
       "<tbody>\n",
       "\t<tr><th scope=row>Adrian College</th><td>0.000</td><td>1.000</td></tr>\n",
       "\t<tr><th scope=row>Alfred University</th><td>0.000</td><td>1.000</td></tr>\n",
       "\t<tr><th scope=row>Allegheny College</th><td>0.000</td><td>1.000</td></tr>\n",
       "\t<tr><th scope=row>Allentown Coll. of St. Francis de Sales</th><td>0.002</td><td>0.998</td></tr>\n",
       "\t<tr><th scope=row>Alma College</th><td>0.060</td><td>0.940</td></tr>\n",
       "\t<tr><th scope=row>Amherst College</th><td>0.044</td><td>0.956</td></tr>\n",
       "</tbody>\n",
       "</table>\n"
      ],
      "text/latex": [
       "\\begin{tabular}{r|ll}\n",
       "  & No & Yes\\\\\n",
       "\\hline\n",
       "\tAdrian College & 0.000 & 1.000\\\\\n",
       "\tAlfred University & 0.000 & 1.000\\\\\n",
       "\tAllegheny College & 0.000 & 1.000\\\\\n",
       "\tAllentown Coll. of St. Francis de Sales & 0.002 & 0.998\\\\\n",
       "\tAlma College & 0.060 & 0.940\\\\\n",
       "\tAmherst College & 0.044 & 0.956\\\\\n",
       "\\end{tabular}\n"
      ],
      "text/markdown": [
       "\n",
       "| <!--/--> | No | Yes | \n",
       "|---|---|---|---|---|---|\n",
       "| Adrian College | 0.000 | 1.000 | \n",
       "| Alfred University | 0.000 | 1.000 | \n",
       "| Allegheny College | 0.000 | 1.000 | \n",
       "| Allentown Coll. of St. Francis de Sales | 0.002 | 0.998 | \n",
       "| Alma College | 0.060 | 0.940 | \n",
       "| Amherst College | 0.044 | 0.956 | \n",
       "\n",
       "\n"
      ],
      "text/plain": [
       "                                        No    Yes  \n",
       "Adrian College                          0.000 1.000\n",
       "Alfred University                       0.000 1.000\n",
       "Allegheny College                       0.000 1.000\n",
       "Allentown Coll. of St. Francis de Sales 0.002 0.998\n",
       "Alma College                            0.060 0.940\n",
       "Amherst College                         0.044 0.956"
      ]
     },
     "metadata": {},
     "output_type": "display_data"
    }
   ],
   "source": [
    "head(pred_rf)"
   ]
  },
  {
   "cell_type": "code",
   "execution_count": 35,
   "metadata": {
    "collapsed": false
   },
   "outputs": [
    {
     "data": {
      "text/html": [
       "<table>\n",
       "<thead><tr><th></th><th scope=col>Private</th></tr></thead>\n",
       "<tbody>\n",
       "\t<tr><th scope=row>Adrian College</th><td>Yes</td></tr>\n",
       "\t<tr><th scope=row>Alfred University</th><td>Yes</td></tr>\n",
       "\t<tr><th scope=row>Allegheny College</th><td>Yes</td></tr>\n",
       "\t<tr><th scope=row>Allentown Coll. of St. Francis de Sales</th><td>Yes</td></tr>\n",
       "\t<tr><th scope=row>Alma College</th><td>Yes</td></tr>\n",
       "\t<tr><th scope=row>Amherst College</th><td>Yes</td></tr>\n",
       "</tbody>\n",
       "</table>\n"
      ],
      "text/latex": [
       "\\begin{tabular}{r|l}\n",
       "  & Private\\\\\n",
       "\\hline\n",
       "\tAdrian College & Yes\\\\\n",
       "\tAlfred University & Yes\\\\\n",
       "\tAllegheny College & Yes\\\\\n",
       "\tAllentown Coll. of St. Francis de Sales & Yes\\\\\n",
       "\tAlma College & Yes\\\\\n",
       "\tAmherst College & Yes\\\\\n",
       "\\end{tabular}\n"
      ],
      "text/markdown": [
       "\n",
       "| <!--/--> | Private | \n",
       "|---|---|---|---|---|---|\n",
       "| Adrian College | Yes | \n",
       "| Alfred University | Yes | \n",
       "| Allegheny College | Yes | \n",
       "| Allentown Coll. of St. Francis de Sales | Yes | \n",
       "| Alma College | Yes | \n",
       "| Amherst College | Yes | \n",
       "\n",
       "\n"
      ],
      "text/plain": [
       "                                        Private\n",
       "Adrian College                          Yes    \n",
       "Alfred University                       Yes    \n",
       "Allegheny College                       Yes    \n",
       "Allentown Coll. of St. Francis de Sales Yes    \n",
       "Alma College                            Yes    \n",
       "Amherst College                         Yes    "
      ]
     },
     "metadata": {},
     "output_type": "display_data"
    }
   ],
   "source": [
    "pred_rf <- data.frame(pred_rf)\n",
    "pred_rf$Private <- ifelse(pred_rf$Yes > pred_rf$No, 'Yes', 'No')\n",
    "pred_rf <- select(pred_rf, Private)\n",
    "head(pred_rf)"
   ]
  },
  {
   "cell_type": "code",
   "execution_count": 36,
   "metadata": {
    "collapsed": false
   },
   "outputs": [
    {
     "data": {
      "text/plain": [
       "     \n",
       "       No Yes\n",
       "  No   58   6\n",
       "  Yes   7 162"
      ]
     },
     "metadata": {},
     "output_type": "display_data"
    }
   ],
   "source": [
    "cm_rf <- table(test.label$Private, pred_rf$Private)\n",
    "cm_rf"
   ]
  },
  {
   "cell_type": "code",
   "execution_count": 39,
   "metadata": {
    "collapsed": false
   },
   "outputs": [
    {
     "data": {
      "text/html": [
       "<dl class=dl-horizontal>\n",
       "\t<dt>Adrian College</dt>\n",
       "\t\t<dd>Yes</dd>\n",
       "\t<dt>Alfred University</dt>\n",
       "\t\t<dd>Yes</dd>\n",
       "\t<dt>Allegheny College</dt>\n",
       "\t\t<dd>Yes</dd>\n",
       "\t<dt>Allentown Coll. of St. Francis de Sales</dt>\n",
       "\t\t<dd>Yes</dd>\n",
       "\t<dt>Alma College</dt>\n",
       "\t\t<dd>Yes</dd>\n",
       "\t<dt>Amherst College</dt>\n",
       "\t\t<dd>Yes</dd>\n",
       "</dl>\n"
      ],
      "text/latex": [
       "\\begin{description*}\n",
       "\\item[Adrian College] Yes\n",
       "\\item[Alfred University] Yes\n",
       "\\item[Allegheny College] Yes\n",
       "\\item[Allentown Coll. of St. Francis de Sales] Yes\n",
       "\\item[Alma College] Yes\n",
       "\\item[Amherst College] Yes\n",
       "\\end{description*}\n"
      ],
      "text/markdown": [
       "Adrian College\n",
       ":   YesAlfred University\n",
       ":   YesAllegheny College\n",
       ":   YesAllentown Coll. of St. Francis de Sales\n",
       ":   YesAlma College\n",
       ":   YesAmherst College\n",
       ":   Yes\n",
       "\n"
      ],
      "text/plain": [
       "                         Adrian College                       Alfred University \n",
       "                                    Yes                                     Yes \n",
       "                      Allegheny College Allentown Coll. of St. Francis de Sales \n",
       "                                    Yes                                     Yes \n",
       "                           Alma College                         Amherst College \n",
       "                                    Yes                                     Yes \n",
       "Levels: No Yes"
      ]
     },
     "metadata": {},
     "output_type": "display_data"
    }
   ],
   "source": [
    "raw_pred_rf <- predict(rf, test)\n",
    "head(raw_pred_rf)"
   ]
  },
  {
   "cell_type": "code",
   "execution_count": 42,
   "metadata": {
    "collapsed": false
   },
   "outputs": [
    {
     "data": {
      "text/plain": [
       "     raw_pred_rf\n",
       "       No Yes\n",
       "  No   58   6\n",
       "  Yes   7 162"
      ]
     },
     "metadata": {},
     "output_type": "display_data"
    }
   ],
   "source": [
    "table(test.label$Private, raw_pred_rf)"
   ]
  },
  {
   "cell_type": "code",
   "execution_count": 44,
   "metadata": {
    "collapsed": false
   },
   "outputs": [
    {
     "data": {
      "text/plain": [
       "           \n",
       "raw_pred_rf  No Yes\n",
       "        No   58   7\n",
       "        Yes   6 162"
      ]
     },
     "metadata": {},
     "output_type": "display_data"
    }
   ],
   "source": [
    "table(raw_pred_rf, test$Private)"
   ]
  },
  {
   "cell_type": "code",
   "execution_count": 41,
   "metadata": {
    "collapsed": false
   },
   "outputs": [
    {
     "data": {
      "text/html": [
       "<table>\n",
       "<thead><tr><th></th><th scope=col>No</th><th scope=col>Yes</th></tr></thead>\n",
       "<tbody>\n",
       "\t<tr><th scope=row>Adrian College</th><td>0.003311258</td><td>0.9966887  </td></tr>\n",
       "\t<tr><th scope=row>Alfred University</th><td>0.003311258</td><td>0.9966887  </td></tr>\n",
       "\t<tr><th scope=row>Allegheny College</th><td>0.003311258</td><td>0.9966887  </td></tr>\n",
       "\t<tr><th scope=row>Allentown Coll. of St. Francis de Sales</th><td>0.003311258</td><td>0.9966887  </td></tr>\n",
       "\t<tr><th scope=row>Alma College</th><td>0.003311258</td><td>0.9966887  </td></tr>\n",
       "\t<tr><th scope=row>Amherst College</th><td>0.003311258</td><td>0.9966887  </td></tr>\n",
       "</tbody>\n",
       "</table>\n"
      ],
      "text/latex": [
       "\\begin{tabular}{r|ll}\n",
       "  & No & Yes\\\\\n",
       "\\hline\n",
       "\tAdrian College & 0.003311258 & 0.9966887  \\\\\n",
       "\tAlfred University & 0.003311258 & 0.9966887  \\\\\n",
       "\tAllegheny College & 0.003311258 & 0.9966887  \\\\\n",
       "\tAllentown Coll. of St. Francis de Sales & 0.003311258 & 0.9966887  \\\\\n",
       "\tAlma College & 0.003311258 & 0.9966887  \\\\\n",
       "\tAmherst College & 0.003311258 & 0.9966887  \\\\\n",
       "\\end{tabular}\n"
      ],
      "text/markdown": [
       "\n",
       "| <!--/--> | No | Yes | \n",
       "|---|---|---|---|---|---|\n",
       "| Adrian College | 0.003311258 | 0.9966887   | \n",
       "| Alfred University | 0.003311258 | 0.9966887   | \n",
       "| Allegheny College | 0.003311258 | 0.9966887   | \n",
       "| Allentown Coll. of St. Francis de Sales | 0.003311258 | 0.9966887   | \n",
       "| Alma College | 0.003311258 | 0.9966887   | \n",
       "| Amherst College | 0.003311258 | 0.9966887   | \n",
       "\n",
       "\n"
      ],
      "text/plain": [
       "                                        No          Yes      \n",
       "Adrian College                          0.003311258 0.9966887\n",
       "Alfred University                       0.003311258 0.9966887\n",
       "Allegheny College                       0.003311258 0.9966887\n",
       "Allentown Coll. of St. Francis de Sales 0.003311258 0.9966887\n",
       "Alma College                            0.003311258 0.9966887\n",
       "Amherst College                         0.003311258 0.9966887"
      ]
     },
     "metadata": {},
     "output_type": "display_data"
    }
   ],
   "source": [
    "tree_pred <- predict(tree, test)\n",
    "head(tree_pred)"
   ]
  }
 ],
 "metadata": {
  "kernelspec": {
   "display_name": "R",
   "language": "R",
   "name": "ir"
  },
  "language_info": {
   "codemirror_mode": "r",
   "file_extension": ".r",
   "mimetype": "text/x-r-source",
   "name": "R",
   "pygments_lexer": "r",
   "version": "3.3.2"
  }
 },
 "nbformat": 4,
 "nbformat_minor": 2
}
