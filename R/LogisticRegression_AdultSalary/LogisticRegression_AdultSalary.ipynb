{
 "cells": [
  {
   "cell_type": "markdown",
   "metadata": {},
   "source": [
    "# Logistic Regression with Adult Salary\n",
    "We will be working with the UCI adult dataset. We will be attempting to predict if people in the data set belong in a certain class by salary, either making <=50k or >50k per year."
   ]
  },
  {
   "cell_type": "code",
   "execution_count": 1,
   "metadata": {
    "collapsed": false
   },
   "outputs": [
    {
     "data": {
      "text/html": [
       "<table>\n",
       "<thead><tr><th scope=col>X</th><th scope=col>age</th><th scope=col>type_employer</th><th scope=col>fnlwgt</th><th scope=col>education</th><th scope=col>education_num</th><th scope=col>marital</th><th scope=col>occupation</th><th scope=col>relationship</th><th scope=col>race</th><th scope=col>sex</th><th scope=col>capital_gain</th><th scope=col>capital_loss</th><th scope=col>hr_per_week</th><th scope=col>country</th><th scope=col>income</th></tr></thead>\n",
       "<tbody>\n",
       "\t<tr><td>1                                                         </td><td>39                                                        </td><td><span style=white-space:pre-wrap>State-gov       </span>  </td><td> 77516                                                    </td><td>Bachelors                                                 </td><td>13                                                        </td><td><span style=white-space:pre-wrap>Never-married     </span></td><td><span style=white-space:pre-wrap>Adm-clerical     </span> </td><td>Not-in-family                                             </td><td>White                                                     </td><td><span style=white-space:pre-wrap>Male  </span>            </td><td>2174                                                      </td><td>0                                                         </td><td>40                                                        </td><td>United-States                                             </td><td>&lt;=50K                                                  </td></tr>\n",
       "\t<tr><td>2                                                        </td><td>50                                                       </td><td>Self-emp-not-inc                                         </td><td> 83311                                                   </td><td>Bachelors                                                </td><td>13                                                       </td><td>Married-civ-spouse                                       </td><td><span style=white-space:pre-wrap>Exec-managerial  </span></td><td><span style=white-space:pre-wrap>Husband      </span>    </td><td>White                                                    </td><td><span style=white-space:pre-wrap>Male  </span>           </td><td><span style=white-space:pre-wrap>   0</span>             </td><td>0                                                        </td><td>13                                                       </td><td>United-States                                            </td><td>&lt;=50K                                                 </td></tr>\n",
       "\t<tr><td>3                                                         </td><td>38                                                        </td><td><span style=white-space:pre-wrap>Private         </span>  </td><td>215646                                                    </td><td><span style=white-space:pre-wrap>HS-grad  </span>         </td><td> 9                                                        </td><td><span style=white-space:pre-wrap>Divorced          </span></td><td>Handlers-cleaners                                         </td><td>Not-in-family                                             </td><td>White                                                     </td><td><span style=white-space:pre-wrap>Male  </span>            </td><td><span style=white-space:pre-wrap>   0</span>              </td><td>0                                                         </td><td>40                                                        </td><td>United-States                                             </td><td>&lt;=50K                                                  </td></tr>\n",
       "\t<tr><td>4                                                       </td><td>53                                                      </td><td><span style=white-space:pre-wrap>Private         </span></td><td>234721                                                  </td><td><span style=white-space:pre-wrap>11th     </span>       </td><td> 7                                                      </td><td>Married-civ-spouse                                      </td><td>Handlers-cleaners                                       </td><td><span style=white-space:pre-wrap>Husband      </span>   </td><td>Black                                                   </td><td><span style=white-space:pre-wrap>Male  </span>          </td><td><span style=white-space:pre-wrap>   0</span>            </td><td>0                                                       </td><td>40                                                      </td><td>United-States                                           </td><td>&lt;=50K                                                </td></tr>\n",
       "\t<tr><td>5                                                        </td><td>28                                                       </td><td><span style=white-space:pre-wrap>Private         </span> </td><td>338409                                                   </td><td>Bachelors                                                </td><td>13                                                       </td><td>Married-civ-spouse                                       </td><td><span style=white-space:pre-wrap>Prof-specialty   </span></td><td><span style=white-space:pre-wrap>Wife         </span>    </td><td>Black                                                    </td><td>Female                                                   </td><td><span style=white-space:pre-wrap>   0</span>             </td><td>0                                                        </td><td>40                                                       </td><td><span style=white-space:pre-wrap>Cuba         </span>    </td><td>&lt;=50K                                                 </td></tr>\n",
       "\t<tr><td>6                                                        </td><td>37                                                       </td><td><span style=white-space:pre-wrap>Private         </span> </td><td>284582                                                   </td><td><span style=white-space:pre-wrap>Masters  </span>        </td><td>14                                                       </td><td>Married-civ-spouse                                       </td><td><span style=white-space:pre-wrap>Exec-managerial  </span></td><td><span style=white-space:pre-wrap>Wife         </span>    </td><td>White                                                    </td><td>Female                                                   </td><td><span style=white-space:pre-wrap>   0</span>             </td><td>0                                                        </td><td>40                                                       </td><td>United-States                                            </td><td>&lt;=50K                                                 </td></tr>\n",
       "</tbody>\n",
       "</table>\n"
      ],
      "text/latex": [
       "\\begin{tabular}{r|llllllllllllllll}\n",
       " X & age & type\\_employer & fnlwgt & education & education\\_num & marital & occupation & relationship & race & sex & capital\\_gain & capital\\_loss & hr\\_per\\_week & country & income\\\\\n",
       "\\hline\n",
       "\t 1                  & 39                 & State-gov          &  77516             & Bachelors          & 13                 & Never-married      & Adm-clerical       & Not-in-family      & White              & Male               & 2174               & 0                  & 40                 & United-States      & <=50K             \\\\\n",
       "\t 2                  & 50                 & Self-emp-not-inc   &  83311             & Bachelors          & 13                 & Married-civ-spouse & Exec-managerial    & Husband            & White              & Male               &    0               & 0                  & 13                 & United-States      & <=50K             \\\\\n",
       "\t 3                  & 38                 & Private            & 215646             & HS-grad            &  9                 & Divorced           & Handlers-cleaners  & Not-in-family      & White              & Male               &    0               & 0                  & 40                 & United-States      & <=50K             \\\\\n",
       "\t 4                  & 53                 & Private            & 234721             & 11th               &  7                 & Married-civ-spouse & Handlers-cleaners  & Husband            & Black              & Male               &    0               & 0                  & 40                 & United-States      & <=50K             \\\\\n",
       "\t 5                  & 28                 & Private            & 338409             & Bachelors          & 13                 & Married-civ-spouse & Prof-specialty     & Wife               & Black              & Female             &    0               & 0                  & 40                 & Cuba               & <=50K             \\\\\n",
       "\t 6                  & 37                 & Private            & 284582             & Masters            & 14                 & Married-civ-spouse & Exec-managerial    & Wife               & White              & Female             &    0               & 0                  & 40                 & United-States      & <=50K             \\\\\n",
       "\\end{tabular}\n"
      ],
      "text/markdown": [
       "\n",
       "X | age | type_employer | fnlwgt | education | education_num | marital | occupation | relationship | race | sex | capital_gain | capital_loss | hr_per_week | country | income | \n",
       "|---|---|---|---|---|---|\n",
       "| 1                  | 39                 | State-gov          |  77516             | Bachelors          | 13                 | Never-married      | Adm-clerical       | Not-in-family      | White              | Male               | 2174               | 0                  | 40                 | United-States      | <=50K              | \n",
       "| 2                  | 50                 | Self-emp-not-inc   |  83311             | Bachelors          | 13                 | Married-civ-spouse | Exec-managerial    | Husband            | White              | Male               |    0               | 0                  | 13                 | United-States      | <=50K              | \n",
       "| 3                  | 38                 | Private            | 215646             | HS-grad            |  9                 | Divorced           | Handlers-cleaners  | Not-in-family      | White              | Male               |    0               | 0                  | 40                 | United-States      | <=50K              | \n",
       "| 4                  | 53                 | Private            | 234721             | 11th               |  7                 | Married-civ-spouse | Handlers-cleaners  | Husband            | Black              | Male               |    0               | 0                  | 40                 | United-States      | <=50K              | \n",
       "| 5                  | 28                 | Private            | 338409             | Bachelors          | 13                 | Married-civ-spouse | Prof-specialty     | Wife               | Black              | Female             |    0               | 0                  | 40                 | Cuba               | <=50K              | \n",
       "| 6                  | 37                 | Private            | 284582             | Masters            | 14                 | Married-civ-spouse | Exec-managerial    | Wife               | White              | Female             |    0               | 0                  | 40                 | United-States      | <=50K              | \n",
       "\n",
       "\n"
      ],
      "text/plain": [
       "  X age type_employer    fnlwgt education education_num marital           \n",
       "1 1 39  State-gov         77516 Bachelors 13            Never-married     \n",
       "2 2 50  Self-emp-not-inc  83311 Bachelors 13            Married-civ-spouse\n",
       "3 3 38  Private          215646 HS-grad    9            Divorced          \n",
       "4 4 53  Private          234721 11th       7            Married-civ-spouse\n",
       "5 5 28  Private          338409 Bachelors 13            Married-civ-spouse\n",
       "6 6 37  Private          284582 Masters   14            Married-civ-spouse\n",
       "  occupation        relationship  race  sex    capital_gain capital_loss\n",
       "1 Adm-clerical      Not-in-family White Male   2174         0           \n",
       "2 Exec-managerial   Husband       White Male      0         0           \n",
       "3 Handlers-cleaners Not-in-family White Male      0         0           \n",
       "4 Handlers-cleaners Husband       Black Male      0         0           \n",
       "5 Prof-specialty    Wife          Black Female    0         0           \n",
       "6 Exec-managerial   Wife          White Female    0         0           \n",
       "  hr_per_week country       income\n",
       "1 40          United-States <=50K \n",
       "2 13          United-States <=50K \n",
       "3 40          United-States <=50K \n",
       "4 40          United-States <=50K \n",
       "5 40          Cuba          <=50K \n",
       "6 40          United-States <=50K "
      ]
     },
     "metadata": {},
     "output_type": "display_data"
    }
   ],
   "source": [
    "adult <- read.csv('adult_sal.csv')\n",
    "head(adult)"
   ]
  },
  {
   "cell_type": "code",
   "execution_count": 2,
   "metadata": {
    "collapsed": false
   },
   "outputs": [
    {
     "data": {
      "text/html": [
       "FALSE"
      ],
      "text/latex": [
       "FALSE"
      ],
      "text/markdown": [
       "FALSE"
      ],
      "text/plain": [
       "[1] FALSE"
      ]
     },
     "metadata": {},
     "output_type": "display_data"
    }
   ],
   "source": [
    "any(is.na(adult))"
   ]
  },
  {
   "cell_type": "code",
   "execution_count": 3,
   "metadata": {
    "collapsed": false
   },
   "outputs": [
    {
     "name": "stderr",
     "output_type": "stream",
     "text": [
      "\n",
      "Attaching package: 'dplyr'\n",
      "\n",
      "The following objects are masked from 'package:stats':\n",
      "\n",
      "    filter, lag\n",
      "\n",
      "The following objects are masked from 'package:base':\n",
      "\n",
      "    intersect, setdiff, setequal, union\n",
      "\n"
     ]
    },
    {
     "data": {
      "text/html": [
       "<table>\n",
       "<thead><tr><th scope=col>age</th><th scope=col>type_employer</th><th scope=col>fnlwgt</th><th scope=col>education</th><th scope=col>education_num</th><th scope=col>marital</th><th scope=col>occupation</th><th scope=col>relationship</th><th scope=col>race</th><th scope=col>sex</th><th scope=col>capital_gain</th><th scope=col>capital_loss</th><th scope=col>hr_per_week</th><th scope=col>country</th><th scope=col>income</th></tr></thead>\n",
       "<tbody>\n",
       "\t<tr><td>39                                                        </td><td><span style=white-space:pre-wrap>State-gov       </span>  </td><td> 77516                                                    </td><td>Bachelors                                                 </td><td>13                                                        </td><td><span style=white-space:pre-wrap>Never-married     </span></td><td><span style=white-space:pre-wrap>Adm-clerical     </span> </td><td>Not-in-family                                             </td><td>White                                                     </td><td><span style=white-space:pre-wrap>Male  </span>            </td><td>2174                                                      </td><td>0                                                         </td><td>40                                                        </td><td>United-States                                             </td><td>&lt;=50K                                                  </td></tr>\n",
       "\t<tr><td>50                                                       </td><td>Self-emp-not-inc                                         </td><td> 83311                                                   </td><td>Bachelors                                                </td><td>13                                                       </td><td>Married-civ-spouse                                       </td><td><span style=white-space:pre-wrap>Exec-managerial  </span></td><td><span style=white-space:pre-wrap>Husband      </span>    </td><td>White                                                    </td><td><span style=white-space:pre-wrap>Male  </span>           </td><td><span style=white-space:pre-wrap>   0</span>             </td><td>0                                                        </td><td>13                                                       </td><td>United-States                                            </td><td>&lt;=50K                                                 </td></tr>\n",
       "\t<tr><td>38                                                        </td><td><span style=white-space:pre-wrap>Private         </span>  </td><td>215646                                                    </td><td><span style=white-space:pre-wrap>HS-grad  </span>         </td><td> 9                                                        </td><td><span style=white-space:pre-wrap>Divorced          </span></td><td>Handlers-cleaners                                         </td><td>Not-in-family                                             </td><td>White                                                     </td><td><span style=white-space:pre-wrap>Male  </span>            </td><td><span style=white-space:pre-wrap>   0</span>              </td><td>0                                                         </td><td>40                                                        </td><td>United-States                                             </td><td>&lt;=50K                                                  </td></tr>\n",
       "\t<tr><td>53                                                      </td><td><span style=white-space:pre-wrap>Private         </span></td><td>234721                                                  </td><td><span style=white-space:pre-wrap>11th     </span>       </td><td> 7                                                      </td><td>Married-civ-spouse                                      </td><td>Handlers-cleaners                                       </td><td><span style=white-space:pre-wrap>Husband      </span>   </td><td>Black                                                   </td><td><span style=white-space:pre-wrap>Male  </span>          </td><td><span style=white-space:pre-wrap>   0</span>            </td><td>0                                                       </td><td>40                                                      </td><td>United-States                                           </td><td>&lt;=50K                                                </td></tr>\n",
       "\t<tr><td>28                                                       </td><td><span style=white-space:pre-wrap>Private         </span> </td><td>338409                                                   </td><td>Bachelors                                                </td><td>13                                                       </td><td>Married-civ-spouse                                       </td><td><span style=white-space:pre-wrap>Prof-specialty   </span></td><td><span style=white-space:pre-wrap>Wife         </span>    </td><td>Black                                                    </td><td>Female                                                   </td><td><span style=white-space:pre-wrap>   0</span>             </td><td>0                                                        </td><td>40                                                       </td><td><span style=white-space:pre-wrap>Cuba         </span>    </td><td>&lt;=50K                                                 </td></tr>\n",
       "\t<tr><td>37                                                       </td><td><span style=white-space:pre-wrap>Private         </span> </td><td>284582                                                   </td><td><span style=white-space:pre-wrap>Masters  </span>        </td><td>14                                                       </td><td>Married-civ-spouse                                       </td><td><span style=white-space:pre-wrap>Exec-managerial  </span></td><td><span style=white-space:pre-wrap>Wife         </span>    </td><td>White                                                    </td><td>Female                                                   </td><td><span style=white-space:pre-wrap>   0</span>             </td><td>0                                                        </td><td>40                                                       </td><td>United-States                                            </td><td>&lt;=50K                                                 </td></tr>\n",
       "</tbody>\n",
       "</table>\n"
      ],
      "text/latex": [
       "\\begin{tabular}{r|lllllllllllllll}\n",
       " age & type\\_employer & fnlwgt & education & education\\_num & marital & occupation & relationship & race & sex & capital\\_gain & capital\\_loss & hr\\_per\\_week & country & income\\\\\n",
       "\\hline\n",
       "\t 39                 & State-gov          &  77516             & Bachelors          & 13                 & Never-married      & Adm-clerical       & Not-in-family      & White              & Male               & 2174               & 0                  & 40                 & United-States      & <=50K             \\\\\n",
       "\t 50                 & Self-emp-not-inc   &  83311             & Bachelors          & 13                 & Married-civ-spouse & Exec-managerial    & Husband            & White              & Male               &    0               & 0                  & 13                 & United-States      & <=50K             \\\\\n",
       "\t 38                 & Private            & 215646             & HS-grad            &  9                 & Divorced           & Handlers-cleaners  & Not-in-family      & White              & Male               &    0               & 0                  & 40                 & United-States      & <=50K             \\\\\n",
       "\t 53                 & Private            & 234721             & 11th               &  7                 & Married-civ-spouse & Handlers-cleaners  & Husband            & Black              & Male               &    0               & 0                  & 40                 & United-States      & <=50K             \\\\\n",
       "\t 28                 & Private            & 338409             & Bachelors          & 13                 & Married-civ-spouse & Prof-specialty     & Wife               & Black              & Female             &    0               & 0                  & 40                 & Cuba               & <=50K             \\\\\n",
       "\t 37                 & Private            & 284582             & Masters            & 14                 & Married-civ-spouse & Exec-managerial    & Wife               & White              & Female             &    0               & 0                  & 40                 & United-States      & <=50K             \\\\\n",
       "\\end{tabular}\n"
      ],
      "text/markdown": [
       "\n",
       "age | type_employer | fnlwgt | education | education_num | marital | occupation | relationship | race | sex | capital_gain | capital_loss | hr_per_week | country | income | \n",
       "|---|---|---|---|---|---|\n",
       "| 39                 | State-gov          |  77516             | Bachelors          | 13                 | Never-married      | Adm-clerical       | Not-in-family      | White              | Male               | 2174               | 0                  | 40                 | United-States      | <=50K              | \n",
       "| 50                 | Self-emp-not-inc   |  83311             | Bachelors          | 13                 | Married-civ-spouse | Exec-managerial    | Husband            | White              | Male               |    0               | 0                  | 13                 | United-States      | <=50K              | \n",
       "| 38                 | Private            | 215646             | HS-grad            |  9                 | Divorced           | Handlers-cleaners  | Not-in-family      | White              | Male               |    0               | 0                  | 40                 | United-States      | <=50K              | \n",
       "| 53                 | Private            | 234721             | 11th               |  7                 | Married-civ-spouse | Handlers-cleaners  | Husband            | Black              | Male               |    0               | 0                  | 40                 | United-States      | <=50K              | \n",
       "| 28                 | Private            | 338409             | Bachelors          | 13                 | Married-civ-spouse | Prof-specialty     | Wife               | Black              | Female             |    0               | 0                  | 40                 | Cuba               | <=50K              | \n",
       "| 37                 | Private            | 284582             | Masters            | 14                 | Married-civ-spouse | Exec-managerial    | Wife               | White              | Female             |    0               | 0                  | 40                 | United-States      | <=50K              | \n",
       "\n",
       "\n"
      ],
      "text/plain": [
       "  age type_employer    fnlwgt education education_num marital           \n",
       "1 39  State-gov         77516 Bachelors 13            Never-married     \n",
       "2 50  Self-emp-not-inc  83311 Bachelors 13            Married-civ-spouse\n",
       "3 38  Private          215646 HS-grad    9            Divorced          \n",
       "4 53  Private          234721 11th       7            Married-civ-spouse\n",
       "5 28  Private          338409 Bachelors 13            Married-civ-spouse\n",
       "6 37  Private          284582 Masters   14            Married-civ-spouse\n",
       "  occupation        relationship  race  sex    capital_gain capital_loss\n",
       "1 Adm-clerical      Not-in-family White Male   2174         0           \n",
       "2 Exec-managerial   Husband       White Male      0         0           \n",
       "3 Handlers-cleaners Not-in-family White Male      0         0           \n",
       "4 Handlers-cleaners Husband       Black Male      0         0           \n",
       "5 Prof-specialty    Wife          Black Female    0         0           \n",
       "6 Exec-managerial   Wife          White Female    0         0           \n",
       "  hr_per_week country       income\n",
       "1 40          United-States <=50K \n",
       "2 13          United-States <=50K \n",
       "3 40          United-States <=50K \n",
       "4 40          United-States <=50K \n",
       "5 40          Cuba          <=50K \n",
       "6 40          United-States <=50K "
      ]
     },
     "metadata": {},
     "output_type": "display_data"
    }
   ],
   "source": [
    "library(dplyr)\n",
    "adult <- select(adult, -X)\n",
    "head(adult)"
   ]
  },
  {
   "cell_type": "code",
   "execution_count": 4,
   "metadata": {
    "collapsed": false
   },
   "outputs": [
    {
     "name": "stdout",
     "output_type": "stream",
     "text": [
      "'data.frame':\t32561 obs. of  15 variables:\n",
      " $ age          : int  39 50 38 53 28 37 49 52 31 42 ...\n",
      " $ type_employer: Factor w/ 9 levels \"?\",\"Federal-gov\",..: 8 7 5 5 5 5 5 7 5 5 ...\n",
      " $ fnlwgt       : int  77516 83311 215646 234721 338409 284582 160187 209642 45781 159449 ...\n",
      " $ education    : Factor w/ 16 levels \"10th\",\"11th\",..: 10 10 12 2 10 13 7 12 13 10 ...\n",
      " $ education_num: int  13 13 9 7 13 14 5 9 14 13 ...\n",
      " $ marital      : Factor w/ 7 levels \"Divorced\",\"Married-AF-spouse\",..: 5 3 1 3 3 3 4 3 5 3 ...\n",
      " $ occupation   : Factor w/ 15 levels \"?\",\"Adm-clerical\",..: 2 5 7 7 11 5 9 5 11 5 ...\n",
      " $ relationship : Factor w/ 6 levels \"Husband\",\"Not-in-family\",..: 2 1 2 1 6 6 2 1 2 1 ...\n",
      " $ race         : Factor w/ 5 levels \"Amer-Indian-Eskimo\",..: 5 5 5 3 3 5 3 5 5 5 ...\n",
      " $ sex          : Factor w/ 2 levels \"Female\",\"Male\": 2 2 2 2 1 1 1 2 1 2 ...\n",
      " $ capital_gain : int  2174 0 0 0 0 0 0 0 14084 5178 ...\n",
      " $ capital_loss : int  0 0 0 0 0 0 0 0 0 0 ...\n",
      " $ hr_per_week  : int  40 13 40 40 40 40 16 45 50 40 ...\n",
      " $ country      : Factor w/ 42 levels \"?\",\"Cambodia\",..: 40 40 40 40 6 40 24 40 40 40 ...\n",
      " $ income       : Factor w/ 2 levels \"<=50K\",\">50K\": 1 1 1 1 1 1 1 2 2 2 ...\n"
     ]
    }
   ],
   "source": [
    "str(adult)"
   ]
  },
  {
   "cell_type": "code",
   "execution_count": 5,
   "metadata": {
    "collapsed": false
   },
   "outputs": [
    {
     "data": {
      "text/plain": [
       "      age                 type_employer       fnlwgt       \n",
       " Min.   :17.00   Private         :22696   Min.   :  12285  \n",
       " 1st Qu.:28.00   Self-emp-not-inc: 2541   1st Qu.: 117827  \n",
       " Median :37.00   Local-gov       : 2093   Median : 178356  \n",
       " Mean   :38.58   ?               : 1836   Mean   : 189778  \n",
       " 3rd Qu.:48.00   State-gov       : 1298   3rd Qu.: 237051  \n",
       " Max.   :90.00   Self-emp-inc    : 1116   Max.   :1484705  \n",
       "                 (Other)         :  981                    \n",
       "        education     education_num                    marital     \n",
       " HS-grad     :10501   Min.   : 1.00   Divorced             : 4443  \n",
       " Some-college: 7291   1st Qu.: 9.00   Married-AF-spouse    :   23  \n",
       " Bachelors   : 5355   Median :10.00   Married-civ-spouse   :14976  \n",
       " Masters     : 1723   Mean   :10.08   Married-spouse-absent:  418  \n",
       " Assoc-voc   : 1382   3rd Qu.:12.00   Never-married        :10683  \n",
       " 11th        : 1175   Max.   :16.00   Separated            : 1025  \n",
       " (Other)     : 5134                   Widowed              :  993  \n",
       "           occupation           relationship                   race      \n",
       " Prof-specialty :4140   Husband       :13193   Amer-Indian-Eskimo:  311  \n",
       " Craft-repair   :4099   Not-in-family : 8305   Asian-Pac-Islander: 1039  \n",
       " Exec-managerial:4066   Other-relative:  981   Black             : 3124  \n",
       " Adm-clerical   :3770   Own-child     : 5068   Other             :  271  \n",
       " Sales          :3650   Unmarried     : 3446   White             :27816  \n",
       " Other-service  :3295   Wife          : 1568                             \n",
       " (Other)        :9541                                                    \n",
       "     sex         capital_gain    capital_loss     hr_per_week   \n",
       " Female:10771   Min.   :    0   Min.   :   0.0   Min.   : 1.00  \n",
       " Male  :21790   1st Qu.:    0   1st Qu.:   0.0   1st Qu.:40.00  \n",
       "                Median :    0   Median :   0.0   Median :40.00  \n",
       "                Mean   : 1078   Mean   :  87.3   Mean   :40.44  \n",
       "                3rd Qu.:    0   3rd Qu.:   0.0   3rd Qu.:45.00  \n",
       "                Max.   :99999   Max.   :4356.0   Max.   :99.00  \n",
       "                                                                \n",
       "          country        income     \n",
       " United-States:29170   <=50K:24720  \n",
       " Mexico       :  643   >50K : 7841  \n",
       " ?            :  583                \n",
       " Philippines  :  198                \n",
       " Germany      :  137                \n",
       " Canada       :  121                \n",
       " (Other)      : 1709                "
      ]
     },
     "metadata": {},
     "output_type": "display_data"
    }
   ],
   "source": [
    "summary(adult)"
   ]
  },
  {
   "cell_type": "code",
   "execution_count": 6,
   "metadata": {
    "collapsed": false
   },
   "outputs": [
    {
     "data": {
      "text/plain": [
       "\n",
       "               ?      Federal-gov        Local-gov     Never-worked \n",
       "            1836              960             2093                7 \n",
       "         Private     Self-emp-inc Self-emp-not-inc        State-gov \n",
       "           22696             1116             2541             1298 \n",
       "     Without-pay \n",
       "              14 "
      ]
     },
     "metadata": {},
     "output_type": "display_data"
    }
   ],
   "source": [
    "table(adult$type_employer)"
   ]
  },
  {
   "cell_type": "code",
   "execution_count": 7,
   "metadata": {
    "collapsed": false
   },
   "outputs": [],
   "source": [
    "rewrite <- function(x, old, new) {\n",
    "    if (x %in% old) {\n",
    "        x <- new\n",
    "    }\n",
    "    return(x)\n",
    "}"
   ]
  },
  {
   "cell_type": "code",
   "execution_count": 8,
   "metadata": {
    "collapsed": false
   },
   "outputs": [],
   "source": [
    "adult$type_employer <- as.character(adult$type_employer)"
   ]
  },
  {
   "cell_type": "code",
   "execution_count": 9,
   "metadata": {
    "collapsed": false
   },
   "outputs": [],
   "source": [
    "adult$type_employer <- sapply(adult$type_employer, rewrite, old = c('Never-worked', 'Without-pay'), new = 'Unemployed')"
   ]
  },
  {
   "cell_type": "code",
   "execution_count": 10,
   "metadata": {
    "collapsed": false
   },
   "outputs": [
    {
     "data": {
      "text/plain": [
       "\n",
       "               ?      Federal-gov        Local-gov          Private \n",
       "            1836              960             2093            22696 \n",
       "    Self-emp-inc Self-emp-not-inc        State-gov       Unemployed \n",
       "            1116             2541             1298               21 "
      ]
     },
     "metadata": {},
     "output_type": "display_data"
    }
   ],
   "source": [
    "table(adult$type_employer)"
   ]
  },
  {
   "cell_type": "code",
   "execution_count": 11,
   "metadata": {
    "collapsed": false
   },
   "outputs": [
    {
     "data": {
      "text/plain": [
       "\n",
       "          ? Federal-gov     Private    self-emp      SL-gov  Unemployed \n",
       "       1836         960       22696        3657        3391          21 "
      ]
     },
     "metadata": {},
     "output_type": "display_data"
    }
   ],
   "source": [
    "adult$type_employer <- sapply(adult$type_employer, rewrite, old = c('Local-gov', 'State-gov'), new = 'SL-gov')\n",
    "adult$type_employer <- sapply(adult$type_employer, rewrite, old = c('Self-emp-inc', 'Self-emp-not-inc'), new = 'self-emp')\n",
    "table(adult$type_employer)"
   ]
  },
  {
   "cell_type": "code",
   "execution_count": 12,
   "metadata": {
    "collapsed": false
   },
   "outputs": [
    {
     "data": {
      "text/plain": [
       "\n",
       "             Divorced     Married-AF-spouse    Married-civ-spouse \n",
       "                 4443                    23                 14976 \n",
       "Married-spouse-absent         Never-married             Separated \n",
       "                  418                 10683                  1025 \n",
       "              Widowed \n",
       "                  993 "
      ]
     },
     "metadata": {},
     "output_type": "display_data"
    }
   ],
   "source": [
    "table(adult$marital)"
   ]
  },
  {
   "cell_type": "code",
   "execution_count": 13,
   "metadata": {
    "collapsed": false
   },
   "outputs": [
    {
     "data": {
      "text/plain": [
       "\n",
       "      Married Never-married   Not-Married \n",
       "        15417         10683          6461 "
      ]
     },
     "metadata": {},
     "output_type": "display_data"
    }
   ],
   "source": [
    "adult$marital <- as.character(adult$marital)\n",
    "adult$marital <- sapply(adult$marital, rewrite, old = c('Married-AF-spouse', 'Married-civ-spouse', 'Married-spouse-absent'), new = 'Married')\n",
    "adult$marital <- sapply(adult$marital, rewrite, old = c('Divorced', 'Widowed', 'Separated'), new = 'Not-Married')\n",
    "table(adult$marital)"
   ]
  },
  {
   "cell_type": "code",
   "execution_count": 14,
   "metadata": {
    "collapsed": false
   },
   "outputs": [
    {
     "data": {
      "text/plain": [
       "\n",
       "                         ?                   Cambodia \n",
       "                       583                         19 \n",
       "                    Canada                      China \n",
       "                       121                         75 \n",
       "                  Columbia                       Cuba \n",
       "                        59                         95 \n",
       "        Dominican-Republic                    Ecuador \n",
       "                        70                         28 \n",
       "               El-Salvador                    England \n",
       "                       106                         90 \n",
       "                    France                    Germany \n",
       "                        29                        137 \n",
       "                    Greece                  Guatemala \n",
       "                        29                         64 \n",
       "                     Haiti         Holand-Netherlands \n",
       "                        44                          1 \n",
       "                  Honduras                       Hong \n",
       "                        13                         20 \n",
       "                   Hungary                      India \n",
       "                        13                        100 \n",
       "                      Iran                    Ireland \n",
       "                        43                         24 \n",
       "                     Italy                    Jamaica \n",
       "                        73                         81 \n",
       "                     Japan                       Laos \n",
       "                        62                         18 \n",
       "                    Mexico                  Nicaragua \n",
       "                       643                         34 \n",
       "Outlying-US(Guam-USVI-etc)                       Peru \n",
       "                        14                         31 \n",
       "               Philippines                     Poland \n",
       "                       198                         60 \n",
       "                  Portugal                Puerto-Rico \n",
       "                        37                        114 \n",
       "                  Scotland                      South \n",
       "                        12                         80 \n",
       "                    Taiwan                   Thailand \n",
       "                        51                         18 \n",
       "           Trinadad&Tobago              United-States \n",
       "                        19                      29170 \n",
       "                   Vietnam                 Yugoslavia \n",
       "                        67                         16 "
      ]
     },
     "metadata": {},
     "output_type": "display_data"
    }
   ],
   "source": [
    "table(adult$country)"
   ]
  },
  {
   "cell_type": "code",
   "execution_count": 15,
   "metadata": {
    "collapsed": false
   },
   "outputs": [
    {
     "data": {
      "text/html": [
       "<ol class=list-inline>\n",
       "\t<li>42</li>\n",
       "\t<li>1</li>\n",
       "</ol>\n"
      ],
      "text/latex": [
       "\\begin{enumerate*}\n",
       "\\item 42\n",
       "\\item 1\n",
       "\\end{enumerate*}\n"
      ],
      "text/markdown": [
       "1. 42\n",
       "2. 1\n",
       "\n",
       "\n"
      ],
      "text/plain": [
       "[1] 42  1"
      ]
     },
     "metadata": {},
     "output_type": "display_data"
    }
   ],
   "source": [
    "dim(distinct(adult, country))"
   ]
  },
  {
   "cell_type": "code",
   "execution_count": 16,
   "metadata": {
    "collapsed": true
   },
   "outputs": [],
   "source": [
    "asia <- c('Iran', 'Japan', 'Philippines', 'Taiwan', 'Vietnam', 'Cambodia', 'China', 'Hong', 'India', 'Laos', 'Thailand', 'South')\n",
    "north_america <- c('Canada', 'Outlying-US(Guam-USVI-etc)', 'United-States')\n",
    "latin_south_america <- c('Columbia', 'Dominican-Republic', 'El-Salvador', 'Haiti', 'Honduras', 'Mexico', 'Trinadad&Tobago', 'Cuba', 'Ecuador', 'Guatemala', 'Jamaica', 'Nicaragua', 'Peru', 'Puerto-Rico')\n",
    "europe <- c('France', 'Greece', 'Hungary', 'Italy', 'Portugal', 'Scotland', 'England', 'Germany', 'Holand-Netherlands', 'Ireland', 'Poland', 'Yugoslavia')\n",
    "other <- c('?')\n",
    "\n",
    "adult$country <- as.character(adult$country)\n",
    "adult$country <- sapply(adult$country, rewrite, old = asia, new = 'Asia')\n",
    "adult$country <- sapply(adult$country, rewrite, old = north_america, new = 'North_America')\n",
    "adult$country <- sapply(adult$country, rewrite, old = latin_south_america, new = 'Latin_South_America')\n",
    "adult$country <- sapply(adult$country, rewrite, old = europe, new = 'Europe')\n",
    "adult$country <- sapply(adult$country, rewrite, old = other, new = 'Other')"
   ]
  },
  {
   "cell_type": "code",
   "execution_count": 17,
   "metadata": {
    "collapsed": false
   },
   "outputs": [
    {
     "data": {
      "text/plain": [
       "\n",
       "               Asia              Europe Latin_South_America       North_America \n",
       "                751                 521                1401               29305 \n",
       "              Other \n",
       "                583 "
      ]
     },
     "metadata": {},
     "output_type": "display_data"
    }
   ],
   "source": [
    "table(adult$country)"
   ]
  },
  {
   "cell_type": "code",
   "execution_count": 18,
   "metadata": {
    "collapsed": false
   },
   "outputs": [
    {
     "name": "stdout",
     "output_type": "stream",
     "text": [
      "'data.frame':\t32561 obs. of  15 variables:\n",
      " $ age          : int  39 50 38 53 28 37 49 52 31 42 ...\n",
      " $ type_employer: Factor w/ 6 levels \"?\",\"Federal-gov\",..: 5 4 3 3 3 3 3 4 3 3 ...\n",
      " $ fnlwgt       : int  77516 83311 215646 234721 338409 284582 160187 209642 45781 159449 ...\n",
      " $ education    : Factor w/ 16 levels \"10th\",\"11th\",..: 10 10 12 2 10 13 7 12 13 10 ...\n",
      " $ education_num: int  13 13 9 7 13 14 5 9 14 13 ...\n",
      " $ marital      : Factor w/ 3 levels \"Married\",\"Never-married\",..: 2 1 3 1 1 1 1 1 2 1 ...\n",
      " $ occupation   : Factor w/ 15 levels \"?\",\"Adm-clerical\",..: 2 5 7 7 11 5 9 5 11 5 ...\n",
      " $ relationship : Factor w/ 6 levels \"Husband\",\"Not-in-family\",..: 2 1 2 1 6 6 2 1 2 1 ...\n",
      " $ race         : Factor w/ 5 levels \"Amer-Indian-Eskimo\",..: 5 5 5 3 3 5 3 5 5 5 ...\n",
      " $ sex          : Factor w/ 2 levels \"Female\",\"Male\": 2 2 2 2 1 1 1 2 1 2 ...\n",
      " $ capital_gain : int  2174 0 0 0 0 0 0 0 14084 5178 ...\n",
      " $ capital_loss : int  0 0 0 0 0 0 0 0 0 0 ...\n",
      " $ hr_per_week  : int  40 13 40 40 40 40 16 45 50 40 ...\n",
      " $ country      : Factor w/ 5 levels \"Asia\",\"Europe\",..: 4 4 4 4 3 4 3 4 4 4 ...\n",
      " $ income       : Factor w/ 2 levels \"<=50K\",\">50K\": 1 1 1 1 1 1 1 2 2 2 ...\n"
     ]
    }
   ],
   "source": [
    "adult$country <- factor(adult$country)\n",
    "adult$marital <- factor(adult$marital)\n",
    "adult$type_employer <- factor(adult$type_employer)\n",
    "str(adult)"
   ]
  },
  {
   "cell_type": "code",
   "execution_count": 19,
   "metadata": {
    "collapsed": false
   },
   "outputs": [
    {
     "name": "stderr",
     "output_type": "stream",
     "text": [
      "Warning message:\n",
      "\"package 'Amelia' was built under R version 3.3.3\"Loading required package: Rcpp\n",
      "## \n",
      "## Amelia II: Multiple Imputation\n",
      "## (Version 1.7.4, built: 2015-12-05)\n",
      "## Copyright (C) 2005-2017 James Honaker, Gary King and Matthew Blackwell\n",
      "## Refer to http://gking.harvard.edu/amelia/ for more information\n",
      "## \n"
     ]
    }
   ],
   "source": [
    "library(Amelia)"
   ]
  },
  {
   "cell_type": "code",
   "execution_count": 20,
   "metadata": {
    "collapsed": false
   },
   "outputs": [],
   "source": [
    "write.csv(adult, file = 'temp.csv', row.names=FALSE)"
   ]
  },
  {
   "cell_type": "code",
   "execution_count": 21,
   "metadata": {
    "collapsed": true
   },
   "outputs": [],
   "source": [
    "adult2 <- read.csv('temp.csv', na.strings=c('?', ' ?'))"
   ]
  },
  {
   "cell_type": "code",
   "execution_count": 22,
   "metadata": {
    "collapsed": false
   },
   "outputs": [
    {
     "data": {
      "text/html": [
       "TRUE"
      ],
      "text/latex": [
       "TRUE"
      ],
      "text/markdown": [
       "TRUE"
      ],
      "text/plain": [
       "[1] TRUE"
      ]
     },
     "metadata": {},
     "output_type": "display_data"
    }
   ],
   "source": [
    "any(is.na(adult2))"
   ]
  },
  {
   "cell_type": "code",
   "execution_count": 23,
   "metadata": {
    "collapsed": false
   },
   "outputs": [
    {
     "data": {
      "image/png": "[encoded data removed]",
      "text/plain": [
       "Plot with title \"Missingness Map\""
      ]
     },
     "metadata": {},
     "output_type": "display_data"
    }
   ],
   "source": [
    "missmap(adult2, col = c('yellow', 'black'), y.at = c(1), y.labels = c(''))"
   ]
  },
  {
   "cell_type": "code",
   "execution_count": 24,
   "metadata": {
    "collapsed": false
   },
   "outputs": [
    {
     "data": {
      "text/html": [
       "<ol class=list-inline>\n",
       "\t<li>1836</li>\n",
       "\t<li>15</li>\n",
       "</ol>\n"
      ],
      "text/latex": [
       "\\begin{enumerate*}\n",
       "\\item 1836\n",
       "\\item 15\n",
       "\\end{enumerate*}\n"
      ],
      "text/markdown": [
       "1. 1836\n",
       "2. 15\n",
       "\n",
       "\n"
      ],
      "text/plain": [
       "[1] 1836   15"
      ]
     },
     "metadata": {},
     "output_type": "display_data"
    }
   ],
   "source": [
    "dim(filter(adult2, is.na(type_employer)))"
   ]
  },
  {
   "cell_type": "code",
   "execution_count": 25,
   "metadata": {
    "collapsed": false
   },
   "outputs": [
    {
     "data": {
      "text/html": [
       "<ol class=list-inline>\n",
       "\t<li>1843</li>\n",
       "\t<li>15</li>\n",
       "</ol>\n"
      ],
      "text/latex": [
       "\\begin{enumerate*}\n",
       "\\item 1843\n",
       "\\item 15\n",
       "\\end{enumerate*}\n"
      ],
      "text/markdown": [
       "1. 1843\n",
       "2. 15\n",
       "\n",
       "\n"
      ],
      "text/plain": [
       "[1] 1843   15"
      ]
     },
     "metadata": {},
     "output_type": "display_data"
    }
   ],
   "source": [
    "dim(filter(adult2, is.na(occupation)))"
   ]
  },
  {
   "cell_type": "code",
   "execution_count": 26,
   "metadata": {
    "collapsed": false
   },
   "outputs": [
    {
     "data": {
      "text/html": [
       "<ol class=list-inline>\n",
       "\t<li>32561</li>\n",
       "\t<li>15</li>\n",
       "</ol>\n"
      ],
      "text/latex": [
       "\\begin{enumerate*}\n",
       "\\item 32561\n",
       "\\item 15\n",
       "\\end{enumerate*}\n"
      ],
      "text/markdown": [
       "1. 32561\n",
       "2. 15\n",
       "\n",
       "\n"
      ],
      "text/plain": [
       "[1] 32561    15"
      ]
     },
     "metadata": {},
     "output_type": "display_data"
    }
   ],
   "source": [
    "dim(adult2)"
   ]
  },
  {
   "cell_type": "code",
   "execution_count": 27,
   "metadata": {
    "collapsed": false
   },
   "outputs": [
    {
     "data": {
      "text/html": [
       "<ol class=list-inline>\n",
       "\t<li>30718</li>\n",
       "\t<li>15</li>\n",
       "</ol>\n"
      ],
      "text/latex": [
       "\\begin{enumerate*}\n",
       "\\item 30718\n",
       "\\item 15\n",
       "\\end{enumerate*}\n"
      ],
      "text/markdown": [
       "1. 30718\n",
       "2. 15\n",
       "\n",
       "\n"
      ],
      "text/plain": [
       "[1] 30718    15"
      ]
     },
     "metadata": {},
     "output_type": "display_data"
    }
   ],
   "source": [
    "adult3 <- na.omit(adult2)\n",
    "dim(adult3)"
   ]
  },
  {
   "cell_type": "code",
   "execution_count": 28,
   "metadata": {
    "collapsed": false
   },
   "outputs": [
    {
     "data": {
      "image/png": "[encoded data removed]",
      "text/plain": [
       "Plot with title \"Missingness Map\""
      ]
     },
     "metadata": {},
     "output_type": "display_data"
    }
   ],
   "source": [
    "missmap(adult3, col = c('yellow', 'black'), y.at = c(1), y.labels = c(''))"
   ]
  },
  {
   "cell_type": "code",
   "execution_count": 29,
   "metadata": {
    "collapsed": false
   },
   "outputs": [
    {
     "name": "stdout",
     "output_type": "stream",
     "text": [
      "'data.frame':\t30718 obs. of  15 variables:\n",
      " $ age          : int  39 50 38 53 28 37 49 52 31 42 ...\n",
      " $ type_employer: Factor w/ 5 levels \"Federal-gov\",..: 4 3 2 2 2 2 2 3 2 2 ...\n",
      " $ fnlwgt       : int  77516 83311 215646 234721 338409 284582 160187 209642 45781 159449 ...\n",
      " $ education    : Factor w/ 16 levels \"10th\",\"11th\",..: 10 10 12 2 10 13 7 12 13 10 ...\n",
      " $ education_num: int  13 13 9 7 13 14 5 9 14 13 ...\n",
      " $ marital      : Factor w/ 3 levels \"Married\",\"Never-married\",..: 2 1 3 1 1 1 1 1 2 1 ...\n",
      " $ occupation   : Factor w/ 14 levels \"Adm-clerical\",..: 1 4 6 6 10 4 8 4 10 4 ...\n",
      " $ relationship : Factor w/ 6 levels \"Husband\",\"Not-in-family\",..: 2 1 2 1 6 6 2 1 2 1 ...\n",
      " $ race         : Factor w/ 5 levels \"Amer-Indian-Eskimo\",..: 5 5 5 3 3 5 3 5 5 5 ...\n",
      " $ sex          : Factor w/ 2 levels \"Female\",\"Male\": 2 2 2 2 1 1 1 2 1 2 ...\n",
      " $ capital_gain : int  2174 0 0 0 0 0 0 0 14084 5178 ...\n",
      " $ capital_loss : int  0 0 0 0 0 0 0 0 0 0 ...\n",
      " $ hr_per_week  : int  40 13 40 40 40 40 16 45 50 40 ...\n",
      " $ country      : Factor w/ 5 levels \"Asia\",\"Europe\",..: 4 4 4 4 3 4 3 4 4 4 ...\n",
      " $ income       : Factor w/ 2 levels \"<=50K\",\">50K\": 1 1 1 1 1 1 1 2 2 2 ...\n",
      " - attr(*, \"na.action\")=Class 'omit'  Named int [1:1843] 28 62 70 78 107 129 150 155 161 188 ...\n",
      "  .. ..- attr(*, \"names\")= chr [1:1843] \"28\" \"62\" \"70\" \"78\" ...\n"
     ]
    }
   ],
   "source": [
    "str(adult3)"
   ]
  },
  {
   "cell_type": "code",
   "execution_count": 30,
   "metadata": {
    "collapsed": true
   },
   "outputs": [],
   "source": [
    "library(ggplot2)"
   ]
  },
  {
   "cell_type": "code",
   "execution_count": 31,
   "metadata": {
    "collapsed": false
   },
   "outputs": [
    {
     "data": {},
     "metadata": {},
     "output_type": "display_data"
    },
    {
     "data": {
      "image/png": "[encoded data removed]",
      "text/plain": [
       "plot without title"
      ]
     },
     "metadata": {},
     "output_type": "display_data"
    }
   ],
   "source": [
    "ggplot(adult3, aes(age)) + geom_histogram(aes(fill=income), binwidth = 1, color='black') + theme_bw()"
   ]
  },
  {
   "cell_type": "code",
   "execution_count": 32,
   "metadata": {
    "collapsed": false
   },
   "outputs": [
    {
     "data": {},
     "metadata": {},
     "output_type": "display_data"
    },
    {
     "data": {
      "image/png": "[encoded data removed]",
      "text/plain": [
       "plot without title"
      ]
     },
     "metadata": {},
     "output_type": "display_data"
    }
   ],
   "source": [
    "ggplot(adult3, aes(hr_per_week)) + geom_histogram(aes(fill=income), binwidth = 1) + theme_bw()"
   ]
  },
  {
   "cell_type": "code",
   "execution_count": 33,
   "metadata": {
    "collapsed": false
   },
   "outputs": [],
   "source": [
    "adult3 <- rename(adult3, region = country)"
   ]
  },
  {
   "cell_type": "code",
   "execution_count": 34,
   "metadata": {
    "collapsed": false
   },
   "outputs": [
    {
     "data": {
      "text/html": [
       "<table>\n",
       "<thead><tr><th scope=col>age</th><th scope=col>type_employer</th><th scope=col>fnlwgt</th><th scope=col>education</th><th scope=col>education_num</th><th scope=col>marital</th><th scope=col>occupation</th><th scope=col>relationship</th><th scope=col>race</th><th scope=col>sex</th><th scope=col>capital_gain</th><th scope=col>capital_loss</th><th scope=col>hr_per_week</th><th scope=col>region</th><th scope=col>income</th></tr></thead>\n",
       "<tbody>\n",
       "\t<tr><td>39                                                         </td><td><span style=white-space:pre-wrap>SL-gov  </span>           </td><td> 77516                                                     </td><td>Bachelors                                                  </td><td>13                                                         </td><td>Never-married                                              </td><td><span style=white-space:pre-wrap>Adm-clerical     </span>  </td><td>Not-in-family                                              </td><td>White                                                      </td><td><span style=white-space:pre-wrap>Male  </span>             </td><td>2174                                                       </td><td>0                                                          </td><td>40                                                         </td><td><span style=white-space:pre-wrap>North_America      </span></td><td>&lt;=50K                                                   </td></tr>\n",
       "\t<tr><td>50                                                         </td><td>self-emp                                                   </td><td> 83311                                                     </td><td>Bachelors                                                  </td><td>13                                                         </td><td><span style=white-space:pre-wrap>Married      </span>      </td><td><span style=white-space:pre-wrap>Exec-managerial  </span>  </td><td><span style=white-space:pre-wrap>Husband      </span>      </td><td>White                                                      </td><td><span style=white-space:pre-wrap>Male  </span>             </td><td><span style=white-space:pre-wrap>   0</span>               </td><td>0                                                          </td><td>13                                                         </td><td><span style=white-space:pre-wrap>North_America      </span></td><td>&lt;=50K                                                   </td></tr>\n",
       "\t<tr><td>38                                                         </td><td>Private                                                    </td><td>215646                                                     </td><td><span style=white-space:pre-wrap>HS-grad  </span>          </td><td> 9                                                         </td><td><span style=white-space:pre-wrap>Not-Married  </span>      </td><td>Handlers-cleaners                                          </td><td>Not-in-family                                              </td><td>White                                                      </td><td><span style=white-space:pre-wrap>Male  </span>             </td><td><span style=white-space:pre-wrap>   0</span>               </td><td>0                                                          </td><td>40                                                         </td><td><span style=white-space:pre-wrap>North_America      </span></td><td>&lt;=50K                                                   </td></tr>\n",
       "\t<tr><td>53                                                         </td><td>Private                                                    </td><td>234721                                                     </td><td><span style=white-space:pre-wrap>11th     </span>          </td><td> 7                                                         </td><td><span style=white-space:pre-wrap>Married      </span>      </td><td>Handlers-cleaners                                          </td><td><span style=white-space:pre-wrap>Husband      </span>      </td><td>Black                                                      </td><td><span style=white-space:pre-wrap>Male  </span>             </td><td><span style=white-space:pre-wrap>   0</span>               </td><td>0                                                          </td><td>40                                                         </td><td><span style=white-space:pre-wrap>North_America      </span></td><td>&lt;=50K                                                   </td></tr>\n",
       "\t<tr><td>28                                                       </td><td>Private                                                  </td><td>338409                                                   </td><td>Bachelors                                                </td><td>13                                                       </td><td><span style=white-space:pre-wrap>Married      </span>    </td><td><span style=white-space:pre-wrap>Prof-specialty   </span></td><td><span style=white-space:pre-wrap>Wife         </span>    </td><td>Black                                                    </td><td>Female                                                   </td><td><span style=white-space:pre-wrap>   0</span>             </td><td>0                                                        </td><td>40                                                       </td><td>Latin_South_America                                      </td><td>&lt;=50K                                                 </td></tr>\n",
       "\t<tr><td>37                                                         </td><td>Private                                                    </td><td>284582                                                     </td><td><span style=white-space:pre-wrap>Masters  </span>          </td><td>14                                                         </td><td><span style=white-space:pre-wrap>Married      </span>      </td><td><span style=white-space:pre-wrap>Exec-managerial  </span>  </td><td><span style=white-space:pre-wrap>Wife         </span>      </td><td>White                                                      </td><td>Female                                                     </td><td><span style=white-space:pre-wrap>   0</span>               </td><td>0                                                          </td><td>40                                                         </td><td><span style=white-space:pre-wrap>North_America      </span></td><td>&lt;=50K                                                   </td></tr>\n",
       "</tbody>\n",
       "</table>\n"
      ],
      "text/latex": [
       "\\begin{tabular}{r|lllllllllllllll}\n",
       " age & type\\_employer & fnlwgt & education & education\\_num & marital & occupation & relationship & race & sex & capital\\_gain & capital\\_loss & hr\\_per\\_week & region & income\\\\\n",
       "\\hline\n",
       "\t 39                    & SL-gov                &  77516                & Bachelors             & 13                    & Never-married         & Adm-clerical          & Not-in-family         & White                 & Male                  & 2174                  & 0                     & 40                    & North\\_America       & <=50K                \\\\\n",
       "\t 50                    & self-emp              &  83311                & Bachelors             & 13                    & Married               & Exec-managerial       & Husband               & White                 & Male                  &    0                  & 0                     & 13                    & North\\_America       & <=50K                \\\\\n",
       "\t 38                    & Private               & 215646                & HS-grad               &  9                    & Not-Married           & Handlers-cleaners     & Not-in-family         & White                 & Male                  &    0                  & 0                     & 40                    & North\\_America       & <=50K                \\\\\n",
       "\t 53                    & Private               & 234721                & 11th                  &  7                    & Married               & Handlers-cleaners     & Husband               & Black                 & Male                  &    0                  & 0                     & 40                    & North\\_America       & <=50K                \\\\\n",
       "\t 28                      & Private                 & 338409                  & Bachelors               & 13                      & Married                 & Prof-specialty          & Wife                    & Black                   & Female                  &    0                    & 0                       & 40                      & Latin\\_South\\_America & <=50K                  \\\\\n",
       "\t 37                    & Private               & 284582                & Masters               & 14                    & Married               & Exec-managerial       & Wife                  & White                 & Female                &    0                  & 0                     & 40                    & North\\_America       & <=50K                \\\\\n",
       "\\end{tabular}\n"
      ],
      "text/markdown": [
       "\n",
       "age | type_employer | fnlwgt | education | education_num | marital | occupation | relationship | race | sex | capital_gain | capital_loss | hr_per_week | region | income | \n",
       "|---|---|---|---|---|---|\n",
       "| 39                  | SL-gov              |  77516              | Bachelors           | 13                  | Never-married       | Adm-clerical        | Not-in-family       | White               | Male                | 2174                | 0                   | 40                  | North_America       | <=50K               | \n",
       "| 50                  | self-emp            |  83311              | Bachelors           | 13                  | Married             | Exec-managerial     | Husband             | White               | Male                |    0                | 0                   | 13                  | North_America       | <=50K               | \n",
       "| 38                  | Private             | 215646              | HS-grad             |  9                  | Not-Married         | Handlers-cleaners   | Not-in-family       | White               | Male                |    0                | 0                   | 40                  | North_America       | <=50K               | \n",
       "| 53                  | Private             | 234721              | 11th                |  7                  | Married             | Handlers-cleaners   | Husband             | Black               | Male                |    0                | 0                   | 40                  | North_America       | <=50K               | \n",
       "| 28                  | Private             | 338409              | Bachelors           | 13                  | Married             | Prof-specialty      | Wife                | Black               | Female              |    0                | 0                   | 40                  | Latin_South_America | <=50K               | \n",
       "| 37                  | Private             | 284582              | Masters             | 14                  | Married             | Exec-managerial     | Wife                | White               | Female              |    0                | 0                   | 40                  | North_America       | <=50K               | \n",
       "\n",
       "\n"
      ],
      "text/plain": [
       "  age type_employer fnlwgt education education_num marital      \n",
       "1 39  SL-gov         77516 Bachelors 13            Never-married\n",
       "2 50  self-emp       83311 Bachelors 13            Married      \n",
       "3 38  Private       215646 HS-grad    9            Not-Married  \n",
       "4 53  Private       234721 11th       7            Married      \n",
       "5 28  Private       338409 Bachelors 13            Married      \n",
       "6 37  Private       284582 Masters   14            Married      \n",
       "  occupation        relationship  race  sex    capital_gain capital_loss\n",
       "1 Adm-clerical      Not-in-family White Male   2174         0           \n",
       "2 Exec-managerial   Husband       White Male      0         0           \n",
       "3 Handlers-cleaners Not-in-family White Male      0         0           \n",
       "4 Handlers-cleaners Husband       Black Male      0         0           \n",
       "5 Prof-specialty    Wife          Black Female    0         0           \n",
       "6 Exec-managerial   Wife          White Female    0         0           \n",
       "  hr_per_week region              income\n",
       "1 40          North_America       <=50K \n",
       "2 13          North_America       <=50K \n",
       "3 40          North_America       <=50K \n",
       "4 40          North_America       <=50K \n",
       "5 40          Latin_South_America <=50K \n",
       "6 40          North_America       <=50K "
      ]
     },
     "metadata": {},
     "output_type": "display_data"
    }
   ],
   "source": [
    "head(adult3)"
   ]
  },
  {
   "cell_type": "code",
   "execution_count": 35,
   "metadata": {
    "collapsed": false
   },
   "outputs": [
    {
     "data": {},
     "metadata": {},
     "output_type": "display_data"
    },
    {
     "data": {
      "image/png": "[encoded data removed]",
      "text/plain": [
       "plot without title"
      ]
     },
     "metadata": {},
     "output_type": "display_data"
    }
   ],
   "source": [
    "pl <- ggplot(adult3, aes(reorder(region, region, function(x)-length(x)))) + geom_bar(aes(fill=income)) + theme_bw()\n",
    "pl + xlab('region') + theme(axis.text.x = element_text(angle = 90, hjust = 1))"
   ]
  },
  {
   "cell_type": "code",
   "execution_count": 36,
   "metadata": {
    "collapsed": true
   },
   "outputs": [],
   "source": [
    "library(caTools)"
   ]
  },
  {
   "cell_type": "code",
   "execution_count": 37,
   "metadata": {
    "collapsed": true
   },
   "outputs": [],
   "source": [
    "split <- sample.split(adult3$income, SplitRatio = 0.7)"
   ]
  },
  {
   "cell_type": "code",
   "execution_count": 38,
   "metadata": {
    "collapsed": true
   },
   "outputs": [],
   "source": [
    "train <- subset(adult3, split==T)\n",
    "test <- subset(adult3, split==F)"
   ]
  },
  {
   "cell_type": "code",
   "execution_count": 39,
   "metadata": {
    "collapsed": false
   },
   "outputs": [],
   "source": [
    "help(glm)"
   ]
  },
  {
   "cell_type": "code",
   "execution_count": 40,
   "metadata": {
    "collapsed": false
   },
   "outputs": [
    {
     "name": "stderr",
     "output_type": "stream",
     "text": [
      "Warning message:\n",
      "\"glm.fit: fitted probabilities numerically 0 or 1 occurred\""
     ]
    }
   ],
   "source": [
    "model <- glm(income ~ ., family = binomial(link = 'logit'), train)"
   ]
  },
  {
   "cell_type": "code",
   "execution_count": 41,
   "metadata": {
    "collapsed": false
   },
   "outputs": [
    {
     "data": {
      "text/plain": [
       "\n",
       "Call:\n",
       "glm(formula = income ~ ., family = binomial(link = \"logit\"), \n",
       "    data = train)\n",
       "\n",
       "Deviance Residuals: \n",
       "    Min       1Q   Median       3Q      Max  \n",
       "-5.0330  -0.5163  -0.1934  -0.0001   3.6265  \n",
       "\n",
       "Coefficients: (1 not defined because of singularities)\n",
       "                              Estimate Std. Error z value Pr(>|z|)    \n",
       "(Intercept)                 -5.785e+00  4.383e-01 -13.200  < 2e-16 ***\n",
       "age                          2.797e-02  1.988e-03  14.068  < 2e-16 ***\n",
       "type_employerPrivate        -4.593e-01  1.102e-01  -4.169 3.06e-05 ***\n",
       "type_employerself-emp       -7.452e-01  1.229e-01  -6.065 1.32e-09 ***\n",
       "type_employerSL-gov         -7.391e-01  1.243e-01  -5.945 2.76e-09 ***\n",
       "type_employerUnemployed     -1.391e+01  3.935e+02  -0.035 0.971809    \n",
       "fnlwgt                       7.137e-07  2.060e-07   3.464 0.000533 ***\n",
       "education11th                4.302e-02  2.418e-01   0.178 0.858757    \n",
       "education12th                3.902e-01  3.043e-01   1.282 0.199696    \n",
       "education1st-4th            -6.572e-01  6.035e-01  -1.089 0.276190    \n",
       "education5th-6th            -3.580e-01  4.095e-01  -0.874 0.382080    \n",
       "education7th-8th            -6.657e-01  2.822e-01  -2.359 0.018305 *  \n",
       "education9th                -2.067e-01  3.040e-01  -0.680 0.496502    \n",
       "educationAssoc-acdm          1.135e+00  2.040e-01   5.564 2.64e-08 ***\n",
       "educationAssoc-voc           1.139e+00  1.948e-01   5.849 4.95e-09 ***\n",
       "educationBachelors           1.800e+00  1.793e-01  10.037  < 2e-16 ***\n",
       "educationDoctorate           2.657e+00  2.515e-01  10.562  < 2e-16 ***\n",
       "educationHS-grad             6.507e-01  1.743e-01   3.732 0.000190 ***\n",
       "educationMasters             2.206e+00  1.934e-01  11.404  < 2e-16 ***\n",
       "educationPreschool          -1.241e+01  2.256e+02  -0.055 0.956117    \n",
       "educationProf-school         2.590e+00  2.354e-01  11.001  < 2e-16 ***\n",
       "educationSome-college        1.075e+00  1.770e-01   6.072 1.26e-09 ***\n",
       "education_num                       NA         NA      NA       NA    \n",
       "maritalNever-married        -1.210e+00  2.033e-01  -5.951 2.66e-09 ***\n",
       "maritalNot-Married          -6.935e-01  2.030e-01  -3.417 0.000634 ***\n",
       "occupationArmed-Forces      -1.277e+01  6.290e+02  -0.020 0.983800    \n",
       "occupationCraft-repair       1.360e-01  9.418e-02   1.444 0.148752    \n",
       "occupationExec-managerial    7.829e-01  9.127e-02   8.579  < 2e-16 ***\n",
       "occupationFarming-fishing   -1.216e+00  1.690e-01  -7.195 6.25e-13 ***\n",
       "occupationHandlers-cleaners -7.765e-01  1.720e-01  -4.514 6.36e-06 ***\n",
       "occupationMachine-op-inspct -3.460e-01  1.225e-01  -2.826 0.004713 ** \n",
       "occupationOther-service     -7.955e-01  1.386e-01  -5.738 9.59e-09 ***\n",
       "occupationPriv-house-serv   -1.270e+01  1.174e+02  -0.108 0.913844    \n",
       "occupationProf-specialty     5.447e-01  9.647e-02   5.646 1.65e-08 ***\n",
       "occupationProtective-serv    7.733e-01  1.482e-01   5.220 1.79e-07 ***\n",
       "occupationSales              2.928e-01  9.731e-02   3.009 0.002619 ** \n",
       "occupationTech-support       6.463e-01  1.308e-01   4.940 7.80e-07 ***\n",
       "occupationTransport-moving  -8.550e-02  1.168e-01  -0.732 0.464298    \n",
       "relationshipNot-in-family   -9.255e-01  1.995e-01  -4.638 3.51e-06 ***\n",
       "relationshipOther-relative  -9.714e-01  2.598e-01  -3.739 0.000185 ***\n",
       "relationshipOwn-child       -1.882e+00  2.466e-01  -7.631 2.33e-14 ***\n",
       "relationshipUnmarried       -9.754e-01  2.215e-01  -4.404 1.06e-05 ***\n",
       "relationshipWife             1.370e+00  1.235e-01  11.097  < 2e-16 ***\n",
       "raceAsian-Pac-Islander       6.073e-01  3.330e-01   1.824 0.068182 .  \n",
       "raceBlack                    4.470e-01  2.957e-01   1.512 0.130590    \n",
       "raceOther                    2.815e-01  4.249e-01   0.662 0.507690    \n",
       "raceWhite                    5.840e-01  2.832e-01   2.062 0.039162 *  \n",
       "sexMale                      9.275e-01  9.512e-02   9.751  < 2e-16 ***\n",
       "capital_gain                 3.105e-04  1.246e-05  24.913  < 2e-16 ***\n",
       "capital_loss                 6.508e-04  4.527e-05  14.375  < 2e-16 ***\n",
       "hr_per_week                  3.037e-02  1.984e-03  15.304  < 2e-16 ***\n",
       "regionEurope                 6.088e-01  2.534e-01   2.402 0.016307 *  \n",
       "regionLatin_South_America   -1.933e-01  2.559e-01  -0.755 0.449987    \n",
       "regionNorth_America          3.800e-01  2.065e-01   1.841 0.065688 .  \n",
       "regionOther                  1.992e-02  2.465e-01   0.081 0.935602    \n",
       "---\n",
       "Signif. codes:  0 '***' 0.001 '**' 0.01 '*' 0.05 '.' 0.1 ' ' 1\n",
       "\n",
       "(Dispersion parameter for binomial family taken to be 1)\n",
       "\n",
       "    Null deviance: 24138  on 21502  degrees of freedom\n",
       "Residual deviance: 14036  on 21449  degrees of freedom\n",
       "AIC: 14144\n",
       "\n",
       "Number of Fisher Scoring iterations: 14\n"
      ]
     },
     "metadata": {},
     "output_type": "display_data"
    }
   ],
   "source": [
    "summary(model)"
   ]
  },
  {
   "cell_type": "code",
   "execution_count": 42,
   "metadata": {
    "collapsed": true
   },
   "outputs": [],
   "source": [
    "help(step)"
   ]
  },
  {
   "cell_type": "code",
   "execution_count": 43,
   "metadata": {
    "collapsed": false
   },
   "outputs": [
    {
     "name": "stdout",
     "output_type": "stream",
     "text": [
      "Start:  AIC=14144.24\n",
      "income ~ age + type_employer + fnlwgt + education + education_num + \n",
      "    marital + occupation + relationship + race + sex + capital_gain + \n",
      "    capital_loss + hr_per_week + region\n",
      "\n"
     ]
    },
    {
     "name": "stderr",
     "output_type": "stream",
     "text": [
      "Warning message:\n",
      "\"glm.fit: fitted probabilities numerically 0 or 1 occurred\"Warning message:\n",
      "\"glm.fit: fitted probabilities numerically 0 or 1 occurred\"Warning message:\n",
      "\"glm.fit: fitted probabilities numerically 0 or 1 occurred\"Warning message:\n",
      "\"glm.fit: fitted probabilities numerically 0 or 1 occurred\"Warning message:\n",
      "\"glm.fit: fitted probabilities numerically 0 or 1 occurred\"Warning message:\n",
      "\"glm.fit: fitted probabilities numerically 0 or 1 occurred\"Warning message:\n",
      "\"glm.fit: fitted probabilities numerically 0 or 1 occurred\"Warning message:\n",
      "\"glm.fit: fitted probabilities numerically 0 or 1 occurred\"Warning message:\n",
      "\"glm.fit: fitted probabilities numerically 0 or 1 occurred\"Warning message:\n",
      "\"glm.fit: fitted probabilities numerically 0 or 1 occurred\"Warning message:\n",
      "\"glm.fit: fitted probabilities numerically 0 or 1 occurred\"Warning message:\n",
      "\"glm.fit: fitted probabilities numerically 0 or 1 occurred\"Warning message:\n",
      "\"glm.fit: fitted probabilities numerically 0 or 1 occurred\"Warning message:\n",
      "\"glm.fit: fitted probabilities numerically 0 or 1 occurred\""
     ]
    },
    {
     "name": "stdout",
     "output_type": "stream",
     "text": [
      "\n",
      "Step:  AIC=14144.24\n",
      "income ~ age + type_employer + fnlwgt + education + marital + \n",
      "    occupation + relationship + race + sex + capital_gain + capital_loss + \n",
      "    hr_per_week + region\n",
      "\n"
     ]
    },
    {
     "name": "stderr",
     "output_type": "stream",
     "text": [
      "Warning message:\n",
      "\"glm.fit: fitted probabilities numerically 0 or 1 occurred\"Warning message:\n",
      "\"glm.fit: fitted probabilities numerically 0 or 1 occurred\"Warning message:\n",
      "\"glm.fit: fitted probabilities numerically 0 or 1 occurred\"Warning message:\n",
      "\"glm.fit: fitted probabilities numerically 0 or 1 occurred\"Warning message:\n",
      "\"glm.fit: fitted probabilities numerically 0 or 1 occurred\"Warning message:\n",
      "\"glm.fit: fitted probabilities numerically 0 or 1 occurred\"Warning message:\n",
      "\"glm.fit: fitted probabilities numerically 0 or 1 occurred\"Warning message:\n",
      "\"glm.fit: fitted probabilities numerically 0 or 1 occurred\"Warning message:\n",
      "\"glm.fit: fitted probabilities numerically 0 or 1 occurred\"Warning message:\n",
      "\"glm.fit: fitted probabilities numerically 0 or 1 occurred\"Warning message:\n",
      "\"glm.fit: fitted probabilities numerically 0 or 1 occurred\"Warning message:\n",
      "\"glm.fit: fitted probabilities numerically 0 or 1 occurred\""
     ]
    },
    {
     "name": "stdout",
     "output_type": "stream",
     "text": [
      "                Df Deviance   AIC\n",
      "- race           4    14044 14144\n",
      "<none>                14036 14144\n",
      "- fnlwgt         1    14048 14154\n",
      "- region         4    14060 14160\n",
      "- marital        2    14084 14188\n",
      "- type_employer  4    14094 14194\n",
      "- sex            1    14135 14241\n",
      "- age            1    14236 14342\n",
      "- capital_loss   1    14250 14356\n",
      "- relationship   5    14278 14376\n",
      "- hr_per_week    1    14277 14383\n",
      "- occupation    13    14504 14586\n",
      "- education     15    14718 14796\n",
      "- capital_gain   1    15257 15363\n"
     ]
    },
    {
     "name": "stderr",
     "output_type": "stream",
     "text": [
      "Warning message:\n",
      "\"glm.fit: fitted probabilities numerically 0 or 1 occurred\""
     ]
    },
    {
     "name": "stdout",
     "output_type": "stream",
     "text": [
      "\n",
      "Step:  AIC=14143.95\n",
      "income ~ age + type_employer + fnlwgt + education + marital + \n",
      "    occupation + relationship + sex + capital_gain + capital_loss + \n",
      "    hr_per_week + region\n",
      "\n"
     ]
    },
    {
     "name": "stderr",
     "output_type": "stream",
     "text": [
      "Warning message:\n",
      "\"glm.fit: fitted probabilities numerically 0 or 1 occurred\"Warning message:\n",
      "\"glm.fit: fitted probabilities numerically 0 or 1 occurred\"Warning message:\n",
      "\"glm.fit: fitted probabilities numerically 0 or 1 occurred\"Warning message:\n",
      "\"glm.fit: fitted probabilities numerically 0 or 1 occurred\"Warning message:\n",
      "\"glm.fit: fitted probabilities numerically 0 or 1 occurred\"Warning message:\n",
      "\"glm.fit: fitted probabilities numerically 0 or 1 occurred\"Warning message:\n",
      "\"glm.fit: fitted probabilities numerically 0 or 1 occurred\"Warning message:\n",
      "\"glm.fit: fitted probabilities numerically 0 or 1 occurred\"Warning message:\n",
      "\"glm.fit: fitted probabilities numerically 0 or 1 occurred\"Warning message:\n",
      "\"glm.fit: fitted probabilities numerically 0 or 1 occurred\"Warning message:\n",
      "\"glm.fit: fitted probabilities numerically 0 or 1 occurred\""
     ]
    },
    {
     "name": "stdout",
     "output_type": "stream",
     "text": [
      "                Df Deviance   AIC\n",
      "<none>                14044 14144\n",
      "- fnlwgt         1    14056 14154\n",
      "- region         4    14074 14166\n",
      "- marital        2    14092 14188\n",
      "- type_employer  4    14101 14193\n",
      "- sex            1    14144 14242\n",
      "- age            1    14246 14344\n",
      "- capital_loss   1    14259 14357\n",
      "- relationship   5    14287 14377\n",
      "- hr_per_week    1    14287 14385\n",
      "- occupation    13    14516 14590\n",
      "- education     15    14732 14802\n",
      "- capital_gain   1    15262 15360\n"
     ]
    }
   ],
   "source": [
    "new.model <- step(model)"
   ]
  },
  {
   "cell_type": "code",
   "execution_count": 44,
   "metadata": {
    "collapsed": false
   },
   "outputs": [
    {
     "data": {
      "text/plain": [
       "\n",
       "Call:\n",
       "glm(formula = income ~ age + type_employer + fnlwgt + education + \n",
       "    marital + occupation + relationship + sex + capital_gain + \n",
       "    capital_loss + hr_per_week + region, family = binomial(link = \"logit\"), \n",
       "    data = train)\n",
       "\n",
       "Deviance Residuals: \n",
       "    Min       1Q   Median       3Q      Max  \n",
       "-5.0258  -0.5170  -0.1945  -0.0001   3.6421  \n",
       "\n",
       "Coefficients:\n",
       "                              Estimate Std. Error z value Pr(>|z|)    \n",
       "(Intercept)                 -5.219e+00  3.030e-01 -17.228  < 2e-16 ***\n",
       "age                          2.813e-02  1.988e-03  14.152  < 2e-16 ***\n",
       "type_employerPrivate        -4.433e-01  1.097e-01  -4.041 5.33e-05 ***\n",
       "type_employerself-emp       -7.271e-01  1.223e-01  -5.943 2.81e-09 ***\n",
       "type_employerSL-gov         -7.293e-01  1.240e-01  -5.881 4.07e-09 ***\n",
       "type_employerUnemployed     -1.388e+01  3.940e+02  -0.035 0.971901    \n",
       "fnlwgt                       7.018e-07  2.041e-07   3.438 0.000585 ***\n",
       "education11th                4.564e-02  2.419e-01   0.189 0.850307    \n",
       "education12th                3.890e-01  3.043e-01   1.279 0.201073    \n",
       "education1st-4th            -6.547e-01  6.033e-01  -1.085 0.277846    \n",
       "education5th-6th            -3.436e-01  4.094e-01  -0.839 0.401233    \n",
       "education7th-8th            -6.636e-01  2.819e-01  -2.354 0.018580 *  \n",
       "education9th                -2.068e-01  3.040e-01  -0.680 0.496465    \n",
       "educationAssoc-acdm          1.144e+00  2.038e-01   5.614 1.98e-08 ***\n",
       "educationAssoc-voc           1.146e+00  1.946e-01   5.891 3.85e-09 ***\n",
       "educationBachelors           1.808e+00  1.791e-01  10.096  < 2e-16 ***\n",
       "educationDoctorate           2.671e+00  2.514e-01  10.622  < 2e-16 ***\n",
       "educationHS-grad             6.551e-01  1.742e-01   3.761 0.000169 ***\n",
       "educationMasters             2.217e+00  1.932e-01  11.472  < 2e-16 ***\n",
       "educationPreschool          -1.242e+01  2.252e+02  -0.055 0.956038    \n",
       "educationProf-school         2.602e+00  2.353e-01  11.058  < 2e-16 ***\n",
       "educationSome-college        1.077e+00  1.769e-01   6.090 1.13e-09 ***\n",
       "maritalNever-married        -1.213e+00  2.030e-01  -5.976 2.29e-09 ***\n",
       "maritalNot-Married          -6.978e-01  2.027e-01  -3.443 0.000575 ***\n",
       "occupationArmed-Forces      -1.295e+01  6.231e+02  -0.021 0.983425    \n",
       "occupationCraft-repair       1.385e-01  9.412e-02   1.472 0.141022    \n",
       "occupationExec-managerial    7.839e-01  9.123e-02   8.593  < 2e-16 ***\n",
       "occupationFarming-fishing   -1.213e+00  1.689e-01  -7.187 6.64e-13 ***\n",
       "occupationHandlers-cleaners -7.807e-01  1.720e-01  -4.539 5.64e-06 ***\n",
       "occupationMachine-op-inspct -3.509e-01  1.224e-01  -2.867 0.004138 ** \n",
       "occupationOther-service     -8.068e-01  1.385e-01  -5.825 5.71e-09 ***\n",
       "occupationPriv-house-serv   -1.270e+01  1.173e+02  -0.108 0.913785    \n",
       "occupationProf-specialty     5.451e-01  9.636e-02   5.657 1.54e-08 ***\n",
       "occupationProtective-serv    7.699e-01  1.481e-01   5.200 1.99e-07 ***\n",
       "occupationSales              2.954e-01  9.725e-02   3.037 0.002387 ** \n",
       "occupationTech-support       6.513e-01  1.307e-01   4.982 6.30e-07 ***\n",
       "occupationTransport-moving  -9.172e-02  1.167e-01  -0.786 0.432013    \n",
       "relationshipNot-in-family   -9.268e-01  1.993e-01  -4.651 3.30e-06 ***\n",
       "relationshipOther-relative  -9.819e-01  2.599e-01  -3.778 0.000158 ***\n",
       "relationshipOwn-child       -1.883e+00  2.462e-01  -7.648 2.05e-14 ***\n",
       "relationshipUnmarried       -9.850e-01  2.211e-01  -4.456 8.37e-06 ***\n",
       "relationshipWife             1.367e+00  1.235e-01  11.073  < 2e-16 ***\n",
       "sexMale                      9.303e-01  9.512e-02   9.781  < 2e-16 ***\n",
       "capital_gain                 3.096e-04  1.245e-05  24.868  < 2e-16 ***\n",
       "capital_loss                 6.524e-04  4.529e-05  14.406  < 2e-16 ***\n",
       "hr_per_week                  3.047e-02  1.984e-03  15.354  < 2e-16 ***\n",
       "regionEurope                 5.934e-01  2.028e-01   2.926 0.003436 ** \n",
       "regionLatin_South_America   -2.466e-01  2.059e-01  -1.197 0.231124    \n",
       "regionNorth_America          3.549e-01  1.401e-01   2.533 0.011297 *  \n",
       "regionOther                 -1.672e-02  2.133e-01  -0.078 0.937516    \n",
       "---\n",
       "Signif. codes:  0 '***' 0.001 '**' 0.01 '*' 0.05 '.' 0.1 ' ' 1\n",
       "\n",
       "(Dispersion parameter for binomial family taken to be 1)\n",
       "\n",
       "    Null deviance: 24138  on 21502  degrees of freedom\n",
       "Residual deviance: 14044  on 21453  degrees of freedom\n",
       "AIC: 14144\n",
       "\n",
       "Number of Fisher Scoring iterations: 14\n"
      ]
     },
     "metadata": {},
     "output_type": "display_data"
    }
   ],
   "source": [
    "summary(new.model)"
   ]
  },
  {
   "cell_type": "code",
   "execution_count": 45,
   "metadata": {
    "collapsed": false
   },
   "outputs": [],
   "source": [
    "pred <- predict(new.model, test, type = 'response')"
   ]
  },
  {
   "cell_type": "code",
   "execution_count": 53,
   "metadata": {
    "collapsed": false
   },
   "outputs": [
    {
     "data": {
      "text/plain": [
       "       \n",
       "        FALSE TRUE\n",
       "  <=50K  6426  494\n",
       "  >50K    897 1398"
      ]
     },
     "metadata": {},
     "output_type": "display_data"
    }
   ],
   "source": [
    "t <- table(test$income, pred > 0.5)\n",
    "t"
   ]
  },
  {
   "cell_type": "code",
   "execution_count": 55,
   "metadata": {
    "collapsed": false
   },
   "outputs": [],
   "source": [
    "TP <- t[2, 2]\n",
    "TN <- t[1, 1]\n",
    "FP <- t[1, 2]\n",
    "FN <- t[2, 1]"
   ]
  },
  {
   "cell_type": "code",
   "execution_count": 56,
   "metadata": {
    "collapsed": false
   },
   "outputs": [
    {
     "data": {
      "text/html": [
       "0.849050461204558"
      ],
      "text/latex": [
       "0.849050461204558"
      ],
      "text/markdown": [
       "0.849050461204558"
      ],
      "text/plain": [
       "[1] 0.8490505"
      ]
     },
     "metadata": {},
     "output_type": "display_data"
    }
   ],
   "source": [
    "accuracy <- (TP + TN) / (TP + TN + FP + FN)\n",
    "accuracy"
   ]
  },
  {
   "cell_type": "code",
   "execution_count": 57,
   "metadata": {
    "collapsed": false
   },
   "outputs": [
    {
     "data": {
      "text/html": [
       "0.877509217533798"
      ],
      "text/latex": [
       "0.877509217533798"
      ],
      "text/markdown": [
       "0.877509217533798"
      ],
      "text/plain": [
       "[1] 0.8775092"
      ]
     },
     "metadata": {},
     "output_type": "display_data"
    }
   ],
   "source": [
    "precision <- TN / (TN + FN)\n",
    "precision"
   ]
  },
  {
   "cell_type": "code",
   "execution_count": 58,
   "metadata": {
    "collapsed": false
   },
   "outputs": [
    {
     "data": {
      "text/html": [
       "0.928612716763006"
      ],
      "text/latex": [
       "0.928612716763006"
      ],
      "text/markdown": [
       "0.928612716763006"
      ],
      "text/plain": [
       "[1] 0.9286127"
      ]
     },
     "metadata": {},
     "output_type": "display_data"
    }
   ],
   "source": [
    "recall <- TN / (TN + FP)\n",
    "recall"
   ]
  },
  {
   "cell_type": "code",
   "execution_count": 59,
   "metadata": {
    "collapsed": false
   },
   "outputs": [
    {
     "name": "stderr",
     "output_type": "stream",
     "text": [
      "Warning message in predict.lm(object, newdata, se.fit, scale = 1, type = ifelse(type == :\n",
      "\"prediction from a rank-deficient fit may be misleading\""
     ]
    },
    {
     "data": {
      "text/plain": [
       "       \n",
       "        FALSE TRUE\n",
       "  <=50K  6426  494\n",
       "  >50K    898 1397"
      ]
     },
     "metadata": {},
     "output_type": "display_data"
    }
   ],
   "source": [
    "pred2 <- predict(model, test, type = 'response')\n",
    "table(test$income, pred2 > 0.5)"
   ]
  }
 ],
 "metadata": {
  "kernelspec": {
   "display_name": "R",
   "language": "R",
   "name": "ir"
  },
  "language_info": {
   "codemirror_mode": "r",
   "file_extension": ".r",
   "mimetype": "text/x-r-source",
   "name": "R",
   "pygments_lexer": "r",
   "version": "3.3.2"
  }
 },
 "nbformat": 4,
 "nbformat_minor": 2
}
