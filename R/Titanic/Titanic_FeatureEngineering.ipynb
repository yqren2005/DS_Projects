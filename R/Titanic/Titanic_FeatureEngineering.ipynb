{
 "cells": [
  {
   "cell_type": "code",
   "execution_count": 1,
   "metadata": {
    "collapsed": false
   },
   "outputs": [
    {
     "name": "stderr",
     "output_type": "stream",
     "text": [
      "\n",
      "Attaching package: 'dplyr'\n",
      "\n",
      "The following objects are masked from 'package:stats':\n",
      "\n",
      "    filter, lag\n",
      "\n",
      "The following objects are masked from 'package:base':\n",
      "\n",
      "    intersect, setdiff, setequal, union\n",
      "\n"
     ]
    }
   ],
   "source": [
    "library(dplyr)\n",
    "library(ggplot2)"
   ]
  },
  {
   "cell_type": "code",
   "execution_count": 2,
   "metadata": {
    "collapsed": false
   },
   "outputs": [
    {
     "data": {
      "text/html": [
       "<table>\n",
       "<thead><tr><th scope=col>PassengerId</th><th scope=col>Survived</th><th scope=col>Pclass</th><th scope=col>Name</th><th scope=col>Sex</th><th scope=col>Age</th><th scope=col>SibSp</th><th scope=col>Parch</th><th scope=col>Ticket</th><th scope=col>Fare</th><th scope=col>Cabin</th><th scope=col>Embarked</th></tr></thead>\n",
       "<tbody>\n",
       "\t<tr><td>1                                                  </td><td>0                                                  </td><td>3                                                  </td><td>Braund, Mr. Owen Harris                            </td><td>male                                               </td><td>22                                                 </td><td>1                                                  </td><td>0                                                  </td><td>A/5 21171                                          </td><td> 7.2500                                            </td><td>                                                   </td><td>S                                                  </td></tr>\n",
       "\t<tr><td>2                                                  </td><td>1                                                  </td><td>1                                                  </td><td>Cumings, Mrs. John Bradley (Florence Briggs Thayer)</td><td>female                                             </td><td>38                                                 </td><td>1                                                  </td><td>0                                                  </td><td>PC 17599                                           </td><td>71.2833                                            </td><td>C85                                                </td><td>C                                                  </td></tr>\n",
       "\t<tr><td>3                                                  </td><td>1                                                  </td><td>3                                                  </td><td>Heikkinen, Miss. Laina                             </td><td>female                                             </td><td>26                                                 </td><td>0                                                  </td><td>0                                                  </td><td>STON/O2. 3101282                                   </td><td> 7.9250                                            </td><td>                                                   </td><td>S                                                  </td></tr>\n",
       "\t<tr><td>4                                                  </td><td>1                                                  </td><td>1                                                  </td><td>Futrelle, Mrs. Jacques Heath (Lily May Peel)       </td><td>female                                             </td><td>35                                                 </td><td>1                                                  </td><td>0                                                  </td><td>113803                                             </td><td>53.1000                                            </td><td>C123                                               </td><td>S                                                  </td></tr>\n",
       "\t<tr><td>5                                                  </td><td>0                                                  </td><td>3                                                  </td><td>Allen, Mr. William Henry                           </td><td>male                                               </td><td>35                                                 </td><td>0                                                  </td><td>0                                                  </td><td>373450                                             </td><td> 8.0500                                            </td><td>                                                   </td><td>S                                                  </td></tr>\n",
       "\t<tr><td>6                                                  </td><td>0                                                  </td><td>3                                                  </td><td>Moran, Mr. James                                   </td><td>male                                               </td><td>NA                                                 </td><td>0                                                  </td><td>0                                                  </td><td>330877                                             </td><td> 8.4583                                            </td><td>                                                   </td><td>Q                                                  </td></tr>\n",
       "</tbody>\n",
       "</table>\n"
      ],
      "text/latex": [
       "\\begin{tabular}{r|llllllllllll}\n",
       " PassengerId & Survived & Pclass & Name & Sex & Age & SibSp & Parch & Ticket & Fare & Cabin & Embarked\\\\\n",
       "\\hline\n",
       "\t 1                                                   & 0                                                   & 3                                                   & Braund, Mr. Owen Harris                             & male                                                & 22                                                  & 1                                                   & 0                                                   & A/5 21171                                           &  7.2500                                             &                                                     & S                                                  \\\\\n",
       "\t 2                                                   & 1                                                   & 1                                                   & Cumings, Mrs. John Bradley (Florence Briggs Thayer) & female                                              & 38                                                  & 1                                                   & 0                                                   & PC 17599                                            & 71.2833                                             & C85                                                 & C                                                  \\\\\n",
       "\t 3                                                   & 1                                                   & 3                                                   & Heikkinen, Miss. Laina                              & female                                              & 26                                                  & 0                                                   & 0                                                   & STON/O2. 3101282                                    &  7.9250                                             &                                                     & S                                                  \\\\\n",
       "\t 4                                                   & 1                                                   & 1                                                   & Futrelle, Mrs. Jacques Heath (Lily May Peel)        & female                                              & 35                                                  & 1                                                   & 0                                                   & 113803                                              & 53.1000                                             & C123                                                & S                                                  \\\\\n",
       "\t 5                                                   & 0                                                   & 3                                                   & Allen, Mr. William Henry                            & male                                                & 35                                                  & 0                                                   & 0                                                   & 373450                                              &  8.0500                                             &                                                     & S                                                  \\\\\n",
       "\t 6                                                   & 0                                                   & 3                                                   & Moran, Mr. James                                    & male                                                & NA                                                  & 0                                                   & 0                                                   & 330877                                              &  8.4583                                             &                                                     & Q                                                  \\\\\n",
       "\\end{tabular}\n"
      ],
      "text/markdown": [
       "\n",
       "PassengerId | Survived | Pclass | Name | Sex | Age | SibSp | Parch | Ticket | Fare | Cabin | Embarked | \n",
       "|---|---|---|---|---|---|\n",
       "| 1                                                   | 0                                                   | 3                                                   | Braund, Mr. Owen Harris                             | male                                                | 22                                                  | 1                                                   | 0                                                   | A/5 21171                                           |  7.2500                                             |                                                     | S                                                   | \n",
       "| 2                                                   | 1                                                   | 1                                                   | Cumings, Mrs. John Bradley (Florence Briggs Thayer) | female                                              | 38                                                  | 1                                                   | 0                                                   | PC 17599                                            | 71.2833                                             | C85                                                 | C                                                   | \n",
       "| 3                                                   | 1                                                   | 3                                                   | Heikkinen, Miss. Laina                              | female                                              | 26                                                  | 0                                                   | 0                                                   | STON/O2. 3101282                                    |  7.9250                                             |                                                     | S                                                   | \n",
       "| 4                                                   | 1                                                   | 1                                                   | Futrelle, Mrs. Jacques Heath (Lily May Peel)        | female                                              | 35                                                  | 1                                                   | 0                                                   | 113803                                              | 53.1000                                             | C123                                                | S                                                   | \n",
       "| 5                                                   | 0                                                   | 3                                                   | Allen, Mr. William Henry                            | male                                                | 35                                                  | 0                                                   | 0                                                   | 373450                                              |  8.0500                                             |                                                     | S                                                   | \n",
       "| 6                                                   | 0                                                   | 3                                                   | Moran, Mr. James                                    | male                                                | NA                                                  | 0                                                   | 0                                                   | 330877                                              |  8.4583                                             |                                                     | Q                                                   | \n",
       "\n",
       "\n"
      ],
      "text/plain": [
       "  PassengerId Survived Pclass\n",
       "1 1           0        3     \n",
       "2 2           1        1     \n",
       "3 3           1        3     \n",
       "4 4           1        1     \n",
       "5 5           0        3     \n",
       "6 6           0        3     \n",
       "  Name                                                Sex    Age SibSp Parch\n",
       "1 Braund, Mr. Owen Harris                             male   22  1     0    \n",
       "2 Cumings, Mrs. John Bradley (Florence Briggs Thayer) female 38  1     0    \n",
       "3 Heikkinen, Miss. Laina                              female 26  0     0    \n",
       "4 Futrelle, Mrs. Jacques Heath (Lily May Peel)        female 35  1     0    \n",
       "5 Allen, Mr. William Henry                            male   35  0     0    \n",
       "6 Moran, Mr. James                                    male   NA  0     0    \n",
       "  Ticket           Fare    Cabin Embarked\n",
       "1 A/5 21171         7.2500       S       \n",
       "2 PC 17599         71.2833 C85   C       \n",
       "3 STON/O2. 3101282  7.9250       S       \n",
       "4 113803           53.1000 C123  S       \n",
       "5 373450            8.0500       S       \n",
       "6 330877            8.4583       Q       "
      ]
     },
     "metadata": {},
     "output_type": "display_data"
    }
   ],
   "source": [
    "train <- read.csv('titanic_train.csv')\n",
    "test <- read.csv('titanic_test.csv')\n",
    "head(train)"
   ]
  },
  {
   "cell_type": "code",
   "execution_count": 3,
   "metadata": {
    "collapsed": false
   },
   "outputs": [
    {
     "data": {},
     "metadata": {},
     "output_type": "display_data"
    },
    {
     "data": {
      "image/png": "[encoded data removed]",
      "text/plain": [
       "plot without title"
      ]
     },
     "metadata": {},
     "output_type": "display_data"
    }
   ],
   "source": [
    "ggplot(train, aes(Sex)) + \n",
    "    geom_bar(aes(fill=factor(Survived))) + \n",
    "    theme_bw() + \n",
    "    facet_grid(. ~ Pclass, labeller = as_labeller(c('1'='Pclass 1','2'='Pclass 2','3'='Pclass 3')))"
   ]
  },
  {
   "cell_type": "code",
   "execution_count": 4,
   "metadata": {
    "collapsed": false
   },
   "outputs": [
    {
     "name": "stdout",
     "output_type": "stream",
     "text": [
      "'data.frame':\t1309 obs. of  12 variables:\n",
      " $ PassengerId: int  1 2 3 4 5 6 7 8 9 10 ...\n",
      " $ Survived   : int  0 1 1 1 0 0 0 0 1 1 ...\n",
      " $ Pclass     : int  3 1 3 1 3 3 1 3 3 2 ...\n",
      " $ Name       : Factor w/ 1307 levels \"Abbing, Mr. Anthony\",..: 109 191 358 277 16 559 520 629 417 581 ...\n",
      " $ Sex        : Factor w/ 2 levels \"female\",\"male\": 2 1 1 1 2 2 2 2 1 1 ...\n",
      " $ Age        : num  22 38 26 35 35 NA 54 2 27 14 ...\n",
      " $ SibSp      : int  1 1 0 1 0 0 0 3 0 1 ...\n",
      " $ Parch      : int  0 0 0 0 0 0 0 1 2 0 ...\n",
      " $ Ticket     : Factor w/ 929 levels \"110152\",\"110413\",..: 524 597 670 50 473 276 86 396 345 133 ...\n",
      " $ Fare       : num  7.25 71.28 7.92 53.1 8.05 ...\n",
      " $ Cabin      : Factor w/ 187 levels \"\",\"A10\",\"A14\",..: 1 83 1 57 1 1 131 1 1 1 ...\n",
      " $ Embarked   : Factor w/ 4 levels \"\",\"C\",\"Q\",\"S\": 4 2 4 4 4 3 4 4 4 2 ...\n"
     ]
    }
   ],
   "source": [
    "test$Survived <- NA\n",
    "total <- rbind(train, test)\n",
    "str(total)"
   ]
  },
  {
   "cell_type": "code",
   "execution_count": 5,
   "metadata": {
    "collapsed": false
   },
   "outputs": [
    {
     "data": {
      "text/html": [
       "<dl class=dl-horizontal>\n",
       "\t<dt>1</dt>\n",
       "\t\t<dd>2</dd>\n",
       "\t<dt>C</dt>\n",
       "\t\t<dd>270</dd>\n",
       "\t<dt>Q</dt>\n",
       "\t\t<dd>123</dd>\n",
       "\t<dt>S</dt>\n",
       "\t\t<dd>914</dd>\n",
       "</dl>\n"
      ],
      "text/latex": [
       "\\begin{description*}\n",
       "\\item[1] 2\n",
       "\\item[C] 270\n",
       "\\item[Q] 123\n",
       "\\item[S] 914\n",
       "\\end{description*}\n"
      ],
      "text/markdown": [
       "1\n",
       ":   2C\n",
       ":   270Q\n",
       ":   123S\n",
       ":   914\n",
       "\n"
      ],
      "text/plain": [
       "      C   Q   S \n",
       "  2 270 123 914 "
      ]
     },
     "metadata": {},
     "output_type": "display_data"
    }
   ],
   "source": [
    "summary(total$Embarked)"
   ]
  },
  {
   "cell_type": "code",
   "execution_count": 6,
   "metadata": {
    "collapsed": false
   },
   "outputs": [
    {
     "data": {
      "text/html": [
       "<table>\n",
       "<thead><tr><th></th><th scope=col>PassengerId</th><th scope=col>Survived</th><th scope=col>Pclass</th><th scope=col>Name</th><th scope=col>Sex</th><th scope=col>Age</th><th scope=col>SibSp</th><th scope=col>Parch</th><th scope=col>Ticket</th><th scope=col>Fare</th><th scope=col>Cabin</th><th scope=col>Embarked</th></tr></thead>\n",
       "<tbody>\n",
       "\t<tr><th scope=row>62</th><td> 62                                      </td><td>1                                        </td><td>1                                        </td><td>Icard, Miss. Amelie                      </td><td>female                                   </td><td>38                                       </td><td>0                                        </td><td>0                                        </td><td>113572                                   </td><td>80                                       </td><td>B28                                      </td><td>                                         </td></tr>\n",
       "\t<tr><th scope=row>830</th><td>830                                      </td><td>1                                        </td><td>1                                        </td><td>Stone, Mrs. George Nelson (Martha Evelyn)</td><td>female                                   </td><td>62                                       </td><td>0                                        </td><td>0                                        </td><td>113572                                   </td><td>80                                       </td><td>B28                                      </td><td>                                         </td></tr>\n",
       "</tbody>\n",
       "</table>\n"
      ],
      "text/latex": [
       "\\begin{tabular}{r|llllllllllll}\n",
       "  & PassengerId & Survived & Pclass & Name & Sex & Age & SibSp & Parch & Ticket & Fare & Cabin & Embarked\\\\\n",
       "\\hline\n",
       "\t62 &  62                                       & 1                                         & 1                                         & Icard, Miss. Amelie                       & female                                    & 38                                        & 0                                         & 0                                         & 113572                                    & 80                                        & B28                                       &                                          \\\\\n",
       "\t830 & 830                                       & 1                                         & 1                                         & Stone, Mrs. George Nelson (Martha Evelyn) & female                                    & 62                                        & 0                                         & 0                                         & 113572                                    & 80                                        & B28                                       &                                          \\\\\n",
       "\\end{tabular}\n"
      ],
      "text/markdown": [
       "\n",
       "| <!--/--> | PassengerId | Survived | Pclass | Name | Sex | Age | SibSp | Parch | Ticket | Fare | Cabin | Embarked | \n",
       "|---|---|\n",
       "| 62 |  62                                       | 1                                         | 1                                         | Icard, Miss. Amelie                       | female                                    | 38                                        | 0                                         | 0                                         | 113572                                    | 80                                        | B28                                       |                                           | \n",
       "| 830 | 830                                       | 1                                         | 1                                         | Stone, Mrs. George Nelson (Martha Evelyn) | female                                    | 62                                        | 0                                         | 0                                         | 113572                                    | 80                                        | B28                                       |                                           | \n",
       "\n",
       "\n"
      ],
      "text/plain": [
       "    PassengerId Survived Pclass Name                                     \n",
       "62   62         1        1      Icard, Miss. Amelie                      \n",
       "830 830         1        1      Stone, Mrs. George Nelson (Martha Evelyn)\n",
       "    Sex    Age SibSp Parch Ticket Fare Cabin Embarked\n",
       "62  female 38  0     0     113572 80   B28           \n",
       "830 female 62  0     0     113572 80   B28           "
      ]
     },
     "metadata": {},
     "output_type": "display_data"
    }
   ],
   "source": [
    "total[total$Embarked == '',]"
   ]
  },
  {
   "cell_type": "code",
   "execution_count": 7,
   "metadata": {
    "collapsed": false
   },
   "outputs": [
    {
     "name": "stderr",
     "output_type": "stream",
     "text": [
      "Warning message:\n",
      "\"Removed 1 rows containing non-finite values (stat_boxplot).\""
     ]
    },
    {
     "data": {},
     "metadata": {},
     "output_type": "display_data"
    },
    {
     "data": {
      "image/png": "[encoded data removed]",
      "text/plain": [
       "plot without title"
      ]
     },
     "metadata": {},
     "output_type": "display_data"
    }
   ],
   "source": [
    "ggplot(total[total$Embarked != '',], aes(Embarked, Fare, fill = factor(Pclass))) +\n",
    "    geom_boxplot() +\n",
    "    geom_hline(aes(yintercept=80), colour='red', linetype='dashed', lwd=1) +\n",
    "    theme_bw()"
   ]
  },
  {
   "cell_type": "code",
   "execution_count": 8,
   "metadata": {
    "collapsed": false
   },
   "outputs": [
    {
     "data": {
      "text/html": [
       "<table>\n",
       "<thead><tr><th scope=col>PassengerId</th><th scope=col>Survived</th><th scope=col>Pclass</th><th scope=col>Name</th><th scope=col>Sex</th><th scope=col>Age</th><th scope=col>SibSp</th><th scope=col>Parch</th><th scope=col>Ticket</th><th scope=col>Fare</th><th scope=col>Cabin</th><th scope=col>Embarked</th></tr></thead>\n",
       "<tbody>\n",
       "\t<tr><td> 62                                      </td><td>1                                        </td><td>1                                        </td><td>Icard, Miss. Amelie                      </td><td>female                                   </td><td>38                                       </td><td>0                                        </td><td>0                                        </td><td>113572                                   </td><td>80                                       </td><td>B28                                      </td><td>C                                        </td></tr>\n",
       "\t<tr><td>830                                      </td><td>1                                        </td><td>1                                        </td><td>Stone, Mrs. George Nelson (Martha Evelyn)</td><td>female                                   </td><td>62                                       </td><td>0                                        </td><td>0                                        </td><td>113572                                   </td><td>80                                       </td><td>B28                                      </td><td>C                                        </td></tr>\n",
       "</tbody>\n",
       "</table>\n"
      ],
      "text/latex": [
       "\\begin{tabular}{r|llllllllllll}\n",
       " PassengerId & Survived & Pclass & Name & Sex & Age & SibSp & Parch & Ticket & Fare & Cabin & Embarked\\\\\n",
       "\\hline\n",
       "\t  62                                       & 1                                         & 1                                         & Icard, Miss. Amelie                       & female                                    & 38                                        & 0                                         & 0                                         & 113572                                    & 80                                        & B28                                       & C                                        \\\\\n",
       "\t 830                                       & 1                                         & 1                                         & Stone, Mrs. George Nelson (Martha Evelyn) & female                                    & 62                                        & 0                                         & 0                                         & 113572                                    & 80                                        & B28                                       & C                                        \\\\\n",
       "\\end{tabular}\n"
      ],
      "text/markdown": [
       "\n",
       "PassengerId | Survived | Pclass | Name | Sex | Age | SibSp | Parch | Ticket | Fare | Cabin | Embarked | \n",
       "|---|---|\n",
       "|  62                                       | 1                                         | 1                                         | Icard, Miss. Amelie                       | female                                    | 38                                        | 0                                         | 0                                         | 113572                                    | 80                                        | B28                                       | C                                         | \n",
       "| 830                                       | 1                                         | 1                                         | Stone, Mrs. George Nelson (Martha Evelyn) | female                                    | 62                                        | 0                                         | 0                                         | 113572                                    | 80                                        | B28                                       | C                                         | \n",
       "\n",
       "\n"
      ],
      "text/plain": [
       "  PassengerId Survived Pclass Name                                      Sex   \n",
       "1  62         1        1      Icard, Miss. Amelie                       female\n",
       "2 830         1        1      Stone, Mrs. George Nelson (Martha Evelyn) female\n",
       "  Age SibSp Parch Ticket Fare Cabin Embarked\n",
       "1 38  0     0     113572 80   B28   C       \n",
       "2 62  0     0     113572 80   B28   C       "
      ]
     },
     "metadata": {},
     "output_type": "display_data"
    }
   ],
   "source": [
    "# Since both fare=$80 and Pclass=1, they most likely embarked from 'C'\n",
    "total$Embarked[c(62, 830)] <- 'C'\n",
    "filter(total, PassengerId == 62 | PassengerId == 830)"
   ]
  },
  {
   "cell_type": "code",
   "execution_count": 9,
   "metadata": {
    "collapsed": false
   },
   "outputs": [
    {
     "data": {
      "text/html": [
       "<dl class=dl-horizontal>\n",
       "\t<dt>C</dt>\n",
       "\t\t<dd>272</dd>\n",
       "\t<dt>Q</dt>\n",
       "\t\t<dd>123</dd>\n",
       "\t<dt>S</dt>\n",
       "\t\t<dd>914</dd>\n",
       "</dl>\n"
      ],
      "text/latex": [
       "\\begin{description*}\n",
       "\\item[C] 272\n",
       "\\item[Q] 123\n",
       "\\item[S] 914\n",
       "\\end{description*}\n"
      ],
      "text/markdown": [
       "C\n",
       ":   272Q\n",
       ":   123S\n",
       ":   914\n",
       "\n"
      ],
      "text/plain": [
       "  C   Q   S \n",
       "272 123 914 "
      ]
     },
     "metadata": {},
     "output_type": "display_data"
    }
   ],
   "source": [
    "total$Embarked <- factor(total$Embarked)\n",
    "summary(total$Embarked)"
   ]
  },
  {
   "cell_type": "code",
   "execution_count": 10,
   "metadata": {
    "collapsed": false
   },
   "outputs": [
    {
     "data": {
      "text/plain": [
       "   Min. 1st Qu.  Median    Mean 3rd Qu.    Max.    NA's \n",
       "  0.000   7.896  14.450  33.300  31.280 512.300       1 "
      ]
     },
     "metadata": {},
     "output_type": "display_data"
    }
   ],
   "source": [
    "summary(total$Fare)"
   ]
  },
  {
   "cell_type": "code",
   "execution_count": 11,
   "metadata": {
    "collapsed": false
   },
   "outputs": [
    {
     "data": {
      "text/html": [
       "<table>\n",
       "<thead><tr><th></th><th scope=col>PassengerId</th><th scope=col>Survived</th><th scope=col>Pclass</th><th scope=col>Name</th><th scope=col>Sex</th><th scope=col>Age</th><th scope=col>SibSp</th><th scope=col>Parch</th><th scope=col>Ticket</th><th scope=col>Fare</th><th scope=col>Cabin</th><th scope=col>Embarked</th></tr></thead>\n",
       "<tbody>\n",
       "\t<tr><th scope=row>1044</th><td>1044              </td><td>NA                </td><td>3                 </td><td>Storey, Mr. Thomas</td><td>male              </td><td>60.5              </td><td>0                 </td><td>0                 </td><td>3701              </td><td>NA                </td><td>                  </td><td>S                 </td></tr>\n",
       "</tbody>\n",
       "</table>\n"
      ],
      "text/latex": [
       "\\begin{tabular}{r|llllllllllll}\n",
       "  & PassengerId & Survived & Pclass & Name & Sex & Age & SibSp & Parch & Ticket & Fare & Cabin & Embarked\\\\\n",
       "\\hline\n",
       "\t1044 & 1044               & NA                 & 3                  & Storey, Mr. Thomas & male               & 60.5               & 0                  & 0                  & 3701               & NA                 &                    & S                 \\\\\n",
       "\\end{tabular}\n"
      ],
      "text/markdown": [
       "\n",
       "| <!--/--> | PassengerId | Survived | Pclass | Name | Sex | Age | SibSp | Parch | Ticket | Fare | Cabin | Embarked | \n",
       "|---|\n",
       "| 1044 | 1044               | NA                 | 3                  | Storey, Mr. Thomas | male               | 60.5               | 0                  | 0                  | 3701               | NA                 |                    | S                  | \n",
       "\n",
       "\n"
      ],
      "text/plain": [
       "     PassengerId Survived Pclass Name               Sex  Age  SibSp Parch\n",
       "1044 1044        NA       3      Storey, Mr. Thomas male 60.5 0     0    \n",
       "     Ticket Fare Cabin Embarked\n",
       "1044 3701   NA         S       "
      ]
     },
     "metadata": {},
     "output_type": "display_data"
    }
   ],
   "source": [
    "total[is.na(total$Fare),]"
   ]
  },
  {
   "cell_type": "code",
   "execution_count": 12,
   "metadata": {
    "collapsed": false
   },
   "outputs": [
    {
     "name": "stderr",
     "output_type": "stream",
     "text": [
      "Warning message:\n",
      "\"Removed 1 rows containing non-finite values (stat_density).\""
     ]
    },
    {
     "data": {},
     "metadata": {},
     "output_type": "display_data"
    },
    {
     "data": {
      "image/png": "[encoded data removed]",
      "text/plain": [
       "plot without title"
      ]
     },
     "metadata": {},
     "output_type": "display_data"
    }
   ],
   "source": [
    "ggplot(total[total$Pclass == '3' & total$Embarked == 'S',], aes(Fare)) +\n",
    "    geom_density(fill='lightgreen', alpha=0.6) + \n",
    "    geom_vline(aes(xintercept=median(Fare, na.rm=T)),\n",
    "    colour='red', linetype='dashed', lwd=1) +\n",
    "    scale_x_continuous(breaks = seq(0, 80, by = 2)) +\n",
    "    theme_bw()"
   ]
  },
  {
   "cell_type": "code",
   "execution_count": 13,
   "metadata": {
    "collapsed": false
   },
   "outputs": [
    {
     "data": {
      "text/html": [
       "<table>\n",
       "<thead><tr><th scope=col>PassengerId</th><th scope=col>Survived</th><th scope=col>Pclass</th><th scope=col>Name</th><th scope=col>Sex</th><th scope=col>Age</th><th scope=col>SibSp</th><th scope=col>Parch</th><th scope=col>Ticket</th><th scope=col>Fare</th><th scope=col>Cabin</th><th scope=col>Embarked</th></tr></thead>\n",
       "<tbody>\n",
       "\t<tr><td>1044              </td><td>NA                </td><td>3                 </td><td>Storey, Mr. Thomas</td><td>male              </td><td>60.5              </td><td>0                 </td><td>0                 </td><td>3701              </td><td>8.05              </td><td>                  </td><td>S                 </td></tr>\n",
       "</tbody>\n",
       "</table>\n"
      ],
      "text/latex": [
       "\\begin{tabular}{r|llllllllllll}\n",
       " PassengerId & Survived & Pclass & Name & Sex & Age & SibSp & Parch & Ticket & Fare & Cabin & Embarked\\\\\n",
       "\\hline\n",
       "\t 1044               & NA                 & 3                  & Storey, Mr. Thomas & male               & 60.5               & 0                  & 0                  & 3701               & 8.05               &                    & S                 \\\\\n",
       "\\end{tabular}\n"
      ],
      "text/markdown": [
       "\n",
       "PassengerId | Survived | Pclass | Name | Sex | Age | SibSp | Parch | Ticket | Fare | Cabin | Embarked | \n",
       "|---|\n",
       "| 1044               | NA                 | 3                  | Storey, Mr. Thomas | male               | 60.5               | 0                  | 0                  | 3701               | 8.05               |                    | S                  | \n",
       "\n",
       "\n"
      ],
      "text/plain": [
       "  PassengerId Survived Pclass Name               Sex  Age  SibSp Parch Ticket\n",
       "1 1044        NA       3      Storey, Mr. Thomas male 60.5 0     0     3701  \n",
       "  Fare Cabin Embarked\n",
       "1 8.05       S       "
      ]
     },
     "metadata": {},
     "output_type": "display_data"
    }
   ],
   "source": [
    "# Replace missing fare value with median fare for Pclass=3 and Embarked='S'\n",
    "total$Fare[1044] <- median(total[total$Pclass == '3' & total$Embarked == 'S', ]$Fare, na.rm = TRUE)\n",
    "filter(total, PassengerId == 1044)"
   ]
  },
  {
   "cell_type": "code",
   "execution_count": 14,
   "metadata": {
    "collapsed": false
   },
   "outputs": [
    {
     "data": {
      "text/plain": [
       "   Min. 1st Qu.  Median    Mean 3rd Qu.    Max. \n",
       "  0.000   7.896  14.450  33.280  31.280 512.300 "
      ]
     },
     "metadata": {},
     "output_type": "display_data"
    }
   ],
   "source": [
    "summary(total$Fare)"
   ]
  },
  {
   "cell_type": "code",
   "execution_count": 15,
   "metadata": {
    "collapsed": true
   },
   "outputs": [],
   "source": [
    "# Feature engineering 1: add Title\n",
    "total$Name <- as.character(total$Name)\n",
    "total$Title <- sapply(total$Name, FUN=function(x) {strsplit(x, split='[,.]')[[1]][2]})\n",
    "total$Title <- sub(' ', '', total$Title)"
   ]
  },
  {
   "cell_type": "code",
   "execution_count": 16,
   "metadata": {
    "collapsed": false
   },
   "outputs": [
    {
     "data": {
      "text/plain": [
       "\n",
       "        Capt          Col          Don         Dona           Dr     Jonkheer \n",
       "           1            4            1            1            8            1 \n",
       "        Lady        Major       Master         Miss         Mlle          Mme \n",
       "           1            2           61          260            2            1 \n",
       "          Mr          Mrs           Ms          Rev          Sir the Countess \n",
       "         757          197            2            8            1            1 "
      ]
     },
     "metadata": {},
     "output_type": "display_data"
    }
   ],
   "source": [
    "table(total$Title)"
   ]
  },
  {
   "cell_type": "code",
   "execution_count": 17,
   "metadata": {
    "collapsed": true
   },
   "outputs": [],
   "source": [
    "total$Title[total$Title %in% c('Mme', 'Mlle')] <- 'Mlle'\n",
    "total$Title[total$Title %in% c('Capt', 'Don', 'Major', 'Sir')] <- 'Sir'\n",
    "total$Title[total$Title %in% c('Dona', 'Lady', 'the Countess', 'Jonkheer')] <- 'Lady'\n",
    "total$Title <- factor(total$Title)"
   ]
  },
  {
   "cell_type": "code",
   "execution_count": 18,
   "metadata": {
    "collapsed": false
   },
   "outputs": [
    {
     "data": {
      "text/plain": [
       "\n",
       "   Col     Dr   Lady Master   Miss   Mlle     Mr    Mrs     Ms    Rev    Sir \n",
       "     4      8      4     61    260      3    757    197      2      8      5 "
      ]
     },
     "metadata": {},
     "output_type": "display_data"
    }
   ],
   "source": [
    "table(total$Title)"
   ]
  },
  {
   "cell_type": "code",
   "execution_count": 19,
   "metadata": {
    "collapsed": false
   },
   "outputs": [
    {
     "data": {},
     "metadata": {},
     "output_type": "display_data"
    },
    {
     "data": {
      "image/png": "[encoded data removed]",
      "text/plain": [
       "plot without title"
      ]
     },
     "metadata": {},
     "output_type": "display_data"
    }
   ],
   "source": [
    "ggplot(total[1:891,], aes(Title)) + geom_bar(aes(fill=factor(Survived))) + theme_bw()"
   ]
  },
  {
   "cell_type": "code",
   "execution_count": 20,
   "metadata": {
    "collapsed": false
   },
   "outputs": [
    {
     "data": {},
     "metadata": {},
     "output_type": "display_data"
    },
    {
     "data": {
      "image/png": "[encoded data removed]",
      "text/plain": [
       "plot without title"
      ]
     },
     "metadata": {},
     "output_type": "display_data"
    }
   ],
   "source": [
    "# Feature engineering 2: add FamilySize\n",
    "total$FamilySize <- total$SibSp + total$Parch + 1\n",
    "ggplot(total[1:891,], aes(factor(FamilySize))) + geom_bar(aes(fill=factor(Survived))) + theme_bw()"
   ]
  },
  {
   "cell_type": "code",
   "execution_count": 21,
   "metadata": {
    "collapsed": false
   },
   "outputs": [
    {
     "data": {
      "text/plain": [
       "\n",
       "           11Sage           3Abbott         3Appleton         3Beckwith \n",
       "               11                 3                 1                 2 \n",
       "          3Boulos           3Bourke            3Brown         3Caldwell \n",
       "                3                 3                 4                 3 \n",
       "         3Christy          3Collyer          3Compton          3Cornell \n",
       "                2                 3                 3                 1 \n",
       "          3Coutts           3Crosby           3Danbom           3Davies \n",
       "                3                 3                 3                 5 \n",
       "           3Dodge          3Douglas             3Drew            3Elias \n",
       "                3                 1                 3                 3 \n",
       "      3Frauenthal        3Frolicher 3Frolicher-Stehli        3Goldsmith \n",
       "                1                 1                 2                 3 \n",
       "      3Gustafsson       3Hamalainen           3Hansen             3Hart \n",
       "                2                 2                 1                 3 \n",
       "            3Hays          3Hickman         3Hiltunen         3Hirvonen \n",
       "                2                 3                 1                 1 \n",
       "        3Jefferys          3Johnson             3Kink    3Kink-Heilmann \n",
       "                2                 3                 2                 2 \n",
       "          3Klasen         3Lahtinen           3Mallet            3McCoy \n",
       "                3                 2                 3                 3 \n",
       "         3Minahan         3Moubarek            3Nakid         3Navratil \n",
       "                1                 3                 3                 3 \n",
       "          3Newell           3Newsom         3Nicholls          3Peacock \n",
       "                1                 1                 1                 3 \n",
       "           3Peter            3Quick         3Richards          3Rosblom \n",
       "                3                 3                 2                 3 \n",
       "          3Samaan        3Sandstrom           3Silven          3Spedden \n",
       "                3                 3                 1                 3 \n",
       "           3Strom          3Taussig           3Thayer           3Thomas \n",
       "                1                 3                 3                 1 \n",
       "           3Touma     3van Billiard         3Van Impe    3Vander Planke \n",
       "                3                 3                 3                 2 \n",
       "           3Wells             3Wick          3Widener          4Allison \n",
       "                3                 3                 3                 4 \n",
       "       4Backstrom          4Baclini           4Becker           4Carter \n",
       "                1                 4                 4                 4 \n",
       "        4Davidson             4Dean           4Herman          4Hocking \n",
       "                1                 4                 4                 2 \n",
       "       4Jacobsohn         4Johnston          4Laroche           4Renouf \n",
       "                1                 4                 4                 1 \n",
       "   4Vander Planke             4West             5Ford          5Hocking \n",
       "                1                 4                 5                 1 \n",
       "   5Kink-Heilmann          5Lefebre          5Palsson          5Ryerson \n",
       "                1                 5                 5                 5 \n",
       "         6Fortune           6Panula             6Rice         6Richards \n",
       "                6                 6                 6                 1 \n",
       "           6Skoog        7Andersson          7Asplund          8Goodwin \n",
       "                6                 9                 7                 8 \n",
       "            Small \n",
       "             1025 "
      ]
     },
     "metadata": {},
     "output_type": "display_data"
    }
   ],
   "source": [
    "# Feature engineering 3: add FamilyID\n",
    "total$Surname <- sapply(total$Name, FUN=function(x) {strsplit(x, split='[,.]')[[1]][1]})\n",
    "total$FamilyID <- paste(as.character(total$FamilySize), total$Surname, sep=\"\")\n",
    "total$FamilyID[total$FamilySize <= 2] <- 'Small'\n",
    "table(total$FamilyID)"
   ]
  },
  {
   "cell_type": "code",
   "execution_count": 22,
   "metadata": {
    "collapsed": false
   },
   "outputs": [
    {
     "data": {
      "text/html": [
       "<table>\n",
       "<thead><tr><th scope=col>Var1</th><th scope=col>Freq</th></tr></thead>\n",
       "<tbody>\n",
       "\t<tr><td>11Sage   </td><td>11       </td></tr>\n",
       "\t<tr><td>3Abbott  </td><td> 3       </td></tr>\n",
       "\t<tr><td>3Appleton</td><td> 1       </td></tr>\n",
       "\t<tr><td>3Beckwith</td><td> 2       </td></tr>\n",
       "\t<tr><td>3Boulos  </td><td> 3       </td></tr>\n",
       "\t<tr><td>3Bourke  </td><td> 3       </td></tr>\n",
       "</tbody>\n",
       "</table>\n"
      ],
      "text/latex": [
       "\\begin{tabular}{r|ll}\n",
       " Var1 & Freq\\\\\n",
       "\\hline\n",
       "\t 11Sage    & 11       \\\\\n",
       "\t 3Abbott   &  3       \\\\\n",
       "\t 3Appleton &  1       \\\\\n",
       "\t 3Beckwith &  2       \\\\\n",
       "\t 3Boulos   &  3       \\\\\n",
       "\t 3Bourke   &  3       \\\\\n",
       "\\end{tabular}\n"
      ],
      "text/markdown": [
       "\n",
       "Var1 | Freq | \n",
       "|---|---|---|---|---|---|\n",
       "| 11Sage    | 11        | \n",
       "| 3Abbott   |  3        | \n",
       "| 3Appleton |  1        | \n",
       "| 3Beckwith |  2        | \n",
       "| 3Boulos   |  3        | \n",
       "| 3Bourke   |  3        | \n",
       "\n",
       "\n"
      ],
      "text/plain": [
       "  Var1      Freq\n",
       "1 11Sage    11  \n",
       "2 3Abbott    3  \n",
       "3 3Appleton  1  \n",
       "4 3Beckwith  2  \n",
       "5 3Boulos    3  \n",
       "6 3Bourke    3  "
      ]
     },
     "metadata": {},
     "output_type": "display_data"
    }
   ],
   "source": [
    "famIDs <- data.frame(table(total$FamilyID))\n",
    "head(famIDs)"
   ]
  },
  {
   "cell_type": "code",
   "execution_count": 23,
   "metadata": {
    "collapsed": false
   },
   "outputs": [
    {
     "data": {
      "text/plain": [
       "\n",
       "       11Sage       3Abbott       3Boulos       3Bourke        3Brown \n",
       "           11             3             3             3             4 \n",
       "    3Caldwell      3Collyer      3Compton       3Coutts       3Crosby \n",
       "            3             3             3             3             3 \n",
       "      3Danbom       3Davies        3Dodge         3Drew        3Elias \n",
       "            3             5             3             3             3 \n",
       "   3Goldsmith         3Hart      3Hickman      3Johnson       3Klasen \n",
       "            3             3             3             3             3 \n",
       "      3Mallet        3McCoy     3Moubarek        3Nakid     3Navratil \n",
       "            3             3             3             3             3 \n",
       "     3Peacock        3Peter        3Quick      3Rosblom       3Samaan \n",
       "            3             3             3             3             3 \n",
       "   3Sandstrom      3Spedden      3Taussig       3Thayer        3Touma \n",
       "            3             3             3             3             3 \n",
       "3van Billiard     3Van Impe        3Wells         3Wick      3Widener \n",
       "            3             3             3             3             3 \n",
       "     4Allison      4Baclini       4Becker       4Carter         4Dean \n",
       "            4             4             4             4             4 \n",
       "      4Herman     4Johnston      4Laroche         4West         5Ford \n",
       "            4             4             4             4             5 \n",
       "     5Lefebre      5Palsson      5Ryerson      6Fortune       6Panula \n",
       "            5             5             5             6             6 \n",
       "        6Rice        6Skoog    7Andersson      7Asplund      8Goodwin \n",
       "            6             6             9             7             8 \n",
       "        Small \n",
       "         1074 "
      ]
     },
     "metadata": {},
     "output_type": "display_data"
    }
   ],
   "source": [
    "famIDs <- famIDs[famIDs$Freq <= 2,]\n",
    "total$FamilyID[total$FamilyID %in% famIDs$Var1] <- 'Small'\n",
    "total$FamilyID <- factor(total$FamilyID)\n",
    "table(total$FamilyID)"
   ]
  },
  {
   "cell_type": "code",
   "execution_count": 24,
   "metadata": {
    "collapsed": false
   },
   "outputs": [
    {
     "name": "stdout",
     "output_type": "stream",
     "text": [
      "'data.frame':\t1309 obs. of  16 variables:\n",
      " $ PassengerId: int  1 2 3 4 5 6 7 8 9 10 ...\n",
      " $ Survived   : int  0 1 1 1 0 0 0 0 1 1 ...\n",
      " $ Pclass     : int  3 1 3 1 3 3 1 3 3 2 ...\n",
      " $ Name       : chr  \"Braund, Mr. Owen Harris\" \"Cumings, Mrs. John Bradley (Florence Briggs Thayer)\" \"Heikkinen, Miss. Laina\" \"Futrelle, Mrs. Jacques Heath (Lily May Peel)\" ...\n",
      " $ Sex        : Factor w/ 2 levels \"female\",\"male\": 2 1 1 1 2 2 2 2 1 1 ...\n",
      " $ Age        : num  22 38 26 35 35 NA 54 2 27 14 ...\n",
      " $ SibSp      : int  1 1 0 1 0 0 0 3 0 1 ...\n",
      " $ Parch      : int  0 0 0 0 0 0 0 1 2 0 ...\n",
      " $ Ticket     : Factor w/ 929 levels \"110152\",\"110413\",..: 524 597 670 50 473 276 86 396 345 133 ...\n",
      " $ Fare       : num  7.25 71.28 7.92 53.1 8.05 ...\n",
      " $ Cabin      : Factor w/ 187 levels \"\",\"A10\",\"A14\",..: 1 83 1 57 1 1 131 1 1 1 ...\n",
      " $ Embarked   : Factor w/ 3 levels \"C\",\"Q\",\"S\": 3 1 3 3 3 2 3 3 3 1 ...\n",
      " $ Title      : Factor w/ 11 levels \"Col\",\"Dr\",\"Lady\",..: 7 8 5 8 7 7 7 4 8 8 ...\n",
      " $ FamilySize : num  2 2 1 2 1 1 1 5 3 2 ...\n",
      " $ Surname    : chr  \"Braund\" \"Cumings\" \"Heikkinen\" \"Futrelle\" ...\n",
      " $ FamilyID   : Factor w/ 61 levels \"11Sage\",\"3Abbott\",..: 61 61 61 61 61 61 61 52 19 61 ...\n"
     ]
    }
   ],
   "source": [
    "str(total)"
   ]
  },
  {
   "cell_type": "code",
   "execution_count": 25,
   "metadata": {
    "collapsed": false
   },
   "outputs": [
    {
     "data": {
      "text/plain": [
       "   Min. 1st Qu.  Median    Mean 3rd Qu.    Max.    NA's \n",
       "   0.17   21.00   28.00   29.88   39.00   80.00     263 "
      ]
     },
     "metadata": {},
     "output_type": "display_data"
    }
   ],
   "source": [
    "summary(total$Age)"
   ]
  },
  {
   "cell_type": "code",
   "execution_count": 26,
   "metadata": {
    "collapsed": false
   },
   "outputs": [
    {
     "data": {
      "image/png": "[encoded data removed]",
      "text/plain": [
       "Plot with title \"Age: Before filling missing data\""
      ]
     },
     "metadata": {},
     "output_type": "display_data"
    }
   ],
   "source": [
    "hist(total$Age, freq=F, main='Age: Before filling missing data', col='blue', ylim=c(0,0.05))"
   ]
  },
  {
   "cell_type": "code",
   "execution_count": 27,
   "metadata": {
    "collapsed": true
   },
   "outputs": [],
   "source": [
    "library(rpart)\n",
    "#fill unknown Age by predicting using decision tree\n",
    "Agefit <- rpart(Age ~ Pclass + Sex + SibSp + Parch + Fare + Embarked + Title + FamilySize, \n",
    "                data=total[!is.na(total$Age),], \n",
    "                method=\"anova\")\n",
    "total$Age[is.na(total$Age)] <- predict(Agefit, total[is.na(total$Age),])"
   ]
  },
  {
   "cell_type": "code",
   "execution_count": 28,
   "metadata": {
    "collapsed": false
   },
   "outputs": [
    {
     "data": {
      "text/plain": [
       "   Min. 1st Qu.  Median    Mean 3rd Qu.    Max. \n",
       "   0.17   22.00   28.86   29.70   36.50   80.00 "
      ]
     },
     "metadata": {},
     "output_type": "display_data"
    }
   ],
   "source": [
    "summary(total$Age)"
   ]
  },
  {
   "cell_type": "code",
   "execution_count": 29,
   "metadata": {
    "collapsed": false
   },
   "outputs": [
    {
     "data": {
      "image/png": "[encoded data removed]",
      "text/plain": [
       "Plot with title \"Age: After filling missing data\""
      ]
     },
     "metadata": {},
     "output_type": "display_data"
    }
   ],
   "source": [
    "hist(total$Age, freq=F, main='Age: After filling missing data', col='green', ylim=c(0,0.05))"
   ]
  },
  {
   "cell_type": "code",
   "execution_count": 30,
   "metadata": {
    "collapsed": true
   },
   "outputs": [],
   "source": [
    "# Predict\n",
    "set.seed(101)\n",
    "train <- total[1:891,]\n",
    "test <- total[892:1309,]"
   ]
  },
  {
   "cell_type": "code",
   "execution_count": 31,
   "metadata": {
    "collapsed": false
   },
   "outputs": [
    {
     "name": "stderr",
     "output_type": "stream",
     "text": [
      "Warning message:\n",
      "\"package 'party' was built under R version 3.3.3\"Loading required package: grid\n",
      "Loading required package: mvtnorm\n",
      "Loading required package: modeltools\n",
      "Loading required package: stats4\n",
      "Loading required package: strucchange\n",
      "Warning message:\n",
      "\"package 'strucchange' was built under R version 3.3.3\"Loading required package: zoo\n",
      "\n",
      "Attaching package: 'zoo'\n",
      "\n",
      "The following objects are masked from 'package:base':\n",
      "\n",
      "    as.Date, as.Date.numeric\n",
      "\n",
      "Loading required package: sandwich\n",
      "Warning message:\n",
      "\"package 'sandwich' was built under R version 3.3.3\""
     ]
    }
   ],
   "source": [
    "library(party)"
   ]
  },
  {
   "cell_type": "code",
   "execution_count": 32,
   "metadata": {
    "collapsed": true
   },
   "outputs": [],
   "source": [
    "#Fit model with cforest, a forest of conditional inference trees\n",
    "fit <- cforest(as.factor(Survived) ~ Pclass + Sex + Age + SibSp + Parch + Fare + Embarked + Title + FamilySize + FamilyID, \n",
    "               data = train, \n",
    "               controls=cforest_unbiased(ntree=2000, mtry=3))"
   ]
  },
  {
   "cell_type": "code",
   "execution_count": 33,
   "metadata": {
    "collapsed": true
   },
   "outputs": [],
   "source": [
    "Prediction <- predict(fit, test, OOB=TRUE, type = \"response\")"
   ]
  },
  {
   "cell_type": "code",
   "execution_count": 34,
   "metadata": {
    "collapsed": true
   },
   "outputs": [],
   "source": [
    "submit <- data.frame(PassengerId = test$PassengerId, Survived = Prediction)\n",
    "write.csv(submit, file = \"KaggleCforest.csv\", row.names = FALSE)\n",
    "#0.81340"
   ]
  },
  {
   "cell_type": "code",
   "execution_count": 35,
   "metadata": {
    "collapsed": false
   },
   "outputs": [
    {
     "data": {
      "text/plain": [
       "\n",
       "    11Sage   4Allison   4Baclini    4Becker    4Carter      4Dean    4Herman \n",
       "        11          4          4          4          4          4          4 \n",
       " 4Johnston   4Laroche      4West      5Ford   5Lefebre   5Palsson   5Ryerson \n",
       "         4          4          4          5          5          5          5 \n",
       "  6Fortune    6Panula      6Rice     6Skoog 7Andersson   7Asplund   8Goodwin \n",
       "         6          6          6          6          9          7          8 \n",
       "     Small \n",
       "      1194 "
      ]
     },
     "metadata": {},
     "output_type": "display_data"
    }
   ],
   "source": [
    "# Let's try Random Forest, which only allows factors with up to 32 levels, but FamilyID has 61 levels\n",
    "total$FamilyID2 <- total$FamilyID\n",
    "total$FamilyID2 <- as.character(total$FamilyID2)\n",
    "total$FamilyID2[total$FamilySize <= 3] <- 'Small'\n",
    "total$FamilyID2 <- factor(total$FamilyID2)\n",
    "table(total$FamilyID2)"
   ]
  },
  {
   "cell_type": "code",
   "execution_count": 36,
   "metadata": {
    "collapsed": false
   },
   "outputs": [
    {
     "name": "stderr",
     "output_type": "stream",
     "text": [
      "randomForest 4.6-12\n",
      "Type rfNews() to see new features/changes/bug fixes.\n",
      "\n",
      "Attaching package: 'randomForest'\n",
      "\n",
      "The following object is masked from 'package:ggplot2':\n",
      "\n",
      "    margin\n",
      "\n",
      "The following object is masked from 'package:dplyr':\n",
      "\n",
      "    combine\n",
      "\n"
     ]
    }
   ],
   "source": [
    "library(randomForest)"
   ]
  },
  {
   "cell_type": "code",
   "execution_count": 37,
   "metadata": {
    "collapsed": true
   },
   "outputs": [],
   "source": [
    "train <- total[1:891,]\n",
    "test <- total[892:1309,]"
   ]
  },
  {
   "cell_type": "code",
   "execution_count": 38,
   "metadata": {
    "collapsed": false
   },
   "outputs": [],
   "source": [
    "fit <- randomForest(as.factor(Survived) ~ Pclass + Sex + Age + SibSp + Parch + Fare + Embarked + Title + FamilySize + FamilyID2, \n",
    "                    data=train, \n",
    "                    importance=TRUE, \n",
    "                    ntree=2000)"
   ]
  },
  {
   "cell_type": "code",
   "execution_count": 39,
   "metadata": {
    "collapsed": false
   },
   "outputs": [
    {
     "data": {
      "image/png": "[encoded data removed]",
      "text/plain": [
       "plot without title"
      ]
     },
     "metadata": {},
     "output_type": "display_data"
    }
   ],
   "source": [
    "varImpPlot(fit)"
   ]
  },
  {
   "cell_type": "code",
   "execution_count": 40,
   "metadata": {
    "collapsed": true
   },
   "outputs": [],
   "source": [
    "Prediction <- predict(fit, test)\n",
    "submit <- data.frame(PassengerId = test$PassengerId, Survived = Prediction)\n",
    "write.csv(submit, file = \"KaggleRforest.csv\", row.names = FALSE)\n",
    "#0.77033"
   ]
  },
  {
   "cell_type": "code",
   "execution_count": 43,
   "metadata": {
    "collapsed": false
   },
   "outputs": [
    {
     "name": "stderr",
     "output_type": "stream",
     "text": [
      "Warning message:\n",
      "\"package 'xgboost' was built under R version 3.3.3\"\n",
      "Attaching package: 'xgboost'\n",
      "\n",
      "The following object is masked from 'package:dplyr':\n",
      "\n",
      "    slice\n",
      "\n"
     ]
    }
   ],
   "source": [
    "# Try xgboost\n",
    "library(xgboost)"
   ]
  },
  {
   "cell_type": "code",
   "execution_count": 44,
   "metadata": {
    "collapsed": false
   },
   "outputs": [
    {
     "name": "stdout",
     "output_type": "stream",
     "text": [
      "'data.frame':\t1309 obs. of  17 variables:\n",
      " $ PassengerId: int  1 2 3 4 5 6 7 8 9 10 ...\n",
      " $ Survived   : int  0 1 1 1 0 0 0 0 1 1 ...\n",
      " $ Pclass     : int  3 1 3 1 3 3 1 3 3 2 ...\n",
      " $ Name       : chr  \"Braund, Mr. Owen Harris\" \"Cumings, Mrs. John Bradley (Florence Briggs Thayer)\" \"Heikkinen, Miss. Laina\" \"Futrelle, Mrs. Jacques Heath (Lily May Peel)\" ...\n",
      " $ Sex        : Factor w/ 2 levels \"female\",\"male\": 2 1 1 1 2 2 2 2 1 1 ...\n",
      " $ Age        : num  22 38 26 35 35 ...\n",
      " $ SibSp      : int  1 1 0 1 0 0 0 3 0 1 ...\n",
      " $ Parch      : int  0 0 0 0 0 0 0 1 2 0 ...\n",
      " $ Ticket     : Factor w/ 929 levels \"110152\",\"110413\",..: 524 597 670 50 473 276 86 396 345 133 ...\n",
      " $ Fare       : num  7.25 71.28 7.92 53.1 8.05 ...\n",
      " $ Cabin      : Factor w/ 187 levels \"\",\"A10\",\"A14\",..: 1 83 1 57 1 1 131 1 1 1 ...\n",
      " $ Embarked   : Factor w/ 3 levels \"C\",\"Q\",\"S\": 3 1 3 3 3 2 3 3 3 1 ...\n",
      " $ Title      : Factor w/ 11 levels \"Col\",\"Dr\",\"Lady\",..: 7 8 5 8 7 7 7 4 8 8 ...\n",
      " $ FamilySize : num  2 2 1 2 1 1 1 5 3 2 ...\n",
      " $ Surname    : chr  \"Braund\" \"Cumings\" \"Heikkinen\" \"Futrelle\" ...\n",
      " $ FamilyID   : Factor w/ 61 levels \"11Sage\",\"3Abbott\",..: 61 61 61 61 61 61 61 52 19 61 ...\n",
      " $ FamilyID2  : Factor w/ 22 levels \"11Sage\",\"4Allison\",..: 22 22 22 22 22 22 22 13 22 22 ...\n"
     ]
    }
   ],
   "source": [
    "str(total)"
   ]
  },
  {
   "cell_type": "code",
   "execution_count": 46,
   "metadata": {
    "collapsed": false
   },
   "outputs": [],
   "source": [
    "xgb_total <- select(total, -PassengerId, -Survived, -Name, -Ticket, -Cabin, -Surname, -FamilyID2)"
   ]
  },
  {
   "cell_type": "code",
   "execution_count": 48,
   "metadata": {
    "collapsed": false
   },
   "outputs": [
    {
     "name": "stdout",
     "output_type": "stream",
     "text": [
      "'data.frame':\t1309 obs. of  10 variables:\n",
      " $ Pclass    : Factor w/ 3 levels \"1\",\"2\",\"3\": 3 1 3 1 3 3 1 3 3 2 ...\n",
      " $ Sex       : Factor w/ 2 levels \"female\",\"male\": 2 1 1 1 2 2 2 2 1 1 ...\n",
      " $ Age       : num  22 38 26 35 35 ...\n",
      " $ SibSp     : num  1 1 0 1 0 0 0 3 0 1 ...\n",
      " $ Parch     : num  0 0 0 0 0 0 0 1 2 0 ...\n",
      " $ Fare      : num  7.25 71.28 7.92 53.1 8.05 ...\n",
      " $ Embarked  : Factor w/ 3 levels \"C\",\"Q\",\"S\": 3 1 3 3 3 2 3 3 3 1 ...\n",
      " $ Title     : Factor w/ 11 levels \"Col\",\"Dr\",\"Lady\",..: 7 8 5 8 7 7 7 4 8 8 ...\n",
      " $ FamilySize: num  2 2 1 2 1 1 1 5 3 2 ...\n",
      " $ FamilyID  : Factor w/ 61 levels \"11Sage\",\"3Abbott\",..: 61 61 61 61 61 61 61 52 19 61 ...\n"
     ]
    }
   ],
   "source": [
    "xgb_total$Pclass <- factor(xgb_total$Pclass)\n",
    "xgb_total$SibSp <- as.numeric(xgb_total$SibSp)\n",
    "xgb_total$Parch <- as.numeric(xgb_total$Parch)\n",
    "str(xgb_total)"
   ]
  },
  {
   "cell_type": "code",
   "execution_count": 49,
   "metadata": {
    "collapsed": false
   },
   "outputs": [
    {
     "name": "stderr",
     "output_type": "stream",
     "text": [
      "Warning message:\n",
      "\"package 'caret' was built under R version 3.3.3\"Loading required package: lattice\n"
     ]
    }
   ],
   "source": [
    "library(caret)"
   ]
  },
  {
   "cell_type": "code",
   "execution_count": 50,
   "metadata": {
    "collapsed": true
   },
   "outputs": [],
   "source": [
    "dmy <- dummyVars(\" ~ .\", data = xgb_total, fullRank=T)\n",
    "xgb_total <- data.frame(predict(dmy, newdata = xgb_total))"
   ]
  },
  {
   "cell_type": "code",
   "execution_count": 51,
   "metadata": {
    "collapsed": false
   },
   "outputs": [
    {
     "name": "stdout",
     "output_type": "stream",
     "text": [
      "'data.frame':\t1309 obs. of  80 variables:\n",
      " $ Pclass.2              : num  0 0 0 0 0 0 0 0 0 1 ...\n",
      " $ Pclass.3              : num  1 0 1 0 1 1 0 1 1 0 ...\n",
      " $ Sex.male              : num  1 0 0 0 1 1 1 1 0 0 ...\n",
      " $ Age                   : num  22 38 26 35 35 ...\n",
      " $ SibSp                 : num  1 1 0 1 0 0 0 3 0 1 ...\n",
      " $ Parch                 : num  0 0 0 0 0 0 0 1 2 0 ...\n",
      " $ Fare                  : num  7.25 71.28 7.92 53.1 8.05 ...\n",
      " $ Embarked.Q            : num  0 0 0 0 0 1 0 0 0 0 ...\n",
      " $ Embarked.S            : num  1 0 1 1 1 0 1 1 1 0 ...\n",
      " $ Title.Dr              : num  0 0 0 0 0 0 0 0 0 0 ...\n",
      " $ Title.Lady            : num  0 0 0 0 0 0 0 0 0 0 ...\n",
      " $ Title.Master          : num  0 0 0 0 0 0 0 1 0 0 ...\n",
      " $ Title.Miss            : num  0 0 1 0 0 0 0 0 0 0 ...\n",
      " $ Title.Mlle            : num  0 0 0 0 0 0 0 0 0 0 ...\n",
      " $ Title.Mr              : num  1 0 0 0 1 1 1 0 0 0 ...\n",
      " $ Title.Mrs             : num  0 1 0 1 0 0 0 0 1 1 ...\n",
      " $ Title.Ms              : num  0 0 0 0 0 0 0 0 0 0 ...\n",
      " $ Title.Rev             : num  0 0 0 0 0 0 0 0 0 0 ...\n",
      " $ Title.Sir             : num  0 0 0 0 0 0 0 0 0 0 ...\n",
      " $ FamilySize            : num  2 2 1 2 1 1 1 5 3 2 ...\n",
      " $ FamilyID.3Abbott      : num  0 0 0 0 0 0 0 0 0 0 ...\n",
      " $ FamilyID.3Boulos      : num  0 0 0 0 0 0 0 0 0 0 ...\n",
      " $ FamilyID.3Bourke      : num  0 0 0 0 0 0 0 0 0 0 ...\n",
      " $ FamilyID.3Brown       : num  0 0 0 0 0 0 0 0 0 0 ...\n",
      " $ FamilyID.3Caldwell    : num  0 0 0 0 0 0 0 0 0 0 ...\n",
      " $ FamilyID.3Collyer     : num  0 0 0 0 0 0 0 0 0 0 ...\n",
      " $ FamilyID.3Compton     : num  0 0 0 0 0 0 0 0 0 0 ...\n",
      " $ FamilyID.3Coutts      : num  0 0 0 0 0 0 0 0 0 0 ...\n",
      " $ FamilyID.3Crosby      : num  0 0 0 0 0 0 0 0 0 0 ...\n",
      " $ FamilyID.3Danbom      : num  0 0 0 0 0 0 0 0 0 0 ...\n",
      " $ FamilyID.3Davies      : num  0 0 0 0 0 0 0 0 0 0 ...\n",
      " $ FamilyID.3Dodge       : num  0 0 0 0 0 0 0 0 0 0 ...\n",
      " $ FamilyID.3Drew        : num  0 0 0 0 0 0 0 0 0 0 ...\n",
      " $ FamilyID.3Elias       : num  0 0 0 0 0 0 0 0 0 0 ...\n",
      " $ FamilyID.3Goldsmith   : num  0 0 0 0 0 0 0 0 0 0 ...\n",
      " $ FamilyID.3Hart        : num  0 0 0 0 0 0 0 0 0 0 ...\n",
      " $ FamilyID.3Hickman     : num  0 0 0 0 0 0 0 0 0 0 ...\n",
      " $ FamilyID.3Johnson     : num  0 0 0 0 0 0 0 0 1 0 ...\n",
      " $ FamilyID.3Klasen      : num  0 0 0 0 0 0 0 0 0 0 ...\n",
      " $ FamilyID.3Mallet      : num  0 0 0 0 0 0 0 0 0 0 ...\n",
      " $ FamilyID.3McCoy       : num  0 0 0 0 0 0 0 0 0 0 ...\n",
      " $ FamilyID.3Moubarek    : num  0 0 0 0 0 0 0 0 0 0 ...\n",
      " $ FamilyID.3Nakid       : num  0 0 0 0 0 0 0 0 0 0 ...\n",
      " $ FamilyID.3Navratil    : num  0 0 0 0 0 0 0 0 0 0 ...\n",
      " $ FamilyID.3Peacock     : num  0 0 0 0 0 0 0 0 0 0 ...\n",
      " $ FamilyID.3Peter       : num  0 0 0 0 0 0 0 0 0 0 ...\n",
      " $ FamilyID.3Quick       : num  0 0 0 0 0 0 0 0 0 0 ...\n",
      " $ FamilyID.3Rosblom     : num  0 0 0 0 0 0 0 0 0 0 ...\n",
      " $ FamilyID.3Samaan      : num  0 0 0 0 0 0 0 0 0 0 ...\n",
      " $ FamilyID.3Sandstrom   : num  0 0 0 0 0 0 0 0 0 0 ...\n",
      " $ FamilyID.3Spedden     : num  0 0 0 0 0 0 0 0 0 0 ...\n",
      " $ FamilyID.3Taussig     : num  0 0 0 0 0 0 0 0 0 0 ...\n",
      " $ FamilyID.3Thayer      : num  0 0 0 0 0 0 0 0 0 0 ...\n",
      " $ FamilyID.3Touma       : num  0 0 0 0 0 0 0 0 0 0 ...\n",
      " $ FamilyID.3van.Billiard: num  0 0 0 0 0 0 0 0 0 0 ...\n",
      " $ FamilyID.3Van.Impe    : num  0 0 0 0 0 0 0 0 0 0 ...\n",
      " $ FamilyID.3Wells       : num  0 0 0 0 0 0 0 0 0 0 ...\n",
      " $ FamilyID.3Wick        : num  0 0 0 0 0 0 0 0 0 0 ...\n",
      " $ FamilyID.3Widener     : num  0 0 0 0 0 0 0 0 0 0 ...\n",
      " $ FamilyID.4Allison     : num  0 0 0 0 0 0 0 0 0 0 ...\n",
      " $ FamilyID.4Baclini     : num  0 0 0 0 0 0 0 0 0 0 ...\n",
      " $ FamilyID.4Becker      : num  0 0 0 0 0 0 0 0 0 0 ...\n",
      " $ FamilyID.4Carter      : num  0 0 0 0 0 0 0 0 0 0 ...\n",
      " $ FamilyID.4Dean        : num  0 0 0 0 0 0 0 0 0 0 ...\n",
      " $ FamilyID.4Herman      : num  0 0 0 0 0 0 0 0 0 0 ...\n",
      " $ FamilyID.4Johnston    : num  0 0 0 0 0 0 0 0 0 0 ...\n",
      " $ FamilyID.4Laroche     : num  0 0 0 0 0 0 0 0 0 0 ...\n",
      " $ FamilyID.4West        : num  0 0 0 0 0 0 0 0 0 0 ...\n",
      " $ FamilyID.5Ford        : num  0 0 0 0 0 0 0 0 0 0 ...\n",
      " $ FamilyID.5Lefebre     : num  0 0 0 0 0 0 0 0 0 0 ...\n",
      " $ FamilyID.5Palsson     : num  0 0 0 0 0 0 0 1 0 0 ...\n",
      " $ FamilyID.5Ryerson     : num  0 0 0 0 0 0 0 0 0 0 ...\n",
      " $ FamilyID.6Fortune     : num  0 0 0 0 0 0 0 0 0 0 ...\n",
      " $ FamilyID.6Panula      : num  0 0 0 0 0 0 0 0 0 0 ...\n",
      " $ FamilyID.6Rice        : num  0 0 0 0 0 0 0 0 0 0 ...\n",
      " $ FamilyID.6Skoog       : num  0 0 0 0 0 0 0 0 0 0 ...\n",
      " $ FamilyID.7Andersson   : num  0 0 0 0 0 0 0 0 0 0 ...\n",
      " $ FamilyID.7Asplund     : num  0 0 0 0 0 0 0 0 0 0 ...\n",
      " $ FamilyID.8Goodwin     : num  0 0 0 0 0 0 0 0 0 0 ...\n",
      " $ FamilyID.Small        : num  1 1 1 1 1 1 1 0 0 1 ...\n"
     ]
    }
   ],
   "source": [
    "str(xgb_total)"
   ]
  },
  {
   "cell_type": "code",
   "execution_count": 52,
   "metadata": {
    "collapsed": true
   },
   "outputs": [],
   "source": [
    "train <- xgb_total[1:891,]\n",
    "label <- as.numeric(total[1:891,]$Survived)\n",
    "test <- xgb_total[892:1309,]"
   ]
  },
  {
   "cell_type": "code",
   "execution_count": 55,
   "metadata": {
    "collapsed": false
   },
   "outputs": [],
   "source": [
    "dtrain <- xgb.DMatrix(data = data.matrix(train), label = label)\n",
    "dtest <- data.matrix(test)"
   ]
  },
  {
   "cell_type": "code",
   "execution_count": 80,
   "metadata": {
    "collapsed": false
   },
   "outputs": [
    {
     "name": "stdout",
     "output_type": "stream",
     "text": [
      "[1]\ttrain-auc:0.896300 \n",
      "[2]\ttrain-auc:0.898548 \n",
      "[3]\ttrain-auc:0.900622 \n",
      "[4]\ttrain-auc:0.900111 \n",
      "[5]\ttrain-auc:0.899299 \n",
      "[6]\ttrain-auc:0.900079 \n",
      "[7]\ttrain-auc:0.900082 \n",
      "[8]\ttrain-auc:0.900793 \n",
      "[9]\ttrain-auc:0.901679 \n",
      "[10]\ttrain-auc:0.902683 \n",
      "[11]\ttrain-auc:0.902401 \n",
      "[12]\ttrain-auc:0.902707 \n",
      "[13]\ttrain-auc:0.902465 \n",
      "[14]\ttrain-auc:0.902233 \n",
      "[15]\ttrain-auc:0.902643 \n",
      "[16]\ttrain-auc:0.902153 \n",
      "[17]\ttrain-auc:0.902412 \n",
      "[18]\ttrain-auc:0.902380 \n",
      "[19]\ttrain-auc:0.902731 \n",
      "[20]\ttrain-auc:0.902603 \n",
      "[21]\ttrain-auc:0.902497 \n",
      "[22]\ttrain-auc:0.901165 \n",
      "[23]\ttrain-auc:0.901322 \n",
      "[24]\ttrain-auc:0.901456 \n",
      "[25]\ttrain-auc:0.901157 \n",
      "[26]\ttrain-auc:0.901200 \n",
      "[27]\ttrain-auc:0.901152 \n",
      "[28]\ttrain-auc:0.906007 \n",
      "[29]\ttrain-auc:0.905943 \n",
      "[30]\ttrain-auc:0.905937 \n",
      "[31]\ttrain-auc:0.905884 \n",
      "[32]\ttrain-auc:0.905964 \n",
      "[33]\ttrain-auc:0.906148 \n",
      "[34]\ttrain-auc:0.905991 \n",
      "[35]\ttrain-auc:0.905985 \n",
      "[36]\ttrain-auc:0.906270 \n",
      "[37]\ttrain-auc:0.906249 \n",
      "[38]\ttrain-auc:0.906206 \n",
      "[39]\ttrain-auc:0.906257 \n",
      "[40]\ttrain-auc:0.906348 \n",
      "[41]\ttrain-auc:0.912270 \n",
      "[42]\ttrain-auc:0.912355 \n",
      "[43]\ttrain-auc:0.912488 \n",
      "[44]\ttrain-auc:0.912483 \n",
      "[45]\ttrain-auc:0.912451 \n",
      "[46]\ttrain-auc:0.912510 \n",
      "[47]\ttrain-auc:0.912515 \n",
      "[48]\ttrain-auc:0.913479 \n",
      "[49]\ttrain-auc:0.913506 \n",
      "[50]\ttrain-auc:0.913404 \n"
     ]
    }
   ],
   "source": [
    "set.seed(101)\n",
    "fit <- xgboost(dtrain, \n",
    "               objective=\"binary:logistic\", \n",
    "               nrounds=50, \n",
    "               eta=0.001, \n",
    "               max_depth=20, \n",
    "               subsample=0.75, \n",
    "               colsample_bytree=0.8, \n",
    "               eval_metric=\"auc\")"
   ]
  },
  {
   "cell_type": "code",
   "execution_count": 81,
   "metadata": {
    "collapsed": false
   },
   "outputs": [
    {
     "data": {
      "text/html": [
       "<table>\n",
       "<thead><tr><th scope=col>Feature</th><th scope=col>Gain</th><th scope=col>Cover</th><th scope=col>Frequency</th></tr></thead>\n",
       "<tbody>\n",
       "\t<tr><td>Title.Mr      </td><td>0.3481213631  </td><td>0.149489837   </td><td>0.024034960   </td></tr>\n",
       "\t<tr><td>Sex.male      </td><td>0.1981334690  </td><td>0.101019790   </td><td>0.023306628   </td></tr>\n",
       "\t<tr><td>Fare          </td><td>0.1489110505  </td><td>0.313235305   </td><td>0.422432629   </td></tr>\n",
       "\t<tr><td>Pclass.3      </td><td>0.0965400567  </td><td>0.084007805   </td><td>0.039329934   </td></tr>\n",
       "\t<tr><td>Age           </td><td>0.0661102554  </td><td>0.153508992   </td><td>0.255644574   </td></tr>\n",
       "\t<tr><td>FamilySize    </td><td>0.0548691571  </td><td>0.055558470   </td><td>0.048798252   </td></tr>\n",
       "\t<tr><td>SibSp         </td><td>0.0238342650  </td><td>0.017383097   </td><td>0.041514931   </td></tr>\n",
       "\t<tr><td>Title.Miss    </td><td>0.0096518132  </td><td>0.011744903   </td><td>0.021121631   </td></tr>\n",
       "\t<tr><td>Title.Mrs     </td><td>0.0094168654  </td><td>0.011508502   </td><td>0.013838310   </td></tr>\n",
       "\t<tr><td>Embarked.S    </td><td>0.0090412552  </td><td>0.021158486   </td><td>0.037144938   </td></tr>\n",
       "\t<tr><td>Pclass.2      </td><td>0.0082979329  </td><td>0.015095634   </td><td>0.016023307   </td></tr>\n",
       "\t<tr><td>Title.Master  </td><td>0.0081430479  </td><td>0.019685840   </td><td>0.008011653   </td></tr>\n",
       "\t<tr><td>Title.Rev     </td><td>0.0078501810  </td><td>0.010745693   </td><td>0.006554989   </td></tr>\n",
       "\t<tr><td>FamilyID.Small</td><td>0.0034461555  </td><td>0.010580469   </td><td>0.013109978   </td></tr>\n",
       "\t<tr><td>Title.Dr      </td><td>0.0027146337  </td><td>0.010555434   </td><td>0.007283321   </td></tr>\n",
       "\t<tr><td>Parch         </td><td>0.0023091959  </td><td>0.006759082   </td><td>0.012381646   </td></tr>\n",
       "\t<tr><td>Embarked.Q    </td><td>0.0018455499  </td><td>0.004736066   </td><td>0.007283321   </td></tr>\n",
       "\t<tr><td>Title.Sir     </td><td>0.0007637525  </td><td>0.003226596   </td><td>0.002184996   </td></tr>\n",
       "</tbody>\n",
       "</table>\n"
      ],
      "text/latex": [
       "\\begin{tabular}{r|llll}\n",
       " Feature & Gain & Cover & Frequency\\\\\n",
       "\\hline\n",
       "\t Title.Mr       & 0.3481213631   & 0.149489837    & 0.024034960   \\\\\n",
       "\t Sex.male       & 0.1981334690   & 0.101019790    & 0.023306628   \\\\\n",
       "\t Fare           & 0.1489110505   & 0.313235305    & 0.422432629   \\\\\n",
       "\t Pclass.3       & 0.0965400567   & 0.084007805    & 0.039329934   \\\\\n",
       "\t Age            & 0.0661102554   & 0.153508992    & 0.255644574   \\\\\n",
       "\t FamilySize     & 0.0548691571   & 0.055558470    & 0.048798252   \\\\\n",
       "\t SibSp          & 0.0238342650   & 0.017383097    & 0.041514931   \\\\\n",
       "\t Title.Miss     & 0.0096518132   & 0.011744903    & 0.021121631   \\\\\n",
       "\t Title.Mrs      & 0.0094168654   & 0.011508502    & 0.013838310   \\\\\n",
       "\t Embarked.S     & 0.0090412552   & 0.021158486    & 0.037144938   \\\\\n",
       "\t Pclass.2       & 0.0082979329   & 0.015095634    & 0.016023307   \\\\\n",
       "\t Title.Master   & 0.0081430479   & 0.019685840    & 0.008011653   \\\\\n",
       "\t Title.Rev      & 0.0078501810   & 0.010745693    & 0.006554989   \\\\\n",
       "\t FamilyID.Small & 0.0034461555   & 0.010580469    & 0.013109978   \\\\\n",
       "\t Title.Dr       & 0.0027146337   & 0.010555434    & 0.007283321   \\\\\n",
       "\t Parch          & 0.0023091959   & 0.006759082    & 0.012381646   \\\\\n",
       "\t Embarked.Q     & 0.0018455499   & 0.004736066    & 0.007283321   \\\\\n",
       "\t Title.Sir      & 0.0007637525   & 0.003226596    & 0.002184996   \\\\\n",
       "\\end{tabular}\n"
      ],
      "text/markdown": [
       "\n",
       "Feature | Gain | Cover | Frequency | \n",
       "|---|---|---|---|---|---|---|---|---|---|---|---|---|---|---|---|---|---|\n",
       "| Title.Mr       | 0.3481213631   | 0.149489837    | 0.024034960    | \n",
       "| Sex.male       | 0.1981334690   | 0.101019790    | 0.023306628    | \n",
       "| Fare           | 0.1489110505   | 0.313235305    | 0.422432629    | \n",
       "| Pclass.3       | 0.0965400567   | 0.084007805    | 0.039329934    | \n",
       "| Age            | 0.0661102554   | 0.153508992    | 0.255644574    | \n",
       "| FamilySize     | 0.0548691571   | 0.055558470    | 0.048798252    | \n",
       "| SibSp          | 0.0238342650   | 0.017383097    | 0.041514931    | \n",
       "| Title.Miss     | 0.0096518132   | 0.011744903    | 0.021121631    | \n",
       "| Title.Mrs      | 0.0094168654   | 0.011508502    | 0.013838310    | \n",
       "| Embarked.S     | 0.0090412552   | 0.021158486    | 0.037144938    | \n",
       "| Pclass.2       | 0.0082979329   | 0.015095634    | 0.016023307    | \n",
       "| Title.Master   | 0.0081430479   | 0.019685840    | 0.008011653    | \n",
       "| Title.Rev      | 0.0078501810   | 0.010745693    | 0.006554989    | \n",
       "| FamilyID.Small | 0.0034461555   | 0.010580469    | 0.013109978    | \n",
       "| Title.Dr       | 0.0027146337   | 0.010555434    | 0.007283321    | \n",
       "| Parch          | 0.0023091959   | 0.006759082    | 0.012381646    | \n",
       "| Embarked.Q     | 0.0018455499   | 0.004736066    | 0.007283321    | \n",
       "| Title.Sir      | 0.0007637525   | 0.003226596    | 0.002184996    | \n",
       "\n",
       "\n"
      ],
      "text/plain": [
       "   Feature        Gain         Cover       Frequency  \n",
       "1  Title.Mr       0.3481213631 0.149489837 0.024034960\n",
       "2  Sex.male       0.1981334690 0.101019790 0.023306628\n",
       "3  Fare           0.1489110505 0.313235305 0.422432629\n",
       "4  Pclass.3       0.0965400567 0.084007805 0.039329934\n",
       "5  Age            0.0661102554 0.153508992 0.255644574\n",
       "6  FamilySize     0.0548691571 0.055558470 0.048798252\n",
       "7  SibSp          0.0238342650 0.017383097 0.041514931\n",
       "8  Title.Miss     0.0096518132 0.011744903 0.021121631\n",
       "9  Title.Mrs      0.0094168654 0.011508502 0.013838310\n",
       "10 Embarked.S     0.0090412552 0.021158486 0.037144938\n",
       "11 Pclass.2       0.0082979329 0.015095634 0.016023307\n",
       "12 Title.Master   0.0081430479 0.019685840 0.008011653\n",
       "13 Title.Rev      0.0078501810 0.010745693 0.006554989\n",
       "14 FamilyID.Small 0.0034461555 0.010580469 0.013109978\n",
       "15 Title.Dr       0.0027146337 0.010555434 0.007283321\n",
       "16 Parch          0.0023091959 0.006759082 0.012381646\n",
       "17 Embarked.Q     0.0018455499 0.004736066 0.007283321\n",
       "18 Title.Sir      0.0007637525 0.003226596 0.002184996"
      ]
     },
     "metadata": {},
     "output_type": "display_data"
    }
   ],
   "source": [
    "importance <- xgb.importance(feature_names = names(test), model = fit)\n",
    "importance"
   ]
  },
  {
   "cell_type": "code",
   "execution_count": 84,
   "metadata": {
    "collapsed": true
   },
   "outputs": [],
   "source": [
    "pred <- predict(fit, dtest)\n",
    "Prediction <- ifelse(pred > 0.5, 1, 0)"
   ]
  },
  {
   "cell_type": "code",
   "execution_count": 85,
   "metadata": {
    "collapsed": false
   },
   "outputs": [],
   "source": [
    "submit <- data.frame(PassengerId = total[892:1309,]$PassengerId, Survived = Prediction)\n",
    "write.csv(submit, file = \"KaggleXgb.csv\", row.names = FALSE)\n",
    "#0.79426"
   ]
  }
 ],
 "metadata": {
  "kernelspec": {
   "display_name": "R",
   "language": "R",
   "name": "ir"
  },
  "language_info": {
   "codemirror_mode": "r",
   "file_extension": ".r",
   "mimetype": "text/x-r-source",
   "name": "R",
   "pygments_lexer": "r",
   "version": "3.3.2"
  }
 },
 "nbformat": 4,
 "nbformat_minor": 2
}
