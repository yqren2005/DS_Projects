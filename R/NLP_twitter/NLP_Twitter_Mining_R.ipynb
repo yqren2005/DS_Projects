{
 "cells": [
  {
   "cell_type": "markdown",
   "metadata": {},
   "source": [
    "### Mining the live tweets to find which words are most frequently mentioned with \"trump\" in Twitter :)"
   ]
  },
  {
   "cell_type": "code",
   "execution_count": 1,
   "metadata": {
    "collapsed": false
   },
   "outputs": [],
   "source": [
    "#install.packages('tm',repos='http://cran.us.r-project.org')\n",
    "#install.packages('twitteR',repos='http://cran.us.r-project.org')\n",
    "#install.packages('wordcloud',repos='http://cran.us.r-project.org')\n",
    "#install.packages('RColorBrewer',repos='http://cran.us.r-project.org')\n",
    "#install.packages('e1017',repos='http://cran.us.r-project.org')\n",
    "#install.packages('class',repos='http://cran.us.r-project.org')"
   ]
  },
  {
   "cell_type": "code",
   "execution_count": 2,
   "metadata": {
    "collapsed": false
   },
   "outputs": [
    {
     "name": "stderr",
     "output_type": "stream",
     "text": [
      "Warning message:\n",
      "\"package 'twitteR' was built under R version 3.3.3\"Warning message:\n",
      "\"package 'tm' was built under R version 3.3.3\"Loading required package: NLP\n",
      "Warning message:\n",
      "\"package 'wordcloud' was built under R version 3.3.3\"Loading required package: RColorBrewer\n"
     ]
    }
   ],
   "source": [
    "library(twitteR)\n",
    "library(tm)\n",
    "library(wordcloud)\n",
    "library(RColorBrewer)"
   ]
  },
  {
   "cell_type": "code",
   "execution_count": 3,
   "metadata": {
    "collapsed": false
   },
   "outputs": [
    {
     "name": "stdout",
     "output_type": "stream",
     "text": [
      "[1] \"Using direct authentication\"\n"
     ]
    }
   ],
   "source": [
    "setup_twitter_oauth(consumer_key = 'KsIYto8YaIraC1IFq0WzqmivH', \n",
    "                    consumer_secret = 'YQv3u6GS9L1iQKOnQw3RF9oIKPDqsh9bCVcB82nQl9MwX9Qz4o', \n",
    "                    access_token = '23032405-ECuOigic4lweMdZFpPm29LqEdbUU2mI6CXOqv8IGI', \n",
    "                    access_secret = 'Opf1rAJSaVz3fLBEZrpdZY6S6gltLNb3VHGX1ZaWIBuZe')"
   ]
  },
  {
   "cell_type": "code",
   "execution_count": 4,
   "metadata": {
    "collapsed": false
   },
   "outputs": [],
   "source": [
    "trump.tweets <- searchTwitter(\"trump\", n=2000, lang=\"en\")\n",
    "trump.text <- sapply(trump.tweets, function(x) x$getText())"
   ]
  },
  {
   "cell_type": "code",
   "execution_count": 5,
   "metadata": {
    "collapsed": false
   },
   "outputs": [],
   "source": [
    "trump.text <- iconv(trump.text, 'UTF-8', 'ASCII') # remove emoticons\n",
    "trump.corpus <- Corpus(VectorSource(trump.text)) # create a corpus"
   ]
  },
  {
   "cell_type": "code",
   "execution_count": 6,
   "metadata": {
    "collapsed": false
   },
   "outputs": [],
   "source": [
    "# remove stop words, hyperlinks, punctuation and numbers, and lower the text\n",
    "term.doc.matrix <- TermDocumentMatrix(trump.corpus,\n",
    "                                      control = list(removePunctuation = TRUE,\n",
    "                                                     stopwords = c(\"trump\", \"donald\", \"http\", \"https\", stopwords(\"english\")),\n",
    "                                                     removeNumbers = TRUE, tolower = TRUE))"
   ]
  },
  {
   "cell_type": "code",
   "execution_count": 7,
   "metadata": {
    "collapsed": false
   },
   "outputs": [
    {
     "data": {
      "text/html": [
       "<ol class=list-inline>\n",
       "\t<li>'TermDocumentMatrix'</li>\n",
       "\t<li>'simple_triplet_matrix'</li>\n",
       "</ol>\n"
      ],
      "text/latex": [
       "\\begin{enumerate*}\n",
       "\\item 'TermDocumentMatrix'\n",
       "\\item 'simple\\_triplet\\_matrix'\n",
       "\\end{enumerate*}\n"
      ],
      "text/markdown": [
       "1. 'TermDocumentMatrix'\n",
       "2. 'simple_triplet_matrix'\n",
       "\n",
       "\n"
      ],
      "text/plain": [
       "[1] \"TermDocumentMatrix\"    \"simple_triplet_matrix\""
      ]
     },
     "metadata": {},
     "output_type": "display_data"
    }
   ],
   "source": [
    "class(term.doc.matrix)"
   ]
  },
  {
   "cell_type": "code",
   "execution_count": 8,
   "metadata": {
    "collapsed": true
   },
   "outputs": [],
   "source": [
    "term.doc.matrix <- as.matrix(term.doc.matrix)"
   ]
  },
  {
   "cell_type": "code",
   "execution_count": 9,
   "metadata": {
    "collapsed": false
   },
   "outputs": [
    {
     "data": {
      "text/html": [
       "'matrix'"
      ],
      "text/latex": [
       "'matrix'"
      ],
      "text/markdown": [
       "'matrix'"
      ],
      "text/plain": [
       "[1] \"matrix\""
      ]
     },
     "metadata": {},
     "output_type": "display_data"
    }
   ],
   "source": [
    "class(term.doc.matrix)"
   ]
  },
  {
   "cell_type": "code",
   "execution_count": 10,
   "metadata": {
    "collapsed": false
   },
   "outputs": [
    {
     "data": {
      "text/html": [
       "<table>\n",
       "<thead><tr><th></th><th scope=col>1</th><th scope=col>2</th><th scope=col>3</th><th scope=col>4</th><th scope=col>5</th><th scope=col>6</th><th scope=col>7</th><th scope=col>8</th><th scope=col>9</th><th scope=col>10</th><th scope=col>...</th><th scope=col>1991</th><th scope=col>1992</th><th scope=col>1993</th><th scope=col>1994</th><th scope=col>1995</th><th scope=col>1996</th><th scope=col>1997</th><th scope=col>1998</th><th scope=col>1999</th><th scope=col>2000</th></tr></thead>\n",
       "<tbody>\n",
       "\t<tr><th scope=row>hypocrite</th><td>0  </td><td>0  </td><td>0  </td><td>0  </td><td>0  </td><td>0  </td><td>0  </td><td>0  </td><td>0  </td><td>0  </td><td>...</td><td>0  </td><td>0  </td><td>0  </td><td>0  </td><td>0  </td><td>0  </td><td>0  </td><td>0  </td><td>0  </td><td>0  </td></tr>\n",
       "\t<tr><th scope=row>tickets</th><td>0  </td><td>0  </td><td>0  </td><td>0  </td><td>0  </td><td>0  </td><td>0  </td><td>0  </td><td>0  </td><td>0  </td><td>...</td><td>0  </td><td>0  </td><td>0  </td><td>0  </td><td>0  </td><td>0  </td><td>0  </td><td>0  </td><td>0  </td><td>0  </td></tr>\n",
       "\t<tr><th scope=row>bidder</th><td>0  </td><td>0  </td><td>0  </td><td>0  </td><td>0  </td><td>0  </td><td>0  </td><td>0  </td><td>0  </td><td>0  </td><td>...</td><td>0  </td><td>0  </td><td>1  </td><td>0  </td><td>0  </td><td>0  </td><td>0  </td><td>0  </td><td>0  </td><td>0  </td></tr>\n",
       "\t<tr><th scope=row>highest</th><td>0  </td><td>0  </td><td>0  </td><td>0  </td><td>0  </td><td>0  </td><td>0  </td><td>0  </td><td>0  </td><td>0  </td><td>...</td><td>0  </td><td>0  </td><td>1  </td><td>0  </td><td>0  </td><td>0  </td><td>0  </td><td>0  </td><td>0  </td><td>0  </td></tr>\n",
       "\t<tr><th scope=row>parks</th><td>0  </td><td>0  </td><td>0  </td><td>0  </td><td>0  </td><td>0  </td><td>0  </td><td>0  </td><td>0  </td><td>0  </td><td>...</td><td>0  </td><td>0  </td><td>1  </td><td>0  </td><td>0  </td><td>0  </td><td>0  </td><td>0  </td><td>0  </td><td>0  </td></tr>\n",
       "\t<tr><th scope=row>sale</th><td>0  </td><td>0  </td><td>0  </td><td>0  </td><td>0  </td><td>0  </td><td>0  </td><td>0  </td><td>0  </td><td>0  </td><td>...</td><td>0  </td><td>0  </td><td>1  </td><td>0  </td><td>0  </td><td>0  </td><td>0  </td><td>0  </td><td>0  </td><td>0  </td></tr>\n",
       "</tbody>\n",
       "</table>\n"
      ],
      "text/latex": [
       "\\begin{tabular}{r|llllllllllllllllllllllllllllllllllllllllllllllllllllllllllllllllllllllllllllllllllllllllllllllllllllllllllllllllllllllllllllllllllllllllllllllllllllllllllllllllllllllllllllllllllllllllllllllllllllllllllllllllllllllllllllllllllllllllllllllllllllllllllllllllllllllllllllllllllllllllllllllllllllllllllllllllllllllllllllllllllllllllllllllllllllllllllllllllllllllllllllllllllllllllllllllllllllllllllllllllllllllllllllllllllllllllllllllllllllllllllllllllllllllllllllllllllllllllllllllllllllllllllllllllllllllllllllllllllllllllllllllllllllllllllllllllllllllllllllllllllllllllllllllllllllllllllllllllllllllllllllllllllllllllllllllllllllllllllllllllllllllllllllllllllllllllllllllllllllllllllllllllllllllllllllllllllllllllllllllllllllllllllllllllllllllllllllllllllllllllllllllllllllllllllllllllllllllllllllllllllllllllllllllllllllllllllllllllllllllllllllllllllllllllllllllllllllllllllllllllllllllllllllllllllllllllllllllllllllllllllllllllllllllllllllllllllllllllllllllllllllllllllllllllllllllllllllllllllllllllllllllllllllllllllllllllllllllllllllllllllllllllllllllllllllllllllllllllllllllllllllllllllllllllllllllllllllllllllllllllllllllllllllllllllllllllllllllllllllllllllllllllllllllllllllllllllllllllllllllllllllllllllllllllllllllllllllllllllllllllllllllllllllllllllllllllllllllllllllllllllllllllllllllllllllllllllllllllllllllllllllllllllllllllllllllllllllllllllllllllllllllllllllllllllllllllllllllllllllllllllllllllllllllllllllllllllllllllllllllllllllllllllllllllllllllllllllllllllllllllllllllllllllllllllllllllllllllllllllllllllllllllllllllllllllllllllllllllllllllllllllllllllllllllllllllllllllllllllllllllllllllllllllllllllllllllllllllllllllllllllllllllllllllllllllllllllllllllllllllllllllllllllllllllllllllllllllllllllllllllllllllllllllllllllllllllllllllllllllllllllllllllllllllllllllllllllllllllllllllllllllllllllllllllllllllllllllllllllllllllllllllllllllllllllllllllllllllllllllllllllllllllllllllllllllllllllllllllllllllllllllllllllllllllllllllllllllllllllllllllllllllllllllllllllllllllllllllllllllllll}\n",
       "  & 1 & 2 & 3 & 4 & 5 & 6 & 7 & 8 & 9 & 10 & ... & 1991 & 1992 & 1993 & 1994 & 1995 & 1996 & 1997 & 1998 & 1999 & 2000\\\\\n",
       "\\hline\n",
       "\thypocrite & 0   & 0   & 0   & 0   & 0   & 0   & 0   & 0   & 0   & 0   & ... & 0   & 0   & 0   & 0   & 0   & 0   & 0   & 0   & 0   & 0  \\\\\n",
       "\ttickets & 0   & 0   & 0   & 0   & 0   & 0   & 0   & 0   & 0   & 0   & ... & 0   & 0   & 0   & 0   & 0   & 0   & 0   & 0   & 0   & 0  \\\\\n",
       "\tbidder & 0   & 0   & 0   & 0   & 0   & 0   & 0   & 0   & 0   & 0   & ... & 0   & 0   & 1   & 0   & 0   & 0   & 0   & 0   & 0   & 0  \\\\\n",
       "\thighest & 0   & 0   & 0   & 0   & 0   & 0   & 0   & 0   & 0   & 0   & ... & 0   & 0   & 1   & 0   & 0   & 0   & 0   & 0   & 0   & 0  \\\\\n",
       "\tparks & 0   & 0   & 0   & 0   & 0   & 0   & 0   & 0   & 0   & 0   & ... & 0   & 0   & 1   & 0   & 0   & 0   & 0   & 0   & 0   & 0  \\\\\n",
       "\tsale & 0   & 0   & 0   & 0   & 0   & 0   & 0   & 0   & 0   & 0   & ... & 0   & 0   & 1   & 0   & 0   & 0   & 0   & 0   & 0   & 0  \\\\\n",
       "\\end{tabular}\n"
      ],
      "text/markdown": [
       "\n",
       "| <!--/--> | 1 | 2 | 3 | 4 | 5 | 6 | 7 | 8 | 9 | 10 | ... | 1991 | 1992 | 1993 | 1994 | 1995 | 1996 | 1997 | 1998 | 1999 | 2000 | \n",
       "|---|---|---|---|---|---|\n",
       "| hypocrite | 0   | 0   | 0   | 0   | 0   | 0   | 0   | 0   | 0   | 0   | ... | 0   | 0   | 0   | 0   | 0   | 0   | 0   | 0   | 0   | 0   | \n",
       "| tickets | 0   | 0   | 0   | 0   | 0   | 0   | 0   | 0   | 0   | 0   | ... | 0   | 0   | 0   | 0   | 0   | 0   | 0   | 0   | 0   | 0   | \n",
       "| bidder | 0   | 0   | 0   | 0   | 0   | 0   | 0   | 0   | 0   | 0   | ... | 0   | 0   | 1   | 0   | 0   | 0   | 0   | 0   | 0   | 0   | \n",
       "| highest | 0   | 0   | 0   | 0   | 0   | 0   | 0   | 0   | 0   | 0   | ... | 0   | 0   | 1   | 0   | 0   | 0   | 0   | 0   | 0   | 0   | \n",
       "| parks | 0   | 0   | 0   | 0   | 0   | 0   | 0   | 0   | 0   | 0   | ... | 0   | 0   | 1   | 0   | 0   | 0   | 0   | 0   | 0   | 0   | \n",
       "| sale | 0   | 0   | 0   | 0   | 0   | 0   | 0   | 0   | 0   | 0   | ... | 0   | 0   | 1   | 0   | 0   | 0   | 0   | 0   | 0   | 0   | \n",
       "\n",
       "\n"
      ],
      "text/plain": [
       "          1 2 3 4 5 6 7 8 9 10 ... 1991 1992 1993 1994 1995 1996 1997 1998 1999\n",
       "hypocrite 0 0 0 0 0 0 0 0 0 0  ... 0    0    0    0    0    0    0    0    0   \n",
       "tickets   0 0 0 0 0 0 0 0 0 0  ... 0    0    0    0    0    0    0    0    0   \n",
       "bidder    0 0 0 0 0 0 0 0 0 0  ... 0    0    1    0    0    0    0    0    0   \n",
       "highest   0 0 0 0 0 0 0 0 0 0  ... 0    0    1    0    0    0    0    0    0   \n",
       "parks     0 0 0 0 0 0 0 0 0 0  ... 0    0    1    0    0    0    0    0    0   \n",
       "sale      0 0 0 0 0 0 0 0 0 0  ... 0    0    1    0    0    0    0    0    0   \n",
       "          2000\n",
       "hypocrite 0   \n",
       "tickets   0   \n",
       "bidder    0   \n",
       "highest   0   \n",
       "parks     0   \n",
       "sale      0   "
      ]
     },
     "metadata": {},
     "output_type": "display_data"
    }
   ],
   "source": [
    "tail(term.doc.matrix)"
   ]
  },
  {
   "cell_type": "code",
   "execution_count": 11,
   "metadata": {
    "collapsed": false
   },
   "outputs": [
    {
     "data": {
      "text/html": [
       "3"
      ],
      "text/latex": [
       "3"
      ],
      "text/markdown": [
       "3"
      ],
      "text/plain": [
       "[1] 3"
      ]
     },
     "metadata": {},
     "output_type": "display_data"
    }
   ],
   "source": [
    "max(term.doc.matrix)"
   ]
  },
  {
   "cell_type": "code",
   "execution_count": 12,
   "metadata": {
    "collapsed": false
   },
   "outputs": [
    {
     "data": {
      "text/html": [
       "<ol class=list-inline>\n",
       "\t<li>2603</li>\n",
       "\t<li>2000</li>\n",
       "</ol>\n"
      ],
      "text/latex": [
       "\\begin{enumerate*}\n",
       "\\item 2603\n",
       "\\item 2000\n",
       "\\end{enumerate*}\n"
      ],
      "text/markdown": [
       "1. 2603\n",
       "2. 2000\n",
       "\n",
       "\n"
      ],
      "text/plain": [
       "[1] 2603 2000"
      ]
     },
     "metadata": {},
     "output_type": "display_data"
    }
   ],
   "source": [
    "dim(term.doc.matrix)"
   ]
  },
  {
   "cell_type": "code",
   "execution_count": 13,
   "metadata": {
    "collapsed": true
   },
   "outputs": [],
   "source": [
    "word.freqs <- sort(rowSums(term.doc.matrix), decreasing=TRUE) \n",
    "dm <- data.frame(word=names(word.freqs), freq=word.freqs)"
   ]
  },
  {
   "cell_type": "code",
   "execution_count": 14,
   "metadata": {
    "collapsed": false
   },
   "outputs": [
    {
     "data": {
      "text/html": [
       "<table>\n",
       "<thead><tr><th></th><th scope=col>word</th><th scope=col>freq</th></tr></thead>\n",
       "<tbody>\n",
       "\t<tr><th scope=row>president</th><td>president    </td><td>132          </td></tr>\n",
       "\t<tr><th scope=row>says</th><td>says         </td><td> 94          </td></tr>\n",
       "\t<tr><th scope=row>major</th><td>major        </td><td> 68          </td></tr>\n",
       "\t<tr><th scope=row>korea</th><td>korea        </td><td> 67          </td></tr>\n",
       "\t<tr><th scope=row>easier</th><td>easier       </td><td> 66          </td></tr>\n",
       "\t<tr><th scope=row>thought</th><td>thought      </td><td> 66          </td></tr>\n",
       "\t<tr><th scope=row>life</th><td>life         </td><td> 65          </td></tr>\n",
       "\t<tr><th scope=row>exclusive</th><td>exclusive    </td><td> 64          </td></tr>\n",
       "\t<tr><th scope=row>day</th><td>day          </td><td> 63          </td></tr>\n",
       "\t<tr><th scope=row>old</th><td>old          </td><td> 61          </td></tr>\n",
       "\t<tr><th scope=row>days</th><td>days         </td><td> 59          </td></tr>\n",
       "\t<tr><th scope=row>first</th><td>first        </td><td> 59          </td></tr>\n",
       "\t<tr><th scope=row>via</th><td>via          </td><td> 54          </td></tr>\n",
       "\t<tr><th scope=row>reuters</th><td>reuters      </td><td> 46          </td></tr>\n",
       "\t<tr><th scope=row>control</th><td>control      </td><td> 43          </td></tr>\n",
       "\t<tr><th scope=row>north</th><td>north        </td><td> 43          </td></tr>\n",
       "\t<tr><th scope=row>stephenathome</th><td>stephenathome</td><td> 40          </td></tr>\n",
       "\t<tr><th scope=row>tax</th><td>tax          </td><td> 37          </td></tr>\n",
       "\t<tr><th scope=row>simpsons</th><td>simpsons     </td><td> 36          </td></tr>\n",
       "\t<tr><th scope=row>conflict</th><td>conflict     </td><td> 36          </td></tr>\n",
       "</tbody>\n",
       "</table>\n"
      ],
      "text/latex": [
       "\\begin{tabular}{r|ll}\n",
       "  & word & freq\\\\\n",
       "\\hline\n",
       "\tpresident & president     & 132          \\\\\n",
       "\tsays & says          &  94          \\\\\n",
       "\tmajor & major         &  68          \\\\\n",
       "\tkorea & korea         &  67          \\\\\n",
       "\teasier & easier        &  66          \\\\\n",
       "\tthought & thought       &  66          \\\\\n",
       "\tlife & life          &  65          \\\\\n",
       "\texclusive & exclusive     &  64          \\\\\n",
       "\tday & day           &  63          \\\\\n",
       "\told & old           &  61          \\\\\n",
       "\tdays & days          &  59          \\\\\n",
       "\tfirst & first         &  59          \\\\\n",
       "\tvia & via           &  54          \\\\\n",
       "\treuters & reuters       &  46          \\\\\n",
       "\tcontrol & control       &  43          \\\\\n",
       "\tnorth & north         &  43          \\\\\n",
       "\tstephenathome & stephenathome &  40          \\\\\n",
       "\ttax & tax           &  37          \\\\\n",
       "\tsimpsons & simpsons      &  36          \\\\\n",
       "\tconflict & conflict      &  36          \\\\\n",
       "\\end{tabular}\n"
      ],
      "text/markdown": [
       "\n",
       "| <!--/--> | word | freq | \n",
       "|---|---|---|---|---|---|---|---|---|---|---|---|---|---|---|---|---|---|---|---|\n",
       "| president | president     | 132           | \n",
       "| says | says          |  94           | \n",
       "| major | major         |  68           | \n",
       "| korea | korea         |  67           | \n",
       "| easier | easier        |  66           | \n",
       "| thought | thought       |  66           | \n",
       "| life | life          |  65           | \n",
       "| exclusive | exclusive     |  64           | \n",
       "| day | day           |  63           | \n",
       "| old | old           |  61           | \n",
       "| days | days          |  59           | \n",
       "| first | first         |  59           | \n",
       "| via | via           |  54           | \n",
       "| reuters | reuters       |  46           | \n",
       "| control | control       |  43           | \n",
       "| north | north         |  43           | \n",
       "| stephenathome | stephenathome |  40           | \n",
       "| tax | tax           |  37           | \n",
       "| simpsons | simpsons      |  36           | \n",
       "| conflict | conflict      |  36           | \n",
       "\n",
       "\n"
      ],
      "text/plain": [
       "              word          freq\n",
       "president     president     132 \n",
       "says          says           94 \n",
       "major         major          68 \n",
       "korea         korea          67 \n",
       "easier        easier         66 \n",
       "thought       thought        66 \n",
       "life          life           65 \n",
       "exclusive     exclusive      64 \n",
       "day           day            63 \n",
       "old           old            61 \n",
       "days          days           59 \n",
       "first         first          59 \n",
       "via           via            54 \n",
       "reuters       reuters        46 \n",
       "control       control        43 \n",
       "north         north          43 \n",
       "stephenathome stephenathome  40 \n",
       "tax           tax            37 \n",
       "simpsons      simpsons       36 \n",
       "conflict      conflict       36 "
      ]
     },
     "metadata": {},
     "output_type": "display_data"
    }
   ],
   "source": [
    "head(dm, 20)"
   ]
  },
  {
   "cell_type": "code",
   "execution_count": 20,
   "metadata": {
    "collapsed": false
   },
   "outputs": [
    {
     "data": {
      "image/png": "[encoded data removed]",
      "text/plain": [
       "plot without title"
      ]
     },
     "metadata": {},
     "output_type": "display_data"
    }
   ],
   "source": [
    "wordcloud(dm$word, dm$freq, random.order=FALSE, scale = c(3, 0.6), colors=brewer.pal(8, \"Dark2\"))"
   ]
  }
 ],
 "metadata": {
  "kernelspec": {
   "display_name": "R",
   "language": "R",
   "name": "ir"
  },
  "language_info": {
   "codemirror_mode": "r",
   "file_extension": ".r",
   "mimetype": "text/x-r-source",
   "name": "R",
   "pygments_lexer": "r",
   "version": "3.3.2"
  }
 },
 "nbformat": 4,
 "nbformat_minor": 2
}
