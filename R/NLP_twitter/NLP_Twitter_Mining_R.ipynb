{
 "cells": [
  {
   "cell_type": "code",
   "execution_count": 1,
   "metadata": {
    "collapsed": false
   },
   "outputs": [],
   "source": [
    "#install.packages('tm',repos='http://cran.us.r-project.org')\n",
    "#install.packages('twitteR',repos='http://cran.us.r-project.org')\n",
    "#install.packages('wordcloud',repos='http://cran.us.r-project.org')\n",
    "#install.packages('RColorBrewer',repos='http://cran.us.r-project.org')\n",
    "#install.packages('e1017',repos='http://cran.us.r-project.org')\n",
    "#install.packages('class',repos='http://cran.us.r-project.org')"
   ]
  },
  {
   "cell_type": "code",
   "execution_count": 2,
   "metadata": {
    "collapsed": false
   },
   "outputs": [
    {
     "name": "stderr",
     "output_type": "stream",
     "text": [
      "Warning message:\n",
      "\"package 'twitteR' was built under R version 3.3.3\"Warning message:\n",
      "\"package 'tm' was built under R version 3.3.3\"Loading required package: NLP\n",
      "Warning message:\n",
      "\"package 'wordcloud' was built under R version 3.3.3\"Loading required package: RColorBrewer\n"
     ]
    }
   ],
   "source": [
    "library(twitteR)\n",
    "library(tm)\n",
    "library(wordcloud)\n",
    "library(RColorBrewer)"
   ]
  },
  {
   "cell_type": "code",
   "execution_count": 3,
   "metadata": {
    "collapsed": false
   },
   "outputs": [
    {
     "name": "stdout",
     "output_type": "stream",
     "text": [
      "[1] \"Using direct authentication\"\n"
     ]
    }
   ],
   "source": [
    "setup_twitter_oauth(consumer_key = 'KsIYto8YaIraC1IFq0WzqmivH', consumer_secret = 'YQv3u6GS9L1iQKOnQw3RF9oIKPDqsh9bCVcB82nQl9MwX9Qz4o', access_token = '23032405-ECuOigic4lweMdZFpPm29LqEdbUU2mI6CXOqv8IGI', access_secret = 'Opf1rAJSaVz3fLBEZrpdZY6S6gltLNb3VHGX1ZaWIBuZe')"
   ]
  },
  {
   "cell_type": "code",
   "execution_count": 4,
   "metadata": {
    "collapsed": false
   },
   "outputs": [],
   "source": [
    "soccer.tweets <- searchTwitter(\"trump\", n=2000, lang=\"en\")\n",
    "soccer.text <- sapply(soccer.tweets, function(x) x$getText())"
   ]
  },
  {
   "cell_type": "code",
   "execution_count": 5,
   "metadata": {
    "collapsed": false
   },
   "outputs": [],
   "source": [
    "soccer.text <- iconv(soccer.text, 'UTF-8', 'ASCII') # remove emoticons\n",
    "soccer.corpus <- Corpus(VectorSource(soccer.text)) # create a corpus"
   ]
  },
  {
   "cell_type": "code",
   "execution_count": 6,
   "metadata": {
    "collapsed": false
   },
   "outputs": [],
   "source": [
    "term.doc.matrix <- TermDocumentMatrix(soccer.corpus,\n",
    "                                      control = list(removePunctuation = TRUE,\n",
    "                                                     stopwords = c(\"trump\", \"donald\", \"http\", \"https\", stopwords(\"english\")),\n",
    "                                                     removeNumbers = TRUE, tolower = TRUE))"
   ]
  },
  {
   "cell_type": "code",
   "execution_count": 7,
   "metadata": {
    "collapsed": false
   },
   "outputs": [
    {
     "data": {
      "text/html": [
       "<ol class=list-inline>\n",
       "\t<li>'TermDocumentMatrix'</li>\n",
       "\t<li>'simple_triplet_matrix'</li>\n",
       "</ol>\n"
      ],
      "text/latex": [
       "\\begin{enumerate*}\n",
       "\\item 'TermDocumentMatrix'\n",
       "\\item 'simple\\_triplet\\_matrix'\n",
       "\\end{enumerate*}\n"
      ],
      "text/markdown": [
       "1. 'TermDocumentMatrix'\n",
       "2. 'simple_triplet_matrix'\n",
       "\n",
       "\n"
      ],
      "text/plain": [
       "[1] \"TermDocumentMatrix\"    \"simple_triplet_matrix\""
      ]
     },
     "metadata": {},
     "output_type": "display_data"
    }
   ],
   "source": [
    "class(term.doc.matrix)"
   ]
  },
  {
   "cell_type": "code",
   "execution_count": 8,
   "metadata": {
    "collapsed": true
   },
   "outputs": [],
   "source": [
    "term.doc.matrix <- as.matrix(term.doc.matrix)"
   ]
  },
  {
   "cell_type": "code",
   "execution_count": 9,
   "metadata": {
    "collapsed": false
   },
   "outputs": [
    {
     "data": {
      "text/html": [
       "'matrix'"
      ],
      "text/latex": [
       "'matrix'"
      ],
      "text/markdown": [
       "'matrix'"
      ],
      "text/plain": [
       "[1] \"matrix\""
      ]
     },
     "metadata": {},
     "output_type": "display_data"
    }
   ],
   "source": [
    "class(term.doc.matrix)"
   ]
  },
  {
   "cell_type": "code",
   "execution_count": 10,
   "metadata": {
    "collapsed": false
   },
   "outputs": [
    {
     "data": {
      "text/html": [
       "<table>\n",
       "<thead><tr><th></th><th scope=col>1</th><th scope=col>2</th><th scope=col>3</th><th scope=col>4</th><th scope=col>5</th><th scope=col>6</th><th scope=col>7</th><th scope=col>8</th><th scope=col>9</th><th scope=col>10</th><th scope=col>...</th><th scope=col>1991</th><th scope=col>1992</th><th scope=col>1993</th><th scope=col>1994</th><th scope=col>1995</th><th scope=col>1996</th><th scope=col>1997</th><th scope=col>1998</th><th scope=col>1999</th><th scope=col>2000</th></tr></thead>\n",
       "<tbody>\n",
       "\t<tr><th scope=row>wurstpesident</th><td>0  </td><td>0  </td><td>0  </td><td>0  </td><td>0  </td><td>0  </td><td>0  </td><td>0  </td><td>0  </td><td>0  </td><td>...</td><td>0  </td><td>0  </td><td>0  </td><td>0  </td><td>1  </td><td>0  </td><td>0  </td><td>0  </td><td>0  </td><td>0  </td></tr>\n",
       "\t<tr><th scope=row>beijing</th><td>0  </td><td>0  </td><td>0  </td><td>0  </td><td>0  </td><td>0  </td><td>0  </td><td>0  </td><td>0  </td><td>0  </td><td>...</td><td>0  </td><td>0  </td><td>0  </td><td>0  </td><td>0  </td><td>0  </td><td>0  </td><td>1  </td><td>0  </td><td>0  </td></tr>\n",
       "\t<tr><th scope=row>follow</th><td>0  </td><td>0  </td><td>0  </td><td>0  </td><td>0  </td><td>0  </td><td>0  </td><td>0  </td><td>0  </td><td>0  </td><td>...</td><td>0  </td><td>0  </td><td>0  </td><td>0  </td><td>0  </td><td>0  </td><td>0  </td><td>1  </td><td>0  </td><td>0  </td></tr>\n",
       "\t<tr><th scope=row>sea</th><td>0  </td><td>0  </td><td>0  </td><td>0  </td><td>0  </td><td>0  </td><td>0  </td><td>0  </td><td>0  </td><td>0  </td><td>...</td><td>0  </td><td>0  </td><td>0  </td><td>0  </td><td>0  </td><td>0  </td><td>0  </td><td>1  </td><td>0  </td><td>0  </td></tr>\n",
       "\t<tr><th scope=row>set</th><td>0  </td><td>0  </td><td>0  </td><td>0  </td><td>0  </td><td>0  </td><td>0  </td><td>0  </td><td>0  </td><td>0  </td><td>...</td><td>0  </td><td>0  </td><td>0  </td><td>0  </td><td>0  </td><td>0  </td><td>0  </td><td>1  </td><td>0  </td><td>0  </td></tr>\n",
       "\t<tr><th scope=row>vhjdgzn</th><td>0  </td><td>0  </td><td>0  </td><td>0  </td><td>0  </td><td>0  </td><td>0  </td><td>0  </td><td>0  </td><td>0  </td><td>...</td><td>0  </td><td>0  </td><td>0  </td><td>0  </td><td>0  </td><td>0  </td><td>0  </td><td>1  </td><td>0  </td><td>0  </td></tr>\n",
       "</tbody>\n",
       "</table>\n"
      ],
      "text/latex": [
       "\\begin{tabular}{r|llllllllllllllllllllllllllllllllllllllllllllllllllllllllllllllllllllllllllllllllllllllllllllllllllllllllllllllllllllllllllllllllllllllllllllllllllllllllllllllllllllllllllllllllllllllllllllllllllllllllllllllllllllllllllllllllllllllllllllllllllllllllllllllllllllllllllllllllllllllllllllllllllllllllllllllllllllllllllllllllllllllllllllllllllllllllllllllllllllllllllllllllllllllllllllllllllllllllllllllllllllllllllllllllllllllllllllllllllllllllllllllllllllllllllllllllllllllllllllllllllllllllllllllllllllllllllllllllllllllllllllllllllllllllllllllllllllllllllllllllllllllllllllllllllllllllllllllllllllllllllllllllllllllllllllllllllllllllllllllllllllllllllllllllllllllllllllllllllllllllllllllllllllllllllllllllllllllllllllllllllllllllllllllllllllllllllllllllllllllllllllllllllllllllllllllllllllllllllllllllllllllllllllllllllllllllllllllllllllllllllllllllllllllllllllllllllllllllllllllllllllllllllllllllllllllllllllllllllllllllllllllllllllllllllllllllllllllllllllllllllllllllllllllllllllllllllllllllllllllllllllllllllllllllllllllllllllllllllllllllllllllllllllllllllllllllllllllllllllllllllllllllllllllllllllllllllllllllllllllllllllllllllllllllllllllllllllllllllllllllllllllllllllllllllllllllllllllllllllllllllllllllllllllllllllllllllllllllllllllllllllllllllllllllllllllllllllllllllllllllllllllllllllllllllllllllllllllllllllllllllllllllllllllllllllllllllllllllllllllllllllllllllllllllllllllllllllllllllllllllllllllllllllllllllllllllllllllllllllllllllllllllllllllllllllllllllllllllllllllllllllllllllllllllllllllllllllllllllllllllllllllllllllllllllllllllllllllllllllllllllllllllllllllllllllllllllllllllllllllllllllllllllllllllllllllllllllllllllllllllllllllllllllllllllllllllllllllllllllllllllllllllllllllllllllllllllllllllllllllllllllllllllllllllllllllllllllllllllllllllllllllllllllllllllllllllllllllllllllllllllllllllllllllllllllllllllllllllllllllllllllllllllllllllllllllllllllllllllllllllllllllllllllllllllllllllllllllllllllllllllllllllllllllllllllllllllllllllllllllllllllllllllllllllllllllllllllllllllllllll}\n",
       "  & 1 & 2 & 3 & 4 & 5 & 6 & 7 & 8 & 9 & 10 & ... & 1991 & 1992 & 1993 & 1994 & 1995 & 1996 & 1997 & 1998 & 1999 & 2000\\\\\n",
       "\\hline\n",
       "\twurstpesident & 0   & 0   & 0   & 0   & 0   & 0   & 0   & 0   & 0   & 0   & ... & 0   & 0   & 0   & 0   & 1   & 0   & 0   & 0   & 0   & 0  \\\\\n",
       "\tbeijing & 0   & 0   & 0   & 0   & 0   & 0   & 0   & 0   & 0   & 0   & ... & 0   & 0   & 0   & 0   & 0   & 0   & 0   & 1   & 0   & 0  \\\\\n",
       "\tfollow & 0   & 0   & 0   & 0   & 0   & 0   & 0   & 0   & 0   & 0   & ... & 0   & 0   & 0   & 0   & 0   & 0   & 0   & 1   & 0   & 0  \\\\\n",
       "\tsea & 0   & 0   & 0   & 0   & 0   & 0   & 0   & 0   & 0   & 0   & ... & 0   & 0   & 0   & 0   & 0   & 0   & 0   & 1   & 0   & 0  \\\\\n",
       "\tset & 0   & 0   & 0   & 0   & 0   & 0   & 0   & 0   & 0   & 0   & ... & 0   & 0   & 0   & 0   & 0   & 0   & 0   & 1   & 0   & 0  \\\\\n",
       "\tvhjdgzn & 0   & 0   & 0   & 0   & 0   & 0   & 0   & 0   & 0   & 0   & ... & 0   & 0   & 0   & 0   & 0   & 0   & 0   & 1   & 0   & 0  \\\\\n",
       "\\end{tabular}\n"
      ],
      "text/markdown": [
       "\n",
       "| <!--/--> | 1 | 2 | 3 | 4 | 5 | 6 | 7 | 8 | 9 | 10 | ... | 1991 | 1992 | 1993 | 1994 | 1995 | 1996 | 1997 | 1998 | 1999 | 2000 | \n",
       "|---|---|---|---|---|---|\n",
       "| wurstpesident | 0   | 0   | 0   | 0   | 0   | 0   | 0   | 0   | 0   | 0   | ... | 0   | 0   | 0   | 0   | 1   | 0   | 0   | 0   | 0   | 0   | \n",
       "| beijing | 0   | 0   | 0   | 0   | 0   | 0   | 0   | 0   | 0   | 0   | ... | 0   | 0   | 0   | 0   | 0   | 0   | 0   | 1   | 0   | 0   | \n",
       "| follow | 0   | 0   | 0   | 0   | 0   | 0   | 0   | 0   | 0   | 0   | ... | 0   | 0   | 0   | 0   | 0   | 0   | 0   | 1   | 0   | 0   | \n",
       "| sea | 0   | 0   | 0   | 0   | 0   | 0   | 0   | 0   | 0   | 0   | ... | 0   | 0   | 0   | 0   | 0   | 0   | 0   | 1   | 0   | 0   | \n",
       "| set | 0   | 0   | 0   | 0   | 0   | 0   | 0   | 0   | 0   | 0   | ... | 0   | 0   | 0   | 0   | 0   | 0   | 0   | 1   | 0   | 0   | \n",
       "| vhjdgzn | 0   | 0   | 0   | 0   | 0   | 0   | 0   | 0   | 0   | 0   | ... | 0   | 0   | 0   | 0   | 0   | 0   | 0   | 1   | 0   | 0   | \n",
       "\n",
       "\n"
      ],
      "text/plain": [
       "              1 2 3 4 5 6 7 8 9 10 ... 1991 1992 1993 1994 1995 1996 1997 1998\n",
       "wurstpesident 0 0 0 0 0 0 0 0 0 0  ... 0    0    0    0    1    0    0    0   \n",
       "beijing       0 0 0 0 0 0 0 0 0 0  ... 0    0    0    0    0    0    0    1   \n",
       "follow        0 0 0 0 0 0 0 0 0 0  ... 0    0    0    0    0    0    0    1   \n",
       "sea           0 0 0 0 0 0 0 0 0 0  ... 0    0    0    0    0    0    0    1   \n",
       "set           0 0 0 0 0 0 0 0 0 0  ... 0    0    0    0    0    0    0    1   \n",
       "vhjdgzn       0 0 0 0 0 0 0 0 0 0  ... 0    0    0    0    0    0    0    1   \n",
       "              1999 2000\n",
       "wurstpesident 0    0   \n",
       "beijing       0    0   \n",
       "follow        0    0   \n",
       "sea           0    0   \n",
       "set           0    0   \n",
       "vhjdgzn       0    0   "
      ]
     },
     "metadata": {},
     "output_type": "display_data"
    }
   ],
   "source": [
    "tail(term.doc.matrix)"
   ]
  },
  {
   "cell_type": "code",
   "execution_count": 11,
   "metadata": {
    "collapsed": false
   },
   "outputs": [
    {
     "data": {
      "text/html": [
       "2"
      ],
      "text/latex": [
       "2"
      ],
      "text/markdown": [
       "2"
      ],
      "text/plain": [
       "[1] 2"
      ]
     },
     "metadata": {},
     "output_type": "display_data"
    }
   ],
   "source": [
    "max(term.doc.matrix)"
   ]
  },
  {
   "cell_type": "code",
   "execution_count": 12,
   "metadata": {
    "collapsed": false
   },
   "outputs": [
    {
     "data": {
      "text/html": [
       "<ol class=list-inline>\n",
       "\t<li>2579</li>\n",
       "\t<li>2000</li>\n",
       "</ol>\n"
      ],
      "text/latex": [
       "\\begin{enumerate*}\n",
       "\\item 2579\n",
       "\\item 2000\n",
       "\\end{enumerate*}\n"
      ],
      "text/markdown": [
       "1. 2579\n",
       "2. 2000\n",
       "\n",
       "\n"
      ],
      "text/plain": [
       "[1] 2579 2000"
      ]
     },
     "metadata": {},
     "output_type": "display_data"
    }
   ],
   "source": [
    "dim(term.doc.matrix)"
   ]
  },
  {
   "cell_type": "code",
   "execution_count": 13,
   "metadata": {
    "collapsed": true
   },
   "outputs": [],
   "source": [
    "word.freqs <- sort(rowSums(term.doc.matrix), decreasing=TRUE) \n",
    "dm <- data.frame(word=names(word.freqs), freq=word.freqs)"
   ]
  },
  {
   "cell_type": "code",
   "execution_count": 14,
   "metadata": {
    "collapsed": false
   },
   "outputs": [
    {
     "data": {
      "text/html": [
       "<table>\n",
       "<thead><tr><th></th><th scope=col>word</th><th scope=col>freq</th></tr></thead>\n",
       "<tbody>\n",
       "\t<tr><th scope=row>merkel</th><td>merkel   </td><td>118      </td></tr>\n",
       "\t<tr><th scope=row>first</th><td>first    </td><td>100      </td></tr>\n",
       "\t<tr><th scope=row>president</th><td>president</td><td> 97      </td></tr>\n",
       "\t<tr><th scope=row>times</th><td>times    </td><td> 97      </td></tr>\n",
       "\t<tr><th scope=row>melania</th><td>melania  </td><td> 94      </td></tr>\n",
       "\t<tr><th scope=row>lady</th><td>lady     </td><td> 92      </td></tr>\n",
       "\t<tr><th scope=row>bela</th><td>bela     </td><td> 91      </td></tr>\n",
       "\t<tr><th scope=row>gvttzyux</th><td>gvttzyux </td><td> 91      </td></tr>\n",
       "\t<tr><th scope=row>lovegirl</th><td>lovegirl </td><td> 91      </td></tr>\n",
       "\t<tr><th scope=row>showed</th><td>showed   </td><td> 91      </td></tr>\n",
       "\t<tr><th scope=row>will</th><td>will     </td><td> 59      </td></tr>\n",
       "\t<tr><th scope=row>budget</th><td>budget   </td><td> 51      </td></tr>\n",
       "\t<tr><th scope=row>obama</th><td>obama    </td><td> 51      </td></tr>\n",
       "\t<tr><th scope=row>one</th><td>one      </td><td> 49      </td></tr>\n",
       "\t<tr><th scope=row>angela</th><td>angela   </td><td> 40      </td></tr>\n",
       "\t<tr><th scope=row>shake</th><td>shake    </td><td> 39      </td></tr>\n",
       "\t<tr><th scope=row>new</th><td>new      </td><td> 38      </td></tr>\n",
       "\t<tr><th scope=row>things</th><td>things   </td><td> 37      </td></tr>\n",
       "\t<tr><th scope=row>white</th><td>white    </td><td> 34      </td></tr>\n",
       "\t<tr><th scope=row>world</th><td>world    </td><td> 32      </td></tr>\n",
       "</tbody>\n",
       "</table>\n"
      ],
      "text/latex": [
       "\\begin{tabular}{r|ll}\n",
       "  & word & freq\\\\\n",
       "\\hline\n",
       "\tmerkel & merkel    & 118      \\\\\n",
       "\tfirst & first     & 100      \\\\\n",
       "\tpresident & president &  97      \\\\\n",
       "\ttimes & times     &  97      \\\\\n",
       "\tmelania & melania   &  94      \\\\\n",
       "\tlady & lady      &  92      \\\\\n",
       "\tbela & bela      &  91      \\\\\n",
       "\tgvttzyux & gvttzyux  &  91      \\\\\n",
       "\tlovegirl & lovegirl  &  91      \\\\\n",
       "\tshowed & showed    &  91      \\\\\n",
       "\twill & will      &  59      \\\\\n",
       "\tbudget & budget    &  51      \\\\\n",
       "\tobama & obama     &  51      \\\\\n",
       "\tone & one       &  49      \\\\\n",
       "\tangela & angela    &  40      \\\\\n",
       "\tshake & shake     &  39      \\\\\n",
       "\tnew & new       &  38      \\\\\n",
       "\tthings & things    &  37      \\\\\n",
       "\twhite & white     &  34      \\\\\n",
       "\tworld & world     &  32      \\\\\n",
       "\\end{tabular}\n"
      ],
      "text/markdown": [
       "\n",
       "| <!--/--> | word | freq | \n",
       "|---|---|---|---|---|---|---|---|---|---|---|---|---|---|---|---|---|---|---|---|\n",
       "| merkel | merkel    | 118       | \n",
       "| first | first     | 100       | \n",
       "| president | president |  97       | \n",
       "| times | times     |  97       | \n",
       "| melania | melania   |  94       | \n",
       "| lady | lady      |  92       | \n",
       "| bela | bela      |  91       | \n",
       "| gvttzyux | gvttzyux  |  91       | \n",
       "| lovegirl | lovegirl  |  91       | \n",
       "| showed | showed    |  91       | \n",
       "| will | will      |  59       | \n",
       "| budget | budget    |  51       | \n",
       "| obama | obama     |  51       | \n",
       "| one | one       |  49       | \n",
       "| angela | angela    |  40       | \n",
       "| shake | shake     |  39       | \n",
       "| new | new       |  38       | \n",
       "| things | things    |  37       | \n",
       "| white | white     |  34       | \n",
       "| world | world     |  32       | \n",
       "\n",
       "\n"
      ],
      "text/plain": [
       "          word      freq\n",
       "merkel    merkel    118 \n",
       "first     first     100 \n",
       "president president  97 \n",
       "times     times      97 \n",
       "melania   melania    94 \n",
       "lady      lady       92 \n",
       "bela      bela       91 \n",
       "gvttzyux  gvttzyux   91 \n",
       "lovegirl  lovegirl   91 \n",
       "showed    showed     91 \n",
       "will      will       59 \n",
       "budget    budget     51 \n",
       "obama     obama      51 \n",
       "one       one        49 \n",
       "angela    angela     40 \n",
       "shake     shake      39 \n",
       "new       new        38 \n",
       "things    things     37 \n",
       "white     white      34 \n",
       "world     world      32 "
      ]
     },
     "metadata": {},
     "output_type": "display_data"
    }
   ],
   "source": [
    "head(dm, 20)"
   ]
  },
  {
   "cell_type": "code",
   "execution_count": 31,
   "metadata": {
    "collapsed": false
   },
   "outputs": [
    {
     "data": {
      "image/png": "[encoded data removed]",
      "text/plain": [
       "plot without title"
      ]
     },
     "metadata": {},
     "output_type": "display_data"
    }
   ],
   "source": [
    "wordcloud(dm$word, dm$freq, random.order=FALSE, scale = c(3, 0.5), colors=brewer.pal(8, \"Dark2\"))"
   ]
  }
 ],
 "metadata": {
  "kernelspec": {
   "display_name": "R",
   "language": "R",
   "name": "ir"
  },
  "language_info": {
   "codemirror_mode": "r",
   "file_extension": ".r",
   "mimetype": "text/x-r-source",
   "name": "R",
   "pygments_lexer": "r",
   "version": "3.3.2"
  }
 },
 "nbformat": 4,
 "nbformat_minor": 2
}
