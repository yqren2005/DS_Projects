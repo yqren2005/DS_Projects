{
 "cells": [
  {
   "cell_type": "code",
   "execution_count": 2,
   "metadata": {
    "collapsed": false
   },
   "outputs": [
    {
     "name": "stdout",
     "output_type": "stream",
     "text": [
      "                 name age gender raceethnicity     month  day  year  \\\n",
      "0  A'donte Washington  16   Male         Black  February   23  2015   \n",
      "1      Aaron Rutledge  27   Male         White     April    2  2015   \n",
      "\n",
      "            streetaddress       city state    ...     share_hispanic  \\\n",
      "0            Clearview Ln  Millbrook    AL    ...                5.6   \n",
      "1  300 block Iris Park Dr  Pineville    LA    ...                0.5   \n",
      "\n",
      "   p_income  h_income  county_income  comp_income  county_bucket  nat_bucket  \\\n",
      "0     28375     51367          54766     0.937936              3           3   \n",
      "1     14678     27972          40930     0.683411              2           1   \n",
      "\n",
      "    pov     urate   college  \n",
      "0  14.1  0.097686  0.168510  \n",
      "1  28.8  0.065724  0.111402  \n",
      "\n",
      "[2 rows x 34 columns]\n",
      "['name' 'age' 'gender' 'raceethnicity' 'month' 'day' 'year' 'streetaddress'\n",
      " 'city' 'state' 'latitude' 'longitude' 'state_fp' 'county_fp' 'tract_ce'\n",
      " 'geo_id' 'county_id' 'namelsad' 'lawenforcementagency' 'cause' 'armed'\n",
      " 'pop' 'share_white' 'share_black' 'share_hispanic' 'p_income' 'h_income'\n",
      " 'county_income' 'comp_income' 'county_bucket' 'nat_bucket' 'pov' 'urate'\n",
      " 'college']\n",
      "0                       Black\n",
      "1                       White\n",
      "3             Hispanic/Latino\n",
      "58                    Unknown\n",
      "63     Asian/Pacific Islander\n",
      "269           Native American\n",
      "Name: raceethnicity, dtype: object\n",
      "0                Gunshot\n",
      "19      Death in custody\n",
      "41                 Taser\n",
      "47     Struck by vehicle\n",
      "242              Unknown\n",
      "Name: cause, dtype: object\n",
      "0                      No\n",
      "3                 Firearm\n",
      "7      Non-lethal firearm\n",
      "9                   Other\n",
      "10                  Knife\n",
      "16                Vehicle\n",
      "125               Unknown\n",
      "256              Disputed\n",
      "Name: armed, dtype: object\n"
     ]
    }
   ],
   "source": [
    "%matplotlib inline\n",
    "import pandas as pd\n",
    "police_killings = pd.read_csv(\"police_killings.csv\")\n",
    "print police_killings.head(2)\n",
    "print police_killings.columns.values\n",
    "print police_killings[\"raceethnicity\"].drop_duplicates()\n",
    "print police_killings[\"cause\"].drop_duplicates()\n",
    "print police_killings[\"armed\"].drop_duplicates()"
   ]
  },
  {
   "cell_type": "code",
   "execution_count": 3,
   "metadata": {
    "collapsed": false
   },
   "outputs": [
    {
     "data": {
      "image/png": "[encoded data removed]",
      "text/plain": [
       "<matplotlib.figure.Figure at 0x3f0eda0>"
      ]
     },
     "metadata": {},
     "output_type": "display_data"
    },
    {
     "name": "stdout",
     "output_type": "stream",
     "text": [
      "467\n"
     ]
    }
   ],
   "source": [
    "import matplotlib.pyplot as plt\n",
    "police_killings[police_killings.age != 'Unknown']['age'].astype(int).hist()\n",
    "plt.show()\n",
    "print len(police_killings)"
   ]
  },
  {
   "cell_type": "code",
   "execution_count": 4,
   "metadata": {
    "collapsed": false
   },
   "outputs": [
    {
     "name": "stdout",
     "output_type": "stream",
     "text": [
      "name                     object\n",
      "age                      object\n",
      "gender                   object\n",
      "raceethnicity            object\n",
      "month                    object\n",
      "day                       int64\n",
      "year                      int64\n",
      "streetaddress            object\n",
      "city                     object\n",
      "state                    object\n",
      "latitude                float64\n",
      "longitude               float64\n",
      "state_fp                  int64\n",
      "county_fp                 int64\n",
      "tract_ce                  int64\n",
      "geo_id                    int64\n",
      "county_id                 int64\n",
      "namelsad                 object\n",
      "lawenforcementagency     object\n",
      "cause                    object\n",
      "armed                    object\n",
      "pop                       int64\n",
      "share_white              object\n",
      "share_black              object\n",
      "share_hispanic           object\n",
      "p_income                 object\n",
      "h_income                float64\n",
      "county_income             int64\n",
      "comp_income             float64\n",
      "county_bucket           float64\n",
      "nat_bucket              float64\n",
      "pov                      object\n",
      "urate                   float64\n",
      "college                 float64\n",
      "dtype: object\n",
      "    state   pop\n",
      "3      CA  4343\n",
      "6      CA  5027\n",
      "7      CA  5238\n",
      "10     CA  2786\n",
      "11     CA  9429\n",
      "18     CA  5286\n",
      "19     CA  5740\n",
      "20     CA  4303\n",
      "23     CA  6460\n",
      "27     CA  3202\n",
      "30     CA  7886\n",
      "38     CA  2584\n",
      "45     CA  8623\n",
      "56     CA  2860\n",
      "58     CA  4179\n",
      "60     CA  3078\n",
      "66     CA  3568\n",
      "73     CA  2367\n",
      "74     CA  5222\n",
      "107    CA  4934\n",
      "116    CA  4225\n",
      "117    CA  4791\n",
      "123    CA  5029\n",
      "129    CA  6461\n",
      "131    CA  5072\n",
      "144    CA  5950\n",
      "146    CA  2886\n",
      "155    CA  7528\n",
      "156    CA  9699\n",
      "161    CA  4863\n",
      "..    ...   ...\n",
      "303    CA  4192\n",
      "304    CA  4371\n",
      "315    CA  3140\n",
      "318    CA  5372\n",
      "319    CA  5731\n",
      "322    CA  3172\n",
      "330    CA  4466\n",
      "338    CA  5062\n",
      "346    CA  5931\n",
      "355    CA  3040\n",
      "356    CA  7323\n",
      "357    CA  9738\n",
      "359    CA  8960\n",
      "361    CA  7099\n",
      "364    CA  4866\n",
      "375    CA  6657\n",
      "382    CA  3921\n",
      "388    CA  2666\n",
      "389    CA  4315\n",
      "391    CA  5158\n",
      "394    CA  4932\n",
      "401    CA  3755\n",
      "407    CA  4026\n",
      "410    CA  7914\n",
      "416    CA  7371\n",
      "435    CA  3416\n",
      "440    CA  2886\n",
      "454    CA  3862\n",
      "465    CA  2544\n",
      "466    CA  5177\n",
      "\n",
      "[74 rows x 2 columns]\n",
      "0.158458244111\n"
     ]
    }
   ],
   "source": [
    "print police_killings.dtypes\n",
    "isinstance(police_killings, pd.DataFrame)\n",
    "print police_killings[['state', 'pop']][police_killings.state == 'CA']\n",
    "print len(police_killings[police_killings.state == 'CA']) / float(len(police_killings))"
   ]
  },
  {
   "cell_type": "code",
   "execution_count": 5,
   "metadata": {
    "collapsed": false
   },
   "outputs": [
    {
     "name": "stdout",
     "output_type": "stream",
     "text": [
      "TX vs Total 0.0985010706638\n",
      "FL vs Total 0.0620985010707\n"
     ]
    }
   ],
   "source": [
    "#print police_killings[['state', 'pop']][police_killings.state == 'TA']\n",
    "print 'TX vs Total', len(police_killings[police_killings.state == 'TX']) / float(len(police_killings))\n",
    "print 'FL vs Total', len(police_killings[police_killings.state == 'FL']) / float(len(police_killings))"
   ]
  },
  {
   "cell_type": "code",
   "execution_count": 6,
   "metadata": {
    "collapsed": false
   },
   "outputs": [
    {
     "name": "stdout",
     "output_type": "stream",
     "text": [
      "47\n",
      "0                      No\n",
      "3                 Firearm\n",
      "7      Non-lethal firearm\n",
      "9                   Other\n",
      "10                  Knife\n",
      "16                Vehicle\n",
      "125               Unknown\n",
      "256              Disputed\n",
      "Name: armed, dtype: object\n"
     ]
    }
   ],
   "source": [
    "print len(police_killings['state'].drop_duplicates())\n",
    "print police_killings[\"armed\"].drop_duplicates()"
   ]
  },
  {
   "cell_type": "code",
   "execution_count": 7,
   "metadata": {
    "collapsed": false
   },
   "outputs": [
    {
     "name": "stdout",
     "output_type": "stream",
     "text": [
      "['AL', 'LA', 'WI', 'CA', 'OH', 'AZ', 'TX', 'MI', 'IN', 'TN', 'GA', 'VA', 'NE', 'KS', 'OK', 'OR', 'NH', 'FL', 'MA', 'PA', 'WA', 'AR', 'IA', 'NC', 'NM', 'DC', 'ID', 'CO', 'HI', 'KY', 'SC', 'WV', 'UT', 'MO', 'MD', 'NY', 'NJ', 'IL', 'CT', 'MS', 'NV', 'MT', 'AK', 'MN', 'ME', 'DE', 'WY']\n",
      "{'WA': 0.023554603854389723, 'DE': 0.004282655246252677, 'DC': 0.0021413276231263384, 'WI': 0.010706638115631691, 'WV': 0.004282655246252677, 'HI': 0.008565310492505354, 'FL': 0.06209850107066381, 'WY': 0.0021413276231263384, 'NH': 0.0021413276231263384, 'NJ': 0.023554603854389723, 'NM': 0.010706638115631691, 'TX': 0.09850107066381156, 'LA': 0.023554603854389723, 'NC': 0.021413276231263382, 'NE': 0.01284796573875803, 'TN': 0.01284796573875803, 'NY': 0.029978586723768737, 'PA': 0.014989293361884369, 'AK': 0.004282655246252677, 'NV': 0.006423982869379015, 'VA': 0.019271948608137045, 'CO': 0.02569593147751606, 'CA': 0.15845824411134904, 'AL': 0.017130620985010708, 'AR': 0.008565310492505354, 'IL': 0.023554603854389723, 'GA': 0.034261241970021415, 'IN': 0.017130620985010708, 'IA': 0.004282655246252677, 'OK': 0.047109207708779445, 'AZ': 0.05353319057815846, 'ID': 0.008565310492505354, 'CT': 0.0021413276231263384, 'ME': 0.0021413276231263384, 'MD': 0.021413276231263382, 'MA': 0.010706638115631691, 'OH': 0.021413276231263382, 'UT': 0.010706638115631691, 'MO': 0.021413276231263382, 'MN': 0.01284796573875803, 'MI': 0.019271948608137045, 'KS': 0.01284796573875803, 'MT': 0.004282655246252677, 'MS': 0.01284796573875803, 'SC': 0.019271948608137045, 'KY': 0.014989293361884369, 'OR': 0.017130620985010708}\n"
     ]
    }
   ],
   "source": [
    "state = list(police_killings['state'].drop_duplicates())\n",
    "print state\n",
    "ans = {}\n",
    "for s in state:\n",
    "    ans[s] = len(police_killings[police_killings.state == s]) / float(len(police_killings))\n",
    "print ans"
   ]
  },
  {
   "cell_type": "code",
   "execution_count": 8,
   "metadata": {
    "collapsed": false
   },
   "outputs": [
    {
     "data": {
      "image/png": "[encoded data removed]",
      "text/plain": [
       "<matplotlib.figure.Figure at 0xbdf94a8>"
      ]
     },
     "metadata": {},
     "output_type": "display_data"
    }
   ],
   "source": [
    "plt.bar(range(len(ans)), ans.values())\n",
    "plt.xticks(range(len(ans)), ans.keys())\n",
    "\n",
    "plt.show()"
   ]
  },
  {
   "cell_type": "code",
   "execution_count": 9,
   "metadata": {
    "collapsed": false
   },
   "outputs": [
    {
     "name": "stdout",
     "output_type": "stream",
     "text": [
      "OrderedDict([('AK', 0.004282655246252677), ('AL', 0.017130620985010708), ('AR', 0.008565310492505354), ('AZ', 0.05353319057815846), ('CA', 0.15845824411134904), ('CO', 0.02569593147751606), ('CT', 0.0021413276231263384), ('DC', 0.0021413276231263384), ('DE', 0.004282655246252677), ('FL', 0.06209850107066381), ('GA', 0.034261241970021415), ('HI', 0.008565310492505354), ('IA', 0.004282655246252677), ('ID', 0.008565310492505354), ('IL', 0.023554603854389723), ('IN', 0.017130620985010708), ('KS', 0.01284796573875803), ('KY', 0.014989293361884369), ('LA', 0.023554603854389723), ('MA', 0.010706638115631691), ('MD', 0.021413276231263382), ('ME', 0.0021413276231263384), ('MI', 0.019271948608137045), ('MN', 0.01284796573875803), ('MO', 0.021413276231263382), ('MS', 0.01284796573875803), ('MT', 0.004282655246252677), ('NC', 0.021413276231263382), ('NE', 0.01284796573875803), ('NH', 0.0021413276231263384), ('NJ', 0.023554603854389723), ('NM', 0.010706638115631691), ('NV', 0.006423982869379015), ('NY', 0.029978586723768737), ('OH', 0.021413276231263382), ('OK', 0.047109207708779445), ('OR', 0.017130620985010708), ('PA', 0.014989293361884369), ('SC', 0.019271948608137045), ('TN', 0.01284796573875803), ('TX', 0.09850107066381156), ('UT', 0.010706638115631691), ('VA', 0.019271948608137045), ('WA', 0.023554603854389723), ('WI', 0.010706638115631691), ('WV', 0.004282655246252677), ('WY', 0.0021413276231263384)])\n",
      "47\n"
     ]
    }
   ],
   "source": [
    "import collections\n",
    "ordered_ans = collections.OrderedDict(sorted(ans.items()))\n",
    "print ordered_ans\n",
    "print len(ordered_ans)"
   ]
  },
  {
   "cell_type": "code",
   "execution_count": 10,
   "metadata": {
    "collapsed": false
   },
   "outputs": [
    {
     "data": {
      "image/png": "[encoded data removed]",
      "text/plain": [
       "<matplotlib.figure.Figure at 0xbdf91d0>"
      ]
     },
     "metadata": {},
     "output_type": "display_data"
    }
   ],
   "source": [
    "plt.bar(range(len(ordered_ans)), ordered_ans.values(), align='center', color='r')\n",
    "plt.xticks(range(len(ordered_ans)), ordered_ans.keys())\n",
    "plt.autoscale(tight=True)\n",
    "plt.show()"
   ]
  },
  {
   "cell_type": "code",
   "execution_count": 22,
   "metadata": {
    "collapsed": false
   },
   "outputs": [
    {
     "name": "stdout",
     "output_type": "stream",
     "text": [
      "{'Asian/Pacific Islander': 0.022123893805309734, 'White': 0.5221238938053098, 'Black': 0.29867256637168144, 'Native American': 0.008849557522123894, 'Hispanic/Latino': 0.14823008849557523}\n"
     ]
    }
   ],
   "source": [
    "newpk = police_killings[police_killings.raceethnicity != 'Unknown']\n",
    "race = list(newpk[\"raceethnicity\"].drop_duplicates())\n",
    "result = {}\n",
    "for r in race:\n",
    "    result[r] = len(newpk[newpk.raceethnicity == r]) / float(len(newpk))\n",
    "print result"
   ]
  },
  {
   "cell_type": "code",
   "execution_count": 23,
   "metadata": {
    "collapsed": false
   },
   "outputs": [
    {
     "name": "stdout",
     "output_type": "stream",
     "text": [
      "OrderedDict([('Asian/Pacific Islander', 0.022123893805309734), ('Black', 0.29867256637168144), ('Hispanic/Latino', 0.14823008849557523), ('Native American', 0.008849557522123894), ('White', 0.5221238938053098)])\n",
      "5\n"
     ]
    }
   ],
   "source": [
    "ordered_result = collections.OrderedDict(sorted(result.items()))\n",
    "print ordered_result\n",
    "print len(ordered_result)"
   ]
  },
  {
   "cell_type": "code",
   "execution_count": 29,
   "metadata": {
    "collapsed": false
   },
   "outputs": [
    {
     "data": {
      "image/png": "[encoded data removed]",
      "text/plain": [
       "<matplotlib.figure.Figure at 0xe16c668>"
      ]
     },
     "metadata": {},
     "output_type": "display_data"
    }
   ],
   "source": [
    "plt.bar(range(len(ordered_result)), ordered_result.values(), align='center', color='y')\n",
    "plt.xticks(range(len(ordered_result)), ordered_result.keys(), rotation=90)\n",
    "plt.autoscale(tight=True)\n",
    "plt.show()"
   ]
  },
  {
   "cell_type": "code",
   "execution_count": 44,
   "metadata": {
    "collapsed": false
   },
   "outputs": [
    {
     "name": "stdout",
     "output_type": "stream",
     "text": [
      "{'Eatonton': 1, 'Bay Shore': 1, 'Tuscon ': 1, 'Pomona': 2, 'Metropolis': 1, 'Claymount': 1, 'Columbia': 3, 'Jennings': 1, 'Scottsdale': 1, 'El Paso': 3, 'Atlanta': 3, 'Penrose': 1, 'Lakeland': 1, 'Monon': 1, 'San Bernadino': 1, 'Medford': 2, 'Charlotte': 1, 'Euless': 1, 'Wake Forest': 1, 'Pineville': 1, 'Onalaska': 1, 'Ocala': 1, 'Winchester': 1, 'Allentown': 1, 'Garden Grove': 1, 'Denver': 1, 'Burlington': 1, 'Somerset': 1, 'Port St Joe': 1, 'Zion': 1, 'San Diego': 2, 'Boise': 1, 'Clarendon': 1, 'Honolulu': 2, 'Fridley': 1, 'Stillwater': 1, 'Huntley': 1, 'Burbank': 1, 'Hoover': 1, 'Green': 1, 'Sunnyvale': 1, 'Rancho Santa Margarita': 1, 'Roxand Township': 1, 'Tampa Bay': 1, 'Moultrie': 1, 'Salemburg': 2, 'Nocona': 1, 'Las Vegas': 2, 'Kaumakani': 1, 'Harvey': 3, 'Ridgefield Park': 2, 'San Manuel': 1, 'Columbus': 3, 'Indianapolis': 4, 'Sarasota': 1, 'Guthrie': 1, 'Ca\\xcc_\\xe5\\xb1on City': 1, 'Valdosta': 1, 'Corning': 1, 'Green Ridge': 1, 'Johnsonville': 1, 'Memphis': 3, 'Roxbury': 1, 'Orlando': 2, 'Fort Ashby': 1, 'Evans': 1, 'Oxnard': 1, 'Birmingham': 2, 'Oklahoma City': 4, 'Bay City': 1, 'Fond du Lac': 1, 'St Louis': 3, 'Lakewood': 1, 'Mounds': 1, 'Gardner': 1, 'Edmond': 1, 'Rexburg': 1, 'Middleton': 1, 'Carrollton': 1, 'Joliet': 1, 'Hanover': 1, 'Chesapeake': 1, 'Sumas': 1, 'Chavies': 1, 'Tallahassee': 2, 'Phoenix': 6, 'Salisbury': 1, 'Silver Spring': 1, 'Arlington': 2, 'Wyoming': 1, 'Dadeville': 1, 'Mabank': 1, 'Kearny': 1, 'Muskogee County': 1, 'Jonesboro': 1, 'Hackensack': 2, 'Norfolk': 1, 'Colton': 1, 'Miami': 2, 'Shafter': 1, 'Cerritos': 1, 'Rome': 1, 'Topeka': 1, 'Kenosha': 1, 'Roma': 1, 'Webster': 1, 'Savannah': 1, 'Fort Worth': 3, 'Branford': 1, 'Morenci': 1, 'Elkton': 1, 'Maricopa': 1, 'Chickasha': 1, 'Tewksbury': 1, 'Harmony': 1, 'Lucedale': 1, 'Reading': 1, 'Laredo': 1, 'Wapanucka': 1, 'Bossier City': 1, 'Peebles': 1, 'Hawthorne': 1, 'Boiling Springs': 1, 'Eaton Rapids Township': 1, 'Palm Bay': 1, 'Hanford': 1, 'Salt Lake City': 1, 'Chino': 1, 'Chatham': 1, 'Alpine': 1, 'Boulder City': 1, 'Wilmore': 1, 'Port Wentworth': 1, 'Rosenberg': 1, 'Kennewick': 1, 'Sulphur Springs': 1, 'Owensboro': 1, 'Longview': 1, 'Ontario': 1, 'Derry': 1, 'St Augustine': 2, 'Rigby': 1, 'Putnam Hall': 1, 'Peltzer': 1, 'Waco': 1, 'Miami Gardens': 1, 'Mesa': 1, 'Lincoln': 1, 'Vineland': 1, 'Grand Junction': 1, 'Roosevelt': 1, 'Bay Minette': 1, 'Sunset': 1, 'Charleston': 2, 'Muskogee': 1, 'Craig': 1, 'Catskill': 1, 'New Orleans': 2, 'Lukachukai': 1, 'Trinidad': 1, 'Crown Point': 1, 'Gillette': 1, 'Chicago': 1, 'Douglas': 1, 'Wasco': 1, 'Chamblee': 1, 'Electra': 1, 'Edgewood': 1, 'Alton': 1, 'Fremont': 1, 'Antioch': 1, 'Rio Linda': 1, 'Pueblo': 1, 'Elk Grove': 1, 'Constantania': 1, 'Hagerstown': 1, 'Sebastopol': 1, 'Trenton': 1, 'Bisbee': 1, 'Huntingdon': 1, 'Tahoka': 1, 'Encinitas': 1, 'Levelland': 1, 'Follansbee': 1, 'Shawnee': 1, 'South Gate': 2, 'Union': 1, 'Palestine': 1, 'Tulsa': 4, 'Sacramento': 1, 'Berlin': 1, 'Beacon': 1, 'Strong': 1, 'Rudioso': 1, 'Powder Springs': 1, 'Williamsburg': 1, 'Dublin': 1, 'Weymouth': 1, 'Navarre': 1, 'Old Bridge Township': 1, 'Apple Valley': 1, 'Washington': 1, 'Minneapolis': 2, 'Rock Island': 1, 'Marion': 1, 'Lake Isabella': 1, 'Gulfport': 1, 'Rochester': 2, 'Fontana': 1, 'Enfield': 1, 'Bloomington': 1, 'Millbrook': 1, 'Aurora': 2, 'Del Rio': 1, 'New York': 4, 'Los Angeles': 9, 'Grants Pass': 1, 'San Antonio': 3, 'Rockford': 1, 'Jourdanton': 1, 'Kenner': 1, 'North Charleston': 1, 'Robertsville': 1, 'Fallsburg': 1, 'Portsmouth': 2, 'Modesto': 1, 'Moulton': 1, 'Tacoma': 1, 'Santa Clara': 1, 'Sidney': 1, 'Santa Ana': 2, 'Hamilton Township': 1, 'Mansfield': 2, 'Waikoloa Village': 1, 'Lake Jackson': 1, 'Clermont': 1, 'Rosemont': 1, 'Anaheim': 2, 'Fairfax': 1, 'Deltona': 1, 'Denham Springs': 1, 'Delano': 1, 'Cleveland': 2, 'Glenwood Springs': 1, 'Vallejo': 1, 'Pulaski': 1, 'Chandler': 1, 'Huntsville': 1, 'Ville Platte': 1, 'Nashville': 2, 'Hemet': 2, 'Fort Pierce': 1, 'Landover': 1, 'Terre Haute ': 1, 'Gastonia': 2, 'Iuka': 1, 'Lyndhurst': 1, 'Anchorage': 2, 'Tehachapi': 1, 'Freeport': 1, 'Kansas City': 3, 'St Paul': 2, 'Glendale': 1, 'Houston': 6, 'Tempe': 1, 'New City': 1, 'Smyrna': 2, 'Des Moines': 1, 'Milwaukee': 1, 'Portland': 1, 'Albany': 1, 'Snohomish': 1, 'Eagar': 1, 'Conyers': 1, 'Rockwood': 1, 'Provo': 1, 'Aloha': 1, 'Spartanburg': 1, 'San Francisco': 4, 'Culpeper': 1, 'South El Monte': 1, 'Marana': 1, 'Clarkesville': 1, 'La Paz County': 1, 'Victoria': 1, 'Marysville': 1, 'Newalla': 1, 'Shelton': 1, 'Fort Meade': 1, 'England': 1, 'Tonasket': 1, 'Long Beach': 2, 'Bakersfield': 3, 'Napa': 1, 'Baytown': 1, 'Meridian': 1, 'Eugene': 1, 'Forth Worth': 1, 'Draper': 1, 'Pittsburgh': 1, 'Stanford': 1, 'Albuquerque': 2, 'Calimesa': 1, 'Syracuse': 1, 'Spokane': 1, 'Wilmington': 1, 'San Jose': 2, 'Tarboro': 1, 'Panama City': 1, 'Madison': 1, 'Assaria': 1, 'Gaston': 1, 'Essex': 1, 'Cocoa': 1, 'Kingman': 1, 'Elizabethtown': 1, 'Bunch': 1, 'Pasco': 2, 'Emporia': 1, 'Dallas': 1, 'Munroe Falls': 1, 'Middletown': 1, 'Fairfield': 1, 'Arcola': 1, 'Ruth': 1, 'Boulder': 1, 'Fort Lauderdale': 2, 'Peoria ': 1, 'Baton Rouge': 1, 'Billings': 1, 'Green Bay': 1, 'Detroit': 2, 'Randallstown': 1, 'Highland': 1, 'Austin': 3, 'Tallulah': 1, 'Stockton': 3, 'Lawrenceville': 1, 'Gettysburg': 1, 'Robinsonville': 1, 'Lancaster': 2, 'Kellyville': 1, 'Key Largo': 1, 'Portage': 1, 'Gunlock': 1, 'Cabot': 1, 'Vancouver': 1, 'Springfield': 1, 'Coconut Creek': 1, 'Lauderhill': 1, 'Garland': 2, 'Rufe': 1, 'Sierra Blanca': 1, 'Cottonwood': 2, 'Sylmar': 1, 'Jacksonville': 2, 'Omaha': 3, 'Northglenn': 1, 'Wichita': 1, 'Baltimore': 2, 'Ruidoso': 1, 'St Petersburg': 1, 'Mission': 1, 'Oakland': 1}\n"
     ]
    }
   ],
   "source": [
    "cities = list(police_killings[police_killings['city'] != 'Unknown']['city'].drop_duplicates())\n",
    "def func(df, features, column):\n",
    "    answer = {}\n",
    "    for feature in features:\n",
    "        answer[feature] = len(df[df[column] == feature])\n",
    "    return answer\n",
    "x = func(police_killings[police_killings['city'] != 'Unknown'], cities, 'city')\n",
    "print x"
   ]
  },
  {
   "cell_type": "code",
   "execution_count": 51,
   "metadata": {
    "collapsed": false
   },
   "outputs": [
    {
     "name": "stdout",
     "output_type": "stream",
     "text": [
      "{'Harvey': 3, 'San Francisco': 4, 'St Louis': 3, 'Columbus': 3, 'Indianapolis': 4, 'Columbia': 3, 'Phoenix': 6, 'El Paso': 3, 'Los Angeles': 9, 'Atlanta': 3, 'Memphis': 3, 'San Antonio': 3, 'Bakersfield': 3, 'Omaha': 3, 'Kansas City': 3, 'Austin': 3, 'Stockton': 3, 'Houston': 6, 'Tulsa': 4, 'Fort Worth': 3, 'New York': 4, 'Oklahoma City': 4}\n"
     ]
    },
    {
     "data": {
      "image/png": "[encoded data removed]",
      "text/plain": [
       "<matplotlib.figure.Figure at 0xc28ca90>"
      ]
     },
     "metadata": {},
     "output_type": "display_data"
    }
   ],
   "source": [
    "newx = {}\n",
    "for w in sorted(x, key=x.get, reverse=True):\n",
    "    if x[w] > 2:\n",
    "        newx[w] = x[w]\n",
    "print newx\n",
    "plt.bar(range(len(newx)), newx.values(), color='g')\n",
    "plt.xticks(range(len(newx)), newx.keys(), rotation=90)\n",
    "plt.autoscale(tight=True)\n",
    "plt.show()"
   ]
  }
 ],
 "metadata": {
  "kernelspec": {
   "display_name": "Python 2",
   "language": "python",
   "name": "python2"
  },
  "language_info": {
   "codemirror_mode": {
    "name": "ipython",
    "version": 2
   },
   "file_extension": ".py",
   "mimetype": "text/x-python",
   "name": "python",
   "nbconvert_exporter": "python",
   "pygments_lexer": "ipython2",
   "version": "2.7.10"
  }
 },
 "nbformat": 4,
 "nbformat_minor": 0
}
