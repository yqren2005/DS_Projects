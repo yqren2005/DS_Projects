{
 "cells": [
  {
   "cell_type": "markdown",
   "metadata": {},
   "source": [
    "## Titanic with Keras using TensorFlow backend\n",
    "Submission scored: 0.80861"
   ]
  },
  {
   "cell_type": "markdown",
   "metadata": {},
   "source": [
    "### Load data, fill missing Fare and Embarked"
   ]
  },
  {
   "cell_type": "code",
   "execution_count": 80,
   "metadata": {},
   "outputs": [
    {
     "name": "stdout",
     "output_type": "stream",
     "text": [
      "<class 'pandas.core.frame.DataFrame'>\n",
      "RangeIndex: 1309 entries, 0 to 1308\n",
      "Data columns (total 11 columns):\n",
      "PassengerId    1309 non-null int64\n",
      "Pclass         1309 non-null int64\n",
      "Name           1309 non-null object\n",
      "Sex            1309 non-null object\n",
      "Age            1046 non-null float64\n",
      "SibSp          1309 non-null int64\n",
      "Parch          1309 non-null int64\n",
      "Ticket         1309 non-null object\n",
      "Fare           1308 non-null float64\n",
      "Cabin          295 non-null object\n",
      "Embarked       1307 non-null object\n",
      "dtypes: float64(2), int64(4), object(5)\n",
      "memory usage: 112.6+ KB\n"
     ]
    }
   ],
   "source": [
    "import pandas as pd\n",
    "\n",
    "train = pd.read_csv('titanic_train.csv')\n",
    "test = pd.read_csv('titanic_test.csv')\n",
    "total = pd.concat([train.drop('Survived', axis=1), test], ignore_index=True)\n",
    "total.info()"
   ]
  },
  {
   "cell_type": "code",
   "execution_count": 81,
   "metadata": {
    "collapsed": true
   },
   "outputs": [],
   "source": [
    "# Both paid $80 for Pclass 1, which is the median Fare for people with Embarked=C and Pclass=1\n",
    "total.loc[61,'Embarked'] = 'C'\n",
    "total.loc[829,'Embarked'] = 'C'\n",
    "\n",
    "# Fill in with the median Fare of pclass=3 and Embarked=S\n",
    "total.loc[1043, 'Fare'] = 8.05"
   ]
  },
  {
   "cell_type": "markdown",
   "metadata": {},
   "source": [
    "### Add new features Title, FamilySize, FamilyID, convert Cabin column"
   ]
  },
  {
   "cell_type": "code",
   "execution_count": 82,
   "metadata": {},
   "outputs": [
    {
     "data": {
      "text/plain": [
       "Mr        757\n",
       "Miss      260\n",
       "Mrs       197\n",
       "Master     61\n",
       "Rev         8\n",
       "Dr          8\n",
       "Sir         5\n",
       "Col         4\n",
       "Lady        4\n",
       "Mlle        3\n",
       "Ms          2\n",
       "Name: Title, dtype: int64"
      ]
     },
     "execution_count": 82,
     "metadata": {},
     "output_type": "execute_result"
    }
   ],
   "source": [
    "total['Title'] = total.Name.apply(lambda name: name.split(', ')[1].split('. ')[0])\n",
    "\n",
    "title_map = {\n",
    "    'Capt':'Sir',\n",
    "    'Don':'Sir',\n",
    "    'Major':'Sir',\n",
    "    'Mme':'Mlle',\n",
    "    'Dona':'Lady',\n",
    "    'Jonkheer':'Lady',\n",
    "    'the Countess':'Lady'\n",
    "}\n",
    "\n",
    "total['Title'] = total.Title.apply(lambda title: title_map[title] if title in title_map else title)\n",
    "\n",
    "total.Title.value_counts()"
   ]
  },
  {
   "cell_type": "code",
   "execution_count": 83,
   "metadata": {
    "collapsed": true
   },
   "outputs": [],
   "source": [
    "total['FamilySize'] = total.SibSp + total.Parch + 1\n",
    "total['FamilyID'] = total.Name.apply(lambda name: name.split(',')[0]) + total.FamilySize.astype('str')\n",
    "total.loc[total.FamilySize < 2, 'FamilyID'] = 'Single'"
   ]
  },
  {
   "cell_type": "code",
   "execution_count": 84,
   "metadata": {},
   "outputs": [
    {
     "data": {
      "text/plain": [
       "Single        790\n",
       "Sage11         11\n",
       "Andersson7      9\n",
       "Goodwin8        8\n",
       "Asplund7        7\n",
       "Panula6         6\n",
       "Skoog6          6\n",
       "Rice6           6\n",
       "Fortune6        6\n",
       "Davies3         5\n",
       "Name: FamilyID, dtype: int64"
      ]
     },
     "execution_count": 84,
     "metadata": {},
     "output_type": "execute_result"
    }
   ],
   "source": [
    "total.FamilyID.value_counts().head(10)"
   ]
  },
  {
   "cell_type": "code",
   "execution_count": 85,
   "metadata": {
    "collapsed": true
   },
   "outputs": [],
   "source": [
    "total.loc[total.Cabin.isnull(), 'Cabin'] = 'X'\n",
    "total.Cabin = total.Cabin.apply(lambda cabin: cabin[0])"
   ]
  },
  {
   "cell_type": "code",
   "execution_count": 86,
   "metadata": {},
   "outputs": [
    {
     "name": "stdout",
     "output_type": "stream",
     "text": [
      "<class 'pandas.core.frame.DataFrame'>\n",
      "RangeIndex: 1309 entries, 0 to 1308\n",
      "Data columns (total 14 columns):\n",
      "PassengerId    1309 non-null int64\n",
      "Pclass         1309 non-null int64\n",
      "Name           1309 non-null object\n",
      "Sex            1309 non-null object\n",
      "Age            1046 non-null float64\n",
      "SibSp          1309 non-null int64\n",
      "Parch          1309 non-null int64\n",
      "Ticket         1309 non-null object\n",
      "Fare           1309 non-null float64\n",
      "Cabin          1309 non-null object\n",
      "Embarked       1309 non-null object\n",
      "Title          1309 non-null object\n",
      "FamilySize     1309 non-null int64\n",
      "FamilyID       1309 non-null object\n",
      "dtypes: float64(2), int64(5), object(7)\n",
      "memory usage: 143.2+ KB\n"
     ]
    }
   ],
   "source": [
    "# Now only Age has missing values\n",
    "\n",
    "total.info()"
   ]
  },
  {
   "cell_type": "markdown",
   "metadata": {},
   "source": [
    "### Convert all categorical values to dummy values"
   ]
  },
  {
   "cell_type": "code",
   "execution_count": 87,
   "metadata": {
    "collapsed": true
   },
   "outputs": [],
   "source": [
    "pclass_dummies = pd.get_dummies(total.Pclass, prefix='Pclass')\n",
    "cabin_dummies = pd.get_dummies(total.Cabin, prefix='Cabin')\n",
    "embarked_dummies = pd.get_dummies(total.Embarked, prefix='Embarked')\n",
    "title_dummies = pd.get_dummies(total.Title, prefix='Title')\n",
    "sibsp_dummies = pd.get_dummies(total.SibSp, prefix='SibSp')\n",
    "parch_dummies = pd.get_dummies(total.Parch, prefix='Parch')\n",
    "familySize_dummies = pd.get_dummies(total.FamilySize, prefix='FamilySize')\n",
    "familyID_dummies = pd.get_dummies(total.FamilyID, prefix='FamilyID')\n",
    "\n",
    "total = pd.concat([total, \n",
    "                   pclass_dummies, \n",
    "                   cabin_dummies, \n",
    "                   embarked_dummies, \n",
    "                   title_dummies, \n",
    "                   sibsp_dummies, \n",
    "                   parch_dummies, \n",
    "                   familyID_dummies, \n",
    "                   familySize_dummies\n",
    "                  ], axis=1)\n",
    "\n",
    "total.Sex = total.Sex.map({'female':0, 'male':1})\n",
    "\n",
    "total = total.drop(['PassengerId', \n",
    "                    'Pclass', \n",
    "                    'Name', \n",
    "                    'Ticket', \n",
    "                    'Cabin', \n",
    "                    'Embarked', \n",
    "                    'Title', \n",
    "                    'SibSp', \n",
    "                    'Parch', \n",
    "                    'FamilyID', \n",
    "                    'FamilySize'\n",
    "                   ], axis=1)"
   ]
  },
  {
   "cell_type": "code",
   "execution_count": 88,
   "metadata": {},
   "outputs": [
    {
     "name": "stdout",
     "output_type": "stream",
     "text": [
      "<class 'pandas.core.frame.DataFrame'>\n",
      "RangeIndex: 1309 entries, 0 to 1308\n",
      "Columns: 281 entries, Sex to FamilySize_11\n",
      "dtypes: float64(2), int64(1), uint8(278)\n",
      "memory usage: 386.1 KB\n"
     ]
    }
   ],
   "source": [
    "total.info()"
   ]
  },
  {
   "cell_type": "markdown",
   "metadata": {},
   "source": [
    "### Predicting missing Ages"
   ]
  },
  {
   "cell_type": "code",
   "execution_count": 89,
   "metadata": {},
   "outputs": [],
   "source": [
    "from keras.models import Sequential\n",
    "from keras.layers import Dense"
   ]
  },
  {
   "cell_type": "code",
   "execution_count": 90,
   "metadata": {
    "collapsed": true
   },
   "outputs": [],
   "source": [
    "import numpy as np\n",
    "\n",
    "X = total[total.Age.notnull()].drop('Age', axis=1)\n",
    "Y = np.array(total[total.Age.notnull()]['Age'])\n",
    "X_test = total[total.Age.isnull()].drop('Age', axis=1)"
   ]
  },
  {
   "cell_type": "code",
   "execution_count": 91,
   "metadata": {
    "collapsed": true
   },
   "outputs": [],
   "source": [
    "from sklearn.preprocessing import StandardScaler\n",
    "\n",
    "# Define the scaler \n",
    "scaler = StandardScaler().fit(X)\n",
    "\n",
    "# Scale the train set\n",
    "X = scaler.transform(X)\n",
    "\n",
    "# Scale the test set\n",
    "X_test = scaler.transform(X_test)"
   ]
  },
  {
   "cell_type": "code",
   "execution_count": 92,
   "metadata": {},
   "outputs": [
    {
     "name": "stderr",
     "output_type": "stream",
     "text": [
      "/home/yuqing/anaconda3/lib/python3.5/site-packages/sklearn/model_selection/_split.py:581: Warning: The least populated class in y has only 1 members, which is too few. The minimum number of groups for any class cannot be less than n_splits=5.\n",
      "  % (min_groups, self.n_splits)), Warning)\n"
     ]
    },
    {
     "name": "stdout",
     "output_type": "stream",
     "text": [
      "132.199149087 8.42642634519\n",
      "130.383336361 8.60191303407\n",
      "157.478430118 9.24614517644\n",
      "114.808420817 8.18029097015\n",
      "105.629839005 7.79454070266\n"
     ]
    }
   ],
   "source": [
    "from sklearn.model_selection import StratifiedKFold\n",
    "\n",
    "kfold = StratifiedKFold(n_splits=5, shuffle=True, random_state=101)\n",
    "\n",
    "for train_part, test_part in kfold.split(X, Y):\n",
    "    model = Sequential()\n",
    "    model.add(Dense(600, use_bias=True, input_dim=280, activation='relu'))\n",
    "    model.add(Dense(20, use_bias=True, activation='relu'))\n",
    "    model.add(Dense(1, use_bias=True))\n",
    "    model.compile(optimizer='rmsprop', loss='mse', metrics=['mae'])\n",
    "    model.fit(X[train_part], Y[train_part], epochs=10, batch_size=1, verbose=0)\n",
    "    mse_value, mae_value = model.evaluate(X[test_part], Y[test_part], verbose=0)\n",
    "    print(mse_value, mae_value)"
   ]
  },
  {
   "cell_type": "code",
   "execution_count": 93,
   "metadata": {},
   "outputs": [
    {
     "name": "stdout",
     "output_type": "stream",
     "text": [
      "Epoch 1/10\n",
      "1046/1046 [==============================] - 3s - loss: 210.3917 - mean_absolute_error: 11.1607     \n",
      "Epoch 2/10\n",
      "1046/1046 [==============================] - 3s - loss: 119.2253 - mean_absolute_error: 8.3191     \n",
      "Epoch 3/10\n",
      "1046/1046 [==============================] - 3s - loss: 103.2567 - mean_absolute_error: 7.5512     \n",
      "Epoch 4/10\n",
      "1046/1046 [==============================] - 3s - loss: 92.9825 - mean_absolute_error: 7.2107     \n",
      "Epoch 5/10\n",
      "1046/1046 [==============================] - 3s - loss: 90.7141 - mean_absolute_error: 6.9719     \n",
      "Epoch 6/10\n",
      "1046/1046 [==============================] - 3s - loss: 86.4519 - mean_absolute_error: 6.7858     \n",
      "Epoch 7/10\n",
      "1046/1046 [==============================] - 3s - loss: 86.0162 - mean_absolute_error: 6.6815     \n",
      "Epoch 8/10\n",
      "1046/1046 [==============================] - 3s - loss: 84.5017 - mean_absolute_error: 6.6628     \n",
      "Epoch 9/10\n",
      "1046/1046 [==============================] - 3s - loss: 83.8864 - mean_absolute_error: 6.6156     \n",
      "Epoch 10/10\n",
      "1046/1046 [==============================] - 3s - loss: 82.9216 - mean_absolute_error: 6.5397     \n"
     ]
    },
    {
     "data": {
      "text/plain": [
       "<keras.callbacks.History at 0x7fbc144a0ba8>"
      ]
     },
     "execution_count": 93,
     "metadata": {},
     "output_type": "execute_result"
    }
   ],
   "source": [
    "# Initialize the model\n",
    "model = Sequential()\n",
    "\n",
    "# Add input layer \n",
    "model.add(Dense(600, input_dim=280, use_bias=True, activation='relu'))\n",
    "\n",
    "# Add one hidden layer\n",
    "model.add(Dense(20, use_bias=True, activation='relu'))\n",
    "\n",
    "# Add output layer \n",
    "model.add(Dense(1, use_bias=True))\n",
    "\n",
    "# Compile the model\n",
    "model.compile(optimizer='rmsprop', loss='mse', metrics=['mae'])\n",
    "\n",
    "# Fit the model\n",
    "model.fit(X, Y, epochs=10, batch_size=1, verbose=1)"
   ]
  },
  {
   "cell_type": "code",
   "execution_count": 94,
   "metadata": {
    "collapsed": true
   },
   "outputs": [],
   "source": [
    "import matplotlib.pyplot as plt\n",
    "import seaborn as sns\n",
    "%matplotlib inline"
   ]
  },
  {
   "cell_type": "code",
   "execution_count": 95,
   "metadata": {},
   "outputs": [
    {
     "data": {
      "text/plain": [
       "<matplotlib.axes._subplots.AxesSubplot at 0x7fbc17d6fdd8>"
      ]
     },
     "execution_count": 95,
     "metadata": {},
     "output_type": "execute_result"
    },
    {
     "data": {
      "image/png": "[encoded data removed]",
      "text/plain": [
       "<matplotlib.figure.Figure at 0x7fbc15b9cda0>"
      ]
     },
     "metadata": {},
     "output_type": "display_data"
    }
   ],
   "source": [
    "# Age distribution before filling in missing ages\n",
    "\n",
    "sns.distplot(total.Age[total.Age.notnull()])"
   ]
  },
  {
   "cell_type": "code",
   "execution_count": 96,
   "metadata": {},
   "outputs": [
    {
     "data": {
      "text/plain": [
       "count    1046.000000\n",
       "mean       29.881138\n",
       "std        14.413493\n",
       "min         0.170000\n",
       "25%        21.000000\n",
       "50%        28.000000\n",
       "75%        39.000000\n",
       "max        80.000000\n",
       "Name: Age, dtype: float64"
      ]
     },
     "execution_count": 96,
     "metadata": {},
     "output_type": "execute_result"
    }
   ],
   "source": [
    "total.Age.describe()"
   ]
  },
  {
   "cell_type": "code",
   "execution_count": 97,
   "metadata": {
    "collapsed": true
   },
   "outputs": [],
   "source": [
    "total.loc[total.Age.isnull(), 'Age'] = model.predict(X_test)"
   ]
  },
  {
   "cell_type": "code",
   "execution_count": 98,
   "metadata": {},
   "outputs": [
    {
     "data": {
      "text/plain": [
       "<matplotlib.axes._subplots.AxesSubplot at 0x7fbc14ef8d68>"
      ]
     },
     "execution_count": 98,
     "metadata": {},
     "output_type": "execute_result"
    },
    {
     "data": {
      "image/png": "[encoded data removed]",
      "text/plain": [
       "<matplotlib.figure.Figure at 0x7fbc143cb550>"
      ]
     },
     "metadata": {},
     "output_type": "display_data"
    }
   ],
   "source": [
    "# Age distribution after filling in missing ages\n",
    "\n",
    "sns.distplot(total.Age)"
   ]
  },
  {
   "cell_type": "code",
   "execution_count": 99,
   "metadata": {},
   "outputs": [
    {
     "data": {
      "text/plain": [
       "count    1309.000000\n",
       "mean       29.800994\n",
       "std        13.353819\n",
       "min         0.170000\n",
       "25%        22.000000\n",
       "50%        28.000000\n",
       "75%        37.000000\n",
       "max        80.000000\n",
       "Name: Age, dtype: float64"
      ]
     },
     "execution_count": 99,
     "metadata": {},
     "output_type": "execute_result"
    }
   ],
   "source": [
    "total.Age.describe()"
   ]
  },
  {
   "cell_type": "code",
   "execution_count": 100,
   "metadata": {},
   "outputs": [
    {
     "data": {
      "text/plain": [
       "0"
      ]
     },
     "execution_count": 100,
     "metadata": {},
     "output_type": "execute_result"
    }
   ],
   "source": [
    "total.isnull().sum().sum()"
   ]
  },
  {
   "cell_type": "markdown",
   "metadata": {},
   "source": [
    "### Modeling"
   ]
  },
  {
   "cell_type": "code",
   "execution_count": 117,
   "metadata": {},
   "outputs": [
    {
     "data": {
      "text/plain": [
       "(1309, 281)"
      ]
     },
     "execution_count": 117,
     "metadata": {},
     "output_type": "execute_result"
    }
   ],
   "source": [
    "total.shape"
   ]
  },
  {
   "cell_type": "code",
   "execution_count": 118,
   "metadata": {
    "collapsed": true
   },
   "outputs": [],
   "source": [
    "X = total.head(891)\n",
    "Y = np.array(train.Survived)\n",
    "X_test = total.iloc[891:]"
   ]
  },
  {
   "cell_type": "code",
   "execution_count": 119,
   "metadata": {
    "collapsed": true
   },
   "outputs": [],
   "source": [
    "scaler = StandardScaler().fit(X)\n",
    "X = scaler.transform(X)\n",
    "X_test = scaler.transform(X_test)"
   ]
  },
  {
   "cell_type": "code",
   "execution_count": 120,
   "metadata": {},
   "outputs": [
    {
     "name": "stdout",
     "output_type": "stream",
     "text": [
      " 32/179 [====>.........................] - ETA: 2s[0.80486076454210542, 0.86033519553072624]\n",
      " 32/179 [====>.........................] - ETA: 2s[1.4485710816010418, 0.75977653364895448]\n",
      " 32/178 [====>.........................] - ETA: 2s[0.90653694128052575, 0.84831460406271264]\n",
      " 32/178 [====>.........................] - ETA: 2s[0.46358993850397262, 0.84269662988319827]\n",
      " 32/177 [====>.........................] - ETA: 2s[0.54433454413198479, 0.82485875773564565]\n"
     ]
    }
   ],
   "source": [
    "kfold = StratifiedKFold(n_splits=5, shuffle=True, random_state=101)\n",
    "\n",
    "for train_part, test_part in kfold.split(X, Y):\n",
    "    model = Sequential()\n",
    "    model.add(Dense(1000, use_bias=True, input_dim=281, activation='relu'))\n",
    "    model.add(Dense(200, use_bias=True, activation='relu'))\n",
    "    model.add(Dense(20, use_bias=True, activation='relu'))\n",
    "    model.add(Dense(1, use_bias=True, activation='sigmoid'))\n",
    "    model.compile(loss='binary_crossentropy', optimizer='adam', metrics=['accuracy'])\n",
    "    model.fit(X[train_part], Y[train_part], epochs=10, batch_size=1, verbose=0)\n",
    "    score = model.evaluate(X[test_part], Y[test_part], verbose=1)\n",
    "    print(score)"
   ]
  },
  {
   "cell_type": "code",
   "execution_count": 121,
   "metadata": {},
   "outputs": [
    {
     "name": "stdout",
     "output_type": "stream",
     "text": [
      "Epoch 1/10\n",
      "891/891 [==============================] - 7s - loss: 0.5336 - acc: 0.7565     \n",
      "Epoch 2/10\n",
      "891/891 [==============================] - 7s - loss: 0.3437 - acc: 0.8709     \n",
      "Epoch 3/10\n",
      "891/891 [==============================] - 7s - loss: 0.3114 - acc: 0.8743     \n",
      "Epoch 4/10\n",
      "891/891 [==============================] - 7s - loss: 0.2873 - acc: 0.8866     \n",
      "Epoch 5/10\n",
      "891/891 [==============================] - 7s - loss: 0.2702 - acc: 0.8923     \n",
      "Epoch 6/10\n",
      "891/891 [==============================] - 7s - loss: 0.2632 - acc: 0.8934     \n",
      "Epoch 7/10\n",
      "891/891 [==============================] - 7s - loss: 0.2606 - acc: 0.8923     \n",
      "Epoch 8/10\n",
      "891/891 [==============================] - 7s - loss: 0.2682 - acc: 0.8889     \n",
      "Epoch 9/10\n",
      "891/891 [==============================] - 7s - loss: 0.2624 - acc: 0.8990     \n",
      "Epoch 10/10\n",
      "891/891 [==============================] - 7s - loss: 0.2644 - acc: 0.8956     \n"
     ]
    },
    {
     "data": {
      "text/plain": [
       "<keras.callbacks.History at 0x7fbc10fb05c0>"
      ]
     },
     "execution_count": 121,
     "metadata": {},
     "output_type": "execute_result"
    }
   ],
   "source": [
    "# Initialize the constructor\n",
    "model = Sequential()\n",
    "\n",
    "# Add an input layer\n",
    "model.add(Dense(1000, use_bias=True, activation='relu', input_shape=(281,)))\n",
    "\n",
    "# Add one hidden layer\n",
    "model.add(Dense(200, use_bias=True, activation='relu'))\n",
    "\n",
    "# Add 1 more hidden layer\n",
    "model.add(Dense(20, use_bias=True, activation='relu'))\n",
    "\n",
    "# Add an output layer\n",
    "model.add(Dense(1, use_bias=True, activation='sigmoid'))\n",
    "\n",
    "# Compile the model\n",
    "model.compile(loss='binary_crossentropy', optimizer='adam', metrics=['accuracy'])\n",
    "\n",
    "# Fit the model\n",
    "model.fit(X, Y, epochs=10, batch_size=1, verbose=1)"
   ]
  },
  {
   "cell_type": "code",
   "execution_count": 122,
   "metadata": {},
   "outputs": [
    {
     "name": "stdout",
     "output_type": "stream",
     "text": [
      "\r",
      " 32/418 [=>............................] - ETA: 6s"
     ]
    }
   ],
   "source": [
    "y_pred = model.predict_classes(X_test, verbose=1)"
   ]
  },
  {
   "cell_type": "code",
   "execution_count": 123,
   "metadata": {
    "collapsed": true
   },
   "outputs": [],
   "source": [
    "predictions = [item for sublist in y_pred.tolist() for item in sublist]"
   ]
  },
  {
   "cell_type": "code",
   "execution_count": 124,
   "metadata": {
    "collapsed": true
   },
   "outputs": [],
   "source": [
    "submission = pd.DataFrame({\n",
    "             \"PassengerId\": test.PassengerId,\n",
    "             \"Survived\": predictions\n",
    "             })\n",
    "\n",
    "# score: 0.80861\n",
    "submission.to_csv('keras.csv', index=False)"
   ]
  }
 ],
 "metadata": {
  "kernelspec": {
   "display_name": "Python 3",
   "language": "python",
   "name": "python3"
  },
  "language_info": {
   "codemirror_mode": {
    "name": "ipython",
    "version": 3
   },
   "file_extension": ".py",
   "mimetype": "text/x-python",
   "name": "python",
   "nbconvert_exporter": "python",
   "pygments_lexer": "ipython3",
   "version": "3.5.3"
  }
 },
 "nbformat": 4,
 "nbformat_minor": 2
}
