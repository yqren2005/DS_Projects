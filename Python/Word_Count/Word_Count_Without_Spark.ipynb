{
 "cells": [
  {
   "cell_type": "code",
   "execution_count": 1,
   "metadata": {
    "collapsed": true
   },
   "outputs": [],
   "source": [
    "import string"
   ]
  },
  {
   "cell_type": "code",
   "execution_count": 2,
   "metadata": {
    "collapsed": true
   },
   "outputs": [],
   "source": [
    "with open('README.md', 'r') as f:\n",
    "    data = f.read().lower()"
   ]
  },
  {
   "cell_type": "code",
   "execution_count": 3,
   "metadata": {
    "collapsed": false
   },
   "outputs": [],
   "source": [
    "punc_removed = data.translate(None, string.punctuation)"
   ]
  },
  {
   "cell_type": "code",
   "execution_count": 4,
   "metadata": {
    "collapsed": false
   },
   "outputs": [
    {
     "data": {
      "text/plain": [
       "{'against': 1,\n",
       " 'builds': 1,\n",
       " 'computation': 1,\n",
       " 'find': 1,\n",
       " 'help': 1,\n",
       " 'higherlevel': 1,\n",
       " 'including': 3,\n",
       " 'please': 3,\n",
       " 'scparallelizerange1000count': 1,\n",
       " 'web': 1}"
      ]
     },
     "execution_count": 4,
     "metadata": {},
     "output_type": "execute_result"
    }
   ],
   "source": [
    "wordcount = {}\n",
    "\n",
    "for word in punc_removed.split():\n",
    "    wordcount[word] = wordcount.get(word, 0) + 1\n",
    "\n",
    "# show dict head\n",
    "dict(wordcount.items()[0:10])"
   ]
  },
  {
   "cell_type": "code",
   "execution_count": 5,
   "metadata": {
    "collapsed": false
   },
   "outputs": [],
   "source": [
    "sorted_counts = sorted(wordcount.items(), key=lambda x: -x[1])"
   ]
  },
  {
   "cell_type": "code",
   "execution_count": 6,
   "metadata": {
    "collapsed": false
   },
   "outputs": [
    {
     "name": "stdout",
     "output_type": "stream",
     "text": [
      "the 23\n",
      "spark 17\n",
      "to 16\n",
      "for 14\n",
      "and 12\n",
      "run 9\n",
      "a 9\n",
      "you 9\n",
      "can 7\n",
      "using 6\n",
      "is 6\n",
      "in 6\n",
      "on 5\n",
      "of 5\n",
      "example 5\n",
      "hadoop 5\n",
      "building 5\n",
      "documentation 5\n",
      "python 4\n",
      "examples 4\n"
     ]
    }
   ],
   "source": [
    "for w, n in sorted_counts[:20]:\n",
    "    print w, n"
   ]
  }
 ],
 "metadata": {
  "kernelspec": {
   "display_name": "Python 2",
   "language": "python",
   "name": "python2"
  },
  "language_info": {
   "codemirror_mode": {
    "name": "ipython",
    "version": 2
   },
   "file_extension": ".py",
   "mimetype": "text/x-python",
   "name": "python",
   "nbconvert_exporter": "python",
   "pygments_lexer": "ipython2",
   "version": "2.7.13"
  }
 },
 "nbformat": 4,
 "nbformat_minor": 2
}
