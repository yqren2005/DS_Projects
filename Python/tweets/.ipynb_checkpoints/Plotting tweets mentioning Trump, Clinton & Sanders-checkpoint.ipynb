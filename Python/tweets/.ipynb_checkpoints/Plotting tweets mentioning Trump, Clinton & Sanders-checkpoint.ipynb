{
 "cells": [
  {
   "cell_type": "code",
   "execution_count": 1,
   "metadata": {
    "collapsed": false
   },
   "outputs": [
    {
     "data": {
      "text/html": [
       "<div>\n",
       "<table border=\"1\" class=\"dataframe\">\n",
       "  <thead>\n",
       "    <tr style=\"text-align: right;\">\n",
       "      <th></th>\n",
       "      <th>id</th>\n",
       "      <th>id_str</th>\n",
       "      <th>user_location</th>\n",
       "      <th>user_bg_color</th>\n",
       "      <th>retweet_count</th>\n",
       "      <th>user_name</th>\n",
       "      <th>polarity</th>\n",
       "      <th>created</th>\n",
       "      <th>geo</th>\n",
       "      <th>user_description</th>\n",
       "      <th>user_created</th>\n",
       "      <th>user_followers</th>\n",
       "      <th>coordinates</th>\n",
       "      <th>subjectivity</th>\n",
       "      <th>text</th>\n",
       "    </tr>\n",
       "  </thead>\n",
       "  <tbody>\n",
       "    <tr>\n",
       "      <th>0</th>\n",
       "      <td>1</td>\n",
       "      <td>729828033092149248</td>\n",
       "      <td>Wheeling WV</td>\n",
       "      <td>022330</td>\n",
       "      <td>0</td>\n",
       "      <td>Jaybo26003</td>\n",
       "      <td>0.00</td>\n",
       "      <td>2016-05-10T00:18:57</td>\n",
       "      <td>NaN</td>\n",
       "      <td>NaN</td>\n",
       "      <td>2011-11-17T02:45:42</td>\n",
       "      <td>39</td>\n",
       "      <td>NaN</td>\n",
       "      <td>0.0</td>\n",
       "      <td>Make a difference vote! WV Bernie Sanders Coul...</td>\n",
       "    </tr>\n",
       "    <tr>\n",
       "      <th>1</th>\n",
       "      <td>2</td>\n",
       "      <td>729828033092161537</td>\n",
       "      <td>NaN</td>\n",
       "      <td>C0DEED</td>\n",
       "      <td>0</td>\n",
       "      <td>brittttany_ns</td>\n",
       "      <td>0.15</td>\n",
       "      <td>2016-05-10T00:18:57</td>\n",
       "      <td>NaN</td>\n",
       "      <td>18 // PSJAN</td>\n",
       "      <td>2012-12-24T17:33:12</td>\n",
       "      <td>1175</td>\n",
       "      <td>NaN</td>\n",
       "      <td>0.1</td>\n",
       "      <td>RT @HlPHOPNEWS: T.I. says if Donald Trump wins...</td>\n",
       "    </tr>\n",
       "    <tr>\n",
       "      <th>2</th>\n",
       "      <td>3</td>\n",
       "      <td>729828033566224384</td>\n",
       "      <td>NaN</td>\n",
       "      <td>C0DEED</td>\n",
       "      <td>0</td>\n",
       "      <td>JeffriesLori</td>\n",
       "      <td>0.00</td>\n",
       "      <td>2016-05-10T00:18:57</td>\n",
       "      <td>NaN</td>\n",
       "      <td>NaN</td>\n",
       "      <td>2012-10-11T14:29:59</td>\n",
       "      <td>42</td>\n",
       "      <td>NaN</td>\n",
       "      <td>0.0</td>\n",
       "      <td>You have no one to blame but yourselves if Tru...</td>\n",
       "    </tr>\n",
       "    <tr>\n",
       "      <th>3</th>\n",
       "      <td>4</td>\n",
       "      <td>729828033893302272</td>\n",
       "      <td>global</td>\n",
       "      <td>C0DEED</td>\n",
       "      <td>0</td>\n",
       "      <td>WhorunsGOVs</td>\n",
       "      <td>0.00</td>\n",
       "      <td>2016-05-10T00:18:57</td>\n",
       "      <td>NaN</td>\n",
       "      <td>Get Latest Global Political news as they unfold</td>\n",
       "      <td>2014-02-16T07:34:24</td>\n",
       "      <td>290</td>\n",
       "      <td>NaN</td>\n",
       "      <td>0.0</td>\n",
       "      <td>'Ruin the rest of their lives': Donald Trump c...</td>\n",
       "    </tr>\n",
       "    <tr>\n",
       "      <th>4</th>\n",
       "      <td>5</td>\n",
       "      <td>729828034178482177</td>\n",
       "      <td>California, USA</td>\n",
       "      <td>131516</td>\n",
       "      <td>0</td>\n",
       "      <td>BJCG0830</td>\n",
       "      <td>0.00</td>\n",
       "      <td>2016-05-10T00:18:57</td>\n",
       "      <td>NaN</td>\n",
       "      <td>Queer Latino invoking his 1st amendment privil...</td>\n",
       "      <td>2009-03-21T01:43:26</td>\n",
       "      <td>354</td>\n",
       "      <td>NaN</td>\n",
       "      <td>0.0</td>\n",
       "      <td>RT @elianayjohnson: Per source, GOP megadonor ...</td>\n",
       "    </tr>\n",
       "  </tbody>\n",
       "</table>\n",
       "</div>"
      ],
      "text/plain": [
       "   id              id_str    user_location user_bg_color  retweet_count  \\\n",
       "0   1  729828033092149248      Wheeling WV        022330              0   \n",
       "1   2  729828033092161537              NaN        C0DEED              0   \n",
       "2   3  729828033566224384              NaN        C0DEED              0   \n",
       "3   4  729828033893302272           global        C0DEED              0   \n",
       "4   5  729828034178482177  California, USA        131516              0   \n",
       "\n",
       "       user_name  polarity              created  geo  \\\n",
       "0     Jaybo26003      0.00  2016-05-10T00:18:57  NaN   \n",
       "1  brittttany_ns      0.15  2016-05-10T00:18:57  NaN   \n",
       "2   JeffriesLori      0.00  2016-05-10T00:18:57  NaN   \n",
       "3    WhorunsGOVs      0.00  2016-05-10T00:18:57  NaN   \n",
       "4       BJCG0830      0.00  2016-05-10T00:18:57  NaN   \n",
       "\n",
       "                                    user_description         user_created  \\\n",
       "0                                                NaN  2011-11-17T02:45:42   \n",
       "1                                        18 // PSJAN  2012-12-24T17:33:12   \n",
       "2                                                NaN  2012-10-11T14:29:59   \n",
       "3    Get Latest Global Political news as they unfold  2014-02-16T07:34:24   \n",
       "4  Queer Latino invoking his 1st amendment privil...  2009-03-21T01:43:26   \n",
       "\n",
       "   user_followers coordinates  subjectivity  \\\n",
       "0              39         NaN           0.0   \n",
       "1            1175         NaN           0.1   \n",
       "2              42         NaN           0.0   \n",
       "3             290         NaN           0.0   \n",
       "4             354         NaN           0.0   \n",
       "\n",
       "                                                text  \n",
       "0  Make a difference vote! WV Bernie Sanders Coul...  \n",
       "1  RT @HlPHOPNEWS: T.I. says if Donald Trump wins...  \n",
       "2  You have no one to blame but yourselves if Tru...  \n",
       "3  'Ruin the rest of their lives': Donald Trump c...  \n",
       "4  RT @elianayjohnson: Per source, GOP megadonor ...  "
      ]
     },
     "execution_count": 1,
     "metadata": {},
     "output_type": "execute_result"
    }
   ],
   "source": [
    "import pandas as pd\n",
    "\n",
    "tweets = pd.read_csv(\"tweets.csv\")\n",
    "tweets.head()"
   ]
  },
  {
   "cell_type": "code",
   "execution_count": 2,
   "metadata": {
    "collapsed": true
   },
   "outputs": [],
   "source": [
    "def get_candidate(row):\n",
    "    candidates = []\n",
    "    text = row[\"text\"].lower()\n",
    "    if \"clinton\" in text or \"hillary\" in text:\n",
    "        candidates.append(\"clinton\")\n",
    "    if \"trump\" in text or \"donald\" in text:\n",
    "        candidates.append(\"trump\")\n",
    "    if \"sanders\" in text or \"bernie\" in text:\n",
    "        candidates.append(\"sanders\")\n",
    "    return \",\".join(candidates)\n",
    "\n",
    "tweets[\"candidate\"] = tweets.apply(get_candidate,axis=1)"
   ]
  },
  {
   "cell_type": "code",
   "execution_count": 3,
   "metadata": {
    "collapsed": true
   },
   "outputs": [],
   "source": [
    "import matplotlib.pyplot as plt\n",
    "import numpy as np\n",
    "%matplotlib inline"
   ]
  },
  {
   "cell_type": "code",
   "execution_count": 4,
   "metadata": {
    "collapsed": false
   },
   "outputs": [
    {
     "data": {
      "image/png": "[encoded data removed]",
      "text/plain": [
       "<matplotlib.figure.Figure at 0x11f98240>"
      ]
     },
     "metadata": {},
     "output_type": "display_data"
    },
    {
     "name": "stdout",
     "output_type": "stream",
     "text": [
      "trump                    119998\n",
      "clinton,trump             30521\n",
      "                          25429\n",
      "sanders                   25351\n",
      "clinton                   22746\n",
      "clinton,sanders            6044\n",
      "clinton,trump,sanders      4219\n",
      "trump,sanders              3172\n",
      "Name: candidate, dtype: int64\n"
     ]
    }
   ],
   "source": [
    "counts = tweets[\"candidate\"].value_counts()\n",
    "plt.bar(range(len(counts)), counts)\n",
    "plt.show()\n",
    "\n",
    "print(counts)"
   ]
  },
  {
   "cell_type": "code",
   "execution_count": 5,
   "metadata": {
    "collapsed": false
   },
   "outputs": [
    {
     "data": {
      "text/plain": [
       "pandas.core.series.Series"
      ]
     },
     "execution_count": 5,
     "metadata": {},
     "output_type": "execute_result"
    }
   ],
   "source": [
    "type(counts)"
   ]
  },
  {
   "cell_type": "code",
   "execution_count": 6,
   "metadata": {
    "collapsed": false
   },
   "outputs": [
    {
     "data": {
      "text/plain": [
       "(8L,)"
      ]
     },
     "execution_count": 6,
     "metadata": {},
     "output_type": "execute_result"
    }
   ],
   "source": [
    "counts.shape"
   ]
  },
  {
   "cell_type": "code",
   "execution_count": 7,
   "metadata": {
    "collapsed": false
   },
   "outputs": [
    {
     "data": {
      "text/plain": [
       "trump                    119998\n",
       "clinton,trump             30521\n",
       "                          25429\n",
       "sanders                   25351\n",
       "clinton                   22746\n",
       "clinton,sanders            6044\n",
       "clinton,trump,sanders      4219\n",
       "trump,sanders              3172\n",
       "Name: candidate, dtype: int64"
      ]
     },
     "execution_count": 7,
     "metadata": {},
     "output_type": "execute_result"
    }
   ],
   "source": [
    "counts"
   ]
  },
  {
   "cell_type": "code",
   "execution_count": 8,
   "metadata": {
    "collapsed": false
   },
   "outputs": [
    {
     "data": {
      "image/png": "[encoded data removed]",
      "text/plain": [
       "<matplotlib.figure.Figure at 0x11ff3e10>"
      ]
     },
     "metadata": {},
     "output_type": "display_data"
    }
   ],
   "source": [
    "from datetime import datetime\n",
    "\n",
    "tweets[\"created\"] = pd.to_datetime(tweets[\"created\"])\n",
    "tweets[\"user_created\"] = pd.to_datetime(tweets[\"user_created\"])\n",
    "\n",
    "tweets[\"user_age\"] = tweets[\"user_created\"].apply(lambda x: (datetime.now() - x).total_seconds() / 3600 / 24 / 365)\n",
    "plt.hist(tweets[\"user_age\"])\n",
    "plt.show()"
   ]
  },
  {
   "cell_type": "code",
   "execution_count": 9,
   "metadata": {
    "collapsed": false
   },
   "outputs": [
    {
     "data": {
      "image/png": "[encoded data removed]",
      "text/plain": [
       "<matplotlib.figure.Figure at 0x8837550>"
      ]
     },
     "metadata": {},
     "output_type": "display_data"
    }
   ],
   "source": [
    "plt.hist(tweets[\"user_age\"])\n",
    "plt.title(\"Tweets mentioning candidates\")\n",
    "plt.xlabel(\"Twitter account age in years\")\n",
    "plt.ylabel(\"# of tweets\")\n",
    "plt.show()"
   ]
  },
  {
   "cell_type": "code",
   "execution_count": 10,
   "metadata": {
    "collapsed": false
   },
   "outputs": [
    {
     "data": {
      "image/png": "[encoded data removed]",
      "text/plain": [
       "<matplotlib.figure.Figure at 0x872d2b0>"
      ]
     },
     "metadata": {},
     "output_type": "display_data"
    }
   ],
   "source": [
    "cl_tweets = tweets[\"user_age\"][tweets[\"candidate\"] == \"clinton\"]\n",
    "sa_tweets = tweets[\"user_age\"][tweets[\"candidate\"] == \"sanders\"]\n",
    "tr_tweets = tweets[\"user_age\"][tweets[\"candidate\"] == \"trump\"]\n",
    "plt.hist([\n",
    "        cl_tweets, \n",
    "        sa_tweets, \n",
    "        tr_tweets\n",
    "    ], \n",
    "    stacked=True, \n",
    "    label=[\"clinton\", \"sanders\", \"trump\"]\n",
    ")\n",
    "plt.legend()\n",
    "plt.title(\"Tweets mentioning each candidate\")\n",
    "plt.xlabel(\"Twitter account age in years\")\n",
    "plt.ylabel(\"# of tweets\")\n",
    "plt.show()"
   ]
  },
  {
   "cell_type": "code",
   "execution_count": 11,
   "metadata": {
    "collapsed": false
   },
   "outputs": [
    {
     "data": {
      "image/png": "[encoded data removed]",
      "text/plain": [
       "<matplotlib.figure.Figure at 0x11fe2588>"
      ]
     },
     "metadata": {},
     "output_type": "display_data"
    }
   ],
   "source": [
    "plt.hist([\n",
    "        cl_tweets, \n",
    "        sa_tweets, \n",
    "        tr_tweets\n",
    "    ], \n",
    "    stacked=True, \n",
    "    label=[\"clinton\", \"sanders\", \"trump\"]\n",
    ")\n",
    "plt.legend()\n",
    "plt.title(\"Tweets mentioning each candidate\")\n",
    "plt.xlabel(\"Twitter account age in years\")\n",
    "plt.ylabel(\"# of tweets\")\n",
    "plt.annotate('More Trump tweets', xy=(1, 35000), xytext=(2, 35000),\n",
    "            arrowprops=dict(facecolor='black'))\n",
    "plt.show()"
   ]
  },
  {
   "cell_type": "code",
   "execution_count": 12,
   "metadata": {
    "collapsed": true
   },
   "outputs": [],
   "source": [
    "import matplotlib.colors as colors\n",
    "\n",
    "tweets[\"red\"] = tweets[\"user_bg_color\"].apply(lambda x: colors.hex2color('#{0}'.format(x))[0])\n",
    "tweets[\"blue\"] = tweets[\"user_bg_color\"].apply(lambda x: colors.hex2color('#{0}'.format(x))[2])"
   ]
  },
  {
   "cell_type": "code",
   "execution_count": 14,
   "metadata": {
    "collapsed": false
   },
   "outputs": [
    {
     "data": {
      "text/html": [
       "<div>\n",
       "<table border=\"1\" class=\"dataframe\">\n",
       "  <thead>\n",
       "    <tr style=\"text-align: right;\">\n",
       "      <th></th>\n",
       "      <th>id</th>\n",
       "      <th>id_str</th>\n",
       "      <th>user_location</th>\n",
       "      <th>user_bg_color</th>\n",
       "      <th>retweet_count</th>\n",
       "      <th>user_name</th>\n",
       "      <th>polarity</th>\n",
       "      <th>created</th>\n",
       "      <th>geo</th>\n",
       "      <th>user_description</th>\n",
       "      <th>user_created</th>\n",
       "      <th>user_followers</th>\n",
       "      <th>coordinates</th>\n",
       "      <th>subjectivity</th>\n",
       "      <th>text</th>\n",
       "      <th>candidate</th>\n",
       "      <th>user_age</th>\n",
       "      <th>red</th>\n",
       "      <th>blue</th>\n",
       "    </tr>\n",
       "  </thead>\n",
       "  <tbody>\n",
       "    <tr>\n",
       "      <th>0</th>\n",
       "      <td>1</td>\n",
       "      <td>729828033092149248</td>\n",
       "      <td>Wheeling WV</td>\n",
       "      <td>022330</td>\n",
       "      <td>0</td>\n",
       "      <td>Jaybo26003</td>\n",
       "      <td>0.00</td>\n",
       "      <td>2016-05-10 00:18:57</td>\n",
       "      <td>NaN</td>\n",
       "      <td>NaN</td>\n",
       "      <td>2011-11-17 02:45:42</td>\n",
       "      <td>39</td>\n",
       "      <td>NaN</td>\n",
       "      <td>0.0</td>\n",
       "      <td>Make a difference vote! WV Bernie Sanders Coul...</td>\n",
       "      <td>clinton,sanders</td>\n",
       "      <td>4.541838</td>\n",
       "      <td>0.007843</td>\n",
       "      <td>0.188235</td>\n",
       "    </tr>\n",
       "    <tr>\n",
       "      <th>1</th>\n",
       "      <td>2</td>\n",
       "      <td>729828033092161537</td>\n",
       "      <td>NaN</td>\n",
       "      <td>C0DEED</td>\n",
       "      <td>0</td>\n",
       "      <td>brittttany_ns</td>\n",
       "      <td>0.15</td>\n",
       "      <td>2016-05-10 00:18:57</td>\n",
       "      <td>NaN</td>\n",
       "      <td>18 // PSJAN</td>\n",
       "      <td>2012-12-24 17:33:12</td>\n",
       "      <td>1175</td>\n",
       "      <td>NaN</td>\n",
       "      <td>0.1</td>\n",
       "      <td>RT @HlPHOPNEWS: T.I. says if Donald Trump wins...</td>\n",
       "      <td>trump</td>\n",
       "      <td>3.436040</td>\n",
       "      <td>0.752941</td>\n",
       "      <td>0.929412</td>\n",
       "    </tr>\n",
       "    <tr>\n",
       "      <th>2</th>\n",
       "      <td>3</td>\n",
       "      <td>729828033566224384</td>\n",
       "      <td>NaN</td>\n",
       "      <td>C0DEED</td>\n",
       "      <td>0</td>\n",
       "      <td>JeffriesLori</td>\n",
       "      <td>0.00</td>\n",
       "      <td>2016-05-10 00:18:57</td>\n",
       "      <td>NaN</td>\n",
       "      <td>NaN</td>\n",
       "      <td>2012-10-11 14:29:59</td>\n",
       "      <td>42</td>\n",
       "      <td>NaN</td>\n",
       "      <td>0.0</td>\n",
       "      <td>You have no one to blame but yourselves if Tru...</td>\n",
       "      <td>trump</td>\n",
       "      <td>3.639128</td>\n",
       "      <td>0.752941</td>\n",
       "      <td>0.929412</td>\n",
       "    </tr>\n",
       "    <tr>\n",
       "      <th>3</th>\n",
       "      <td>4</td>\n",
       "      <td>729828033893302272</td>\n",
       "      <td>global</td>\n",
       "      <td>C0DEED</td>\n",
       "      <td>0</td>\n",
       "      <td>WhorunsGOVs</td>\n",
       "      <td>0.00</td>\n",
       "      <td>2016-05-10 00:18:57</td>\n",
       "      <td>NaN</td>\n",
       "      <td>Get Latest Global Political news as they unfold</td>\n",
       "      <td>2014-02-16 07:34:24</td>\n",
       "      <td>290</td>\n",
       "      <td>NaN</td>\n",
       "      <td>0.0</td>\n",
       "      <td>'Ruin the rest of their lives': Donald Trump c...</td>\n",
       "      <td>trump</td>\n",
       "      <td>2.289234</td>\n",
       "      <td>0.752941</td>\n",
       "      <td>0.929412</td>\n",
       "    </tr>\n",
       "    <tr>\n",
       "      <th>4</th>\n",
       "      <td>5</td>\n",
       "      <td>729828034178482177</td>\n",
       "      <td>California, USA</td>\n",
       "      <td>131516</td>\n",
       "      <td>0</td>\n",
       "      <td>BJCG0830</td>\n",
       "      <td>0.00</td>\n",
       "      <td>2016-05-10 00:18:57</td>\n",
       "      <td>NaN</td>\n",
       "      <td>Queer Latino invoking his 1st amendment privil...</td>\n",
       "      <td>2009-03-21 01:43:26</td>\n",
       "      <td>354</td>\n",
       "      <td>NaN</td>\n",
       "      <td>0.0</td>\n",
       "      <td>RT @elianayjohnson: Per source, GOP megadonor ...</td>\n",
       "      <td>trump</td>\n",
       "      <td>7.202230</td>\n",
       "      <td>0.074510</td>\n",
       "      <td>0.086275</td>\n",
       "    </tr>\n",
       "  </tbody>\n",
       "</table>\n",
       "</div>"
      ],
      "text/plain": [
       "   id              id_str    user_location user_bg_color  retweet_count  \\\n",
       "0   1  729828033092149248      Wheeling WV        022330              0   \n",
       "1   2  729828033092161537              NaN        C0DEED              0   \n",
       "2   3  729828033566224384              NaN        C0DEED              0   \n",
       "3   4  729828033893302272           global        C0DEED              0   \n",
       "4   5  729828034178482177  California, USA        131516              0   \n",
       "\n",
       "       user_name  polarity             created  geo  \\\n",
       "0     Jaybo26003      0.00 2016-05-10 00:18:57  NaN   \n",
       "1  brittttany_ns      0.15 2016-05-10 00:18:57  NaN   \n",
       "2   JeffriesLori      0.00 2016-05-10 00:18:57  NaN   \n",
       "3    WhorunsGOVs      0.00 2016-05-10 00:18:57  NaN   \n",
       "4       BJCG0830      0.00 2016-05-10 00:18:57  NaN   \n",
       "\n",
       "                                    user_description        user_created  \\\n",
       "0                                                NaN 2011-11-17 02:45:42   \n",
       "1                                        18 // PSJAN 2012-12-24 17:33:12   \n",
       "2                                                NaN 2012-10-11 14:29:59   \n",
       "3    Get Latest Global Political news as they unfold 2014-02-16 07:34:24   \n",
       "4  Queer Latino invoking his 1st amendment privil... 2009-03-21 01:43:26   \n",
       "\n",
       "   user_followers coordinates  subjectivity  \\\n",
       "0              39         NaN           0.0   \n",
       "1            1175         NaN           0.1   \n",
       "2              42         NaN           0.0   \n",
       "3             290         NaN           0.0   \n",
       "4             354         NaN           0.0   \n",
       "\n",
       "                                                text        candidate  \\\n",
       "0  Make a difference vote! WV Bernie Sanders Coul...  clinton,sanders   \n",
       "1  RT @HlPHOPNEWS: T.I. says if Donald Trump wins...            trump   \n",
       "2  You have no one to blame but yourselves if Tru...            trump   \n",
       "3  'Ruin the rest of their lives': Donald Trump c...            trump   \n",
       "4  RT @elianayjohnson: Per source, GOP megadonor ...            trump   \n",
       "\n",
       "   user_age       red      blue  \n",
       "0  4.541838  0.007843  0.188235  \n",
       "1  3.436040  0.752941  0.929412  \n",
       "2  3.639128  0.752941  0.929412  \n",
       "3  2.289234  0.752941  0.929412  \n",
       "4  7.202230  0.074510  0.086275  "
      ]
     },
     "execution_count": 14,
     "metadata": {},
     "output_type": "execute_result"
    }
   ],
   "source": [
    "tweets.head()"
   ]
  },
  {
   "cell_type": "code",
   "execution_count": 15,
   "metadata": {
    "collapsed": false
   },
   "outputs": [
    {
     "data": {
      "image/png": "[encoded data removed]",
      "text/plain": [
       "<matplotlib.figure.Figure at 0x872d208>"
      ]
     },
     "metadata": {},
     "output_type": "display_data"
    }
   ],
   "source": [
    "fig, axes = plt.subplots(nrows=2, ncols=2)\n",
    "ax0, ax1, ax2, ax3 = axes.flat\n",
    "\n",
    "ax0.hist(tweets[\"red\"])\n",
    "ax0.set_title('Red in backgrounds')\n",
    "\n",
    "ax1.hist(tweets[\"red\"][tweets[\"candidate\"] == \"trump\"].values)\n",
    "ax1.set_title('Red in Trump tweeters')\n",
    "\n",
    "ax2.hist(tweets[\"blue\"])\n",
    "ax2.set_title('Blue in backgrounds')\n",
    "\n",
    "ax3.hist(tweets[\"blue\"][tweets[\"candidate\"] == \"trump\"].values)\n",
    "ax3.set_title('Blue in Trump tweeters')\n",
    "\n",
    "plt.tight_layout()\n",
    "plt.show()"
   ]
  },
  {
   "cell_type": "code",
   "execution_count": 16,
   "metadata": {
    "collapsed": false
   },
   "outputs": [
    {
     "data": {
      "text/plain": [
       "C0DEED    108977\n",
       "000000     31119\n",
       "F5F8FA     25597\n",
       "131516      7731\n",
       "1A1B1F      5059\n",
       "022330      4300\n",
       "0099B9      3958\n",
       "642D8B      3767\n",
       "FFFFFF      3101\n",
       "9AE4E8      2651\n",
       "ACDED6      2383\n",
       "352726      2338\n",
       "C6E2EE      1978\n",
       "709397      1518\n",
       "EBEBEB      1475\n",
       "FF6699      1370\n",
       "BADFCD      1336\n",
       "FFF04D      1300\n",
       "EDECE9      1225\n",
       "B2DFDA      1218\n",
       "DBE9ED      1113\n",
       "ABB8C2      1101\n",
       "8B542B      1073\n",
       "3B94D9       623\n",
       "89C9FA       414\n",
       "DD2E44       351\n",
       "94D487       318\n",
       "4A913C       300\n",
       "9266CC       287\n",
       "F5ABB5       267\n",
       "           ...  \n",
       "5470A8         1\n",
       "00AEFF         1\n",
       "C49C4B         1\n",
       "778877         1\n",
       "09380E         1\n",
       "09536E         1\n",
       "3D3C3D         1\n",
       "48394D         1\n",
       "3D3C3A         1\n",
       "140C0E         1\n",
       "AE1BCF         1\n",
       "EBE39B         1\n",
       "056785         1\n",
       "FCF3EA         1\n",
       "2E332F         1\n",
       "FCF7F8         1\n",
       "FCF7F7         1\n",
       "0F6B2C         1\n",
       "1D1F1B         1\n",
       "180018         1\n",
       "2686B3         1\n",
       "8F0E8F         1\n",
       "CCD4E8         1\n",
       "FFEF42         1\n",
       "08F5F5         1\n",
       "4E5254         1\n",
       "42373E         1\n",
       "272D29         1\n",
       "F00CC2         1\n",
       "A3004D         1\n",
       "Name: user_bg_color, dtype: int64"
      ]
     },
     "execution_count": 16,
     "metadata": {},
     "output_type": "execute_result"
    }
   ],
   "source": [
    "tweets[\"user_bg_color\"].value_counts()"
   ]
  },
  {
   "cell_type": "code",
   "execution_count": 17,
   "metadata": {
    "collapsed": false
   },
   "outputs": [
    {
     "data": {
      "image/png": "[encoded data removed]",
      "text/plain": [
       "<matplotlib.figure.Figure at 0x11f82eb8>"
      ]
     },
     "metadata": {},
     "output_type": "display_data"
    }
   ],
   "source": [
    "tc = tweets[~tweets[\"user_bg_color\"].isin([\"C0DEED\", \"000000\", \"F5F8FA\"])]\n",
    "\n",
    "def create_plot(data):\n",
    "    fig, axes = plt.subplots(nrows=2, ncols=2)\n",
    "    ax0, ax1, ax2, ax3 = axes.flat\n",
    "\n",
    "    ax0.hist(data[\"red\"])\n",
    "    ax0.set_title('Red in backgrounds')\n",
    "\n",
    "    ax1.hist(data[\"red\"][data[\"candidate\"] == \"trump\"].values)\n",
    "    ax1.set_title('Red in Trump tweets')\n",
    "\n",
    "    ax2.hist(data[\"blue\"])\n",
    "    ax2.set_title('Blue in backgrounds')\n",
    "\n",
    "    ax3.hist(data[\"blue\"][data[\"candidate\"] == \"trump\"].values)\n",
    "    ax3.set_title('Blue in Trump tweeters')\n",
    "\n",
    "    plt.tight_layout()\n",
    "    plt.show()\n",
    "\n",
    "create_plot(tc)"
   ]
  },
  {
   "cell_type": "code",
   "execution_count": 22,
   "metadata": {
    "collapsed": false
   },
   "outputs": [
    {
     "data": {
      "image/png": "[encoded data removed]",
      "text/plain": [
       "<matplotlib.figure.Figure at 0x12a1b160>"
      ]
     },
     "metadata": {},
     "output_type": "display_data"
    }
   ],
   "source": [
    "gr = tweets.groupby(\"candidate\").agg([np.mean, np.std])\n",
    "\n",
    "fig, axes = plt.subplots(nrows=2, ncols=1, figsize=(7, 7))\n",
    "ax0, ax1 = axes.flat\n",
    "\n",
    "std = gr[\"polarity\"][\"std\"].iloc[1:]\n",
    "mean = gr[\"polarity\"][\"mean\"].iloc[1:]\n",
    "ax0.bar(range(len(std)), std)\n",
    "ax0.set_xticklabels(std.index, rotation=45)\n",
    "ax0.set_title('Standard deviation of tweet sentiment')\n",
    "\n",
    "ax1.bar(range(len(mean)), mean)\n",
    "ax1.set_xticklabels(mean.index, rotation=45)\n",
    "ax1.set_title('Mean tweet sentiment')\n",
    "\n",
    "plt.tight_layout()\n",
    "plt.show()"
   ]
  },
  {
   "cell_type": "code",
   "execution_count": 20,
   "metadata": {
    "collapsed": false
   },
   "outputs": [
    {
     "data": {
      "text/html": [
       "<div>\n",
       "<table border=\"1\" class=\"dataframe\">\n",
       "  <thead>\n",
       "    <tr>\n",
       "      <th></th>\n",
       "      <th colspan=\"2\" halign=\"left\">id</th>\n",
       "      <th colspan=\"2\" halign=\"left\">id_str</th>\n",
       "      <th colspan=\"2\" halign=\"left\">retweet_count</th>\n",
       "      <th colspan=\"2\" halign=\"left\">polarity</th>\n",
       "      <th colspan=\"2\" halign=\"left\">user_followers</th>\n",
       "      <th colspan=\"2\" halign=\"left\">subjectivity</th>\n",
       "      <th colspan=\"2\" halign=\"left\">user_age</th>\n",
       "      <th colspan=\"2\" halign=\"left\">red</th>\n",
       "      <th colspan=\"2\" halign=\"left\">blue</th>\n",
       "    </tr>\n",
       "    <tr>\n",
       "      <th></th>\n",
       "      <th>mean</th>\n",
       "      <th>std</th>\n",
       "      <th>mean</th>\n",
       "      <th>std</th>\n",
       "      <th>mean</th>\n",
       "      <th>std</th>\n",
       "      <th>mean</th>\n",
       "      <th>std</th>\n",
       "      <th>mean</th>\n",
       "      <th>std</th>\n",
       "      <th>mean</th>\n",
       "      <th>std</th>\n",
       "      <th>mean</th>\n",
       "      <th>std</th>\n",
       "      <th>mean</th>\n",
       "      <th>std</th>\n",
       "      <th>mean</th>\n",
       "      <th>std</th>\n",
       "    </tr>\n",
       "    <tr>\n",
       "      <th>candidate</th>\n",
       "      <th></th>\n",
       "      <th></th>\n",
       "      <th></th>\n",
       "      <th></th>\n",
       "      <th></th>\n",
       "      <th></th>\n",
       "      <th></th>\n",
       "      <th></th>\n",
       "      <th></th>\n",
       "      <th></th>\n",
       "      <th></th>\n",
       "      <th></th>\n",
       "      <th></th>\n",
       "      <th></th>\n",
       "      <th></th>\n",
       "      <th></th>\n",
       "      <th></th>\n",
       "      <th></th>\n",
       "    </tr>\n",
       "  </thead>\n",
       "  <tbody>\n",
       "    <tr>\n",
       "      <th></th>\n",
       "      <td>114051</td>\n",
       "      <td>69038.411627</td>\n",
       "      <td>729989453839915392</td>\n",
       "      <td>1.139204e+14</td>\n",
       "      <td>0</td>\n",
       "      <td>0.0</td>\n",
       "      <td>0.048885</td>\n",
       "      <td>0.289333</td>\n",
       "      <td>4641.061308</td>\n",
       "      <td>54755.981308</td>\n",
       "      <td>0.276616</td>\n",
       "      <td>0.341894</td>\n",
       "      <td>3.846646</td>\n",
       "      <td>2.524116</td>\n",
       "      <td>0.554687</td>\n",
       "      <td>0.354548</td>\n",
       "      <td>0.654722</td>\n",
       "      <td>0.391827</td>\n",
       "    </tr>\n",
       "    <tr>\n",
       "      <th>clinton</th>\n",
       "      <td>115994</td>\n",
       "      <td>69871.102682</td>\n",
       "      <td>729988642607237504</td>\n",
       "      <td>1.148107e+14</td>\n",
       "      <td>0</td>\n",
       "      <td>0.0</td>\n",
       "      <td>0.026005</td>\n",
       "      <td>0.267020</td>\n",
       "      <td>7758.054955</td>\n",
       "      <td>209809.505871</td>\n",
       "      <td>0.268818</td>\n",
       "      <td>0.314952</td>\n",
       "      <td>3.634508</td>\n",
       "      <td>2.498144</td>\n",
       "      <td>0.580907</td>\n",
       "      <td>0.344258</td>\n",
       "      <td>0.689780</td>\n",
       "      <td>0.376897</td>\n",
       "    </tr>\n",
       "    <tr>\n",
       "      <th>clinton,sanders</th>\n",
       "      <td>123473</td>\n",
       "      <td>64977.660361</td>\n",
       "      <td>730011481452253440</td>\n",
       "      <td>1.040853e+14</td>\n",
       "      <td>0</td>\n",
       "      <td>0.0</td>\n",
       "      <td>0.109311</td>\n",
       "      <td>0.294225</td>\n",
       "      <td>4481.819325</td>\n",
       "      <td>60464.982064</td>\n",
       "      <td>0.300500</td>\n",
       "      <td>0.316764</td>\n",
       "      <td>3.759243</td>\n",
       "      <td>2.491408</td>\n",
       "      <td>0.551454</td>\n",
       "      <td>0.355468</td>\n",
       "      <td>0.650755</td>\n",
       "      <td>0.391646</td>\n",
       "    </tr>\n",
       "    <tr>\n",
       "      <th>clinton,trump</th>\n",
       "      <td>118149</td>\n",
       "      <td>68119.530320</td>\n",
       "      <td>729998900142776576</td>\n",
       "      <td>1.105836e+14</td>\n",
       "      <td>0</td>\n",
       "      <td>0.0</td>\n",
       "      <td>0.038789</td>\n",
       "      <td>0.244355</td>\n",
       "      <td>8143.059336</td>\n",
       "      <td>154826.249150</td>\n",
       "      <td>0.264287</td>\n",
       "      <td>0.309343</td>\n",
       "      <td>3.361659</td>\n",
       "      <td>2.378121</td>\n",
       "      <td>0.602982</td>\n",
       "      <td>0.335776</td>\n",
       "      <td>0.714623</td>\n",
       "      <td>0.367081</td>\n",
       "    </tr>\n",
       "    <tr>\n",
       "      <th>clinton,trump,sanders</th>\n",
       "      <td>134276</td>\n",
       "      <td>57926.692198</td>\n",
       "      <td>730041882827746176</td>\n",
       "      <td>7.844409e+13</td>\n",
       "      <td>0</td>\n",
       "      <td>0.0</td>\n",
       "      <td>0.094801</td>\n",
       "      <td>0.230442</td>\n",
       "      <td>6215.479498</td>\n",
       "      <td>203374.625549</td>\n",
       "      <td>0.348322</td>\n",
       "      <td>0.316337</td>\n",
       "      <td>3.784241</td>\n",
       "      <td>2.544048</td>\n",
       "      <td>0.558014</td>\n",
       "      <td>0.359498</td>\n",
       "      <td>0.656357</td>\n",
       "      <td>0.392673</td>\n",
       "    </tr>\n",
       "    <tr>\n",
       "      <th>sanders</th>\n",
       "      <td>122447</td>\n",
       "      <td>68065.594312</td>\n",
       "      <td>730003281480133376</td>\n",
       "      <td>1.090488e+14</td>\n",
       "      <td>0</td>\n",
       "      <td>0.0</td>\n",
       "      <td>0.101664</td>\n",
       "      <td>0.274370</td>\n",
       "      <td>3650.571812</td>\n",
       "      <td>40678.416402</td>\n",
       "      <td>0.283606</td>\n",
       "      <td>0.320596</td>\n",
       "      <td>3.793004</td>\n",
       "      <td>2.518182</td>\n",
       "      <td>0.554871</td>\n",
       "      <td>0.354363</td>\n",
       "      <td>0.654992</td>\n",
       "      <td>0.389118</td>\n",
       "    </tr>\n",
       "    <tr>\n",
       "      <th>trump</th>\n",
       "      <td>118798</td>\n",
       "      <td>68853.491233</td>\n",
       "      <td>729995756662231168</td>\n",
       "      <td>1.121942e+14</td>\n",
       "      <td>0</td>\n",
       "      <td>0.0</td>\n",
       "      <td>0.072180</td>\n",
       "      <td>0.287278</td>\n",
       "      <td>9526.672786</td>\n",
       "      <td>262583.312200</td>\n",
       "      <td>0.294326</td>\n",
       "      <td>0.323274</td>\n",
       "      <td>3.555467</td>\n",
       "      <td>2.494298</td>\n",
       "      <td>0.587575</td>\n",
       "      <td>0.343957</td>\n",
       "      <td>0.691149</td>\n",
       "      <td>0.377203</td>\n",
       "    </tr>\n",
       "    <tr>\n",
       "      <th>trump,sanders</th>\n",
       "      <td>120208</td>\n",
       "      <td>66415.967726</td>\n",
       "      <td>730002471407623936</td>\n",
       "      <td>1.084844e+14</td>\n",
       "      <td>0</td>\n",
       "      <td>0.0</td>\n",
       "      <td>0.094110</td>\n",
       "      <td>0.281690</td>\n",
       "      <td>7820.137137</td>\n",
       "      <td>200375.334076</td>\n",
       "      <td>0.307191</td>\n",
       "      <td>0.307962</td>\n",
       "      <td>3.825981</td>\n",
       "      <td>2.549388</td>\n",
       "      <td>0.567172</td>\n",
       "      <td>0.350220</td>\n",
       "      <td>0.673444</td>\n",
       "      <td>0.384011</td>\n",
       "    </tr>\n",
       "  </tbody>\n",
       "</table>\n",
       "</div>"
      ],
      "text/plain": [
       "                           id                            id_str                \\\n",
       "                         mean           std                mean           std   \n",
       "candidate                                                                       \n",
       "                       114051  69038.411627  729989453839915392  1.139204e+14   \n",
       "clinton                115994  69871.102682  729988642607237504  1.148107e+14   \n",
       "clinton,sanders        123473  64977.660361  730011481452253440  1.040853e+14   \n",
       "clinton,trump          118149  68119.530320  729998900142776576  1.105836e+14   \n",
       "clinton,trump,sanders  134276  57926.692198  730041882827746176  7.844409e+13   \n",
       "sanders                122447  68065.594312  730003281480133376  1.090488e+14   \n",
       "trump                  118798  68853.491233  729995756662231168  1.121942e+14   \n",
       "trump,sanders          120208  66415.967726  730002471407623936  1.084844e+14   \n",
       "\n",
       "                      retweet_count       polarity           user_followers  \\\n",
       "                               mean  std      mean       std           mean   \n",
       "candidate                                                                     \n",
       "                                  0  0.0  0.048885  0.289333    4641.061308   \n",
       "clinton                           0  0.0  0.026005  0.267020    7758.054955   \n",
       "clinton,sanders                   0  0.0  0.109311  0.294225    4481.819325   \n",
       "clinton,trump                     0  0.0  0.038789  0.244355    8143.059336   \n",
       "clinton,trump,sanders             0  0.0  0.094801  0.230442    6215.479498   \n",
       "sanders                           0  0.0  0.101664  0.274370    3650.571812   \n",
       "trump                             0  0.0  0.072180  0.287278    9526.672786   \n",
       "trump,sanders                     0  0.0  0.094110  0.281690    7820.137137   \n",
       "\n",
       "                                     subjectivity            user_age  \\\n",
       "                                 std         mean       std      mean   \n",
       "candidate                                                               \n",
       "                        54755.981308     0.276616  0.341894  3.846646   \n",
       "clinton                209809.505871     0.268818  0.314952  3.634508   \n",
       "clinton,sanders         60464.982064     0.300500  0.316764  3.759243   \n",
       "clinton,trump          154826.249150     0.264287  0.309343  3.361659   \n",
       "clinton,trump,sanders  203374.625549     0.348322  0.316337  3.784241   \n",
       "sanders                 40678.416402     0.283606  0.320596  3.793004   \n",
       "trump                  262583.312200     0.294326  0.323274  3.555467   \n",
       "trump,sanders          200375.334076     0.307191  0.307962  3.825981   \n",
       "\n",
       "                                      red                blue            \n",
       "                            std      mean       std      mean       std  \n",
       "candidate                                                                \n",
       "                       2.524116  0.554687  0.354548  0.654722  0.391827  \n",
       "clinton                2.498144  0.580907  0.344258  0.689780  0.376897  \n",
       "clinton,sanders        2.491408  0.551454  0.355468  0.650755  0.391646  \n",
       "clinton,trump          2.378121  0.602982  0.335776  0.714623  0.367081  \n",
       "clinton,trump,sanders  2.544048  0.558014  0.359498  0.656357  0.392673  \n",
       "sanders                2.518182  0.554871  0.354363  0.654992  0.389118  \n",
       "trump                  2.494298  0.587575  0.343957  0.691149  0.377203  \n",
       "trump,sanders          2.549388  0.567172  0.350220  0.673444  0.384011  "
      ]
     },
     "execution_count": 20,
     "metadata": {},
     "output_type": "execute_result"
    }
   ],
   "source": [
    "gr.head(10)"
   ]
  },
  {
   "cell_type": "code",
   "execution_count": 23,
   "metadata": {
    "collapsed": true
   },
   "outputs": [],
   "source": [
    "def tweet_lengths(text):\n",
    "    if len(text) < 100:\n",
    "        return \"short\"\n",
    "    elif 100 <= len(text) <= 135:\n",
    "        return \"medium\"\n",
    "    else:\n",
    "        return \"long\"\n",
    "\n",
    "tweets[\"tweet_length\"] = tweets[\"text\"].apply(tweet_lengths)\n",
    "\n",
    "tl = {}\n",
    "for candidate in [\"clinton\", \"sanders\", \"trump\"]:\n",
    "    tl[candidate] = tweets[\"tweet_length\"][tweets[\"candidate\"] == candidate].value_counts()"
   ]
  },
  {
   "cell_type": "code",
   "execution_count": 28,
   "metadata": {
    "collapsed": false
   },
   "outputs": [
    {
     "data": {
      "image/png": "[encoded data removed]",
      "text/plain": [
       "<matplotlib.figure.Figure at 0x161b19b0>"
      ]
     },
     "metadata": {},
     "output_type": "display_data"
    }
   ],
   "source": [
    "fig, ax = plt.subplots()\n",
    "width = .5\n",
    "x = np.array(range(0, 6, 2))\n",
    "ax.bar(x, tl[\"clinton\"], width, color='g')\n",
    "ax.bar(x + width, tl[\"sanders\"], width, color='b')\n",
    "ax.bar(x + (width * 2), tl[\"trump\"], width, color='r')\n",
    "\n",
    "ax.set_ylabel('# of tweets')\n",
    "ax.set_title('Number of Tweets per candidate by length')\n",
    "ax.set_xticks(x + (width * 1.5))\n",
    "ax.set_xticklabels(('long', 'medium', 'short'))\n",
    "ax.set_xlabel('Tweet length')\n",
    "plt.show()"
   ]
  }
 ],
 "metadata": {
  "kernelspec": {
   "display_name": "Python 2",
   "language": "python",
   "name": "python2"
  },
  "language_info": {
   "codemirror_mode": {
    "name": "ipython",
    "version": 2
   },
   "file_extension": ".py",
   "mimetype": "text/x-python",
   "name": "python",
   "nbconvert_exporter": "python",
   "pygments_lexer": "ipython2",
   "version": "2.7.11"
  }
 },
 "nbformat": 4,
 "nbformat_minor": 0
}
