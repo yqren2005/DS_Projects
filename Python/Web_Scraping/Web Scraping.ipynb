{
 "cells": [
  {
   "cell_type": "code",
   "execution_count": 1,
   "metadata": {
    "collapsed": true
   },
   "outputs": [],
   "source": [
    "from bs4 import BeautifulSoup\n",
    "import requests\n",
    "import pandas as pd\n",
    "from pandas import Series, DataFrame"
   ]
  },
  {
   "cell_type": "code",
   "execution_count": 2,
   "metadata": {
    "collapsed": true
   },
   "outputs": [],
   "source": [
    "url = 'http://www.ucop.edu/operating-budget/budgets-and-reports/legislative-reports/2013-14-legislative-session.html'"
   ]
  },
  {
   "cell_type": "code",
   "execution_count": 3,
   "metadata": {
    "collapsed": true
   },
   "outputs": [],
   "source": [
    "result = requests.get(url)"
   ]
  },
  {
   "cell_type": "code",
   "execution_count": 5,
   "metadata": {
    "collapsed": false
   },
   "outputs": [],
   "source": [
    "c = result.content"
   ]
  },
  {
   "cell_type": "code",
   "execution_count": 7,
   "metadata": {
    "collapsed": false
   },
   "outputs": [
    {
     "name": "stdout",
     "output_type": "stream",
     "text": [
      "<class 'requests.models.Response'> <type 'str'>\n"
     ]
    }
   ],
   "source": [
    "print type(result), type(c)"
   ]
  },
  {
   "cell_type": "code",
   "execution_count": 9,
   "metadata": {
    "collapsed": false
   },
   "outputs": [
    {
     "name": "stderr",
     "output_type": "stream",
     "text": [
      "C:\\Anaconda\\lib\\site-packages\\bs4\\__init__.py:166: UserWarning: No parser was explicitly specified, so I'm using the best available HTML parser for this system (\"lxml\"). This usually isn't a problem, but if you run this code on another system, or in a different virtual environment, it may use a different parser and behave differently.\n",
      "\n",
      "To get rid of this warning, change this:\n",
      "\n",
      " BeautifulSoup([your markup])\n",
      "\n",
      "to this:\n",
      "\n",
      " BeautifulSoup([your markup], \"lxml\")\n",
      "\n",
      "  markup_type=markup_type))\n"
     ]
    }
   ],
   "source": [
    "soup = BeautifulSoup(c)"
   ]
  },
  {
   "cell_type": "code",
   "execution_count": 10,
   "metadata": {
    "collapsed": false
   },
   "outputs": [
    {
     "data": {
      "text/plain": [
       "bs4.BeautifulSoup"
      ]
     },
     "execution_count": 10,
     "metadata": {},
     "output_type": "execute_result"
    }
   ],
   "source": [
    "type(soup)"
   ]
  },
  {
   "cell_type": "code",
   "execution_count": 11,
   "metadata": {
    "collapsed": true
   },
   "outputs": [],
   "source": [
    "summary = soup.find('div', {'class':'list-land','id':'content'})"
   ]
  },
  {
   "cell_type": "code",
   "execution_count": 13,
   "metadata": {
    "collapsed": true
   },
   "outputs": [],
   "source": [
    "tables = summary.find_all('table')"
   ]
  },
  {
   "cell_type": "code",
   "execution_count": 14,
   "metadata": {
    "collapsed": false
   },
   "outputs": [
    {
     "name": "stdout",
     "output_type": "stream",
     "text": [
      "1 08/01/13 2013-14 (EDU 92495) Proposed Capital Outlay Projects (2013-14 only) (pdf) 2 09/01/13 2014-15  (EDU 92495) Proposed Capital Outlay Projects (pdf) 3 11/01/13 Utilization of Classroom and Teaching Laboratories (pdf) 4 11/01/13 Instruction and Research Space Summary & Analysis (pdf) 5 11/15/13 Statewide Energy Partnership Program (pdf) 6 11/30/13 2013-23 Capital Financial Plan (pdf) 7 11/30/13 Projects Savings Funded from Capital Outlay Bond Funds (pdf) 8 12/01/13 Streamlined Capital Projects Funded from Capital (pdf) 9 01/01/14 Annual General Obligation Bonds Accountability (pdf) 10 01/01/14 Small Business Utilization (pdf) 11 01/01/14 Institutional Financial Aid Programs - Preliminary report (pdf) 12 01/10/14 Summer Enrollment (pdf) 13 01/15/14 Contracting Out for Services at Newly Developed Facilities (pdf) 14 03/01/14 Performance Measures (pdf) 15 03/01/14 Entry Level Writing Requirement (pdf) 16 03/31/14 Annual Report on Student Financial Support (pdf) 17 04/01/14 Unique Statewide Pupil Identifier (pdf) 18 04/01/14 Riverside School of Medicine (pdf) 19 04/01/14 SAPEP Funds and Outcomes - N/A 20 05/15/14 Receipt and Use of Lottery Funds (pdf) 21 07/01/14 Cogeneration and Energy Consv Major Capital Projects (pdf) \n",
      "\n",
      "\n",
      " Future Reports \n",
      "24 12- Breast Cancer Research Fund 25 12-31-15 Cigarette and Tobacco Products Surtax Research Program 26 01-01-16 Best Value Program 27 01-01-16 California Subject Matter Programs 28 04-01-16 COSMOS Program Outcomes\n"
     ]
    }
   ],
   "source": [
    "# Set up empty data list\n",
    "data = []\n",
    "\n",
    "# Set rows as first indexed object in tables with a row\n",
    "rows = tables[0].findAll('tr')\n",
    "\n",
    "# now grab every HTML cell in every row\n",
    "for tr in rows:\n",
    "    cols = tr.findAll('td')\n",
    "    # Check to see if text is in the row\n",
    "    for td in cols:\n",
    "        text = td.find(text=True) \n",
    "        print text,\n",
    "        data.append(text)"
   ]
  },
  {
   "cell_type": "code",
   "execution_count": 15,
   "metadata": {
    "collapsed": false
   },
   "outputs": [
    {
     "data": {
      "text/plain": [
       "84"
      ]
     },
     "execution_count": 15,
     "metadata": {},
     "output_type": "execute_result"
    }
   ],
   "source": [
    "len(data)"
   ]
  },
  {
   "cell_type": "code",
   "execution_count": 16,
   "metadata": {
    "collapsed": false
   },
   "outputs": [
    {
     "data": {
      "text/plain": [
       "[u'1',\n",
       " u'08/01/13',\n",
       " u'2013-14 (EDU 92495) Proposed Capital Outlay Projects (2013-14 only) (pdf)',\n",
       " u'2',\n",
       " u'09/01/13',\n",
       " u'2014-15\\xa0 (EDU 92495) Proposed Capital Outlay Projects (pdf)',\n",
       " u'3',\n",
       " u'11/01/13',\n",
       " u'Utilization of Classroom and Teaching Laboratories (pdf)',\n",
       " u'4',\n",
       " u'11/01/13',\n",
       " u'Instruction and Research Space Summary & Analysis (pdf)',\n",
       " u'5',\n",
       " u'11/15/13',\n",
       " u'Statewide Energy Partnership Program (pdf)',\n",
       " u'6',\n",
       " u'11/30/13',\n",
       " u'2013-23 Capital Financial Plan (pdf)',\n",
       " u'7',\n",
       " u'11/30/13',\n",
       " u'Projects Savings Funded from Capital Outlay Bond Funds (pdf)',\n",
       " u'8',\n",
       " u'12/01/13',\n",
       " u'Streamlined Capital Projects Funded from Capital (pdf)',\n",
       " u'9',\n",
       " u'01/01/14',\n",
       " u'Annual General Obligation Bonds Accountability (pdf)',\n",
       " u'10',\n",
       " u'01/01/14',\n",
       " u'Small Business Utilization (pdf)',\n",
       " u'11',\n",
       " u'01/01/14',\n",
       " u'Institutional Financial Aid Programs - Preliminary report (pdf)',\n",
       " u'12',\n",
       " u'01/10/14',\n",
       " u'Summer Enrollment (pdf)',\n",
       " u'13',\n",
       " u'01/15/14',\n",
       " u'Contracting Out for Services at Newly Developed Facilities (pdf)',\n",
       " u'14',\n",
       " u'03/01/14',\n",
       " u'Performance Measures (pdf)',\n",
       " u'15',\n",
       " u'03/01/14',\n",
       " u'Entry Level Writing Requirement (pdf)',\n",
       " u'16',\n",
       " u'03/31/14',\n",
       " u'Annual Report on Student\\xa0Financial Support (pdf)',\n",
       " u'17',\n",
       " u'04/01/14',\n",
       " u'Unique Statewide Pupil Identifier (pdf)',\n",
       " u'18',\n",
       " u'04/01/14',\n",
       " u'Riverside School of Medicine (pdf)',\n",
       " u'19',\n",
       " u'04/01/14',\n",
       " u'SAPEP Funds and Outcomes - N/A',\n",
       " u'20',\n",
       " u'05/15/14',\n",
       " u'Receipt and Use of Lottery Funds (pdf)',\n",
       " u'21',\n",
       " u'07/01/14',\n",
       " u'Cogeneration and Energy Consv Major Capital Projects (pdf)',\n",
       " u'\\n',\n",
       " u'\\n',\n",
       " u'\\n',\n",
       " u'\\xa0',\n",
       " u'Future Reports',\n",
       " u'\\n',\n",
       " u'24',\n",
       " u'12-',\n",
       " u'Breast Cancer Research Fund',\n",
       " u'25',\n",
       " u'12-31-15',\n",
       " u'Cigarette and Tobacco Products Surtax Research Program',\n",
       " u'26',\n",
       " u'01-01-16',\n",
       " u'Best Value Program',\n",
       " u'27',\n",
       " u'01-01-16',\n",
       " u'California Subject Matter Programs',\n",
       " u'28',\n",
       " u'04-01-16',\n",
       " u'COSMOS Program Outcomes']"
      ]
     },
     "execution_count": 16,
     "metadata": {},
     "output_type": "execute_result"
    }
   ],
   "source": [
    "data"
   ]
  },
  {
   "cell_type": "code",
   "execution_count": 18,
   "metadata": {
    "collapsed": false
   },
   "outputs": [
    {
     "data": {
      "text/plain": [
       "<table cellpadding=\"5\" cellspacing=\"0\" class=\"table-striped\" id=\"report\" summary=\"2009-10 Legislative Reports in a table with one level of column and row headers\" width=\"100%\">\\n<tbody>\\n<tr>\\n<th scope=\"col\"></th><th scope=\"col\">Date</th><th scope=\"col\">Report title</th>\\n</tr>\\n<tr>\\n<td scope=\"row\">1</td>\\n<td scope=\"row\">08/01/13</td>\\n<td scope=\"row\"><a href=\"../../_files/legreports/1314/2013-14cobcp.pdf\">2013-14 (EDU 92495) Proposed Capital Outlay Projects (2013-14 only) (pdf)</a></td>\\n</tr>\\n<tr>\\n<td scope=\"row\">2</td>\\n<td scope=\"row\">09/01/13</td>\\n<td scope=\"row\"><a href=\"../../_files/legreports/1314/2014-15cobcp.pdf\">2014-15\\xa0 (EDU 92495) Proposed Capital Outlay Projects (pdf)</a></td>\\n</tr>\\n<tr>\\n<td scope=\"row\">3</td>\\n<td scope=\"row\">11/01/13</td>\\n<td scope=\"row\"><a href=\"../../_files/legreports/1314/utilizationofclassroomsandresearchspace-11-1-13.pdf\">Utilization of Classroom and Teaching Laboratories (pdf)</a>\\xa0(<em>Final Report; biennial</em>)</td>\\n</tr>\\n<tr>\\n<td scope=\"row\">4</td>\\n<td scope=\"row\">11/01/13</td>\\n<td scope=\"row\"><a href=\"../../_files/legreports/1314/instructionandresearchspacesummary-11-1-2013.pdf\">Instruction and Research Space Summary &amp; Analysis (pdf)</a></td>\\n</tr>\\n<tr>\\n<td scope=\"row\">5</td>\\n<td scope=\"row\">11/15/13</td>\\n<td scope=\"row\"><a href=\"../../_files/legreports/1314/seplegreport-1-21-14.pdf\">Statewide Energy Partnership Program (pdf)</a></td>\\n</tr>\\n<tr>\\n<td scope=\"row\">6</td>\\n<td scope=\"row\">11/30/13</td>\\n<td scope=\"row\"><a href=\"http://ucop.edu/capital-planning/_files/capital/201323/_UC-Capital-Financial-Plan-2013.pdf\">2013-23 Capital Financial Plan (pdf)</a></td>\\n</tr>\\n<tr>\\n<td scope=\"row\">7</td>\\n<td scope=\"row\">11/30/13</td>\\n<td scope=\"row\"><a href=\"../../_files/legreports/1314/projectsavingsprogramlegrpt-11-2013.pdf\">Projects Savings Funded from Capital Outlay Bond Funds (pdf)</a></td>\\n</tr>\\n<tr>\\n<td scope=\"row\">8</td>\\n<td scope=\"row\">12/01/13</td>\\n<td scope=\"row\"><a href=\"../../_files/legreports/1314/streamlinedcapitaloutlayprojectslegrpt-12-13.pdf\">Streamlined Capital Projects Funded from Capital (pdf)</a></td>\\n</tr>\\n<tr>\\n<td scope=\"row\">9</td>\\n<td scope=\"row\">01/01/14</td>\\n<td scope=\"row\"><a href=\"../../_files/legreports/1314/annualgeneralobligationbondsaccountabilitylegrep-11-2013.pdf\">Annual General Obligation Bonds Accountability (pdf)</a></td>\\n</tr>\\n<tr>\\n<td scope=\"row\">10</td>\\n<td scope=\"row\">01/01/14</td>\\n<td scope=\"row\"><a href=\"../../_files/legreports/1314/2012-13sbulegrpt-3-31-14.pdf\">Small Business Utilization (pdf)</a></td>\\n</tr>\\n<tr>\\n<td scope=\"row\">11</td>\\n<td scope=\"row\">01/01/14</td>\\n<td scope=\"row\"><a href=\"../../_files/legreports/1314/instfinaid-prelimlegreport-2-10-14.pdf\">Institutional Financial Aid Programs - Preliminary report (pdf)</a></td>\\n</tr>\\n<tr>\\n<td scope=\"row\">12</td>\\n<td scope=\"row\">01/10/14</td>\\n<td scope=\"row\"><a href=\"../../_files/legreports/1314/summerenrollmentlegreport-2-18-2014.pdf\">Summer Enrollment (pdf)</a></td>\\n</tr>\\n<tr>\\n<td scope=\"row\">13</td>\\n<td scope=\"row\">01/15/14</td>\\n<td scope=\"row\"><a href=\"../../_files/legreports/1314/contractingoutforservicesatnewlydevelopedfacilitieslegrep-1-8-2014.pdf\">Contracting Out for Services at Newly Developed Facilities (pdf)</a></td>\\n</tr>\\n<tr>\\n<td scope=\"row\">14</td>\\n<td scope=\"row\">03/01/14</td>\\n<td scope=\"row\"><a href=\"../../_files/legreports/1314/performanceoutcomemeasureslegreport-March-2014.pdf\">Performance Measures (pdf)</a></td>\\n</tr>\\n<tr>\\n<td scope=\"row\">15</td>\\n<td scope=\"row\">03/01/14</td>\\n<td scope=\"row\"><a href=\"../../_files/legreports/1314/ELWRlegrpt-3-4-14.pdf\">Entry Level Writing Requirement (pdf)</a></td>\\n</tr>\\n<tr>\\n<td scope=\"row\">16</td>\\n<td scope=\"row\">03/31/14</td>\\n<td scope=\"row\"><a href=\"../../_files/legreports/1314/2012-13annualstudentsupportlegreport-4-1-14.pdf\">Annual Report on Student\\xa0Financial Support (pdf)</a><a href=\"../../_files/legreports/1213/2011-12uc-mexicofacilityresearchandacadPrgms-casa.pdf\"></a></td>\\n</tr>\\n<tr>\\n<td scope=\"row\">17</td>\\n<td scope=\"row\">04/01/14</td>\\n<td scope=\"row\"><a href=\"../../_files/legreports/1314/uniquestatewidepupilidentifierlegrpt-03-10-14.pdf\">Unique Statewide Pupil Identifier (pdf)</a></td>\\n</tr>\\n<tr>\\n<td scope=\"row\">18</td>\\n<td scope=\"row\">04/01/14</td>\\n<td scope=\"row\"><a href=\"../../_files/legreports/1314/progressreportucr-somlegrpt-4-2-14.pdf\">Riverside School of Medicine (pdf)</a></td>\\n</tr>\\n<tr>\\n<td scope=\"row\">19</td>\\n<td scope=\"row\">04/01/14</td>\\n<td scope=\"row\">SAPEP Funds and Outcomes - N/A<br/></td>\\n</tr>\\n<tr>\\n<td scope=\"row\">20</td>\\n<td scope=\"row\">05/15/14</td>\\n<td scope=\"row\"><a href=\"../../_files/legreports/1314/2012-13ReceiptandUseofLotteryFundsLegReport-5-15-14.pdf\">Receipt and Use of Lottery Funds (pdf)</a></td>\\n</tr>\\n<tr>\\n<td scope=\"row\">21</td>\\n<td scope=\"row\">07/01/14</td>\\n<td scope=\"row\"><a href=\"../../_files/legreports/1314/5thAmendedProposedSEPListtoState-10-31-13.pdf\">Cogeneration and Energy Consv Major Capital Projects (pdf)</a></td>\\n</tr>\\n<tr>\\n<td scope=\"row\">\\n</td>\\n<td scope=\"row\">\\n</td>\\n<td scope=\"row\">\\n</td>\\n</tr>\\n<tr>\\n<td scope=\"row\"><strong>\\xa0</strong></td>\\n<td scope=\"row\"><strong>Future Reports</strong></td>\\n<td scope=\"row\">\\n</td>\\n</tr>\\n<tr>\\n<td scope=\"row\">24</td>\\n<td scope=\"row\">12-<a></a>31-15</td>\\n<td scope=\"row\">Breast Cancer Research Fund</td>\\n</tr>\\n<tr>\\n<td scope=\"row\">25</td>\\n<td scope=\"row\">12-31-15</td>\\n<td scope=\"row\">Cigarette and Tobacco Products Surtax Research Program</td>\\n</tr>\\n<tr>\\n<td scope=\"row\">26</td>\\n<td scope=\"row\">01-01-16</td>\\n<td scope=\"row\">Best Value Program</td>\\n</tr>\\n<tr>\\n<td scope=\"row\">27</td>\\n<td scope=\"row\">01-01-16</td>\\n<td scope=\"row\">California Subject Matter Programs</td>\\n</tr>\\n<tr>\\n<td scope=\"row\">28</td>\\n<td scope=\"row\">04-01-16</td>\\n<td scope=\"row\">COSMOS Program Outcomes</td>\\n</tr>\\n</tbody>\\n</table>"
      ]
     },
     "execution_count": 18,
     "metadata": {},
     "output_type": "execute_result"
    }
   ],
   "source": [
    "tables[0]"
   ]
  },
  {
   "cell_type": "code",
   "execution_count": 19,
   "metadata": {
    "collapsed": false
   },
   "outputs": [
    {
     "name": "stdout",
     "output_type": "stream",
     "text": [
      "<class 'bs4.element.ResultSet'> <class 'bs4.element.ResultSet'>\n"
     ]
    }
   ],
   "source": [
    "print type(rows), type(cols)"
   ]
  },
  {
   "cell_type": "code",
   "execution_count": 20,
   "metadata": {
    "collapsed": true
   },
   "outputs": [],
   "source": [
    "# Set up empty lists\n",
    "reports = []\n",
    "date = []\n",
    "\n",
    "# Set index counter\n",
    "index = 0\n",
    "\n",
    "# Go find the pdf cells\n",
    "for item in data:\n",
    "    if 'pdf' in item:\n",
    "        # Add the date and reports\n",
    "        date.append(data[index-1])\n",
    "        \n",
    "        # Get rid of \\xa0\n",
    "        reports.append(item.replace(u'\\xa0', u' '))\n",
    "                    \n",
    "    index += 1"
   ]
  },
  {
   "cell_type": "code",
   "execution_count": 22,
   "metadata": {
    "collapsed": false
   },
   "outputs": [],
   "source": [
    "df = pd.concat([Series(date), Series(reports)], axis=1)"
   ]
  },
  {
   "cell_type": "code",
   "execution_count": 23,
   "metadata": {
    "collapsed": true
   },
   "outputs": [],
   "source": [
    "df.columns=['Date', 'Report']"
   ]
  },
  {
   "cell_type": "code",
   "execution_count": 26,
   "metadata": {
    "collapsed": false
   },
   "outputs": [
    {
     "data": {
      "text/html": [
       "<div>\n",
       "<table border=\"1\" class=\"dataframe\">\n",
       "  <thead>\n",
       "    <tr style=\"text-align: right;\">\n",
       "      <th></th>\n",
       "      <th>Date</th>\n",
       "      <th>Report</th>\n",
       "    </tr>\n",
       "  </thead>\n",
       "  <tbody>\n",
       "    <tr>\n",
       "      <th>0</th>\n",
       "      <td>08/01/13</td>\n",
       "      <td>2013-14 (EDU 92495) Proposed Capital Outlay Pr...</td>\n",
       "    </tr>\n",
       "    <tr>\n",
       "      <th>1</th>\n",
       "      <td>09/01/13</td>\n",
       "      <td>2014-15  (EDU 92495) Proposed Capital Outlay P...</td>\n",
       "    </tr>\n",
       "    <tr>\n",
       "      <th>2</th>\n",
       "      <td>11/01/13</td>\n",
       "      <td>Utilization of Classroom and Teaching Laborato...</td>\n",
       "    </tr>\n",
       "    <tr>\n",
       "      <th>3</th>\n",
       "      <td>11/01/13</td>\n",
       "      <td>Instruction and Research Space Summary &amp; Analy...</td>\n",
       "    </tr>\n",
       "    <tr>\n",
       "      <th>4</th>\n",
       "      <td>11/15/13</td>\n",
       "      <td>Statewide Energy Partnership Program (pdf)</td>\n",
       "    </tr>\n",
       "    <tr>\n",
       "      <th>5</th>\n",
       "      <td>11/30/13</td>\n",
       "      <td>2013-23 Capital Financial Plan (pdf)</td>\n",
       "    </tr>\n",
       "    <tr>\n",
       "      <th>6</th>\n",
       "      <td>11/30/13</td>\n",
       "      <td>Projects Savings Funded from Capital Outlay Bo...</td>\n",
       "    </tr>\n",
       "    <tr>\n",
       "      <th>7</th>\n",
       "      <td>12/01/13</td>\n",
       "      <td>Streamlined Capital Projects Funded from Capit...</td>\n",
       "    </tr>\n",
       "    <tr>\n",
       "      <th>8</th>\n",
       "      <td>01/01/14</td>\n",
       "      <td>Annual General Obligation Bonds Accountability...</td>\n",
       "    </tr>\n",
       "    <tr>\n",
       "      <th>9</th>\n",
       "      <td>01/01/14</td>\n",
       "      <td>Small Business Utilization (pdf)</td>\n",
       "    </tr>\n",
       "    <tr>\n",
       "      <th>10</th>\n",
       "      <td>01/01/14</td>\n",
       "      <td>Institutional Financial Aid Programs - Prelimi...</td>\n",
       "    </tr>\n",
       "    <tr>\n",
       "      <th>11</th>\n",
       "      <td>01/10/14</td>\n",
       "      <td>Summer Enrollment (pdf)</td>\n",
       "    </tr>\n",
       "    <tr>\n",
       "      <th>12</th>\n",
       "      <td>01/15/14</td>\n",
       "      <td>Contracting Out for Services at Newly Develope...</td>\n",
       "    </tr>\n",
       "    <tr>\n",
       "      <th>13</th>\n",
       "      <td>03/01/14</td>\n",
       "      <td>Performance Measures (pdf)</td>\n",
       "    </tr>\n",
       "    <tr>\n",
       "      <th>14</th>\n",
       "      <td>03/01/14</td>\n",
       "      <td>Entry Level Writing Requirement (pdf)</td>\n",
       "    </tr>\n",
       "    <tr>\n",
       "      <th>15</th>\n",
       "      <td>03/31/14</td>\n",
       "      <td>Annual Report on Student Financial Support (pdf)</td>\n",
       "    </tr>\n",
       "    <tr>\n",
       "      <th>16</th>\n",
       "      <td>04/01/14</td>\n",
       "      <td>Unique Statewide Pupil Identifier (pdf)</td>\n",
       "    </tr>\n",
       "    <tr>\n",
       "      <th>17</th>\n",
       "      <td>04/01/14</td>\n",
       "      <td>Riverside School of Medicine (pdf)</td>\n",
       "    </tr>\n",
       "    <tr>\n",
       "      <th>18</th>\n",
       "      <td>05/15/14</td>\n",
       "      <td>Receipt and Use of Lottery Funds (pdf)</td>\n",
       "    </tr>\n",
       "    <tr>\n",
       "      <th>19</th>\n",
       "      <td>07/01/14</td>\n",
       "      <td>Cogeneration and Energy Consv Major Capital Pr...</td>\n",
       "    </tr>\n",
       "  </tbody>\n",
       "</table>\n",
       "</div>"
      ],
      "text/plain": [
       "        Date                                             Report\n",
       "0   08/01/13  2013-14 (EDU 92495) Proposed Capital Outlay Pr...\n",
       "1   09/01/13  2014-15  (EDU 92495) Proposed Capital Outlay P...\n",
       "2   11/01/13  Utilization of Classroom and Teaching Laborato...\n",
       "3   11/01/13  Instruction and Research Space Summary & Analy...\n",
       "4   11/15/13         Statewide Energy Partnership Program (pdf)\n",
       "5   11/30/13               2013-23 Capital Financial Plan (pdf)\n",
       "6   11/30/13  Projects Savings Funded from Capital Outlay Bo...\n",
       "7   12/01/13  Streamlined Capital Projects Funded from Capit...\n",
       "8   01/01/14  Annual General Obligation Bonds Accountability...\n",
       "9   01/01/14                   Small Business Utilization (pdf)\n",
       "10  01/01/14  Institutional Financial Aid Programs - Prelimi...\n",
       "11  01/10/14                            Summer Enrollment (pdf)\n",
       "12  01/15/14  Contracting Out for Services at Newly Develope...\n",
       "13  03/01/14                         Performance Measures (pdf)\n",
       "14  03/01/14              Entry Level Writing Requirement (pdf)\n",
       "15  03/31/14   Annual Report on Student Financial Support (pdf)\n",
       "16  04/01/14            Unique Statewide Pupil Identifier (pdf)\n",
       "17  04/01/14                 Riverside School of Medicine (pdf)\n",
       "18  05/15/14             Receipt and Use of Lottery Funds (pdf)\n",
       "19  07/01/14  Cogeneration and Energy Consv Major Capital Pr..."
      ]
     },
     "execution_count": 26,
     "metadata": {},
     "output_type": "execute_result"
    }
   ],
   "source": [
    "df"
   ]
  }
 ],
 "metadata": {
  "kernelspec": {
   "display_name": "Python 2",
   "language": "python",
   "name": "python2"
  },
  "language_info": {
   "codemirror_mode": {
    "name": "ipython",
    "version": 2
   },
   "file_extension": ".py",
   "mimetype": "text/x-python",
   "name": "python",
   "nbconvert_exporter": "python",
   "pygments_lexer": "ipython2",
   "version": "2.7.13"
  }
 },
 "nbformat": 4,
 "nbformat_minor": 0
}
