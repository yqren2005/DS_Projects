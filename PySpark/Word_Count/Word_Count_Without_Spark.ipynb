{
 "cells": [
  {
   "cell_type": "code",
   "execution_count": 1,
   "metadata": {
    "collapsed": true
   },
   "outputs": [],
   "source": [
    "import string"
   ]
  },
  {
   "cell_type": "code",
   "execution_count": 2,
   "metadata": {
    "collapsed": true
   },
   "outputs": [],
   "source": [
    "with open('war_and_peace.txt', 'r') as f:\n",
    "    data = f.read().lower()"
   ]
  },
  {
   "cell_type": "code",
   "execution_count": 3,
   "metadata": {
    "collapsed": false
   },
   "outputs": [],
   "source": [
    "punc_removed = data.translate(None, string.punctuation)"
   ]
  },
  {
   "cell_type": "code",
   "execution_count": 4,
   "metadata": {
    "collapsed": false
   },
   "outputs": [
    {
     "data": {
      "text/plain": [
       "{'divinely': 1,\n",
       " 'four': 103,\n",
       " 'herfilled': 1,\n",
       " 'hordes': 1,\n",
       " 'inadequacy': 1,\n",
       " 'nunnery': 3,\n",
       " 'passagestwenty': 1,\n",
       " 'presnya': 1,\n",
       " 'raining': 3,\n",
       " 'yellow': 17}"
      ]
     },
     "execution_count": 4,
     "metadata": {},
     "output_type": "execute_result"
    }
   ],
   "source": [
    "wordcount = {}\n",
    "\n",
    "for word in punc_removed.split():\n",
    "    wordcount[word] = wordcount.get(word, 0) + 1\n",
    "\n",
    "# show dict head\n",
    "dict(wordcount.items()[0:10])"
   ]
  },
  {
   "cell_type": "code",
   "execution_count": 5,
   "metadata": {
    "collapsed": false
   },
   "outputs": [],
   "source": [
    "sorted_counts = sorted(wordcount.items(), key=lambda x: -x[1])"
   ]
  },
  {
   "cell_type": "code",
   "execution_count": 6,
   "metadata": {
    "collapsed": false
   },
   "outputs": [
    {
     "name": "stdout",
     "output_type": "stream",
     "text": [
      "the 34570\n",
      "and 22159\n",
      "to 16716\n",
      "of 14991\n",
      "a 10521\n",
      "he 9809\n",
      "in 8801\n",
      "his 7967\n",
      "that 7813\n",
      "was 7329\n",
      "with 5695\n",
      "had 5354\n",
      "it 5179\n",
      "her 4700\n",
      "not 4658\n",
      "him 4574\n",
      "at 4538\n",
      "i 4106\n",
      "but 4013\n",
      "on 3998\n"
     ]
    }
   ],
   "source": [
    "for w, n in sorted_counts[:20]:\n",
    "    print w, n"
   ]
  }
 ],
 "metadata": {
  "kernelspec": {
   "display_name": "Python 2",
   "language": "python",
   "name": "python2"
  },
  "language_info": {
   "codemirror_mode": {
    "name": "ipython",
    "version": 2
   },
   "file_extension": ".py",
   "mimetype": "text/x-python",
   "name": "python",
   "nbconvert_exporter": "python",
   "pygments_lexer": "ipython2",
   "version": "2.7.13"
  }
 },
 "nbformat": 4,
 "nbformat_minor": 2
}
