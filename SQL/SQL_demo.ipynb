{
 "cells": [
  {
   "cell_type": "markdown",
   "metadata": {},
   "source": [
    "## Running SQL query in Jupyter notebook using %sql (or %%sql) magic  \n",
    "(requires ipython-sql)"
   ]
  },
  {
   "cell_type": "code",
   "execution_count": 1,
   "metadata": {
    "collapsed": true
   },
   "outputs": [],
   "source": [
    "%load_ext sql"
   ]
  },
  {
   "cell_type": "markdown",
   "metadata": {},
   "source": [
    "### Connect to database rating.db, using SQLAlchemy connect strings"
   ]
  },
  {
   "cell_type": "code",
   "execution_count": 3,
   "metadata": {
    "collapsed": false
   },
   "outputs": [
    {
     "data": {
      "text/plain": [
       "u'Connected: None@rating.db'"
      ]
     },
     "execution_count": 3,
     "metadata": {},
     "output_type": "execute_result"
    }
   ],
   "source": [
    "%sql sqlite:///rating.db"
   ]
  },
  {
   "cell_type": "code",
   "execution_count": 11,
   "metadata": {
    "collapsed": false
   },
   "outputs": [
    {
     "name": "stdout",
     "output_type": "stream",
     "text": [
      "Done.\n"
     ]
    },
    {
     "data": {
      "text/html": [
       "<table>\n",
       "    <tr>\n",
       "        <th>type</th>\n",
       "        <th>name</th>\n",
       "        <th>tbl_name</th>\n",
       "        <th>rootpage</th>\n",
       "        <th>sql</th>\n",
       "    </tr>\n",
       "    <tr>\n",
       "        <td>table</td>\n",
       "        <td>Movie</td>\n",
       "        <td>Movie</td>\n",
       "        <td>2</td>\n",
       "        <td>CREATE TABLE Movie(mID int, title text, year int, director text)</td>\n",
       "    </tr>\n",
       "    <tr>\n",
       "        <td>table</td>\n",
       "        <td>Reviewer</td>\n",
       "        <td>Reviewer</td>\n",
       "        <td>3</td>\n",
       "        <td>CREATE TABLE Reviewer(rID int, name text)</td>\n",
       "    </tr>\n",
       "    <tr>\n",
       "        <td>table</td>\n",
       "        <td>Rating</td>\n",
       "        <td>Rating</td>\n",
       "        <td>4</td>\n",
       "        <td>CREATE TABLE Rating(rID int, mID int, stars int, ratingDate date)</td>\n",
       "    </tr>\n",
       "</table>"
      ],
      "text/plain": [
       "[(u'table', u'Movie', u'Movie', 2, u'CREATE TABLE Movie(mID int, title text, year int, director text)'),\n",
       " (u'table', u'Reviewer', u'Reviewer', 3, u'CREATE TABLE Reviewer(rID int, name text)'),\n",
       " (u'table', u'Rating', u'Rating', 4, u'CREATE TABLE Rating(rID int, mID int, stars int, ratingDate date)')]"
      ]
     },
     "execution_count": 11,
     "metadata": {},
     "output_type": "execute_result"
    }
   ],
   "source": [
    "%sql select * from sqlite_master"
   ]
  },
  {
   "cell_type": "markdown",
   "metadata": {},
   "source": [
    "### Check table header"
   ]
  },
  {
   "cell_type": "code",
   "execution_count": 23,
   "metadata": {
    "collapsed": false
   },
   "outputs": [
    {
     "name": "stdout",
     "output_type": "stream",
     "text": [
      "Done.\n"
     ]
    },
    {
     "data": {
      "text/html": [
       "<table>\n",
       "    <tr>\n",
       "        <th>mID</th>\n",
       "        <th>title</th>\n",
       "        <th>year</th>\n",
       "        <th>director</th>\n",
       "    </tr>\n",
       "    <tr>\n",
       "        <td>101</td>\n",
       "        <td>Gone with the Wind</td>\n",
       "        <td>1939</td>\n",
       "        <td>Victor Fleming</td>\n",
       "    </tr>\n",
       "</table>"
      ],
      "text/plain": [
       "[(101, u'Gone with the Wind', 1939, u'Victor Fleming')]"
      ]
     },
     "execution_count": 23,
     "metadata": {},
     "output_type": "execute_result"
    }
   ],
   "source": [
    "%sql select * from Movie LIMIT 1"
   ]
  },
  {
   "cell_type": "code",
   "execution_count": 24,
   "metadata": {
    "collapsed": false
   },
   "outputs": [
    {
     "name": "stdout",
     "output_type": "stream",
     "text": [
      "Done.\n"
     ]
    },
    {
     "data": {
      "text/html": [
       "<table>\n",
       "    <tr>\n",
       "        <th>rID</th>\n",
       "        <th>mID</th>\n",
       "        <th>stars</th>\n",
       "        <th>ratingDate</th>\n",
       "    </tr>\n",
       "    <tr>\n",
       "        <td>201</td>\n",
       "        <td>101</td>\n",
       "        <td>2</td>\n",
       "        <td>2011-01-22</td>\n",
       "    </tr>\n",
       "</table>"
      ],
      "text/plain": [
       "[(201, 101, 2, u'2011-01-22')]"
      ]
     },
     "execution_count": 24,
     "metadata": {},
     "output_type": "execute_result"
    }
   ],
   "source": [
    "%sql select * from Rating LIMIT 1"
   ]
  },
  {
   "cell_type": "code",
   "execution_count": 25,
   "metadata": {
    "collapsed": false
   },
   "outputs": [
    {
     "name": "stdout",
     "output_type": "stream",
     "text": [
      "Done.\n"
     ]
    },
    {
     "data": {
      "text/html": [
       "<table>\n",
       "    <tr>\n",
       "        <th>rID</th>\n",
       "        <th>name</th>\n",
       "    </tr>\n",
       "    <tr>\n",
       "        <td>201</td>\n",
       "        <td>Sarah Martinez</td>\n",
       "    </tr>\n",
       "</table>"
      ],
      "text/plain": [
       "[(201, u'Sarah Martinez')]"
      ]
     },
     "execution_count": 25,
     "metadata": {},
     "output_type": "execute_result"
    }
   ],
   "source": [
    "%sql select * from Reviewer LIMIT 1"
   ]
  },
  {
   "cell_type": "markdown",
   "metadata": {},
   "source": [
    "### Movie rating queries"
   ]
  },
  {
   "cell_type": "markdown",
   "metadata": {},
   "source": [
    "Find the titles of all movies directed by Steven Spielberg."
   ]
  },
  {
   "cell_type": "code",
   "execution_count": 12,
   "metadata": {
    "collapsed": false
   },
   "outputs": [
    {
     "name": "stdout",
     "output_type": "stream",
     "text": [
      "Done.\n"
     ]
    },
    {
     "data": {
      "text/html": [
       "<table>\n",
       "    <tr>\n",
       "        <th>title</th>\n",
       "    </tr>\n",
       "    <tr>\n",
       "        <td>E.T.</td>\n",
       "    </tr>\n",
       "    <tr>\n",
       "        <td>Raiders of the Lost Ark</td>\n",
       "    </tr>\n",
       "</table>"
      ],
      "text/plain": [
       "[(u'E.T.',), (u'Raiders of the Lost Ark',)]"
      ]
     },
     "execution_count": 12,
     "metadata": {},
     "output_type": "execute_result"
    }
   ],
   "source": [
    "%sql select title from Movie where director = \"Steven Spielberg\""
   ]
  },
  {
   "cell_type": "markdown",
   "metadata": {},
   "source": [
    "Find all years that have a movie that received a rating of 4 or 5, and sort them in increasing order."
   ]
  },
  {
   "cell_type": "code",
   "execution_count": 13,
   "metadata": {
    "collapsed": false
   },
   "outputs": [
    {
     "name": "stdout",
     "output_type": "stream",
     "text": [
      "Done.\n"
     ]
    },
    {
     "data": {
      "text/html": [
       "<table>\n",
       "    <tr>\n",
       "        <th>year</th>\n",
       "    </tr>\n",
       "    <tr>\n",
       "        <td>1937</td>\n",
       "    </tr>\n",
       "    <tr>\n",
       "        <td>1939</td>\n",
       "    </tr>\n",
       "    <tr>\n",
       "        <td>1981</td>\n",
       "    </tr>\n",
       "    <tr>\n",
       "        <td>2009</td>\n",
       "    </tr>\n",
       "</table>"
      ],
      "text/plain": [
       "[(1937,), (1939,), (1981,), (2009,)]"
      ]
     },
     "execution_count": 13,
     "metadata": {},
     "output_type": "execute_result"
    }
   ],
   "source": [
    "%sql select distinct year from Movie m, Rating r where m.mID = r.mID AND (r.stars = 5 or r.stars = 4) order by year"
   ]
  },
  {
   "cell_type": "markdown",
   "metadata": {},
   "source": [
    "Find the titles of all movies that have no ratings."
   ]
  },
  {
   "cell_type": "code",
   "execution_count": 21,
   "metadata": {
    "collapsed": false
   },
   "outputs": [
    {
     "name": "stdout",
     "output_type": "stream",
     "text": [
      "Done.\n"
     ]
    },
    {
     "data": {
      "text/html": [
       "<table>\n",
       "    <tr>\n",
       "        <th>title</th>\n",
       "    </tr>\n",
       "    <tr>\n",
       "        <td>Star Wars</td>\n",
       "    </tr>\n",
       "    <tr>\n",
       "        <td>Titanic</td>\n",
       "    </tr>\n",
       "</table>"
      ],
      "text/plain": [
       "[(u'Star Wars',), (u'Titanic',)]"
      ]
     },
     "execution_count": 21,
     "metadata": {},
     "output_type": "execute_result"
    }
   ],
   "source": [
    "%sql select title from Movie where mID IN (select mID from Movie except select mID from Rating)"
   ]
  },
  {
   "cell_type": "markdown",
   "metadata": {},
   "source": [
    "Some reviewers didn't provide a date with their rating. Find the names of all reviewers who have ratings with a NULL value for the date. "
   ]
  },
  {
   "cell_type": "code",
   "execution_count": 27,
   "metadata": {
    "collapsed": false
   },
   "outputs": [
    {
     "name": "stdout",
     "output_type": "stream",
     "text": [
      "Done.\n"
     ]
    },
    {
     "data": {
      "text/html": [
       "<table>\n",
       "    <tr>\n",
       "        <th>name</th>\n",
       "    </tr>\n",
       "    <tr>\n",
       "        <td>Daniel Lewis</td>\n",
       "    </tr>\n",
       "    <tr>\n",
       "        <td>Chris Jackson</td>\n",
       "    </tr>\n",
       "</table>"
      ],
      "text/plain": [
       "[(u'Daniel Lewis',), (u'Chris Jackson',)]"
      ]
     },
     "execution_count": 27,
     "metadata": {},
     "output_type": "execute_result"
    }
   ],
   "source": [
    "%sql select name from Reviewer v, Rating r where v.rID = r.rID and r.ratingDate IS NULL"
   ]
  },
  {
   "cell_type": "markdown",
   "metadata": {},
   "source": [
    "Write a query to return the ratings data in a more readable format: reviewer name, movie title, stars, and ratingDate. Also, sort the data, first by reviewer name, then by movie title, and lastly by number of stars."
   ]
  },
  {
   "cell_type": "code",
   "execution_count": 36,
   "metadata": {
    "collapsed": false
   },
   "outputs": [
    {
     "name": "stdout",
     "output_type": "stream",
     "text": [
      "Done.\n"
     ]
    },
    {
     "data": {
      "text/html": [
       "<table>\n",
       "    <tr>\n",
       "        <th>name</th>\n",
       "        <th>title</th>\n",
       "        <th>stars</th>\n",
       "        <th>ratingDate</th>\n",
       "    </tr>\n",
       "    <tr>\n",
       "        <td>Ashley White</td>\n",
       "        <td>E.T.</td>\n",
       "        <td>3</td>\n",
       "        <td>2011-01-02</td>\n",
       "    </tr>\n",
       "    <tr>\n",
       "        <td>Brittany Harris</td>\n",
       "        <td>Raiders of the Lost Ark</td>\n",
       "        <td>2</td>\n",
       "        <td>2011-01-30</td>\n",
       "    </tr>\n",
       "    <tr>\n",
       "        <td>Brittany Harris</td>\n",
       "        <td>Raiders of the Lost Ark</td>\n",
       "        <td>4</td>\n",
       "        <td>2011-01-12</td>\n",
       "    </tr>\n",
       "    <tr>\n",
       "        <td>Brittany Harris</td>\n",
       "        <td>The Sound of Music</td>\n",
       "        <td>2</td>\n",
       "        <td>2011-01-20</td>\n",
       "    </tr>\n",
       "    <tr>\n",
       "        <td>Chris Jackson</td>\n",
       "        <td>E.T.</td>\n",
       "        <td>2</td>\n",
       "        <td>2011-01-22</td>\n",
       "    </tr>\n",
       "    <tr>\n",
       "        <td>Chris Jackson</td>\n",
       "        <td>Raiders of the Lost Ark</td>\n",
       "        <td>4</td>\n",
       "        <td>None</td>\n",
       "    </tr>\n",
       "    <tr>\n",
       "        <td>Chris Jackson</td>\n",
       "        <td>The Sound of Music</td>\n",
       "        <td>3</td>\n",
       "        <td>2011-01-27</td>\n",
       "    </tr>\n",
       "    <tr>\n",
       "        <td>Daniel Lewis</td>\n",
       "        <td>Snow White</td>\n",
       "        <td>4</td>\n",
       "        <td>None</td>\n",
       "    </tr>\n",
       "    <tr>\n",
       "        <td>Elizabeth Thomas</td>\n",
       "        <td>Avatar</td>\n",
       "        <td>3</td>\n",
       "        <td>2011-01-15</td>\n",
       "    </tr>\n",
       "    <tr>\n",
       "        <td>Elizabeth Thomas</td>\n",
       "        <td>Snow White</td>\n",
       "        <td>5</td>\n",
       "        <td>2011-01-19</td>\n",
       "    </tr>\n",
       "    <tr>\n",
       "        <td>James Cameron</td>\n",
       "        <td>Avatar</td>\n",
       "        <td>5</td>\n",
       "        <td>2011-01-20</td>\n",
       "    </tr>\n",
       "    <tr>\n",
       "        <td>Mike Anderson</td>\n",
       "        <td>Gone with the Wind</td>\n",
       "        <td>3</td>\n",
       "        <td>2011-01-09</td>\n",
       "    </tr>\n",
       "    <tr>\n",
       "        <td>Sarah Martinez</td>\n",
       "        <td>Gone with the Wind</td>\n",
       "        <td>2</td>\n",
       "        <td>2011-01-22</td>\n",
       "    </tr>\n",
       "    <tr>\n",
       "        <td>Sarah Martinez</td>\n",
       "        <td>Gone with the Wind</td>\n",
       "        <td>4</td>\n",
       "        <td>2011-01-27</td>\n",
       "    </tr>\n",
       "</table>"
      ],
      "text/plain": [
       "[(u'Ashley White', u'E.T.', 3, u'2011-01-02'),\n",
       " (u'Brittany Harris', u'Raiders of the Lost Ark', 2, u'2011-01-30'),\n",
       " (u'Brittany Harris', u'Raiders of the Lost Ark', 4, u'2011-01-12'),\n",
       " (u'Brittany Harris', u'The Sound of Music', 2, u'2011-01-20'),\n",
       " (u'Chris Jackson', u'E.T.', 2, u'2011-01-22'),\n",
       " (u'Chris Jackson', u'Raiders of the Lost Ark', 4, None),\n",
       " (u'Chris Jackson', u'The Sound of Music', 3, u'2011-01-27'),\n",
       " (u'Daniel Lewis', u'Snow White', 4, None),\n",
       " (u'Elizabeth Thomas', u'Avatar', 3, u'2011-01-15'),\n",
       " (u'Elizabeth Thomas', u'Snow White', 5, u'2011-01-19'),\n",
       " (u'James Cameron', u'Avatar', 5, u'2011-01-20'),\n",
       " (u'Mike Anderson', u'Gone with the Wind', 3, u'2011-01-09'),\n",
       " (u'Sarah Martinez', u'Gone with the Wind', 2, u'2011-01-22'),\n",
       " (u'Sarah Martinez', u'Gone with the Wind', 4, u'2011-01-27')]"
      ]
     },
     "execution_count": 36,
     "metadata": {},
     "output_type": "execute_result"
    }
   ],
   "source": [
    "%%sql \n",
    "select v.name, m.title, r.stars, r.ratingDate from Movie m, Rating r, Reviewer v \n",
    "where m.mID = r.mID and r.rID = v.rID\n",
    "order by v.name, m.title, r.stars"
   ]
  },
  {
   "cell_type": "markdown",
   "metadata": {},
   "source": [
    "For all cases where the same reviewer rated the same movie twice and gave it a higher rating the second time, return the reviewer's name and the title of the movie."
   ]
  },
  {
   "cell_type": "code",
   "execution_count": 40,
   "metadata": {
    "collapsed": false
   },
   "outputs": [
    {
     "name": "stdout",
     "output_type": "stream",
     "text": [
      "Done.\n"
     ]
    },
    {
     "data": {
      "text/html": [
       "<table>\n",
       "    <tr>\n",
       "        <th>name</th>\n",
       "        <th>title</th>\n",
       "    </tr>\n",
       "    <tr>\n",
       "        <td>Sarah Martinez</td>\n",
       "        <td>Gone with the Wind</td>\n",
       "    </tr>\n",
       "</table>"
      ],
      "text/plain": [
       "[(u'Sarah Martinez', u'Gone with the Wind')]"
      ]
     },
     "execution_count": 40,
     "metadata": {},
     "output_type": "execute_result"
    }
   ],
   "source": [
    "%%sql\n",
    "select A1.name, A1.title from\n",
    "(select name, title, ratingDate, stars from Reviewer natural join Rating natural join Movie) A1,\n",
    "(select name, title, ratingDate, stars from Reviewer natural join Rating natural join Movie) A2\n",
    "where A1.name = A2.name and A1.title = A2.title and A1.ratingDate < A2.ratingDate and A1.stars < A2.stars\n",
    "group by A1.name\n",
    "having count(A1.name) = 1"
   ]
  },
  {
   "cell_type": "markdown",
   "metadata": {},
   "source": [
    "For each movie that has at least one rating, find the highest number of stars that movie received. Return the movie title and number of stars. Sort by movie title. "
   ]
  },
  {
   "cell_type": "code",
   "execution_count": 41,
   "metadata": {
    "collapsed": false
   },
   "outputs": [
    {
     "name": "stdout",
     "output_type": "stream",
     "text": [
      "Done.\n"
     ]
    },
    {
     "data": {
      "text/html": [
       "<table>\n",
       "    <tr>\n",
       "        <th>title</th>\n",
       "        <th>max(stars)</th>\n",
       "    </tr>\n",
       "    <tr>\n",
       "        <td>Avatar</td>\n",
       "        <td>5</td>\n",
       "    </tr>\n",
       "    <tr>\n",
       "        <td>E.T.</td>\n",
       "        <td>3</td>\n",
       "    </tr>\n",
       "    <tr>\n",
       "        <td>Gone with the Wind</td>\n",
       "        <td>4</td>\n",
       "    </tr>\n",
       "    <tr>\n",
       "        <td>Raiders of the Lost Ark</td>\n",
       "        <td>4</td>\n",
       "    </tr>\n",
       "    <tr>\n",
       "        <td>Snow White</td>\n",
       "        <td>5</td>\n",
       "    </tr>\n",
       "    <tr>\n",
       "        <td>The Sound of Music</td>\n",
       "        <td>3</td>\n",
       "    </tr>\n",
       "</table>"
      ],
      "text/plain": [
       "[(u'Avatar', 5),\n",
       " (u'E.T.', 3),\n",
       " (u'Gone with the Wind', 4),\n",
       " (u'Raiders of the Lost Ark', 4),\n",
       " (u'Snow White', 5),\n",
       " (u'The Sound of Music', 3)]"
      ]
     },
     "execution_count": 41,
     "metadata": {},
     "output_type": "execute_result"
    }
   ],
   "source": [
    "%%sql\n",
    "select title, max(stars) from Reviewer natural join Rating natural join Movie\n",
    "group by title\n",
    "order by title"
   ]
  },
  {
   "cell_type": "markdown",
   "metadata": {},
   "source": [
    "For each movie, return the title and the 'rating spread', that is, the difference between highest and lowest ratings given to that movie. Sort by rating spread from highest to lowest, then by movie title. "
   ]
  },
  {
   "cell_type": "code",
   "execution_count": 42,
   "metadata": {
    "collapsed": false
   },
   "outputs": [
    {
     "name": "stdout",
     "output_type": "stream",
     "text": [
      "Done.\n"
     ]
    },
    {
     "data": {
      "text/html": [
       "<table>\n",
       "    <tr>\n",
       "        <th>title</th>\n",
       "        <th>rating spread</th>\n",
       "    </tr>\n",
       "    <tr>\n",
       "        <td>Avatar</td>\n",
       "        <td>2</td>\n",
       "    </tr>\n",
       "    <tr>\n",
       "        <td>Gone with the Wind</td>\n",
       "        <td>2</td>\n",
       "    </tr>\n",
       "    <tr>\n",
       "        <td>Raiders of the Lost Ark</td>\n",
       "        <td>2</td>\n",
       "    </tr>\n",
       "    <tr>\n",
       "        <td>E.T.</td>\n",
       "        <td>1</td>\n",
       "    </tr>\n",
       "    <tr>\n",
       "        <td>Snow White</td>\n",
       "        <td>1</td>\n",
       "    </tr>\n",
       "    <tr>\n",
       "        <td>The Sound of Music</td>\n",
       "        <td>1</td>\n",
       "    </tr>\n",
       "</table>"
      ],
      "text/plain": [
       "[(u'Avatar', 2),\n",
       " (u'Gone with the Wind', 2),\n",
       " (u'Raiders of the Lost Ark', 2),\n",
       " (u'E.T.', 1),\n",
       " (u'Snow White', 1),\n",
       " (u'The Sound of Music', 1)]"
      ]
     },
     "execution_count": 42,
     "metadata": {},
     "output_type": "execute_result"
    }
   ],
   "source": [
    "%%sql\n",
    "select title, max(stars) - min(stars) as \"rating spread\" from Reviewer natural join Rating natural join Movie\n",
    "group by title\n",
    "order by \"rating spread\" desc, title"
   ]
  },
  {
   "cell_type": "markdown",
   "metadata": {},
   "source": [
    "Find the difference between the average rating of movies released before 1980 and the average rating of movies released after 1980. (Make sure to calculate the average rating for each movie, then the average of those averages for movies before 1980 and movies after. Don't just calculate the overall average rating before and after 1980.) "
   ]
  },
  {
   "cell_type": "code",
   "execution_count": 43,
   "metadata": {
    "collapsed": false
   },
   "outputs": [
    {
     "name": "stdout",
     "output_type": "stream",
     "text": [
      "Done.\n"
     ]
    },
    {
     "data": {
      "text/html": [
       "<table>\n",
       "    <tr>\n",
       "        <th>answer</th>\n",
       "    </tr>\n",
       "    <tr>\n",
       "        <td>0.0555555555556</td>\n",
       "    </tr>\n",
       "</table>"
      ],
      "text/plain": [
       "[(0.055555555555556246,)]"
      ]
     },
     "execution_count": 43,
     "metadata": {},
     "output_type": "execute_result"
    }
   ],
   "source": [
    "%%sql\n",
    "select abs(avg(A1.a) - avg(A2.a)) as answer from\n",
    "(select title, year, avg(stars) as a from Reviewer natural join Rating natural join Movie\n",
    "where year >= 1980\n",
    "group by title) A1,\n",
    "(select title, year, avg(stars) as a from Reviewer natural join Rating natural join Movie\n",
    "where year < 1980\n",
    "group by title) A2"
   ]
  },
  {
   "cell_type": "markdown",
   "metadata": {},
   "source": [
    "Find the names of all reviewers who rated Gone with the Wind. "
   ]
  },
  {
   "cell_type": "code",
   "execution_count": 51,
   "metadata": {
    "collapsed": false
   },
   "outputs": [
    {
     "name": "stdout",
     "output_type": "stream",
     "text": [
      "Done.\n"
     ]
    },
    {
     "data": {
      "text/html": [
       "<table>\n",
       "    <tr>\n",
       "        <th>name</th>\n",
       "    </tr>\n",
       "    <tr>\n",
       "        <td>Mike Anderson</td>\n",
       "    </tr>\n",
       "    <tr>\n",
       "        <td>Sarah Martinez</td>\n",
       "    </tr>\n",
       "</table>"
      ],
      "text/plain": [
       "[(u'Mike Anderson',), (u'Sarah Martinez',)]"
      ]
     },
     "execution_count": 51,
     "metadata": {},
     "output_type": "execute_result"
    }
   ],
   "source": [
    "%%sql\n",
    "select distinct name from Reviewer natural join Rating natural join Movie\n",
    "where title = \"Gone with the Wind\"\n",
    "order by name"
   ]
  },
  {
   "cell_type": "markdown",
   "metadata": {},
   "source": [
    "For any rating where the reviewer is the same as the director of the movie, return the reviewer name, movie title, and number of stars. "
   ]
  },
  {
   "cell_type": "code",
   "execution_count": 52,
   "metadata": {
    "collapsed": false
   },
   "outputs": [
    {
     "name": "stdout",
     "output_type": "stream",
     "text": [
      "Done.\n"
     ]
    },
    {
     "data": {
      "text/html": [
       "<table>\n",
       "    <tr>\n",
       "        <th>name</th>\n",
       "        <th>title</th>\n",
       "        <th>stars</th>\n",
       "    </tr>\n",
       "    <tr>\n",
       "        <td>James Cameron</td>\n",
       "        <td>Avatar</td>\n",
       "        <td>5</td>\n",
       "    </tr>\n",
       "</table>"
      ],
      "text/plain": [
       "[(u'James Cameron', u'Avatar', 5)]"
      ]
     },
     "execution_count": 52,
     "metadata": {},
     "output_type": "execute_result"
    }
   ],
   "source": [
    "%%sql\n",
    "select name, title, stars from Reviewer natural join Rating natural join Movie\n",
    "where name = director"
   ]
  },
  {
   "cell_type": "markdown",
   "metadata": {},
   "source": [
    "Return all reviewer names and movie names together in a single list, alphabetized."
   ]
  },
  {
   "cell_type": "code",
   "execution_count": 57,
   "metadata": {
    "collapsed": false
   },
   "outputs": [
    {
     "name": "stdout",
     "output_type": "stream",
     "text": [
      "Done.\n"
     ]
    },
    {
     "data": {
      "text/html": [
       "<table>\n",
       "    <tr>\n",
       "        <th>ans</th>\n",
       "    </tr>\n",
       "    <tr>\n",
       "        <td>Ashley White</td>\n",
       "    </tr>\n",
       "    <tr>\n",
       "        <td>Avatar</td>\n",
       "    </tr>\n",
       "    <tr>\n",
       "        <td>Brittany Harris</td>\n",
       "    </tr>\n",
       "    <tr>\n",
       "        <td>Chris Jackson</td>\n",
       "    </tr>\n",
       "    <tr>\n",
       "        <td>Daniel Lewis</td>\n",
       "    </tr>\n",
       "    <tr>\n",
       "        <td>E.T.</td>\n",
       "    </tr>\n",
       "    <tr>\n",
       "        <td>Elizabeth Thomas</td>\n",
       "    </tr>\n",
       "    <tr>\n",
       "        <td>Gone with the Wind</td>\n",
       "    </tr>\n",
       "    <tr>\n",
       "        <td>James Cameron</td>\n",
       "    </tr>\n",
       "    <tr>\n",
       "        <td>Mike Anderson</td>\n",
       "    </tr>\n",
       "    <tr>\n",
       "        <td>Raiders of the Lost Ark</td>\n",
       "    </tr>\n",
       "    <tr>\n",
       "        <td>Sarah Martinez</td>\n",
       "    </tr>\n",
       "    <tr>\n",
       "        <td>Snow White</td>\n",
       "    </tr>\n",
       "    <tr>\n",
       "        <td>Star Wars</td>\n",
       "    </tr>\n",
       "    <tr>\n",
       "        <td>The Sound of Music</td>\n",
       "    </tr>\n",
       "    <tr>\n",
       "        <td>Titanic</td>\n",
       "    </tr>\n",
       "</table>"
      ],
      "text/plain": [
       "[(u'Ashley White',),\n",
       " (u'Avatar',),\n",
       " (u'Brittany Harris',),\n",
       " (u'Chris Jackson',),\n",
       " (u'Daniel Lewis',),\n",
       " (u'E.T.',),\n",
       " (u'Elizabeth Thomas',),\n",
       " (u'Gone with the Wind',),\n",
       " (u'James Cameron',),\n",
       " (u'Mike Anderson',),\n",
       " (u'Raiders of the Lost Ark',),\n",
       " (u'Sarah Martinez',),\n",
       " (u'Snow White',),\n",
       " (u'Star Wars',),\n",
       " (u'The Sound of Music',),\n",
       " (u'Titanic',)]"
      ]
     },
     "execution_count": 57,
     "metadata": {},
     "output_type": "execute_result"
    }
   ],
   "source": [
    "%%sql\n",
    "select name as ans from Reviewer\n",
    "union\n",
    "select title as ans from Movie\n",
    "order by ans"
   ]
  },
  {
   "cell_type": "markdown",
   "metadata": {},
   "source": [
    "Find the titles of all movies not reviewed by Chris Jackson."
   ]
  },
  {
   "cell_type": "code",
   "execution_count": 58,
   "metadata": {
    "collapsed": false
   },
   "outputs": [
    {
     "name": "stdout",
     "output_type": "stream",
     "text": [
      "Done.\n"
     ]
    },
    {
     "data": {
      "text/html": [
       "<table>\n",
       "    <tr>\n",
       "        <th>title</th>\n",
       "    </tr>\n",
       "    <tr>\n",
       "        <td>Avatar</td>\n",
       "    </tr>\n",
       "    <tr>\n",
       "        <td>Gone with the Wind</td>\n",
       "    </tr>\n",
       "    <tr>\n",
       "        <td>Snow White</td>\n",
       "    </tr>\n",
       "    <tr>\n",
       "        <td>Star Wars</td>\n",
       "    </tr>\n",
       "    <tr>\n",
       "        <td>Titanic</td>\n",
       "    </tr>\n",
       "</table>"
      ],
      "text/plain": [
       "[(u'Avatar',),\n",
       " (u'Gone with the Wind',),\n",
       " (u'Snow White',),\n",
       " (u'Star Wars',),\n",
       " (u'Titanic',)]"
      ]
     },
     "execution_count": 58,
     "metadata": {},
     "output_type": "execute_result"
    }
   ],
   "source": [
    "%%sql\n",
    "select distinct title from Movie\n",
    "except\n",
    "select distinct title from Movie natural join Rating natural join Reviewer\n",
    "where name = 'Chris Jackson'"
   ]
  },
  {
   "cell_type": "markdown",
   "metadata": {},
   "source": [
    "For all pairs of reviewers such that both reviewers gave a rating to the same movie, return the names of both reviewers. Eliminate duplicates, don't pair reviewers with themselves, and include each pair only once. For each pair, return the names in the pair in alphabetical order. "
   ]
  },
  {
   "cell_type": "code",
   "execution_count": 61,
   "metadata": {
    "collapsed": false
   },
   "outputs": [
    {
     "name": "stdout",
     "output_type": "stream",
     "text": [
      "Done.\n"
     ]
    },
    {
     "data": {
      "text/html": [
       "<table>\n",
       "    <tr>\n",
       "        <th>name_1</th>\n",
       "        <th>name_2</th>\n",
       "    </tr>\n",
       "    <tr>\n",
       "        <td>Ashley White</td>\n",
       "        <td>Chris Jackson</td>\n",
       "    </tr>\n",
       "    <tr>\n",
       "        <td>Brittany Harris</td>\n",
       "        <td>Chris Jackson</td>\n",
       "    </tr>\n",
       "    <tr>\n",
       "        <td>Daniel Lewis</td>\n",
       "        <td>Elizabeth Thomas</td>\n",
       "    </tr>\n",
       "    <tr>\n",
       "        <td>Elizabeth Thomas</td>\n",
       "        <td>James Cameron</td>\n",
       "    </tr>\n",
       "    <tr>\n",
       "        <td>Mike Anderson</td>\n",
       "        <td>Sarah Martinez</td>\n",
       "    </tr>\n",
       "</table>"
      ],
      "text/plain": [
       "[(u'Ashley White', u'Chris Jackson'),\n",
       " (u'Brittany Harris', u'Chris Jackson'),\n",
       " (u'Daniel Lewis', u'Elizabeth Thomas'),\n",
       " (u'Elizabeth Thomas', u'James Cameron'),\n",
       " (u'Mike Anderson', u'Sarah Martinez')]"
      ]
     },
     "execution_count": 61,
     "metadata": {},
     "output_type": "execute_result"
    }
   ],
   "source": [
    "%%sql\n",
    "select distinct A1.name as name_1, A2.name as name_2 from\n",
    "(select * from Movie natural join Rating natural join Reviewer) A1, \n",
    "(select * from Movie natural join Rating natural join Reviewer) A2\n",
    "where A1.title = A2.title and A1.name < A2.name\n",
    "order by name_1"
   ]
  },
  {
   "cell_type": "markdown",
   "metadata": {},
   "source": [
    "For each rating that is the lowest (fewest stars) currently in the database, return the reviewer name, movie title, and number of stars. "
   ]
  },
  {
   "cell_type": "code",
   "execution_count": 63,
   "metadata": {
    "collapsed": false
   },
   "outputs": [
    {
     "name": "stdout",
     "output_type": "stream",
     "text": [
      "Done.\n"
     ]
    },
    {
     "data": {
      "text/html": [
       "<table>\n",
       "    <tr>\n",
       "        <th>name</th>\n",
       "        <th>title</th>\n",
       "        <th>stars</th>\n",
       "    </tr>\n",
       "    <tr>\n",
       "        <td>Sarah Martinez</td>\n",
       "        <td>Gone with the Wind</td>\n",
       "        <td>2</td>\n",
       "    </tr>\n",
       "    <tr>\n",
       "        <td>Brittany Harris</td>\n",
       "        <td>The Sound of Music</td>\n",
       "        <td>2</td>\n",
       "    </tr>\n",
       "    <tr>\n",
       "        <td>Brittany Harris</td>\n",
       "        <td>Raiders of the Lost Ark</td>\n",
       "        <td>2</td>\n",
       "    </tr>\n",
       "    <tr>\n",
       "        <td>Chris Jackson</td>\n",
       "        <td>E.T.</td>\n",
       "        <td>2</td>\n",
       "    </tr>\n",
       "</table>"
      ],
      "text/plain": [
       "[(u'Sarah Martinez', u'Gone with the Wind', 2),\n",
       " (u'Brittany Harris', u'The Sound of Music', 2),\n",
       " (u'Brittany Harris', u'Raiders of the Lost Ark', 2),\n",
       " (u'Chris Jackson', u'E.T.', 2)]"
      ]
     },
     "execution_count": 63,
     "metadata": {},
     "output_type": "execute_result"
    }
   ],
   "source": [
    "%%sql\n",
    "select name, title, stars from Movie natural join Rating natural join Reviewer\n",
    "where stars = (select min(stars) from Movie natural join Rating natural join Reviewer)"
   ]
  },
  {
   "cell_type": "markdown",
   "metadata": {},
   "source": [
    "List movie titles and average ratings, from highest-rated to lowest-rated. If two or more movies have the same average rating, list them in alphabetical order. "
   ]
  },
  {
   "cell_type": "code",
   "execution_count": 64,
   "metadata": {
    "collapsed": false
   },
   "outputs": [
    {
     "name": "stdout",
     "output_type": "stream",
     "text": [
      "Done.\n"
     ]
    },
    {
     "data": {
      "text/html": [
       "<table>\n",
       "    <tr>\n",
       "        <th>title</th>\n",
       "        <th>a</th>\n",
       "    </tr>\n",
       "    <tr>\n",
       "        <td>Snow White</td>\n",
       "        <td>4.5</td>\n",
       "    </tr>\n",
       "    <tr>\n",
       "        <td>Avatar</td>\n",
       "        <td>4.0</td>\n",
       "    </tr>\n",
       "    <tr>\n",
       "        <td>Raiders of the Lost Ark</td>\n",
       "        <td>3.33333333333</td>\n",
       "    </tr>\n",
       "    <tr>\n",
       "        <td>Gone with the Wind</td>\n",
       "        <td>3.0</td>\n",
       "    </tr>\n",
       "    <tr>\n",
       "        <td>E.T.</td>\n",
       "        <td>2.5</td>\n",
       "    </tr>\n",
       "    <tr>\n",
       "        <td>The Sound of Music</td>\n",
       "        <td>2.5</td>\n",
       "    </tr>\n",
       "</table>"
      ],
      "text/plain": [
       "[(u'Snow White', 4.5),\n",
       " (u'Avatar', 4.0),\n",
       " (u'Raiders of the Lost Ark', 3.3333333333333335),\n",
       " (u'Gone with the Wind', 3.0),\n",
       " (u'E.T.', 2.5),\n",
       " (u'The Sound of Music', 2.5)]"
      ]
     },
     "execution_count": 64,
     "metadata": {},
     "output_type": "execute_result"
    }
   ],
   "source": [
    "%%sql \n",
    "select title, avg(stars) as a from Movie natural join Rating natural join Reviewer\n",
    "group by title\n",
    "order by a desc, title asc"
   ]
  },
  {
   "cell_type": "markdown",
   "metadata": {},
   "source": [
    "Find the names of all reviewers who have contributed three or more ratings."
   ]
  },
  {
   "cell_type": "code",
   "execution_count": 65,
   "metadata": {
    "collapsed": false
   },
   "outputs": [
    {
     "name": "stdout",
     "output_type": "stream",
     "text": [
      "Done.\n"
     ]
    },
    {
     "data": {
      "text/html": [
       "<table>\n",
       "    <tr>\n",
       "        <th>name</th>\n",
       "    </tr>\n",
       "    <tr>\n",
       "        <td>Brittany Harris</td>\n",
       "    </tr>\n",
       "    <tr>\n",
       "        <td>Chris Jackson</td>\n",
       "    </tr>\n",
       "</table>"
      ],
      "text/plain": [
       "[(u'Brittany Harris',), (u'Chris Jackson',)]"
      ]
     },
     "execution_count": 65,
     "metadata": {},
     "output_type": "execute_result"
    }
   ],
   "source": [
    "%%sql\n",
    "select name from Movie natural join Rating natural join Reviewer\n",
    "group by name\n",
    "having count(*) >= 3"
   ]
  },
  {
   "cell_type": "markdown",
   "metadata": {},
   "source": [
    "Some directors directed more than one movie. For all such directors, return the titles of all movies directed by them, along with the director name. Sort by director name, then movie title. "
   ]
  },
  {
   "cell_type": "code",
   "execution_count": 66,
   "metadata": {
    "collapsed": false
   },
   "outputs": [
    {
     "name": "stdout",
     "output_type": "stream",
     "text": [
      "Done.\n"
     ]
    },
    {
     "data": {
      "text/html": [
       "<table>\n",
       "    <tr>\n",
       "        <th>title</th>\n",
       "        <th>director</th>\n",
       "    </tr>\n",
       "    <tr>\n",
       "        <td>Avatar</td>\n",
       "        <td>James Cameron</td>\n",
       "    </tr>\n",
       "    <tr>\n",
       "        <td>Titanic</td>\n",
       "        <td>James Cameron</td>\n",
       "    </tr>\n",
       "    <tr>\n",
       "        <td>E.T.</td>\n",
       "        <td>Steven Spielberg</td>\n",
       "    </tr>\n",
       "    <tr>\n",
       "        <td>Raiders of the Lost Ark</td>\n",
       "        <td>Steven Spielberg</td>\n",
       "    </tr>\n",
       "</table>"
      ],
      "text/plain": [
       "[(u'Avatar', u'James Cameron'),\n",
       " (u'Titanic', u'James Cameron'),\n",
       " (u'E.T.', u'Steven Spielberg'),\n",
       " (u'Raiders of the Lost Ark', u'Steven Spielberg')]"
      ]
     },
     "execution_count": 66,
     "metadata": {},
     "output_type": "execute_result"
    }
   ],
   "source": [
    "%%sql\n",
    "select title, director from Movie\n",
    "where director in\n",
    "(select director from Movie\n",
    "group by director\n",
    "having count(*) > 1)\n",
    "order by director, title"
   ]
  },
  {
   "cell_type": "markdown",
   "metadata": {},
   "source": [
    "Find the movie(s) with the highest average rating. Return the movie title(s) and average rating. "
   ]
  },
  {
   "cell_type": "code",
   "execution_count": 68,
   "metadata": {
    "collapsed": false
   },
   "outputs": [
    {
     "name": "stdout",
     "output_type": "stream",
     "text": [
      "Done.\n"
     ]
    },
    {
     "data": {
      "text/html": [
       "<table>\n",
       "    <tr>\n",
       "        <th>title</th>\n",
       "        <th>avg_rating</th>\n",
       "    </tr>\n",
       "    <tr>\n",
       "        <td>Snow White</td>\n",
       "        <td>4.5</td>\n",
       "    </tr>\n",
       "</table>"
      ],
      "text/plain": [
       "[(u'Snow White', 4.5)]"
      ]
     },
     "execution_count": 68,
     "metadata": {},
     "output_type": "execute_result"
    }
   ],
   "source": [
    "%%sql\n",
    "select title, a as avg_rating from\n",
    "(select title, avg(stars) as a from Movie natural join Reviewer natural join Rating\n",
    "group by title)\n",
    "where a = (select max(a) from (select avg(stars) as a from Movie natural join Reviewer natural join Rating\n",
    "group by title))"
   ]
  },
  {
   "cell_type": "markdown",
   "metadata": {},
   "source": [
    "Find the movie(s) with the lowest average rating. Return the movie title(s) and average rating. "
   ]
  },
  {
   "cell_type": "code",
   "execution_count": 70,
   "metadata": {
    "collapsed": false
   },
   "outputs": [
    {
     "name": "stdout",
     "output_type": "stream",
     "text": [
      "Done.\n"
     ]
    },
    {
     "data": {
      "text/html": [
       "<table>\n",
       "    <tr>\n",
       "        <th>title</th>\n",
       "        <th>avg_rating</th>\n",
       "    </tr>\n",
       "    <tr>\n",
       "        <td>E.T.</td>\n",
       "        <td>2.5</td>\n",
       "    </tr>\n",
       "    <tr>\n",
       "        <td>The Sound of Music</td>\n",
       "        <td>2.5</td>\n",
       "    </tr>\n",
       "</table>"
      ],
      "text/plain": [
       "[(u'E.T.', 2.5), (u'The Sound of Music', 2.5)]"
      ]
     },
     "execution_count": 70,
     "metadata": {},
     "output_type": "execute_result"
    }
   ],
   "source": [
    "%%sql\n",
    "select title, a as avg_rating from\n",
    "(select title, avg(stars) as a from \n",
    "Movie natural join Reviewer natural join Rating \n",
    "group by title)\n",
    "where a = (select min(a) from (select title, avg(stars) as a from \n",
    "Movie natural join Reviewer natural join Rating\n",
    "group by title))"
   ]
  },
  {
   "cell_type": "markdown",
   "metadata": {},
   "source": [
    "For each director, return the director's name together with the title(s) of the movie(s) they directed that received the highest rating among all of their movies, and the value of that rating. Ignore movies whose director is NULL. "
   ]
  },
  {
   "cell_type": "code",
   "execution_count": 72,
   "metadata": {
    "collapsed": false
   },
   "outputs": [
    {
     "name": "stdout",
     "output_type": "stream",
     "text": [
      "Done.\n"
     ]
    },
    {
     "data": {
      "text/html": [
       "<table>\n",
       "    <tr>\n",
       "        <th>director</th>\n",
       "        <th>title</th>\n",
       "        <th>highest_rating</th>\n",
       "    </tr>\n",
       "    <tr>\n",
       "        <td>James Cameron</td>\n",
       "        <td>Avatar</td>\n",
       "        <td>5</td>\n",
       "    </tr>\n",
       "    <tr>\n",
       "        <td>Robert Wise</td>\n",
       "        <td>The Sound of Music</td>\n",
       "        <td>3</td>\n",
       "    </tr>\n",
       "    <tr>\n",
       "        <td>Steven Spielberg</td>\n",
       "        <td>Raiders of the Lost Ark</td>\n",
       "        <td>4</td>\n",
       "    </tr>\n",
       "    <tr>\n",
       "        <td>Victor Fleming</td>\n",
       "        <td>Gone with the Wind</td>\n",
       "        <td>4</td>\n",
       "    </tr>\n",
       "</table>"
      ],
      "text/plain": [
       "[(u'James Cameron', u'Avatar', 5),\n",
       " (u'Robert Wise', u'The Sound of Music', 3),\n",
       " (u'Steven Spielberg', u'Raiders of the Lost Ark', 4),\n",
       " (u'Victor Fleming', u'Gone with the Wind', 4)]"
      ]
     },
     "execution_count": 72,
     "metadata": {},
     "output_type": "execute_result"
    }
   ],
   "source": [
    "%%sql\n",
    "select director, title, max(a) as highest_rating from\n",
    "(select title, director, max(stars) as a from Movie natural join Reviewer natural join Rating\n",
    "where director is not null\n",
    "group by title)\n",
    "group by director"
   ]
  },
  {
   "cell_type": "markdown",
   "metadata": {},
   "source": [
    "### Movie rating modifications"
   ]
  },
  {
   "cell_type": "markdown",
   "metadata": {},
   "source": [
    "Add the reviewer Roger Ebert to your database, with an rID of 209. "
   ]
  },
  {
   "cell_type": "code",
   "execution_count": 74,
   "metadata": {
    "collapsed": false
   },
   "outputs": [
    {
     "name": "stdout",
     "output_type": "stream",
     "text": [
      "1 rows affected.\n"
     ]
    },
    {
     "data": {
      "text/plain": [
       "[]"
      ]
     },
     "execution_count": 74,
     "metadata": {},
     "output_type": "execute_result"
    }
   ],
   "source": [
    "%%sql\n",
    "insert into Reviewer values (209, 'Roger Ebert')"
   ]
  },
  {
   "cell_type": "code",
   "execution_count": 75,
   "metadata": {
    "collapsed": false
   },
   "outputs": [
    {
     "name": "stdout",
     "output_type": "stream",
     "text": [
      "Done.\n"
     ]
    },
    {
     "data": {
      "text/html": [
       "<table>\n",
       "    <tr>\n",
       "        <th>rID</th>\n",
       "        <th>name</th>\n",
       "    </tr>\n",
       "    <tr>\n",
       "        <td>201</td>\n",
       "        <td>Sarah Martinez</td>\n",
       "    </tr>\n",
       "    <tr>\n",
       "        <td>202</td>\n",
       "        <td>Daniel Lewis</td>\n",
       "    </tr>\n",
       "    <tr>\n",
       "        <td>203</td>\n",
       "        <td>Brittany Harris</td>\n",
       "    </tr>\n",
       "    <tr>\n",
       "        <td>204</td>\n",
       "        <td>Mike Anderson</td>\n",
       "    </tr>\n",
       "    <tr>\n",
       "        <td>205</td>\n",
       "        <td>Chris Jackson</td>\n",
       "    </tr>\n",
       "    <tr>\n",
       "        <td>206</td>\n",
       "        <td>Elizabeth Thomas</td>\n",
       "    </tr>\n",
       "    <tr>\n",
       "        <td>207</td>\n",
       "        <td>James Cameron</td>\n",
       "    </tr>\n",
       "    <tr>\n",
       "        <td>208</td>\n",
       "        <td>Ashley White</td>\n",
       "    </tr>\n",
       "    <tr>\n",
       "        <td>209</td>\n",
       "        <td>Roger Ebert</td>\n",
       "    </tr>\n",
       "</table>"
      ],
      "text/plain": [
       "[(201, u'Sarah Martinez'),\n",
       " (202, u'Daniel Lewis'),\n",
       " (203, u'Brittany Harris'),\n",
       " (204, u'Mike Anderson'),\n",
       " (205, u'Chris Jackson'),\n",
       " (206, u'Elizabeth Thomas'),\n",
       " (207, u'James Cameron'),\n",
       " (208, u'Ashley White'),\n",
       " (209, u'Roger Ebert')]"
      ]
     },
     "execution_count": 75,
     "metadata": {},
     "output_type": "execute_result"
    }
   ],
   "source": [
    "%%sql\n",
    "select * from Reviewer order by rID, name"
   ]
  },
  {
   "cell_type": "markdown",
   "metadata": {},
   "source": [
    "Insert 5-star ratings by James Cameron for all movies in the database. Leave the review date as NULL. "
   ]
  },
  {
   "cell_type": "code",
   "execution_count": 76,
   "metadata": {
    "collapsed": false
   },
   "outputs": [
    {
     "name": "stdout",
     "output_type": "stream",
     "text": [
      "8 rows affected.\n"
     ]
    },
    {
     "data": {
      "text/plain": [
       "[]"
      ]
     },
     "execution_count": 76,
     "metadata": {},
     "output_type": "execute_result"
    }
   ],
   "source": [
    "%%sql\n",
    "insert into Rating\n",
    "select 207, mID, 5, null\n",
    "from Movie"
   ]
  },
  {
   "cell_type": "code",
   "execution_count": 77,
   "metadata": {
    "collapsed": false
   },
   "outputs": [
    {
     "name": "stdout",
     "output_type": "stream",
     "text": [
      "Done.\n"
     ]
    },
    {
     "data": {
      "text/html": [
       "<table>\n",
       "    <tr>\n",
       "        <th>rID</th>\n",
       "        <th>mID</th>\n",
       "        <th>stars</th>\n",
       "        <th>ratingDate</th>\n",
       "    </tr>\n",
       "    <tr>\n",
       "        <td>206</td>\n",
       "        <td>106</td>\n",
       "        <td>5</td>\n",
       "        <td>2011-01-19</td>\n",
       "    </tr>\n",
       "    <tr>\n",
       "        <td>207</td>\n",
       "        <td>101</td>\n",
       "        <td>5</td>\n",
       "        <td>None</td>\n",
       "    </tr>\n",
       "    <tr>\n",
       "        <td>207</td>\n",
       "        <td>102</td>\n",
       "        <td>5</td>\n",
       "        <td>None</td>\n",
       "    </tr>\n",
       "    <tr>\n",
       "        <td>207</td>\n",
       "        <td>103</td>\n",
       "        <td>5</td>\n",
       "        <td>None</td>\n",
       "    </tr>\n",
       "    <tr>\n",
       "        <td>207</td>\n",
       "        <td>104</td>\n",
       "        <td>5</td>\n",
       "        <td>None</td>\n",
       "    </tr>\n",
       "    <tr>\n",
       "        <td>207</td>\n",
       "        <td>105</td>\n",
       "        <td>5</td>\n",
       "        <td>None</td>\n",
       "    </tr>\n",
       "    <tr>\n",
       "        <td>207</td>\n",
       "        <td>106</td>\n",
       "        <td>5</td>\n",
       "        <td>None</td>\n",
       "    </tr>\n",
       "    <tr>\n",
       "        <td>207</td>\n",
       "        <td>107</td>\n",
       "        <td>5</td>\n",
       "        <td>2011-01-20</td>\n",
       "    </tr>\n",
       "    <tr>\n",
       "        <td>207</td>\n",
       "        <td>107</td>\n",
       "        <td>5</td>\n",
       "        <td>None</td>\n",
       "    </tr>\n",
       "    <tr>\n",
       "        <td>207</td>\n",
       "        <td>108</td>\n",
       "        <td>5</td>\n",
       "        <td>None</td>\n",
       "    </tr>\n",
       "</table>"
      ],
      "text/plain": [
       "[(206, 106, 5, u'2011-01-19'),\n",
       " (207, 101, 5, None),\n",
       " (207, 102, 5, None),\n",
       " (207, 103, 5, None),\n",
       " (207, 104, 5, None),\n",
       " (207, 105, 5, None),\n",
       " (207, 106, 5, None),\n",
       " (207, 107, 5, u'2011-01-20'),\n",
       " (207, 107, 5, None),\n",
       " (207, 108, 5, None)]"
      ]
     },
     "execution_count": 77,
     "metadata": {},
     "output_type": "execute_result"
    }
   ],
   "source": [
    "%%sql\n",
    "select * from Rating where stars = 5 order by rID, mID"
   ]
  },
  {
   "cell_type": "markdown",
   "metadata": {},
   "source": [
    "For all movies that have an average rating of 4 stars or higher, add 25 to the release year. "
   ]
  },
  {
   "cell_type": "code",
   "execution_count": 78,
   "metadata": {
    "collapsed": false
   },
   "outputs": [
    {
     "name": "stdout",
     "output_type": "stream",
     "text": [
      "4 rows affected.\n"
     ]
    },
    {
     "data": {
      "text/plain": [
       "[]"
      ]
     },
     "execution_count": 78,
     "metadata": {},
     "output_type": "execute_result"
    }
   ],
   "source": [
    "%%sql\n",
    "update Movie\n",
    "set year = year + 25 \n",
    "where mID in\n",
    "(select mID from Rating\n",
    "group by mID\n",
    "having avg(stars) >= 4)"
   ]
  },
  {
   "cell_type": "code",
   "execution_count": 79,
   "metadata": {
    "collapsed": false
   },
   "outputs": [
    {
     "name": "stdout",
     "output_type": "stream",
     "text": [
      "Done.\n"
     ]
    },
    {
     "data": {
      "text/html": [
       "<table>\n",
       "    <tr>\n",
       "        <th>mID</th>\n",
       "        <th>title</th>\n",
       "        <th>year</th>\n",
       "        <th>director</th>\n",
       "    </tr>\n",
       "    <tr>\n",
       "        <td>101</td>\n",
       "        <td>Gone with the Wind</td>\n",
       "        <td>1939</td>\n",
       "        <td>Victor Fleming</td>\n",
       "    </tr>\n",
       "    <tr>\n",
       "        <td>102</td>\n",
       "        <td>Star Wars</td>\n",
       "        <td>2002</td>\n",
       "        <td>George Lucas</td>\n",
       "    </tr>\n",
       "    <tr>\n",
       "        <td>103</td>\n",
       "        <td>The Sound of Music</td>\n",
       "        <td>1965</td>\n",
       "        <td>Robert Wise</td>\n",
       "    </tr>\n",
       "    <tr>\n",
       "        <td>104</td>\n",
       "        <td>E.T.</td>\n",
       "        <td>1982</td>\n",
       "        <td>Steven Spielberg</td>\n",
       "    </tr>\n",
       "    <tr>\n",
       "        <td>105</td>\n",
       "        <td>Titanic</td>\n",
       "        <td>2022</td>\n",
       "        <td>James Cameron</td>\n",
       "    </tr>\n",
       "    <tr>\n",
       "        <td>106</td>\n",
       "        <td>Snow White</td>\n",
       "        <td>1962</td>\n",
       "        <td>None</td>\n",
       "    </tr>\n",
       "    <tr>\n",
       "        <td>107</td>\n",
       "        <td>Avatar</td>\n",
       "        <td>2034</td>\n",
       "        <td>James Cameron</td>\n",
       "    </tr>\n",
       "    <tr>\n",
       "        <td>108</td>\n",
       "        <td>Raiders of the Lost Ark</td>\n",
       "        <td>1981</td>\n",
       "        <td>Steven Spielberg</td>\n",
       "    </tr>\n",
       "</table>"
      ],
      "text/plain": [
       "[(101, u'Gone with the Wind', 1939, u'Victor Fleming'),\n",
       " (102, u'Star Wars', 2002, u'George Lucas'),\n",
       " (103, u'The Sound of Music', 1965, u'Robert Wise'),\n",
       " (104, u'E.T.', 1982, u'Steven Spielberg'),\n",
       " (105, u'Titanic', 2022, u'James Cameron'),\n",
       " (106, u'Snow White', 1962, None),\n",
       " (107, u'Avatar', 2034, u'James Cameron'),\n",
       " (108, u'Raiders of the Lost Ark', 1981, u'Steven Spielberg')]"
      ]
     },
     "execution_count": 79,
     "metadata": {},
     "output_type": "execute_result"
    }
   ],
   "source": [
    "%%sql\n",
    "select * from Movie order by mID"
   ]
  },
  {
   "cell_type": "markdown",
   "metadata": {},
   "source": [
    "Remove all ratings where the movie's year is before 1970 or after 2000, and the rating is fewer than 4 stars. "
   ]
  },
  {
   "cell_type": "code",
   "execution_count": 80,
   "metadata": {
    "collapsed": false
   },
   "outputs": [
    {
     "name": "stdout",
     "output_type": "stream",
     "text": [
      "5 rows affected.\n"
     ]
    },
    {
     "data": {
      "text/plain": [
       "[]"
      ]
     },
     "execution_count": 80,
     "metadata": {},
     "output_type": "execute_result"
    }
   ],
   "source": [
    "%%sql\n",
    "delete from Rating\n",
    "where exists\n",
    "(select * from\n",
    "(select * from Rating join Movie using (mID)\n",
    "where (year < 1970 or year > 2000) and stars < 4) A\n",
    "where Rating.mID = A.mID and Rating.rID = A.rID and Rating.stars = A.stars and Rating.ratingDate = A.ratingDate)"
   ]
  },
  {
   "cell_type": "code",
   "execution_count": 81,
   "metadata": {
    "collapsed": false
   },
   "outputs": [
    {
     "name": "stdout",
     "output_type": "stream",
     "text": [
      "Done.\n"
     ]
    },
    {
     "data": {
      "text/html": [
       "<table>\n",
       "    <tr>\n",
       "        <th>rID</th>\n",
       "        <th>mID</th>\n",
       "        <th>stars</th>\n",
       "        <th>title</th>\n",
       "        <th>year</th>\n",
       "    </tr>\n",
       "    <tr>\n",
       "        <td>201</td>\n",
       "        <td>101</td>\n",
       "        <td>4</td>\n",
       "        <td>Gone with the Wind</td>\n",
       "        <td>1939</td>\n",
       "    </tr>\n",
       "    <tr>\n",
       "        <td>202</td>\n",
       "        <td>106</td>\n",
       "        <td>4</td>\n",
       "        <td>Snow White</td>\n",
       "        <td>1962</td>\n",
       "    </tr>\n",
       "    <tr>\n",
       "        <td>203</td>\n",
       "        <td>108</td>\n",
       "        <td>4</td>\n",
       "        <td>Raiders of the Lost Ark</td>\n",
       "        <td>1981</td>\n",
       "    </tr>\n",
       "    <tr>\n",
       "        <td>203</td>\n",
       "        <td>108</td>\n",
       "        <td>2</td>\n",
       "        <td>Raiders of the Lost Ark</td>\n",
       "        <td>1981</td>\n",
       "    </tr>\n",
       "    <tr>\n",
       "        <td>205</td>\n",
       "        <td>104</td>\n",
       "        <td>2</td>\n",
       "        <td>E.T.</td>\n",
       "        <td>1982</td>\n",
       "    </tr>\n",
       "    <tr>\n",
       "        <td>205</td>\n",
       "        <td>108</td>\n",
       "        <td>4</td>\n",
       "        <td>Raiders of the Lost Ark</td>\n",
       "        <td>1981</td>\n",
       "    </tr>\n",
       "    <tr>\n",
       "        <td>206</td>\n",
       "        <td>106</td>\n",
       "        <td>5</td>\n",
       "        <td>Snow White</td>\n",
       "        <td>1962</td>\n",
       "    </tr>\n",
       "    <tr>\n",
       "        <td>207</td>\n",
       "        <td>101</td>\n",
       "        <td>5</td>\n",
       "        <td>Gone with the Wind</td>\n",
       "        <td>1939</td>\n",
       "    </tr>\n",
       "    <tr>\n",
       "        <td>207</td>\n",
       "        <td>102</td>\n",
       "        <td>5</td>\n",
       "        <td>Star Wars</td>\n",
       "        <td>2002</td>\n",
       "    </tr>\n",
       "    <tr>\n",
       "        <td>207</td>\n",
       "        <td>103</td>\n",
       "        <td>5</td>\n",
       "        <td>The Sound of Music</td>\n",
       "        <td>1965</td>\n",
       "    </tr>\n",
       "    <tr>\n",
       "        <td>207</td>\n",
       "        <td>104</td>\n",
       "        <td>5</td>\n",
       "        <td>E.T.</td>\n",
       "        <td>1982</td>\n",
       "    </tr>\n",
       "    <tr>\n",
       "        <td>207</td>\n",
       "        <td>105</td>\n",
       "        <td>5</td>\n",
       "        <td>Titanic</td>\n",
       "        <td>2022</td>\n",
       "    </tr>\n",
       "    <tr>\n",
       "        <td>207</td>\n",
       "        <td>106</td>\n",
       "        <td>5</td>\n",
       "        <td>Snow White</td>\n",
       "        <td>1962</td>\n",
       "    </tr>\n",
       "    <tr>\n",
       "        <td>207</td>\n",
       "        <td>107</td>\n",
       "        <td>5</td>\n",
       "        <td>Avatar</td>\n",
       "        <td>2034</td>\n",
       "    </tr>\n",
       "    <tr>\n",
       "        <td>207</td>\n",
       "        <td>107</td>\n",
       "        <td>5</td>\n",
       "        <td>Avatar</td>\n",
       "        <td>2034</td>\n",
       "    </tr>\n",
       "    <tr>\n",
       "        <td>207</td>\n",
       "        <td>108</td>\n",
       "        <td>5</td>\n",
       "        <td>Raiders of the Lost Ark</td>\n",
       "        <td>1981</td>\n",
       "    </tr>\n",
       "    <tr>\n",
       "        <td>208</td>\n",
       "        <td>104</td>\n",
       "        <td>3</td>\n",
       "        <td>E.T.</td>\n",
       "        <td>1982</td>\n",
       "    </tr>\n",
       "</table>"
      ],
      "text/plain": [
       "[(201, 101, 4, u'Gone with the Wind', 1939),\n",
       " (202, 106, 4, u'Snow White', 1962),\n",
       " (203, 108, 4, u'Raiders of the Lost Ark', 1981),\n",
       " (203, 108, 2, u'Raiders of the Lost Ark', 1981),\n",
       " (205, 104, 2, u'E.T.', 1982),\n",
       " (205, 108, 4, u'Raiders of the Lost Ark', 1981),\n",
       " (206, 106, 5, u'Snow White', 1962),\n",
       " (207, 101, 5, u'Gone with the Wind', 1939),\n",
       " (207, 102, 5, u'Star Wars', 2002),\n",
       " (207, 103, 5, u'The Sound of Music', 1965),\n",
       " (207, 104, 5, u'E.T.', 1982),\n",
       " (207, 105, 5, u'Titanic', 2022),\n",
       " (207, 106, 5, u'Snow White', 1962),\n",
       " (207, 107, 5, u'Avatar', 2034),\n",
       " (207, 107, 5, u'Avatar', 2034),\n",
       " (207, 108, 5, u'Raiders of the Lost Ark', 1981),\n",
       " (208, 104, 3, u'E.T.', 1982)]"
      ]
     },
     "execution_count": 81,
     "metadata": {},
     "output_type": "execute_result"
    }
   ],
   "source": [
    "%%sql\n",
    "select R.rID, R.mID, R.stars, M.title, M.year from Rating R join Movie M on (R.mID = M.mID) order by R.rID, R.mID"
   ]
  },
  {
   "cell_type": "markdown",
   "metadata": {},
   "source": [
    "### Connect to social.db and do some queries"
   ]
  },
  {
   "cell_type": "code",
   "execution_count": 82,
   "metadata": {
    "collapsed": false
   },
   "outputs": [
    {
     "data": {
      "text/plain": [
       "u'Connected: None@social.db'"
      ]
     },
     "execution_count": 82,
     "metadata": {},
     "output_type": "execute_result"
    }
   ],
   "source": [
    "%sql sqlite:///social.db"
   ]
  },
  {
   "cell_type": "code",
   "execution_count": 83,
   "metadata": {
    "collapsed": false
   },
   "outputs": [
    {
     "name": "stdout",
     "output_type": "stream",
     "text": [
      "Done.\n"
     ]
    },
    {
     "data": {
      "text/html": [
       "<table>\n",
       "    <tr>\n",
       "        <th>type</th>\n",
       "        <th>name</th>\n",
       "        <th>tbl_name</th>\n",
       "        <th>rootpage</th>\n",
       "        <th>sql</th>\n",
       "    </tr>\n",
       "    <tr>\n",
       "        <td>table</td>\n",
       "        <td>Highschooler</td>\n",
       "        <td>Highschooler</td>\n",
       "        <td>2</td>\n",
       "        <td>CREATE TABLE Highschooler(ID int, name text, grade int)</td>\n",
       "    </tr>\n",
       "    <tr>\n",
       "        <td>table</td>\n",
       "        <td>Friend</td>\n",
       "        <td>Friend</td>\n",
       "        <td>3</td>\n",
       "        <td>CREATE TABLE Friend(ID1 int, ID2 int)</td>\n",
       "    </tr>\n",
       "    <tr>\n",
       "        <td>table</td>\n",
       "        <td>Likes</td>\n",
       "        <td>Likes</td>\n",
       "        <td>4</td>\n",
       "        <td>CREATE TABLE Likes(ID1 int, ID2 int)</td>\n",
       "    </tr>\n",
       "</table>"
      ],
      "text/plain": [
       "[(u'table', u'Highschooler', u'Highschooler', 2, u'CREATE TABLE Highschooler(ID int, name text, grade int)'),\n",
       " (u'table', u'Friend', u'Friend', 3, u'CREATE TABLE Friend(ID1 int, ID2 int)'),\n",
       " (u'table', u'Likes', u'Likes', 4, u'CREATE TABLE Likes(ID1 int, ID2 int)')]"
      ]
     },
     "execution_count": 83,
     "metadata": {},
     "output_type": "execute_result"
    }
   ],
   "source": [
    "%sql select * from sqlite_master"
   ]
  },
  {
   "cell_type": "code",
   "execution_count": 84,
   "metadata": {
    "collapsed": false
   },
   "outputs": [
    {
     "name": "stdout",
     "output_type": "stream",
     "text": [
      "Done.\n"
     ]
    },
    {
     "data": {
      "text/html": [
       "<table>\n",
       "    <tr>\n",
       "        <th>ID</th>\n",
       "        <th>name</th>\n",
       "        <th>grade</th>\n",
       "    </tr>\n",
       "    <tr>\n",
       "        <td>1510</td>\n",
       "        <td>Jordan</td>\n",
       "        <td>9</td>\n",
       "    </tr>\n",
       "</table>"
      ],
      "text/plain": [
       "[(1510, u'Jordan', 9)]"
      ]
     },
     "execution_count": 84,
     "metadata": {},
     "output_type": "execute_result"
    }
   ],
   "source": [
    "%sql select * from Highschooler limit 1"
   ]
  },
  {
   "cell_type": "code",
   "execution_count": 85,
   "metadata": {
    "collapsed": false
   },
   "outputs": [
    {
     "name": "stdout",
     "output_type": "stream",
     "text": [
      "Done.\n"
     ]
    },
    {
     "data": {
      "text/html": [
       "<table>\n",
       "    <tr>\n",
       "        <th>ID1</th>\n",
       "        <th>ID2</th>\n",
       "    </tr>\n",
       "    <tr>\n",
       "        <td>1510</td>\n",
       "        <td>1381</td>\n",
       "    </tr>\n",
       "</table>"
      ],
      "text/plain": [
       "[(1510, 1381)]"
      ]
     },
     "execution_count": 85,
     "metadata": {},
     "output_type": "execute_result"
    }
   ],
   "source": [
    "%sql select * from Friend limit 1"
   ]
  },
  {
   "cell_type": "code",
   "execution_count": 86,
   "metadata": {
    "collapsed": false
   },
   "outputs": [
    {
     "name": "stdout",
     "output_type": "stream",
     "text": [
      "Done.\n"
     ]
    },
    {
     "data": {
      "text/html": [
       "<table>\n",
       "    <tr>\n",
       "        <th>ID1</th>\n",
       "        <th>ID2</th>\n",
       "    </tr>\n",
       "    <tr>\n",
       "        <td>1689</td>\n",
       "        <td>1709</td>\n",
       "    </tr>\n",
       "</table>"
      ],
      "text/plain": [
       "[(1689, 1709)]"
      ]
     },
     "execution_count": 86,
     "metadata": {},
     "output_type": "execute_result"
    }
   ],
   "source": [
    "%sql select * from Likes limit 1"
   ]
  },
  {
   "cell_type": "markdown",
   "metadata": {},
   "source": [
    "Find the names of all students who are friends with someone named Gabriel. "
   ]
  },
  {
   "cell_type": "code",
   "execution_count": 88,
   "metadata": {
    "collapsed": false
   },
   "outputs": [
    {
     "name": "stdout",
     "output_type": "stream",
     "text": [
      "Done.\n"
     ]
    },
    {
     "data": {
      "text/html": [
       "<table>\n",
       "    <tr>\n",
       "        <th>name</th>\n",
       "    </tr>\n",
       "    <tr>\n",
       "        <td>Jordan</td>\n",
       "    </tr>\n",
       "    <tr>\n",
       "        <td>Cassandra</td>\n",
       "    </tr>\n",
       "    <tr>\n",
       "        <td>Andrew</td>\n",
       "    </tr>\n",
       "    <tr>\n",
       "        <td>Alexis</td>\n",
       "    </tr>\n",
       "    <tr>\n",
       "        <td>Jessica</td>\n",
       "    </tr>\n",
       "</table>"
      ],
      "text/plain": [
       "[(u'Jordan',), (u'Cassandra',), (u'Andrew',), (u'Alexis',), (u'Jessica',)]"
      ]
     },
     "execution_count": 88,
     "metadata": {},
     "output_type": "execute_result"
    }
   ],
   "source": [
    "%%sql\n",
    "select n as name from\n",
    "(select ID as i, name as n, grade as g, ID1, ID2 from Highschooler join Friend on ID = ID1) \n",
    "join Highschooler on ID2 = Highschooler.ID\n",
    "where name = 'Gabriel'"
   ]
  },
  {
   "cell_type": "markdown",
   "metadata": {},
   "source": [
    "For every student who likes someone 2 or more grades younger than themselves, return that student's name and grade, and the name and grade of the student they like. "
   ]
  },
  {
   "cell_type": "code",
   "execution_count": 97,
   "metadata": {
    "collapsed": false
   },
   "outputs": [
    {
     "name": "stdout",
     "output_type": "stream",
     "text": [
      "Done.\n"
     ]
    },
    {
     "data": {
      "text/html": [
       "<table>\n",
       "    <tr>\n",
       "        <th>n</th>\n",
       "        <th>g</th>\n",
       "        <th>name</th>\n",
       "        <th>grade</th>\n",
       "    </tr>\n",
       "    <tr>\n",
       "        <td>John</td>\n",
       "        <td>12</td>\n",
       "        <td>Haley</td>\n",
       "        <td>10</td>\n",
       "    </tr>\n",
       "</table>"
      ],
      "text/plain": [
       "[(u'John', 12, u'Haley', 10)]"
      ]
     },
     "execution_count": 97,
     "metadata": {},
     "output_type": "execute_result"
    }
   ],
   "source": [
    "%%sql\n",
    "select n, g, name, grade from\n",
    "(select ID as i, name as n, grade as g, ID1, ID2 from Highschooler join Likes on ID = ID1) \n",
    "join Highschooler on ID2 = Highschooler.ID\n",
    "where g - grade >= 2"
   ]
  },
  {
   "cell_type": "markdown",
   "metadata": {},
   "source": [
    "For every pair of students who both like each other, return the name and grade of both students. Include each pair only once, with the two names in alphabetical order. "
   ]
  },
  {
   "cell_type": "code",
   "execution_count": 98,
   "metadata": {
    "collapsed": false
   },
   "outputs": [
    {
     "name": "stdout",
     "output_type": "stream",
     "text": [
      "Done.\n"
     ]
    },
    {
     "data": {
      "text/html": [
       "<table>\n",
       "    <tr>\n",
       "        <th>n</th>\n",
       "        <th>g</th>\n",
       "        <th>name</th>\n",
       "        <th>grade</th>\n",
       "    </tr>\n",
       "    <tr>\n",
       "        <td>Cassandra</td>\n",
       "        <td>9</td>\n",
       "        <td>Gabriel</td>\n",
       "        <td>9</td>\n",
       "    </tr>\n",
       "    <tr>\n",
       "        <td>Jessica</td>\n",
       "        <td>11</td>\n",
       "        <td>Kyle</td>\n",
       "        <td>12</td>\n",
       "    </tr>\n",
       "</table>"
      ],
      "text/plain": [
       "[(u'Cassandra', 9, u'Gabriel', 9), (u'Jessica', 11, u'Kyle', 12)]"
      ]
     },
     "execution_count": 98,
     "metadata": {},
     "output_type": "execute_result"
    }
   ],
   "source": [
    "%%sql\n",
    "select * from\n",
    "(select n, g, name, grade from\n",
    "(select ID as i, name as n, grade as g, ID1, ID2 from Highschooler join Likes on ID = ID1) join Highschooler on ID2 = Highschooler.ID\n",
    "intersect\n",
    "select name, grade, n, g from\n",
    "(select ID as i, name as n, grade as g, ID1, ID2 from Highschooler join Likes on ID = ID1) join Highschooler on ID2 = Highschooler.ID)\n",
    "where n < name"
   ]
  },
  {
   "cell_type": "markdown",
   "metadata": {},
   "source": [
    "Find all students who do not appear in the Likes table (as a student who likes or is liked) and return their names and grades. Sort by grade, then by name within each grade. "
   ]
  },
  {
   "cell_type": "code",
   "execution_count": 99,
   "metadata": {
    "collapsed": false
   },
   "outputs": [
    {
     "name": "stdout",
     "output_type": "stream",
     "text": [
      "Done.\n"
     ]
    },
    {
     "data": {
      "text/html": [
       "<table>\n",
       "    <tr>\n",
       "        <th>name</th>\n",
       "        <th>grade</th>\n",
       "    </tr>\n",
       "    <tr>\n",
       "        <td>Jordan</td>\n",
       "        <td>9</td>\n",
       "    </tr>\n",
       "    <tr>\n",
       "        <td>Tiffany</td>\n",
       "        <td>9</td>\n",
       "    </tr>\n",
       "    <tr>\n",
       "        <td>Logan</td>\n",
       "        <td>12</td>\n",
       "    </tr>\n",
       "</table>"
      ],
      "text/plain": [
       "[(u'Jordan', 9), (u'Tiffany', 9), (u'Logan', 12)]"
      ]
     },
     "execution_count": 99,
     "metadata": {},
     "output_type": "execute_result"
    }
   ],
   "source": [
    "%%sql\n",
    "select name, grade from Highschooler where ID not in\n",
    "(select ID1 from Likes\n",
    "union\n",
    "select ID2 from Likes)\n",
    "order by grade, name"
   ]
  },
  {
   "cell_type": "markdown",
   "metadata": {},
   "source": [
    "For every situation where student A likes student B, but we have no information about whom B likes (that is, B does not appear as an ID1 in the Likes table), return A and B's names and grades. "
   ]
  },
  {
   "cell_type": "code",
   "execution_count": 100,
   "metadata": {
    "collapsed": false
   },
   "outputs": [
    {
     "name": "stdout",
     "output_type": "stream",
     "text": [
      "Done.\n"
     ]
    },
    {
     "data": {
      "text/html": [
       "<table>\n",
       "    <tr>\n",
       "        <th>n</th>\n",
       "        <th>g</th>\n",
       "        <th>name</th>\n",
       "        <th>grade</th>\n",
       "    </tr>\n",
       "    <tr>\n",
       "        <td>Alexis</td>\n",
       "        <td>11</td>\n",
       "        <td>Kris</td>\n",
       "        <td>10</td>\n",
       "    </tr>\n",
       "    <tr>\n",
       "        <td>Brittany</td>\n",
       "        <td>10</td>\n",
       "        <td>Kris</td>\n",
       "        <td>10</td>\n",
       "    </tr>\n",
       "    <tr>\n",
       "        <td>Austin</td>\n",
       "        <td>11</td>\n",
       "        <td>Jordan</td>\n",
       "        <td>12</td>\n",
       "    </tr>\n",
       "    <tr>\n",
       "        <td>John</td>\n",
       "        <td>12</td>\n",
       "        <td>Haley</td>\n",
       "        <td>10</td>\n",
       "    </tr>\n",
       "</table>"
      ],
      "text/plain": [
       "[(u'Alexis', 11, u'Kris', 10),\n",
       " (u'Brittany', 10, u'Kris', 10),\n",
       " (u'Austin', 11, u'Jordan', 12),\n",
       " (u'John', 12, u'Haley', 10)]"
      ]
     },
     "execution_count": 100,
     "metadata": {},
     "output_type": "execute_result"
    }
   ],
   "source": [
    "%%sql\n",
    "select n, g, name, grade from\n",
    "(select ID as i, name as n, grade as g, ID1, ID2 from Highschooler join Likes on ID = ID1) join Highschooler on ID2 = Highschooler.ID\n",
    "where ID2 not in (select ID1 from Likes)"
   ]
  },
  {
   "cell_type": "markdown",
   "metadata": {},
   "source": [
    "Find names and grades of students who only have friends in the same grade. Return the result sorted by grade, then by name within each grade. "
   ]
  },
  {
   "cell_type": "code",
   "execution_count": 101,
   "metadata": {
    "collapsed": false
   },
   "outputs": [
    {
     "name": "stdout",
     "output_type": "stream",
     "text": [
      "Done.\n"
     ]
    },
    {
     "data": {
      "text/html": [
       "<table>\n",
       "    <tr>\n",
       "        <th>n</th>\n",
       "        <th>g</th>\n",
       "    </tr>\n",
       "    <tr>\n",
       "        <td>Jordan</td>\n",
       "        <td>9</td>\n",
       "    </tr>\n",
       "    <tr>\n",
       "        <td>Brittany</td>\n",
       "        <td>10</td>\n",
       "    </tr>\n",
       "    <tr>\n",
       "        <td>Haley</td>\n",
       "        <td>10</td>\n",
       "    </tr>\n",
       "    <tr>\n",
       "        <td>Kris</td>\n",
       "        <td>10</td>\n",
       "    </tr>\n",
       "    <tr>\n",
       "        <td>Gabriel</td>\n",
       "        <td>11</td>\n",
       "    </tr>\n",
       "    <tr>\n",
       "        <td>John</td>\n",
       "        <td>12</td>\n",
       "    </tr>\n",
       "    <tr>\n",
       "        <td>Logan</td>\n",
       "        <td>12</td>\n",
       "    </tr>\n",
       "</table>"
      ],
      "text/plain": [
       "[(u'Jordan', 9),\n",
       " (u'Brittany', 10),\n",
       " (u'Haley', 10),\n",
       " (u'Kris', 10),\n",
       " (u'Gabriel', 11),\n",
       " (u'John', 12),\n",
       " (u'Logan', 12)]"
      ]
     },
     "execution_count": 101,
     "metadata": {},
     "output_type": "execute_result"
    }
   ],
   "source": [
    "%%sql\n",
    "select n, g from\n",
    "(select ID as i, name as n, grade as g, ID1, ID2 from Highschooler join Friend on ID = ID1) join Highschooler on ID2 = Highschooler.ID\n",
    "group by i\n",
    "having max(grade) = min(grade)\n",
    "order by g, n"
   ]
  },
  {
   "cell_type": "markdown",
   "metadata": {},
   "source": [
    "For each student A who likes a student B where the two are not friends, find if they have a friend C in common (who can introduce them!). For all such trios, return the name and grade of A, B, and C."
   ]
  },
  {
   "cell_type": "code",
   "execution_count": 102,
   "metadata": {
    "collapsed": false
   },
   "outputs": [
    {
     "name": "stdout",
     "output_type": "stream",
     "text": [
      "Done.\n"
     ]
    },
    {
     "data": {
      "text/html": [
       "<table>\n",
       "    <tr>\n",
       "        <th>name</th>\n",
       "        <th>grade</th>\n",
       "        <th>name_1</th>\n",
       "        <th>grade_1</th>\n",
       "        <th>name_2</th>\n",
       "        <th>grade_2</th>\n",
       "    </tr>\n",
       "    <tr>\n",
       "        <td>Austin</td>\n",
       "        <td>11</td>\n",
       "        <td>Jordan</td>\n",
       "        <td>12</td>\n",
       "        <td>Kyle</td>\n",
       "        <td>12</td>\n",
       "    </tr>\n",
       "    <tr>\n",
       "        <td>Andrew</td>\n",
       "        <td>10</td>\n",
       "        <td>Cassandra</td>\n",
       "        <td>9</td>\n",
       "        <td>Gabriel</td>\n",
       "        <td>9</td>\n",
       "    </tr>\n",
       "    <tr>\n",
       "        <td>Austin</td>\n",
       "        <td>11</td>\n",
       "        <td>Jordan</td>\n",
       "        <td>12</td>\n",
       "        <td>Andrew</td>\n",
       "        <td>10</td>\n",
       "    </tr>\n",
       "</table>"
      ],
      "text/plain": [
       "[(u'Austin', 11, u'Jordan', 12, u'Kyle', 12),\n",
       " (u'Andrew', 10, u'Cassandra', 9, u'Gabriel', 9),\n",
       " (u'Austin', 11, u'Jordan', 12, u'Andrew', 10)]"
      ]
     },
     "execution_count": 102,
     "metadata": {},
     "output_type": "execute_result"
    }
   ],
   "source": [
    "%%sql\n",
    "select H1.name, H1.grade, H2.name, H2.grade, H3.name, H3.grade \n",
    "from Highschooler H1 join Highschooler H2 join Highschooler H3 join\n",
    "(select A.ID1 as a, A.ID2 as b, F1.ID2 as c \n",
    "from (select * from Likes except select * from Friend) A join Friend F1 join Friend F2 \n",
    "on A.ID1 = F1.ID1 and A.ID2 = F2.ID1\n",
    "where F1.ID2 = F2.ID2) L \n",
    "on H1.ID = L.a and H2.ID = L.b and H3.ID = L.c"
   ]
  },
  {
   "cell_type": "markdown",
   "metadata": {},
   "source": [
    "Find the difference between the number of students in the school and the number of different first names. "
   ]
  },
  {
   "cell_type": "code",
   "execution_count": 103,
   "metadata": {
    "collapsed": false
   },
   "outputs": [
    {
     "name": "stdout",
     "output_type": "stream",
     "text": [
      "Done.\n"
     ]
    },
    {
     "data": {
      "text/html": [
       "<table>\n",
       "    <tr>\n",
       "        <th>c - n</th>\n",
       "    </tr>\n",
       "    <tr>\n",
       "        <td>2</td>\n",
       "    </tr>\n",
       "</table>"
      ],
      "text/plain": [
       "[(2,)]"
      ]
     },
     "execution_count": 103,
     "metadata": {},
     "output_type": "execute_result"
    }
   ],
   "source": [
    "%%sql\n",
    "select c - n from\n",
    "(select count(ID) as c from Highschooler),\n",
    "(select count(distinct name) as n from Highschooler)"
   ]
  },
  {
   "cell_type": "markdown",
   "metadata": {},
   "source": [
    "Find the name and grade of all students who are liked by more than one other student. "
   ]
  },
  {
   "cell_type": "code",
   "execution_count": 104,
   "metadata": {
    "collapsed": false
   },
   "outputs": [
    {
     "name": "stdout",
     "output_type": "stream",
     "text": [
      "Done.\n"
     ]
    },
    {
     "data": {
      "text/html": [
       "<table>\n",
       "    <tr>\n",
       "        <th>name</th>\n",
       "        <th>grade</th>\n",
       "    </tr>\n",
       "    <tr>\n",
       "        <td>Kris</td>\n",
       "        <td>10</td>\n",
       "    </tr>\n",
       "    <tr>\n",
       "        <td>Cassandra</td>\n",
       "        <td>9</td>\n",
       "    </tr>\n",
       "</table>"
      ],
      "text/plain": [
       "[(u'Kris', 10), (u'Cassandra', 9)]"
      ]
     },
     "execution_count": 104,
     "metadata": {},
     "output_type": "execute_result"
    }
   ],
   "source": [
    "%%sql\n",
    "select name, grade from Likes L join Highschooler H on L.ID2 = H.ID\n",
    "group by ID\n",
    "having count(*) > 1"
   ]
  },
  {
   "cell_type": "markdown",
   "metadata": {},
   "source": [
    "For every situation where student A likes student B, but student B likes a different student C, return the names and grades of A, B, and C. "
   ]
  },
  {
   "cell_type": "code",
   "execution_count": 105,
   "metadata": {
    "collapsed": false
   },
   "outputs": [
    {
     "name": "stdout",
     "output_type": "stream",
     "text": [
      "Done.\n"
     ]
    },
    {
     "data": {
      "text/html": [
       "<table>\n",
       "    <tr>\n",
       "        <th>name</th>\n",
       "        <th>grade</th>\n",
       "        <th>name_1</th>\n",
       "        <th>grade_1</th>\n",
       "        <th>name_2</th>\n",
       "        <th>grade_2</th>\n",
       "    </tr>\n",
       "    <tr>\n",
       "        <td>Andrew</td>\n",
       "        <td>10</td>\n",
       "        <td>Cassandra</td>\n",
       "        <td>9</td>\n",
       "        <td>Gabriel</td>\n",
       "        <td>9</td>\n",
       "    </tr>\n",
       "    <tr>\n",
       "        <td>Gabriel</td>\n",
       "        <td>11</td>\n",
       "        <td>Alexis</td>\n",
       "        <td>11</td>\n",
       "        <td>Kris</td>\n",
       "        <td>10</td>\n",
       "    </tr>\n",
       "</table>"
      ],
      "text/plain": [
       "[(u'Andrew', 10, u'Cassandra', 9, u'Gabriel', 9),\n",
       " (u'Gabriel', 11, u'Alexis', 11, u'Kris', 10)]"
      ]
     },
     "execution_count": 105,
     "metadata": {},
     "output_type": "execute_result"
    }
   ],
   "source": [
    "%%sql\n",
    "select H1.name, H1.grade, H2.name, H2.grade, H3.name, H3.grade \n",
    "from Highschooler H1 join Likes L1 join Highschooler H2 join Likes L2 join Highschooler H3 \n",
    "on H1.ID = L1.ID1 and L1.ID2 = H2.ID and H2.ID = L2.ID1 and L2.ID2 = H3.ID\n",
    "where H3.ID <> H1.ID"
   ]
  },
  {
   "cell_type": "markdown",
   "metadata": {},
   "source": [
    "Find those students for whom all of their friends are in different grades from themselves. Return the students' names and grades."
   ]
  },
  {
   "cell_type": "code",
   "execution_count": 106,
   "metadata": {
    "collapsed": false
   },
   "outputs": [
    {
     "name": "stdout",
     "output_type": "stream",
     "text": [
      "Done.\n"
     ]
    },
    {
     "data": {
      "text/html": [
       "<table>\n",
       "    <tr>\n",
       "        <th>name</th>\n",
       "        <th>grade</th>\n",
       "    </tr>\n",
       "    <tr>\n",
       "        <td>Austin</td>\n",
       "        <td>11</td>\n",
       "    </tr>\n",
       "</table>"
      ],
      "text/plain": [
       "[(u'Austin', 11)]"
      ]
     },
     "execution_count": 106,
     "metadata": {},
     "output_type": "execute_result"
    }
   ],
   "source": [
    "%%sql\n",
    "select H1.name, H1.grade from Highschooler H1 join Friend F join Highschooler H2 \n",
    "on H1.ID = F.ID1 and F.ID2 = H2.ID\n",
    "except\n",
    "select distinct H1.name, H1.grade from Highschooler H1 join Friend F join Highschooler H2 \n",
    "on H1.ID = F.ID1 and F.ID2 = H2.ID\n",
    "where H1.grade = H2.grade"
   ]
  },
  {
   "cell_type": "markdown",
   "metadata": {},
   "source": [
    "What is the average number of friends per student?"
   ]
  },
  {
   "cell_type": "code",
   "execution_count": 107,
   "metadata": {
    "collapsed": false
   },
   "outputs": [
    {
     "name": "stdout",
     "output_type": "stream",
     "text": [
      "Done.\n"
     ]
    },
    {
     "data": {
      "text/html": [
       "<table>\n",
       "    <tr>\n",
       "        <th>cast(f as float) / cast(s as float)</th>\n",
       "    </tr>\n",
       "    <tr>\n",
       "        <td>2.5</td>\n",
       "    </tr>\n",
       "</table>"
      ],
      "text/plain": [
       "[(2.5,)]"
      ]
     },
     "execution_count": 107,
     "metadata": {},
     "output_type": "execute_result"
    }
   ],
   "source": [
    "%%sql\n",
    "select cast(f as float) / cast(s as float)\n",
    "from (select count(*) as s from Highschooler),\n",
    "(select count(*) as f from Friend)"
   ]
  },
  {
   "cell_type": "markdown",
   "metadata": {},
   "source": [
    "Find the number of students who are either friends with Cassandra or are friends of friends of Cassandra. Do not count Cassandra, even though technically she is a friend of a friend. "
   ]
  },
  {
   "cell_type": "code",
   "execution_count": 108,
   "metadata": {
    "collapsed": false
   },
   "outputs": [
    {
     "name": "stdout",
     "output_type": "stream",
     "text": [
      "Done.\n"
     ]
    },
    {
     "data": {
      "text/html": [
       "<table>\n",
       "    <tr>\n",
       "        <th>count(*)</th>\n",
       "    </tr>\n",
       "    <tr>\n",
       "        <td>7</td>\n",
       "    </tr>\n",
       "</table>"
      ],
      "text/plain": [
       "[(7,)]"
      ]
     },
     "execution_count": 108,
     "metadata": {},
     "output_type": "execute_result"
    }
   ],
   "source": [
    "%%sql\n",
    "select count(*) from\n",
    "(select F1.ID2 from Highschooler H1 join Friend F1 join Friend F2 join Highschooler H2 \n",
    "on H1.ID = F1.ID1 and F1.ID2 = F2.ID1 and F2.ID2 = H2.ID\n",
    "where H1.name = 'Cassandra' and H2.name is not 'Cassandra'\n",
    "union\n",
    "select F2.ID2 from Highschooler H1 join Friend F1 join Friend F2 join Highschooler H2 \n",
    "on H1.ID = F1.ID1 and F1.ID2 = F2.ID1 and F2.ID2 = H2.ID\n",
    "where H1.name = 'Cassandra' and H2.name is not 'Cassandra')"
   ]
  },
  {
   "cell_type": "markdown",
   "metadata": {},
   "source": [
    "Find the name and grade of the student(s) with the greatest number of friends. "
   ]
  },
  {
   "cell_type": "code",
   "execution_count": 109,
   "metadata": {
    "collapsed": false
   },
   "outputs": [
    {
     "name": "stdout",
     "output_type": "stream",
     "text": [
      "Done.\n"
     ]
    },
    {
     "data": {
      "text/html": [
       "<table>\n",
       "    <tr>\n",
       "        <th>name</th>\n",
       "        <th>grade</th>\n",
       "    </tr>\n",
       "    <tr>\n",
       "        <td>Alexis</td>\n",
       "        <td>11</td>\n",
       "    </tr>\n",
       "    <tr>\n",
       "        <td>Andrew</td>\n",
       "        <td>10</td>\n",
       "    </tr>\n",
       "</table>"
      ],
      "text/plain": [
       "[(u'Alexis', 11), (u'Andrew', 10)]"
      ]
     },
     "execution_count": 109,
     "metadata": {},
     "output_type": "execute_result"
    }
   ],
   "source": [
    "%%sql\n",
    "select name, grade from Highschooler H join Friend F on H.ID = F.ID1\n",
    "group by ID\n",
    "having count(*) =\n",
    "(select max(c) from\n",
    "(select count(*) as c from Highschooler H join Friend F on H.ID = F.ID1\n",
    "group by ID))"
   ]
  },
  {
   "cell_type": "markdown",
   "metadata": {},
   "source": [
    "### social.db modifications"
   ]
  },
  {
   "cell_type": "markdown",
   "metadata": {},
   "source": [
    "Remove all 12th graders from Highschooler. "
   ]
  },
  {
   "cell_type": "code",
   "execution_count": 110,
   "metadata": {
    "collapsed": false
   },
   "outputs": [
    {
     "name": "stdout",
     "output_type": "stream",
     "text": [
      "4 rows affected.\n"
     ]
    },
    {
     "data": {
      "text/plain": [
       "[]"
      ]
     },
     "execution_count": 110,
     "metadata": {},
     "output_type": "execute_result"
    }
   ],
   "source": [
    "%%sql\n",
    "delete from Highschooler\n",
    "where grade = 12"
   ]
  },
  {
   "cell_type": "code",
   "execution_count": 111,
   "metadata": {
    "collapsed": false
   },
   "outputs": [
    {
     "name": "stdout",
     "output_type": "stream",
     "text": [
      "Done.\n"
     ]
    },
    {
     "data": {
      "text/html": [
       "<table>\n",
       "    <tr>\n",
       "        <th>ID</th>\n",
       "        <th>name</th>\n",
       "        <th>grade</th>\n",
       "    </tr>\n",
       "    <tr>\n",
       "        <td>1101</td>\n",
       "        <td>Haley</td>\n",
       "        <td>10</td>\n",
       "    </tr>\n",
       "    <tr>\n",
       "        <td>1247</td>\n",
       "        <td>Alexis</td>\n",
       "        <td>11</td>\n",
       "    </tr>\n",
       "    <tr>\n",
       "        <td>1316</td>\n",
       "        <td>Austin</td>\n",
       "        <td>11</td>\n",
       "    </tr>\n",
       "    <tr>\n",
       "        <td>1381</td>\n",
       "        <td>Tiffany</td>\n",
       "        <td>9</td>\n",
       "    </tr>\n",
       "    <tr>\n",
       "        <td>1468</td>\n",
       "        <td>Kris</td>\n",
       "        <td>10</td>\n",
       "    </tr>\n",
       "    <tr>\n",
       "        <td>1501</td>\n",
       "        <td>Jessica</td>\n",
       "        <td>11</td>\n",
       "    </tr>\n",
       "    <tr>\n",
       "        <td>1510</td>\n",
       "        <td>Jordan</td>\n",
       "        <td>9</td>\n",
       "    </tr>\n",
       "    <tr>\n",
       "        <td>1641</td>\n",
       "        <td>Brittany</td>\n",
       "        <td>10</td>\n",
       "    </tr>\n",
       "    <tr>\n",
       "        <td>1689</td>\n",
       "        <td>Gabriel</td>\n",
       "        <td>9</td>\n",
       "    </tr>\n",
       "    <tr>\n",
       "        <td>1709</td>\n",
       "        <td>Cassandra</td>\n",
       "        <td>9</td>\n",
       "    </tr>\n",
       "    <tr>\n",
       "        <td>1782</td>\n",
       "        <td>Andrew</td>\n",
       "        <td>10</td>\n",
       "    </tr>\n",
       "    <tr>\n",
       "        <td>1911</td>\n",
       "        <td>Gabriel</td>\n",
       "        <td>11</td>\n",
       "    </tr>\n",
       "</table>"
      ],
      "text/plain": [
       "[(1101, u'Haley', 10),\n",
       " (1247, u'Alexis', 11),\n",
       " (1316, u'Austin', 11),\n",
       " (1381, u'Tiffany', 9),\n",
       " (1468, u'Kris', 10),\n",
       " (1501, u'Jessica', 11),\n",
       " (1510, u'Jordan', 9),\n",
       " (1641, u'Brittany', 10),\n",
       " (1689, u'Gabriel', 9),\n",
       " (1709, u'Cassandra', 9),\n",
       " (1782, u'Andrew', 10),\n",
       " (1911, u'Gabriel', 11)]"
      ]
     },
     "execution_count": 111,
     "metadata": {},
     "output_type": "execute_result"
    }
   ],
   "source": [
    "%%sql\n",
    "select * from Highschooler order by ID"
   ]
  },
  {
   "cell_type": "markdown",
   "metadata": {},
   "source": [
    "If two students A and B are friends, and A likes B but not vice-versa, remove the Likes tuple. "
   ]
  },
  {
   "cell_type": "code",
   "execution_count": 112,
   "metadata": {
    "collapsed": false
   },
   "outputs": [
    {
     "name": "stdout",
     "output_type": "stream",
     "text": [
      "2 rows affected.\n"
     ]
    },
    {
     "data": {
      "text/plain": [
       "[]"
      ]
     },
     "execution_count": 112,
     "metadata": {},
     "output_type": "execute_result"
    }
   ],
   "source": [
    "%%sql\n",
    "delete from Likes\n",
    "where exists\n",
    "(select * from\n",
    "\t(select * from Likes intersect select * from Friend\n",
    "\texcept\n",
    "\tselect L1.ID1, L1.ID2 from Likes L1 join Likes L2 on L1.ID2 = L2.ID1 where L1.ID1 = L2.ID2) A\n",
    "where A.ID1 = Likes.ID1 and A.ID2 = Likes.ID2)"
   ]
  },
  {
   "cell_type": "code",
   "execution_count": 113,
   "metadata": {
    "collapsed": false
   },
   "outputs": [
    {
     "name": "stdout",
     "output_type": "stream",
     "text": [
      "Done.\n"
     ]
    },
    {
     "data": {
      "text/html": [
       "<table>\n",
       "    <tr>\n",
       "        <th>name</th>\n",
       "        <th>grade</th>\n",
       "        <th>name_1</th>\n",
       "        <th>grade_1</th>\n",
       "    </tr>\n",
       "    <tr>\n",
       "        <td>Alexis</td>\n",
       "        <td>11</td>\n",
       "        <td>Kris</td>\n",
       "        <td>10</td>\n",
       "    </tr>\n",
       "    <tr>\n",
       "        <td>Andrew</td>\n",
       "        <td>10</td>\n",
       "        <td>Cassandra</td>\n",
       "        <td>9</td>\n",
       "    </tr>\n",
       "    <tr>\n",
       "        <td>Cassandra</td>\n",
       "        <td>9</td>\n",
       "        <td>Gabriel</td>\n",
       "        <td>9</td>\n",
       "    </tr>\n",
       "    <tr>\n",
       "        <td>Gabriel</td>\n",
       "        <td>9</td>\n",
       "        <td>Cassandra</td>\n",
       "        <td>9</td>\n",
       "    </tr>\n",
       "</table>"
      ],
      "text/plain": [
       "[(u'Alexis', 11, u'Kris', 10),\n",
       " (u'Andrew', 10, u'Cassandra', 9),\n",
       " (u'Cassandra', 9, u'Gabriel', 9),\n",
       " (u'Gabriel', 9, u'Cassandra', 9)]"
      ]
     },
     "execution_count": 113,
     "metadata": {},
     "output_type": "execute_result"
    }
   ],
   "source": [
    "%%sql\n",
    "select H1.name, H1.grade, H2.name, H2.grade \n",
    "from Likes L, Highschooler H1, Highschooler H2 \n",
    "where L.ID1 = H1.ID and L.ID2 = H2.ID \n",
    "order by H1.name, H1.grade"
   ]
  },
  {
   "cell_type": "markdown",
   "metadata": {},
   "source": [
    "For all cases where A is friends with B, and B is friends with C, add a new friendship for the pair A and C. Do not add duplicate friendships, friendships that already exist, or friendships with oneself."
   ]
  },
  {
   "cell_type": "code",
   "execution_count": 114,
   "metadata": {
    "collapsed": false
   },
   "outputs": [
    {
     "name": "stdout",
     "output_type": "stream",
     "text": [
      "54 rows affected.\n"
     ]
    },
    {
     "data": {
      "text/plain": [
       "[]"
      ]
     },
     "execution_count": 114,
     "metadata": {},
     "output_type": "execute_result"
    }
   ],
   "source": [
    "%%sql\n",
    "insert into Friend\n",
    "select distinct F1.ID1, F2.ID2 from Friend F1 join Friend F2 on F1.ID2 = F2.ID1 where F1.ID1 <> F2.ID2\n",
    "except\n",
    "select * from Friend"
   ]
  },
  {
   "cell_type": "code",
   "execution_count": 115,
   "metadata": {
    "collapsed": false
   },
   "outputs": [
    {
     "name": "stdout",
     "output_type": "stream",
     "text": [
      "Done.\n"
     ]
    },
    {
     "data": {
      "text/html": [
       "<table>\n",
       "    <tr>\n",
       "        <th>ID</th>\n",
       "        <th>name</th>\n",
       "        <th>grade</th>\n",
       "        <th>id)</th>\n",
       "    </tr>\n",
       "    <tr>\n",
       "        <td>1101</td>\n",
       "        <td>Haley</td>\n",
       "        <td>10</td>\n",
       "        <td>3</td>\n",
       "    </tr>\n",
       "    <tr>\n",
       "        <td>1247</td>\n",
       "        <td>Alexis</td>\n",
       "        <td>11</td>\n",
       "        <td>7</td>\n",
       "    </tr>\n",
       "    <tr>\n",
       "        <td>1316</td>\n",
       "        <td>Austin</td>\n",
       "        <td>11</td>\n",
       "        <td>6</td>\n",
       "    </tr>\n",
       "    <tr>\n",
       "        <td>1381</td>\n",
       "        <td>Tiffany</td>\n",
       "        <td>9</td>\n",
       "        <td>6</td>\n",
       "    </tr>\n",
       "    <tr>\n",
       "        <td>1468</td>\n",
       "        <td>Kris</td>\n",
       "        <td>10</td>\n",
       "        <td>6</td>\n",
       "    </tr>\n",
       "    <tr>\n",
       "        <td>1501</td>\n",
       "        <td>Jessica</td>\n",
       "        <td>11</td>\n",
       "        <td>7</td>\n",
       "    </tr>\n",
       "    <tr>\n",
       "        <td>1510</td>\n",
       "        <td>Jordan</td>\n",
       "        <td>9</td>\n",
       "        <td>5</td>\n",
       "    </tr>\n",
       "    <tr>\n",
       "        <td>1641</td>\n",
       "        <td>Brittany</td>\n",
       "        <td>10</td>\n",
       "        <td>3</td>\n",
       "    </tr>\n",
       "    <tr>\n",
       "        <td>1689</td>\n",
       "        <td>Gabriel</td>\n",
       "        <td>9</td>\n",
       "        <td>8</td>\n",
       "    </tr>\n",
       "    <tr>\n",
       "        <td>1709</td>\n",
       "        <td>Cassandra</td>\n",
       "        <td>9</td>\n",
       "        <td>7</td>\n",
       "    </tr>\n",
       "    <tr>\n",
       "        <td>1782</td>\n",
       "        <td>Andrew</td>\n",
       "        <td>10</td>\n",
       "        <td>10</td>\n",
       "    </tr>\n",
       "    <tr>\n",
       "        <td>1911</td>\n",
       "        <td>Gabriel</td>\n",
       "        <td>11</td>\n",
       "        <td>5</td>\n",
       "    </tr>\n",
       "</table>"
      ],
      "text/plain": [
       "[(1101, u'Haley', 10, 3),\n",
       " (1247, u'Alexis', 11, 7),\n",
       " (1316, u'Austin', 11, 6),\n",
       " (1381, u'Tiffany', 9, 6),\n",
       " (1468, u'Kris', 10, 6),\n",
       " (1501, u'Jessica', 11, 7),\n",
       " (1510, u'Jordan', 9, 5),\n",
       " (1641, u'Brittany', 10, 3),\n",
       " (1689, u'Gabriel', 9, 8),\n",
       " (1709, u'Cassandra', 9, 7),\n",
       " (1782, u'Andrew', 10, 10),\n",
       " (1911, u'Gabriel', 11, 5)]"
      ]
     },
     "execution_count": 115,
     "metadata": {},
     "output_type": "execute_result"
    }
   ],
   "source": [
    "%%sql\n",
    "select ID, name, grade, (select count(*) from Friend where id1 = H.id) from Highschooler H order by ID"
   ]
  }
 ],
 "metadata": {
  "kernelspec": {
   "display_name": "Python 2",
   "language": "python",
   "name": "python2"
  },
  "language_info": {
   "codemirror_mode": {
    "name": "ipython",
    "version": 2
   },
   "file_extension": ".py",
   "mimetype": "text/x-python",
   "name": "python",
   "nbconvert_exporter": "python",
   "pygments_lexer": "ipython2",
   "version": "2.7.13"
  }
 },
 "nbformat": 4,
 "nbformat_minor": 2
}
