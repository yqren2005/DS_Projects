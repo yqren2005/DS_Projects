{
 "cells": [
  {
   "cell_type": "code",
   "execution_count": 1,
   "metadata": {
    "collapsed": true
   },
   "outputs": [],
   "source": [
    "val spark2 = spark\n",
    "import spark2.implicits._"
   ]
  },
  {
   "cell_type": "code",
   "execution_count": 2,
   "metadata": {
    "collapsed": true
   },
   "outputs": [],
   "source": [
    "def creatStream(port: Int, duration: Int) {\n",
    "    val lines = (spark.readStream\n",
    "                      .format(\"socket\")\n",
    "                      .option(\"host\", \"localhost\")\n",
    "                      .option(\"port\", port)\n",
    "                      .load())\n",
    "    \n",
    "    val counts = (lines.as[String]\n",
    "                       .map(line => line.replaceAll(\"[^a-zA-Z0-9\\\\s]\", \"\"))\n",
    "                       .flatMap(line => line.split(\"\\\\s+\"))\n",
    "                       .filter(_.nonEmpty)\n",
    "                       .groupByKey(_.toLowerCase)\n",
    "                       .count()\n",
    "                       .orderBy($\"count(1)\" desc))\n",
    "    \n",
    "    val query = (counts.orderBy($\"count(1)\" desc)\n",
    "                   .writeStream\n",
    "                   .outputMode(\"complete\")\n",
    "                   .format(\"console\")\n",
    "                   .start\n",
    "                   .awaitTermination(duration))\n",
    "}"
   ]
  },
  {
   "cell_type": "code",
   "execution_count": 3,
   "metadata": {},
   "outputs": [
    {
     "name": "stdout",
     "output_type": "stream",
     "text": [
      "-------------------------------------------\n",
      "Batch: 0\n",
      "-------------------------------------------\n",
      "+-----+--------+\n",
      "|value|count(1)|\n",
      "+-----+--------+\n",
      "|  the|    6940|\n",
      "|  and|    4286|\n",
      "|   to|    3282|\n",
      "|   of|    2612|\n",
      "|    a|    2296|\n",
      "|   he|    1976|\n",
      "|  his|    1782|\n",
      "|   in|    1671|\n",
      "|  was|    1406|\n",
      "| that|    1373|\n",
      "| with|    1229|\n",
      "|  you|    1089|\n",
      "|    i|    1077|\n",
      "|   it|    1074|\n",
      "|  her|    1022|\n",
      "|   at|     981|\n",
      "|  had|     944|\n",
      "|  not|     893|\n",
      "|  him|     855|\n",
      "|   as|     847|\n",
      "+-----+--------+\n",
      "only showing top 20 rows\n",
      "\n",
      "-------------------------------------------\n",
      "Batch: 1\n",
      "-------------------------------------------\n",
      "+-----+--------+\n",
      "|value|count(1)|\n",
      "+-----+--------+\n",
      "|  the|   34570|\n",
      "|  and|   22159|\n",
      "|   to|   16716|\n",
      "|   of|   14991|\n",
      "|    a|   10521|\n",
      "|   he|    9809|\n",
      "|   in|    8801|\n",
      "|  his|    7967|\n",
      "| that|    7813|\n",
      "|  was|    7329|\n",
      "| with|    5695|\n",
      "|  had|    5354|\n",
      "|   it|    5179|\n",
      "|  her|    4700|\n",
      "|  not|    4658|\n",
      "|  him|    4574|\n",
      "|   at|    4538|\n",
      "|    i|    4106|\n",
      "|  but|    4013|\n",
      "|   on|    3998|\n",
      "+-----+--------+\n",
      "only showing top 20 rows\n",
      "\n"
     ]
    }
   ],
   "source": [
    "// nc -lk 12345 < war_and_peace.txt\n",
    "\n",
    "creatStream(12345, 10000)"
   ]
  }
 ],
 "metadata": {
  "kernelspec": {
   "display_name": "Apache Toree - Scala",
   "language": "scala",
   "name": "apache_toree_scala"
  },
  "language_info": {
   "file_extension": ".scala",
   "name": "scala",
   "version": "2.11.8"
  }
 },
 "nbformat": 4,
 "nbformat_minor": 2
}
