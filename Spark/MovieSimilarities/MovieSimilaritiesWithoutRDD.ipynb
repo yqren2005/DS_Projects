{
 "cells": [
  {
   "cell_type": "code",
   "execution_count": 1,
   "metadata": {
    "collapsed": true
   },
   "outputs": [],
   "source": [
    "// Workaround notebook namespace conflict issue\n",
    "val spark2 = spark\n",
    "import spark2.implicits._"
   ]
  },
  {
   "cell_type": "code",
   "execution_count": 2,
   "metadata": {
    "collapsed": true
   },
   "outputs": [],
   "source": [
    "val movieDf = (spark.read\n",
    "                    .format(\"CSV\")\n",
    "                    .option(\"header\", \"true\")\n",
    "                    .option(\"inferSchema\", \"true\")\n",
    "                    .load(\"ml-latest-small/movies.csv\"))"
   ]
  },
  {
   "cell_type": "code",
   "execution_count": 3,
   "metadata": {
    "collapsed": true
   },
   "outputs": [],
   "source": [
    "val ratingDf = (spark.read\n",
    "                    .format(\"CSV\")\n",
    "                    .option(\"header\", \"true\")\n",
    "                    .option(\"inferSchema\", \"true\")\n",
    "                    .load(\"ml-latest-small/ratings.csv\")\n",
    "                    .select(\"userId\", \"movieId\", \"rating\"))"
   ]
  },
  {
   "cell_type": "code",
   "execution_count": 4,
   "metadata": {},
   "outputs": [
    {
     "name": "stdout",
     "output_type": "stream",
     "text": [
      "+-------+-----------------------+-------------------------------------------+\n",
      "|movieId|title                  |genres                                     |\n",
      "+-------+-----------------------+-------------------------------------------+\n",
      "|1      |Toy Story (1995)       |Adventure|Animation|Children|Comedy|Fantasy|\n",
      "|2      |Jumanji (1995)         |Adventure|Children|Fantasy                 |\n",
      "|3      |Grumpier Old Men (1995)|Comedy|Romance                             |\n",
      "+-------+-----------------------+-------------------------------------------+\n",
      "only showing top 3 rows\n",
      "\n"
     ]
    }
   ],
   "source": [
    "movieDf.show(3, false)"
   ]
  },
  {
   "cell_type": "code",
   "execution_count": 5,
   "metadata": {},
   "outputs": [
    {
     "name": "stdout",
     "output_type": "stream",
     "text": [
      "+------+-------+------+\n",
      "|userId|movieId|rating|\n",
      "+------+-------+------+\n",
      "|     1|     31|   2.5|\n",
      "|     1|   1029|   3.0|\n",
      "|     1|   1061|   3.0|\n",
      "+------+-------+------+\n",
      "only showing top 3 rows\n",
      "\n"
     ]
    }
   ],
   "source": [
    "ratingDf.show(3)"
   ]
  },
  {
   "cell_type": "code",
   "execution_count": 6,
   "metadata": {
    "collapsed": true
   },
   "outputs": [],
   "source": [
    "val moviePairs = (ratingDf.as(\"r1\")\n",
    "                          .join(ratingDf.as(\"r2\"), \"userId\")\n",
    "                          .filter($\"r1.movieId\" < $\"r2.movieId\")\n",
    "                          .select($\"r1.movieId\".as(\"m1\"), $\"r2.movieId\".as(\"m2\"), $\"r1.rating\".as(\"r1\"), $\"r2.rating\".as(\"r2\")))"
   ]
  },
  {
   "cell_type": "code",
   "execution_count": 7,
   "metadata": {},
   "outputs": [
    {
     "name": "stdout",
     "output_type": "stream",
     "text": [
      "+---+----+---+---+\n",
      "| m1|  m2| r1| r2|\n",
      "+---+----+---+---+\n",
      "| 31|3671|2.5|3.0|\n",
      "| 31|2968|2.5|1.0|\n",
      "| 31|2455|2.5|2.5|\n",
      "+---+----+---+---+\n",
      "only showing top 3 rows\n",
      "\n"
     ]
    }
   ],
   "source": [
    "moviePairs.show(3)"
   ]
  },
  {
   "cell_type": "code",
   "execution_count": 8,
   "metadata": {
    "collapsed": true
   },
   "outputs": [],
   "source": [
    "import org.apache.spark.sql.functions._\n",
    "\n",
    "val temp = (moviePairs.groupBy(\"m1\", \"m2\")\n",
    "                      .agg(count(lit(1))\n",
    "                      .as(\"count\"), sum($\"r1\"*$\"r1\")\n",
    "                      .as(\"r1*r1\"), sum($\"r1\"*$\"r2\")\n",
    "                      .as(\"r1*r2\"), sum($\"r2\"*$\"r2\")\n",
    "                      .as(\"r2*r2\")))"
   ]
  },
  {
   "cell_type": "code",
   "execution_count": 9,
   "metadata": {},
   "outputs": [
    {
     "name": "stdout",
     "output_type": "stream",
     "text": [
      "+---+---+-----+------+------+------+\n",
      "| m1| m2|count| r1*r1| r1*r2| r2*r2|\n",
      "+---+---+-----+------+------+------+\n",
      "| 17|357|   45|759.25| 688.5| 677.5|\n",
      "|110|585|   25| 373.5|289.75|278.75|\n",
      "|273|454|   12| 131.0| 129.0| 135.0|\n",
      "+---+---+-----+------+------+------+\n",
      "only showing top 3 rows\n",
      "\n"
     ]
    }
   ],
   "source": [
    "temp.show(3)"
   ]
  },
  {
   "cell_type": "code",
   "execution_count": 10,
   "metadata": {
    "collapsed": true
   },
   "outputs": [],
   "source": [
    "import scala.math.sqrt\n",
    "\n",
    "// Calculate cosine similarity\n",
    "val getSimilarity = udf((col1:Double, col2:Double, col3:Double) => col2/(sqrt(col1)*sqrt(col3)))\n",
    "val movieSimilarities = (temp.withColumn(\"similarity\", getSimilarity($\"r1*r1\", $\"r1*r2\", $\"r2*r2\"))\n",
    "                             .select(\"m1\", \"m2\", \"count\", \"similarity\")).cache()"
   ]
  },
  {
   "cell_type": "code",
   "execution_count": 11,
   "metadata": {},
   "outputs": [
    {
     "name": "stdout",
     "output_type": "stream",
     "text": [
      "+---+---+-----+------------------+\n",
      "| m1| m2|count|        similarity|\n",
      "+---+---+-----+------------------+\n",
      "| 17|357|   45|0.9599683054983534|\n",
      "|110|585|   25| 0.897988352320666|\n",
      "|273|454|   12|0.9700344948091243|\n",
      "+---+---+-----+------------------+\n",
      "only showing top 3 rows\n",
      "\n"
     ]
    }
   ],
   "source": [
    "movieSimilarities.show(3)"
   ]
  },
  {
   "cell_type": "code",
   "execution_count": 12,
   "metadata": {},
   "outputs": [
    {
     "data": {
      "text/plain": [
       "10987079"
      ]
     },
     "execution_count": 12,
     "metadata": {},
     "output_type": "execute_result"
    }
   ],
   "source": [
    "movieSimilarities.count"
   ]
  },
  {
   "cell_type": "code",
   "execution_count": 13,
   "metadata": {},
   "outputs": [
    {
     "name": "stdout",
     "output_type": "stream",
     "text": [
      "root\n",
      " |-- m1: integer (nullable = true)\n",
      " |-- m2: integer (nullable = true)\n",
      " |-- count: long (nullable = false)\n",
      " |-- similarity: double (nullable = true)\n",
      "\n"
     ]
    }
   ],
   "source": [
    "movieSimilarities.printSchema"
   ]
  },
  {
   "cell_type": "code",
   "execution_count": 14,
   "metadata": {},
   "outputs": [
    {
     "name": "stdout",
     "output_type": "stream",
     "text": [
      "\r",
      "                                                                                \r",
      "+---+-----+-----+------------------+\n",
      "|m1 |m2   |count|similarity        |\n",
      "+---+-----+-----+------------------+\n",
      "|260|1196 |203  |0.9896402714789055|\n",
      "|260|1210 |187  |0.9891531995341264|\n",
      "|260|1198 |177  |0.9828753537963838|\n",
      "|260|58559|74   |0.9816392821664428|\n",
      "|260|4993 |147  |0.9802403864565682|\n",
      "|260|1610 |73   |0.9771664798038402|\n",
      "|260|858  |134  |0.9769180232956557|\n",
      "|260|1221 |91   |0.9768131139614421|\n",
      "|50 |260  |123  |0.9762391561714363|\n",
      "|260|8961 |90   |0.9762020399001995|\n",
      "+---+-----+-----+------------------+\n",
      "only showing top 10 rows\n",
      "\n"
     ]
    }
   ],
   "source": [
    "// Let's find the similar movies of Star Wars (1977) with count > 70\n",
    "\n",
    "val result = (movieSimilarities.filter($\"count\" > 70 && ($\"m1\" === 260 || $\"m2\" === 260))\n",
    "                               .orderBy($\"similarity\".desc))\n",
    "result.show(10, false)"
   ]
  },
  {
   "cell_type": "code",
   "execution_count": 15,
   "metadata": {},
   "outputs": [
    {
     "name": "stdout",
     "output_type": "stream",
     "text": [
      "+------------------------------------------------------------------------------+------------------+-----+\n",
      "|title                                                                         |similarity        |count|\n",
      "+------------------------------------------------------------------------------+------------------+-----+\n",
      "|Star Wars: Episode V - The Empire Strikes Back (1980)                         |0.9896402714789055|203  |\n",
      "|Star Wars: Episode VI - Return of the Jedi (1983)                             |0.9891531995341264|187  |\n",
      "|Raiders of the Lost Ark (Indiana Jones and the Raiders of the Lost Ark) (1981)|0.9828753537963838|177  |\n",
      "|Dark Knight, The (2008)                                                       |0.9816392821664428|74   |\n",
      "|Lord of the Rings: The Fellowship of the Ring, The (2001)                     |0.9802403864565682|147  |\n",
      "|Hunt for Red October, The (1990)                                              |0.9771664798038402|73   |\n",
      "|Godfather, The (1972)                                                         |0.9769180232956557|134  |\n",
      "|Godfather: Part II, The (1974)                                                |0.9768131139614421|91   |\n",
      "|Usual Suspects, The (1995)                                                    |0.9762391561714363|123  |\n",
      "|Incredibles, The (2004)                                                       |0.9762020399001995|90   |\n",
      "+------------------------------------------------------------------------------+------------------+-----+\n",
      "only showing top 10 rows\n",
      "\n"
     ]
    }
   ],
   "source": [
    "// Find and display similar movie names\n",
    "\n",
    "val selectId = udf((col1:Int, col2:Int) => if (col1 != 260) col1 else col2)\n",
    "\n",
    "(result.withColumn(\"movieId\", selectId(col(\"m1\"), col(\"m2\")))\n",
    "       .join(movieDf, \"movieId\")\n",
    "       .select(\"title\", \"similarity\", \"count\")\n",
    "       .show(10, false))"
   ]
  },
  {
   "cell_type": "code",
   "execution_count": 16,
   "metadata": {
    "collapsed": true
   },
   "outputs": [],
   "source": [
    "// Let's use the information in Genres columns to find similar movies\n",
    "// Basically the movie's both genres similarity and count must > given thresholds, and ordered by gensim then similarity\n",
    "\n",
    "def findSimilarMovies(mid: Int, count: Long, gensim: Int) = {\n",
    "    \n",
    "    println(\"Find the similar movies of:\\n\")\n",
    "    movieDf.filter($\"movieId\"===mid).show(false)\n",
    "    \n",
    "    // Get mid's genres list\n",
    "    val mgen = movieDf.filter($\"movieId\"===mid).select($\"genres\").collect().mkString.replaceAll(\"^.|.$\", \"\").split('|').toList\n",
    "    \n",
    "    // udf to pick up similar movie's movieId\n",
    "    val selectId = udf((col1:Int, col2:Int) => if (col1 != mid) col1 else col2)\n",
    "    \n",
    "    // udf to calculate genres similarity genScore\n",
    "    val getGenSim = udf((col: String) => col.split('|').toList.intersect(mgen).length)\n",
    "    \n",
    "    val result = (movieSimilarities.withColumn(\"movieId\", selectId(col(\"m1\"), col(\"m2\")))\n",
    "                                   .join(movieDf, \"movieId\")\n",
    "                                   .withColumn(\"gensim\", getGenSim($\"genres\"))\n",
    "                                   .filter($\"gensim\" > gensim && $\"count\" > count && ($\"m1\" === mid || $\"m2\" === mid)))\n",
    "                          \n",
    "    result.orderBy($\"gensim\".desc, $\"similarity\".desc).select(\"title\", \"gensim\", \"similarity\", \"count\")\n",
    "}"
   ]
  },
  {
   "cell_type": "code",
   "execution_count": 17,
   "metadata": {},
   "outputs": [
    {
     "name": "stdout",
     "output_type": "stream",
     "text": [
      "Find the similar movies of:\n",
      "\n",
      "+-------+-----------------------------------------+-----------------------+\n",
      "|movieId|title                                    |genres                 |\n",
      "+-------+-----------------------------------------+-----------------------+\n",
      "|260    |Star Wars: Episode IV - A New Hope (1977)|Action|Adventure|Sci-Fi|\n",
      "+-------+-----------------------------------------+-----------------------+\n",
      "\n",
      "+-----------------------------------------------------+------+------------------+-----+\n",
      "|title                                                |gensim|similarity        |count|\n",
      "+-----------------------------------------------------+------+------------------+-----+\n",
      "|Star Wars: Episode V - The Empire Strikes Back (1980)|3     |0.9896402714789055|203  |\n",
      "|Star Wars: Episode VI - Return of the Jedi (1983)    |3     |0.9891531995341264|187  |\n",
      "|Aliens (1986)                                        |3     |0.9693337395902628|100  |\n",
      "|Total Recall (1990)                                  |3     |0.965841780998697 |85   |\n",
      "|Spider-Man (2002)                                    |3     |0.9650922091952354|96   |\n",
      "|Jurassic Park (1993)                                 |3     |0.9638337950002905|153  |\n",
      "|X-Men (2000)                                         |3     |0.9635017956062695|89   |\n",
      "|Fifth Element, The (1997)                            |3     |0.9556691723581433|92   |\n",
      "|Stargate (1994)                                      |3     |0.955638858001372 |83   |\n",
      "|Independence Day (a.k.a. ID4) (1996)                 |3     |0.9454604568504794|148  |\n",
      "|Star Wars: Episode I - The Phantom Menace (1999)     |3     |0.9423751046705877|115  |\n",
      "|Star Wars: Episode II - Attack of the Clones (2002)  |3     |0.9325673134517631|76   |\n",
      "+-----------------------------------------------------+------+------------------+-----+\n",
      "\n"
     ]
    }
   ],
   "source": [
    "findSimilarMovies(260, 70, 2).show(false)"
   ]
  },
  {
   "cell_type": "code",
   "execution_count": 18,
   "metadata": {},
   "outputs": [
    {
     "name": "stdout",
     "output_type": "stream",
     "text": [
      "Find the similar movies of:\n",
      "\n",
      "+-------+-------------------+--------------+\n",
      "|movieId|title              |genres        |\n",
      "+-------+-------------------+--------------+\n",
      "|2706   |American Pie (1999)|Comedy|Romance|\n",
      "+-------+-------------------+--------------+\n",
      "\n",
      "+----------------------------------------------------+------+------------------+-----+\n",
      "|title                                               |gensim|similarity        |count|\n",
      "+----------------------------------------------------+------+------------------+-----+\n",
      "|True Lies (1994)                                    |2     |0.9677178837684531|50   |\n",
      "|Clueless (1995)                                     |2     |0.9574978247356769|40   |\n",
      "|Princess Bride, The (1987)                          |2     |0.9534643777538385|48   |\n",
      "|Forrest Gump (1994)                                 |2     |0.9531921179264798|85   |\n",
      "|Amelie (Fabuleux destin d'Amélie Poulain, Le) (2001)|2     |0.9523943996049813|42   |\n",
      "|Shrek 2 (2004)                                      |2     |0.9523747714237685|37   |\n",
      "|Wedding Singer, The (1998)                          |2     |0.9522196265392038|45   |\n",
      "|Chasing Amy (1997)                                  |2     |0.9477337145932329|32   |\n",
      "|Shakespeare in Love (1998)                          |2     |0.947416657462329 |42   |\n",
      "|There's Something About Mary (1998)                 |2     |0.9472121414791252|68   |\n",
      "|40-Year-Old Virgin, The (2005)                      |2     |0.9469841803947585|34   |\n",
      "|Notting Hill (1999)                                 |2     |0.944605754408236 |35   |\n",
      "|Pretty Woman (1990)                                 |2     |0.9430616517450475|52   |\n",
      "|Groundhog Day (1993)                                |2     |0.9397176667324981|67   |\n",
      "|Little Mermaid, The (1989)                          |2     |0.9396482988403863|36   |\n",
      "|Ghost (1990)                                        |2     |0.9353205849268843|42   |\n",
      "|As Good as It Gets (1997)                           |2     |0.9323800942852314|42   |\n",
      "|Bridget Jones's Diary (2001)                        |2     |0.9310063806319389|33   |\n",
      "|Life Is Beautiful (La Vita è bella) (1997)          |2     |0.9297926848520766|33   |\n",
      "|Big (1988)                                          |2     |0.9292782910877869|47   |\n",
      "+----------------------------------------------------+------+------------------+-----+\n",
      "only showing top 20 rows\n",
      "\n"
     ]
    }
   ],
   "source": [
    "findSimilarMovies(2706, 30, 1).show(false)"
   ]
  },
  {
   "cell_type": "code",
   "execution_count": 19,
   "metadata": {},
   "outputs": [
    {
     "name": "stdout",
     "output_type": "stream",
     "text": [
      "Find the similar movies of:\n",
      "\n",
      "+-------+--------------------------+---------------------------------+\n",
      "|movieId|title                     |genres                           |\n",
      "+-------+--------------------------+---------------------------------+\n",
      "|648    |Mission: Impossible (1996)|Action|Adventure|Mystery|Thriller|\n",
      "+-------+--------------------------+---------------------------------+\n",
      "\n",
      "+------------------------------------+------+------------------+-----+          \n",
      "|title                               |gensim|similarity        |count|\n",
      "+------------------------------------+------+------------------+-----+\n",
      "|Minority Report (2002)              |3     |0.9763691247739893|54   |\n",
      "|Rock, The (1996)                    |3     |0.975463863491967 |96   |\n",
      "|Bourne Identity, The (2002)         |3     |0.9754433707092234|53   |\n",
      "|Total Recall (1990)                 |3     |0.9678625938467216|53   |\n",
      "|Spider-Man (2002)                   |3     |0.9670889687924121|62   |\n",
      "|True Lies (1994)                    |3     |0.9623421189707606|91   |\n",
      "|GoldenEye (1995)                    |3     |0.9612113214554647|63   |\n",
      "|Jurassic Park (1993)                |3     |0.9591876934350348|117  |\n",
      "|Broken Arrow (1996)                 |3     |0.9582796447204898|64   |\n",
      "|Twister (1996)                      |3     |0.9534140347635874|95   |\n",
      "|Independence Day (a.k.a. ID4) (1996)|3     |0.9505078346335699|133  |\n",
      "+------------------------------------+------+------------------+-----+\n",
      "\n"
     ]
    }
   ],
   "source": [
    "findSimilarMovies(648, 50, 2).show(false)"
   ]
  }
 ],
 "metadata": {
  "kernelspec": {
   "display_name": "Apache Toree - Scala",
   "language": "scala",
   "name": "apache_toree_scala"
  },
  "language_info": {
   "file_extension": ".scala",
   "name": "scala",
   "version": "2.11.8"
  }
 },
 "nbformat": 4,
 "nbformat_minor": 2
}
