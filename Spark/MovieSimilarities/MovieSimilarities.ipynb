{
 "cells": [
  {
   "cell_type": "markdown",
   "metadata": {},
   "source": [
    "### Find similar movies based on cosine similarity"
   ]
  },
  {
   "cell_type": "code",
   "execution_count": 1,
   "metadata": {
    "collapsed": true,
    "scrolled": false
   },
   "outputs": [],
   "source": [
    "// Workaround notebook namespace conflict issue\n",
    "val spark2 = spark\n",
    "import spark2.implicits._"
   ]
  },
  {
   "cell_type": "code",
   "execution_count": 2,
   "metadata": {
    "scrolled": false
   },
   "outputs": [
    {
     "name": "stdout",
     "output_type": "stream",
     "text": [
      "+-------+-------------------------------------+-------------------------------------------+\n",
      "|movieId|title                                |genres                                     |\n",
      "+-------+-------------------------------------+-------------------------------------------+\n",
      "|1      |Toy Story (1995)                     |Adventure|Animation|Children|Comedy|Fantasy|\n",
      "|2      |Jumanji (1995)                       |Adventure|Children|Fantasy                 |\n",
      "|3      |Grumpier Old Men (1995)              |Comedy|Romance                             |\n",
      "|4      |Waiting to Exhale (1995)             |Comedy|Drama|Romance                       |\n",
      "|5      |Father of the Bride Part II (1995)   |Comedy                                     |\n",
      "|6      |Heat (1995)                          |Action|Crime|Thriller                      |\n",
      "|7      |Sabrina (1995)                       |Comedy|Romance                             |\n",
      "|8      |Tom and Huck (1995)                  |Adventure|Children                         |\n",
      "|9      |Sudden Death (1995)                  |Action                                     |\n",
      "|10     |GoldenEye (1995)                     |Action|Adventure|Thriller                  |\n",
      "|11     |American President, The (1995)       |Comedy|Drama|Romance                       |\n",
      "|12     |Dracula: Dead and Loving It (1995)   |Comedy|Horror                              |\n",
      "|13     |Balto (1995)                         |Adventure|Animation|Children               |\n",
      "|14     |Nixon (1995)                         |Drama                                      |\n",
      "|15     |Cutthroat Island (1995)              |Action|Adventure|Romance                   |\n",
      "|16     |Casino (1995)                        |Crime|Drama                                |\n",
      "|17     |Sense and Sensibility (1995)         |Drama|Romance                              |\n",
      "|18     |Four Rooms (1995)                    |Comedy                                     |\n",
      "|19     |Ace Ventura: When Nature Calls (1995)|Comedy                                     |\n",
      "|20     |Money Train (1995)                   |Action|Comedy|Crime|Drama|Thriller         |\n",
      "+-------+-------------------------------------+-------------------------------------------+\n",
      "only showing top 20 rows\n",
      "\n"
     ]
    }
   ],
   "source": [
    "val movieDf = (spark.read\n",
    "                    .format(\"CSV\")\n",
    "                    .option(\"header\", \"true\")\n",
    "                    .option(\"inferSchema\", \"true\")\n",
    "                    .load(\"ml-latest-small/movies.csv\"))\n",
    "movieDf.show(truncate=false)"
   ]
  },
  {
   "cell_type": "code",
   "execution_count": 3,
   "metadata": {
    "scrolled": false
   },
   "outputs": [
    {
     "name": "stdout",
     "output_type": "stream",
     "text": [
      "+------+-------+------+\n",
      "|userId|movieId|rating|\n",
      "+------+-------+------+\n",
      "|1     |31     |2.5   |\n",
      "|1     |1029   |3.0   |\n",
      "|1     |1061   |3.0   |\n",
      "|1     |1129   |2.0   |\n",
      "|1     |1172   |4.0   |\n",
      "|1     |1263   |2.0   |\n",
      "|1     |1287   |2.0   |\n",
      "|1     |1293   |2.0   |\n",
      "|1     |1339   |3.5   |\n",
      "|1     |1343   |2.0   |\n",
      "|1     |1371   |2.5   |\n",
      "|1     |1405   |1.0   |\n",
      "|1     |1953   |4.0   |\n",
      "|1     |2105   |4.0   |\n",
      "|1     |2150   |3.0   |\n",
      "|1     |2193   |2.0   |\n",
      "|1     |2294   |2.0   |\n",
      "|1     |2455   |2.5   |\n",
      "|1     |2968   |1.0   |\n",
      "|1     |3671   |3.0   |\n",
      "+------+-------+------+\n",
      "only showing top 20 rows\n",
      "\n"
     ]
    }
   ],
   "source": [
    "val ratingDf = (spark.read\n",
    "                    .format(\"CSV\")\n",
    "                    .option(\"header\", \"true\")\n",
    "                    .option(\"inferSchema\", \"true\")\n",
    "                    .load(\"ml-latest-small/ratings.csv\")\n",
    "                    .select(\"userId\", \"movieId\", \"rating\"))\n",
    "ratingDf.show(false)"
   ]
  },
  {
   "cell_type": "code",
   "execution_count": 4,
   "metadata": {
    "collapsed": true,
    "scrolled": false
   },
   "outputs": [],
   "source": [
    "// Get (userId, (movieId, rating))\n",
    "val ratings = ratingDf.as[(Int, Int, Double)].rdd.map(line => (line._1, (line._2, line._3)))"
   ]
  },
  {
   "cell_type": "code",
   "execution_count": 5,
   "metadata": {
    "collapsed": true,
    "scrolled": false
   },
   "outputs": [],
   "source": [
    "// Get (userId, ((movie1, rating1), (movie2, rating2)))\n",
    "val joinedRatings = ratings.join(ratings)"
   ]
  },
  {
   "cell_type": "code",
   "execution_count": 6,
   "metadata": {
    "collapsed": true,
    "scrolled": false
   },
   "outputs": [],
   "source": [
    "// Filter out duplicate pairs: movie1 < movie2\n",
    "val uniqueJoinedRatings = joinedRatings.filter(x => x._2._1._1 < x._2._2._1)"
   ]
  },
  {
   "cell_type": "code",
   "execution_count": 7,
   "metadata": {
    "collapsed": true,
    "scrolled": false
   },
   "outputs": [],
   "source": [
    "// Now we have ((movie1, movie2), (rating1, rating2))\n",
    "val moviePairs = uniqueJoinedRatings.map(x => ((x._2._1._1, x._2._2._1), (x._2._1._2, x._2._2._2)))"
   ]
  },
  {
   "cell_type": "code",
   "execution_count": 8,
   "metadata": {
    "collapsed": true,
    "scrolled": false
   },
   "outputs": [],
   "source": [
    "val moviePairRatings = moviePairs.groupByKey()"
   ]
  },
  {
   "cell_type": "code",
   "execution_count": 9,
   "metadata": {
    "collapsed": true,
    "scrolled": false
   },
   "outputs": [],
   "source": [
    "import scala.math.{sqrt, round}\n",
    "\n",
    "type RatingPair = (Double, Double)\n",
    "type RatingPairs = Iterable[RatingPair]\n",
    "\n",
    "def computeCosineSimilarity(ratingPairs: RatingPairs): (Double, Int) = {\n",
    "    var numPairs: Int = 0\n",
    "    var sum_xx: Double = 0.0\n",
    "    var sum_yy: Double = 0.0\n",
    "    var sum_xy: Double = 0.0\n",
    "\n",
    "    for (pair <- ratingPairs) {\n",
    "        val ratingX = pair._1\n",
    "        val ratingY = pair._2\n",
    "\n",
    "        sum_xx += ratingX * ratingX\n",
    "        sum_yy += ratingY * ratingY\n",
    "        sum_xy += ratingX * ratingY\n",
    "        numPairs += 1\n",
    "    }\n",
    "\n",
    "    val numerator: Double = sum_xy\n",
    "    val denominator: Double = sqrt(sum_xx) * sqrt(sum_yy)\n",
    "    var score: Double = 0.0\n",
    "    if (denominator != 0) {\n",
    "        score = numerator / denominator\n",
    "    }\n",
    "\n",
    "    (score, numPairs)\n",
    "}"
   ]
  },
  {
   "cell_type": "code",
   "execution_count": 10,
   "metadata": {
    "collapsed": true,
    "scrolled": false
   },
   "outputs": [],
   "source": [
    "val moviePairSimilarities = moviePairRatings.mapValues(computeCosineSimilarity).cache()"
   ]
  },
  {
   "cell_type": "code",
   "execution_count": 11,
   "metadata": {
    "scrolled": false
   },
   "outputs": [
    {
     "data": {
      "text/plain": [
       "Array(((782,2125),(0.9899494936611665,2)), ((2478,3734),(0.9997418355449429,2)), ((112552,161155),(1.0,1)), ((4471,8641),(1.0,1)), ((1334,1777),(0.9734793000685468,5)), ((3713,157296),(1.0,1)), ((1997,100556),(0.9847835588179369,2)), ((8207,64957),(1.0,1)), ((2253,2542),(0.9293403409880338,4)), ((1610,30749),(0.9655370324381085,7)))"
      ]
     },
     "execution_count": 11,
     "metadata": {},
     "output_type": "execute_result"
    }
   ],
   "source": [
    "// Now we have ((movie1, movie2), (similarity, strength))\n",
    "moviePairSimilarities.take(10)"
   ]
  },
  {
   "cell_type": "code",
   "execution_count": 12,
   "metadata": {
    "scrolled": false
   },
   "outputs": [
    {
     "name": "stdout",
     "output_type": "stream",
     "text": [
      "+-------+-------------------------------------------------------------+------------------------------------+\n",
      "|movieId|title                                                        |genres                              |\n",
      "+-------+-------------------------------------------------------------+------------------------------------+\n",
      "|260    |Star Wars: Episode IV - A New Hope (1977)                    |Action|Adventure|Sci-Fi             |\n",
      "|1196   |Star Wars: Episode V - The Empire Strikes Back (1980)        |Action|Adventure|Sci-Fi             |\n",
      "|1210   |Star Wars: Episode VI - Return of the Jedi (1983)            |Action|Adventure|Sci-Fi             |\n",
      "|2628   |Star Wars: Episode I - The Phantom Menace (1999)             |Action|Adventure|Sci-Fi             |\n",
      "|5378   |Star Wars: Episode II - Attack of the Clones (2002)          |Action|Adventure|Sci-Fi|IMAX        |\n",
      "|33493  |Star Wars: Episode III - Revenge of the Sith (2005)          |Action|Adventure|Sci-Fi             |\n",
      "|61160  |Star Wars: The Clone Wars (2008)                             |Action|Adventure|Animation|Sci-Fi   |\n",
      "|79006  |Empire of Dreams: The Story of the 'Star Wars' Trilogy (2004)|Documentary                         |\n",
      "|122886 |Star Wars: Episode VII - The Force Awakens (2015)            |Action|Adventure|Fantasy|Sci-Fi|IMAX|\n",
      "+-------+-------------------------------------------------------------+------------------------------------+\n",
      "\n"
     ]
    }
   ],
   "source": [
    "// List all Star Wars movies\n",
    "movieDf.filter($\"title\".contains(\"Star Wars\")).show(false)"
   ]
  },
  {
   "cell_type": "code",
   "execution_count": 13,
   "metadata": {
    "collapsed": true,
    "scrolled": false
   },
   "outputs": [],
   "source": [
    "def similarMovies(mid: Int, strength: Int, top: Int) = {\n",
    "    val filteredResults = moviePairSimilarities.filter(x =>\n",
    "        {\n",
    "            val pair = x._1\n",
    "            val sim = x._2\n",
    "            (pair._1 == mid || pair._2 == mid) && sim._2 > strength\n",
    "        }\n",
    "    )\n",
    "    \n",
    "    def selectId(x: (Int, Int)) = if (x._1 == mid) x._2 else x._1\n",
    "\n",
    "    val results = (filteredResults.map(x => (x._2, x._1))\n",
    "                                  .sortByKey(ascending=false)\n",
    "                                  .take(top)\n",
    "                                  .map(x => (selectId(x._2), round(x._1._1*100000000.0)/100000000.0, x._1._2)))\n",
    "                                  \n",
    "    val resultsDf = spark.createDataFrame(results).toDF(\"id\", \"score\", \"strength\")\n",
    "    \n",
    "    val joinedDf = resultsDf.join(movieDf, movieDf(\"movieId\") === resultsDf(\"id\")).select(\"title\", \"score\", \"strength\")\n",
    "    \n",
    "    joinedDf\n",
    "}"
   ]
  },
  {
   "cell_type": "code",
   "execution_count": 14,
   "metadata": {
    "scrolled": false
   },
   "outputs": [
    {
     "name": "stdout",
     "output_type": "stream",
     "text": [
      "+------------------------------------------------------------------------------+----------+--------+\n",
      "|title                                                                         |score     |strength|\n",
      "+------------------------------------------------------------------------------+----------+--------+\n",
      "|Star Wars: Episode V - The Empire Strikes Back (1980)                         |0.98964027|203     |\n",
      "|Star Wars: Episode VI - Return of the Jedi (1983)                             |0.9891532 |187     |\n",
      "|Raiders of the Lost Ark (Indiana Jones and the Raiders of the Lost Ark) (1981)|0.98287535|177     |\n",
      "|Dark Knight, The (2008)                                                       |0.98163928|74      |\n",
      "|Lord of the Rings: The Fellowship of the Ring, The (2001)                     |0.98024039|147     |\n",
      "|Hunt for Red October, The (1990)                                              |0.97716648|73      |\n",
      "|Godfather, The (1972)                                                         |0.97691802|134     |\n",
      "|Godfather: Part II, The (1974)                                                |0.97681311|91      |\n",
      "|Usual Suspects, The (1995)                                                    |0.97623916|123     |\n",
      "|Incredibles, The (2004)                                                       |0.97620204|90      |\n",
      "+------------------------------------------------------------------------------+----------+--------+\n",
      "\n"
     ]
    }
   ],
   "source": [
    "// Find top 10 movies similar to Star Wars (1977) with strength > 70\n",
    "val result = similarMovies(260, 70, 10)\n",
    "result.show(10, false)"
   ]
  },
  {
   "cell_type": "code",
   "execution_count": 15,
   "metadata": {
    "collapsed": true,
    "scrolled": false
   },
   "outputs": [],
   "source": [
    "// Let's consider the useful information in Genres column!\n",
    "\n",
    "def similarMoviesGen(mid: Int) = {\n",
    "    \n",
    "    val filteredResults = moviePairSimilarities.filter(x =>\n",
    "        {\n",
    "            val pair = x._1\n",
    "            pair._1 == mid || pair._2 == mid\n",
    "        }\n",
    "    )\n",
    "    \n",
    "    def selectId(x: (Int, Int)) = if (x._1 == mid) x._2 else x._1\n",
    "\n",
    "    val results = filteredResults.map(x => (selectId(x._1), x._2._1, x._2._2))\n",
    "                                  \n",
    "    val resultsDf = spark.createDataFrame(results).toDF(\"id\", \"score\", \"strength\")\n",
    "    \n",
    "    val joinedDf = resultsDf.join(movieDf, movieDf(\"movieId\") === resultsDf(\"id\")).select(\"title\", \"genres\", \"score\", \"strength\")\n",
    "    \n",
    "    val mGen = movieDf.filter($\"movieId\"===mid).select($\"genres\").collect().mkString.replaceAll(\"^.|.$\", \"\").split('|').toList\n",
    "    \n",
    "    import org.apache.spark.sql.functions._\n",
    "    \n",
    "    // udf to calculate genres similarity genScore\n",
    "    val func = udf((col: String) => col.split('|').toList.intersect(mGen).length)\n",
    "    val df = joinedDf.withColumn(\"genScore\", func(joinedDf(\"genres\"))).sort(desc(\"genScore\"), desc(\"score\"), desc(\"strength\"))\n",
    "   \n",
    "    df.select(\"title\", \"genScore\", \"score\", \"strength\")\n",
    "}"
   ]
  },
  {
   "cell_type": "code",
   "execution_count": 16,
   "metadata": {
    "scrolled": false
   },
   "outputs": [
    {
     "name": "stdout",
     "output_type": "stream",
     "text": [
      "+------------------------------------------------------------------------------+--------+------------------+--------+\n",
      "|title                                                                         |genScore|score             |strength|\n",
      "+------------------------------------------------------------------------------+--------+------------------+--------+\n",
      "|Star Wars: Episode V - The Empire Strikes Back (1980)                         |3       |0.9896402714789055|203     |\n",
      "|Star Wars: Episode VI - Return of the Jedi (1983)                             |3       |0.9891531995341264|187     |\n",
      "|Raiders of the Lost Ark (Indiana Jones and the Raiders of the Lost Ark) (1981)|2       |0.9828753537963838|177     |\n",
      "|Hunt for Red October, The (1990)                                              |2       |0.9771664798038402|73      |\n",
      "|Incredibles, The (2004)                                                       |2       |0.9762020399001995|90      |\n",
      "|Lord of the Rings: The Return of the King, The (2003)                         |2       |0.9730610704647211|127     |\n",
      "|Matrix, The (1999)                                                            |2       |0.9725088434056884|177     |\n",
      "|Blade Runner (1982)                                                           |2       |0.9722907005704801|114     |\n",
      "|Gladiator (2000)                                                              |2       |0.9722432115535357|111     |\n",
      "|Ghostbusters (a.k.a. Ghost Busters) (1984)                                    |2       |0.9721873272086652|104     |\n",
      "+------------------------------------------------------------------------------+--------+------------------+--------+\n",
      "only showing top 10 rows\n",
      "\n"
     ]
    }
   ],
   "source": [
    "// Find top 10 movies similar to Star Wars (1977) with strength > 70 and score > 0.97\n",
    "val result = similarMoviesGen(260)\n",
    "result.filter($\"strength\" > 70 && $\"score\" > 0.97).show(10, false)"
   ]
  },
  {
   "cell_type": "code",
   "execution_count": 17,
   "metadata": {
    "scrolled": true
   },
   "outputs": [
    {
     "name": "stdout",
     "output_type": "stream",
     "text": [
      "+-------+-------------------------------------------+---------------------------------+\n",
      "|movieId|title                                      |genres                           |\n",
      "+-------+-------------------------------------------+---------------------------------+\n",
      "|648    |Mission: Impossible (1996)                 |Action|Adventure|Mystery|Thriller|\n",
      "|3623   |Mission: Impossible II (2000)              |Action|Adventure|Thriller        |\n",
      "|45186  |Mission: Impossible III (2006)             |Action|Adventure|Thriller        |\n",
      "|91630  |Mission: Impossible - Ghost Protocol (2011)|Action|Adventure|Thriller|IMAX   |\n",
      "|111781 |Mission: Impossible - Rogue Nation (2015)  |Action|Adventure|Thriller        |\n",
      "+-------+-------------------------------------------+---------------------------------+\n",
      "\n"
     ]
    }
   ],
   "source": [
    "// List all Mission Impossible movies\n",
    "movieDf.filter($\"title\".contains(\"Mission: Impossible\")).show(false)"
   ]
  },
  {
   "cell_type": "code",
   "execution_count": 18,
   "metadata": {},
   "outputs": [
    {
     "name": "stdout",
     "output_type": "stream",
     "text": [
      "+-------------------------------------------------------------+--------+------------------+--------+\n",
      "|title                                                        |genScore|score             |strength|\n",
      "+-------------------------------------------------------------+--------+------------------+--------+\n",
      "|Minority Report (2002)                                       |3       |0.9763691247739893|54      |\n",
      "|Rock, The (1996)                                             |3       |0.975463863491967 |96      |\n",
      "|Bourne Identity, The (2002)                                  |3       |0.9754433707092234|53      |\n",
      "|Heat (1995)                                                  |2       |0.9731977674800221|63      |\n",
      "|Pirates of the Caribbean: The Curse of the Black Pearl (2003)|2       |0.9722762756403758|60      |\n",
      "|Die Hard: With a Vengeance (1995)                            |2       |0.9720650172733138|72      |\n",
      "|Matrix, The (1999)                                           |2       |0.9719820372412232|83      |\n",
      "|Speed (1994)                                                 |2       |0.9714431615349471|92      |\n",
      "|Indiana Jones and the Last Crusade (1989)                    |2       |0.971435524284847 |75      |\n",
      "|Batman (1989)                                                |2       |0.970877600028713 |87      |\n",
      "+-------------------------------------------------------------+--------+------------------+--------+\n",
      "only showing top 10 rows\n",
      "\n"
     ]
    }
   ],
   "source": [
    "// Find top 10 movies similar to Mission: Impossible (1996) with strength > 50 and score > 0.97\n",
    "val result = similarMoviesGen(648)\n",
    "result.filter($\"strength\" > 50 && $\"score\" > 0.97).show(10, false)"
   ]
  },
  {
   "cell_type": "code",
   "execution_count": 19,
   "metadata": {},
   "outputs": [
    {
     "name": "stdout",
     "output_type": "stream",
     "text": [
      "+-------+---------------------------------------------------------------------------------+--------------+\n",
      "|movieId|title                                                                            |genres        |\n",
      "+-------+---------------------------------------------------------------------------------+--------------+\n",
      "|2706   |American Pie (1999)                                                              |Comedy|Romance|\n",
      "|4718   |American Pie 2 (2001)                                                            |Comedy        |\n",
      "|6586   |American Wedding (American Pie 3) (2003)                                         |Comedy        |\n",
      "|39715  |American Pie Presents: Band Camp (American Pie 4: Band Camp) (2005)              |Comedy        |\n",
      "|50189  |American Pie Presents The Naked Mile (American Pie 5: The Naked Mile) (2006)     |Comedy|Romance|\n",
      "|59429  |American Pie Presents Beta House (American Pie 6: Beta House) (2007)             |Comedy        |\n",
      "|73106  |American Pie Presents: The Book of Love (American Pie 7: The Book of Love) (2009)|Comedy        |\n",
      "|93831  |American Reunion (American Pie 4) (2012)                                         |Comedy        |\n",
      "+-------+---------------------------------------------------------------------------------+--------------+\n",
      "\n"
     ]
    }
   ],
   "source": [
    "movieDf.filter($\"title\".contains(\"American Pie\")).show(false)"
   ]
  },
  {
   "cell_type": "code",
   "execution_count": 20,
   "metadata": {},
   "outputs": [
    {
     "name": "stdout",
     "output_type": "stream",
     "text": [
      "+---------------------------+--------+------------------+--------+\n",
      "|title                      |genScore|score             |strength|\n",
      "+---------------------------+--------+------------------+--------+\n",
      "|True Lies (1994)           |2       |0.9677178837684531|50      |\n",
      "|American Pie 2 (2001)      |1       |0.9849953007916068|32      |\n",
      "|Road Trip (2000)           |1       |0.972243665134853 |29      |\n",
      "|Lethal Weapon 2 (1989)     |1       |0.9712776380560404|26      |\n",
      "|Super Size Me (2004)       |1       |0.9696276516585731|26      |\n",
      "|Goonies, The (1985)        |1       |0.969430069967532 |27      |\n",
      "|Spaceballs (1987)          |1       |0.9688830733271595|33      |\n",
      "|Sleepy Hollow (1999)       |1       |0.9665335208740242|30      |\n",
      "|Toy Story 2 (1999)         |1       |0.9662321827018937|45      |\n",
      "|Fish Called Wanda, A (1988)|1       |0.9628491116251853|30      |\n",
      "+---------------------------+--------+------------------+--------+\n",
      "only showing top 10 rows\n",
      "\n"
     ]
    }
   ],
   "source": [
    "// Find top movies similar to American Pie (1999) with strength > 25 and score > 0.96\n",
    "val result = similarMoviesGen(2706)\n",
    "result.filter($\"strength\" > 25 && $\"score\" > 0.96 && $\"genScore\" > 0).show(10, false)"
   ]
  }
 ],
 "metadata": {
  "kernelspec": {
   "display_name": "Apache Toree - Scala",
   "language": "scala",
   "name": "apache_toree_scala"
  },
  "language_info": {
   "file_extension": ".scala",
   "name": "scala",
   "version": "2.11.8"
  }
 },
 "nbformat": 4,
 "nbformat_minor": 2
}
